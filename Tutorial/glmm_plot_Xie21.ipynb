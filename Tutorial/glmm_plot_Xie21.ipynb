{
 "cells": [
  {
   "cell_type": "code",
   "execution_count": 2,
   "metadata": {},
   "outputs": [
    {
     "name": "stderr",
     "output_type": "stream",
     "text": [
      "[nltk_data] Downloading package cmudict to\n",
      "[nltk_data]     C:\\Users\\Alex\\AppData\\Roaming\\nltk_data...\n",
      "[nltk_data]   Package cmudict is already up-to-date!\n"
     ]
    },
    {
     "name": "stdout",
     "output_type": "stream",
     "text": [
      "WARNING:tensorflow:From c:\\Users\\Alex\\anaconda3\\envs\\BayesPCN\\lib\\site-packages\\keras\\src\\losses.py:2976: The name tf.losses.sparse_softmax_cross_entropy is deprecated. Please use tf.compat.v1.losses.sparse_softmax_cross_entropy instead.\n",
      "\n"
     ]
    },
    {
     "name": "stderr",
     "output_type": "stream",
     "text": [
      "c:\\Users\\Alex\\anaconda3\\envs\\BayesPCN\\lib\\site-packages\\huggingface_hub\\file_download.py:1132: FutureWarning: `resume_download` is deprecated and will be removed in version 1.0.0. Downloads always resume when possible. If you want to force a new download, use `force_download=True`.\n",
      "  warnings.warn(\n",
      "Some weights of the model checkpoint at facebook/hubert-large-ls960-ft were not used when initializing HubertForCTC: ['hubert.encoder.pos_conv_embed.conv.weight_g', 'hubert.encoder.pos_conv_embed.conv.weight_v']\n",
      "- This IS expected if you are initializing HubertForCTC from the checkpoint of a model trained on another task or with another architecture (e.g. initializing a BertForSequenceClassification model from a BertForPreTraining model).\n",
      "- This IS NOT expected if you are initializing HubertForCTC from the checkpoint of a model that you expect to be exactly identical (initializing a BertForSequenceClassification model from a BertForSequenceClassification model).\n",
      "Some weights of HubertForCTC were not initialized from the model checkpoint at facebook/hubert-large-ls960-ft and are newly initialized: ['hubert.encoder.pos_conv_embed.conv.parametrizations.weight.original0', 'hubert.encoder.pos_conv_embed.conv.parametrizations.weight.original1']\n",
      "You should probably TRAIN this model on a down-stream task to be able to use it for predictions and inference.\n"
     ]
    }
   ],
   "source": [
    "from typing import Iterable, List\n",
    "from torch.nn.utils.rnn import pad_sequence\n",
    "from torch.utils.data import DataLoader, Dataset\n",
    "from timeit import default_timer as timer\n",
    "from torch.nn import Transformer\n",
    "from torch import Tensor\n",
    "from sklearn.model_selection import train_test_split\n",
    "import copy\n",
    "import tqdm\n",
    "import librosa\n",
    "import seaborn as sns\n",
    "import torch.nn as nn\n",
    "import torch\n",
    "import torch.nn.functional as F\n",
    "import numpy as np\n",
    "import math\n",
    "import os\n",
    "#!pip install textgrid\n",
    "import textgrid\n",
    "import pandas as pd\n",
    "import matplotlib.pyplot as plt\n",
    "from scipy.spatial.distance import euclidean\n",
    "import plotly.graph_objects as go\n",
    "import pandas as pd\n",
    "device = torch.device(\"cuda\" if torch.cuda.is_available() else \"cpu\")\n",
    "import nltk\n",
    "nltk.download('cmudict')\n",
    "from nltk.corpus import cmudict\n",
    "from transformers import AutoProcessor, AutoModelForCTC\n",
    "import soundfile as sf\n",
    "\n",
    "#_ESPEAK_LIBRARY = r\"C:\\Program Files\\eSpeak NG\\libespeak-ng.dll\"\n",
    "#EspeakWrapper.set_library(_ESPEAK_LIBRARY)\n",
    "'''processor_P = AutoProcessor.from_pretrained(\"facebook/wav2vec2-lv-60-espeak-cv-ft\")\n",
    "model_P = AutoModelForCTC.from_pretrained(\"facebook/wav2vec2-lv-60-espeak-cv-ft\")'''\n",
    "\n",
    "\n",
    "from transformers import Wav2Vec2ForCTC, Wav2Vec2Processor\n",
    "processor_H = AutoProcessor.from_pretrained(\"facebook/hubert-large-ls960-ft\")\n",
    "\n",
    "# 加载HuBERT模型\n",
    "model_H = AutoModelForCTC.from_pretrained(\"facebook/hubert-large-ls960-ft\")"
   ]
  },
  {
   "cell_type": "code",
   "execution_count": 3,
   "metadata": {},
   "outputs": [],
   "source": [
    "os.environ['R_HOME'] = 'C:\\\\Program Files\\\\R\\\\R-4.4.1'\n",
    "os.environ[\"PATH\"] += os.pathsep + r\"C:\\Program Files\\R\\R-4.4.1\\bin\\x64\"\n",
    "\n",
    "from rpy2.robjects.packages import importr\n",
    "from rpy2.robjects import Formula, pandas2ri\n",
    "\n",
    "import pandas as pd\n",
    "import rpy2.robjects as ro\n",
    "from rpy2.robjects import pandas2ri\n",
    "\n",
    "# Activate the pandas conversion\n",
    "pandas2ri.activate()\n",
    "#utils = importr('utils')\n",
    "#utils.install_packages('lme4')\n"
   ]
  },
  {
   "cell_type": "code",
   "execution_count": 4,
   "metadata": {},
   "outputs": [],
   "source": [
    "human_result_path=r\"..\\data\\test.xlsx\"\n",
    "human_result = pd.read_excel(human_result_path)\n",
    "human_result_1a=human_result[human_result[\"Experiment\"]==\"1a\"]"
   ]
  },
  {
   "cell_type": "code",
   "execution_count": 5,
   "metadata": {},
   "outputs": [],
   "source": [
    "def get_pathset(paths):\n",
    "    return [os.path.join(dir, each_file) for dir, mid, files in os.walk(paths) for each_file in files if each_file.endswith(\".wav\")]\n",
    "audio_dir =r\"..\\Nov10\\speech_files\"\n",
    "set1_list=[0,1,2,3,4,5,6,7,8,9,10,12,13,14,15,16]\n",
    "set2_list=[17,18,19,20,21,22,24,25,26,27,28,29,30,31,37,40]"
   ]
  },
  {
   "cell_type": "code",
   "execution_count": 6,
   "metadata": {},
   "outputs": [],
   "source": [
    "import pickle\n",
    "with open(\"..\\O_Jan31\\hubert_words_Transformer.pkl\", \"rb\") as file:\n",
    "    sentence_matrix1 = pickle.load(file)"
   ]
  },
  {
   "cell_type": "code",
   "execution_count": 8,
   "metadata": {},
   "outputs": [],
   "source": [
    "def get_keywords_dict(human_result_1a):\n",
    "    '''\n",
    "    Return a dict, key: sentenceID, values: keywords\n",
    "    '''\n",
    "    keywords_dict={}\n",
    "    for each_ in human_result_1a.values:\n",
    "        sentenceID=each_[human_result_1a.columns.get_loc(\"SentenceID\")]\n",
    "        if sentenceID not in keywords_dict:\n",
    "            keywords_dict[sentenceID]=[]\n",
    "        keyword=each_[human_result_1a.columns.get_loc(\"Keyword\")]\n",
    "        if keyword not in keywords_dict[sentenceID]:\n",
    "            keywords_dict[sentenceID].append(keyword)\n",
    "    return dict(sorted(keywords_dict.items()))\n",
    "\n",
    "def create_set(audio_dir, df, reduced_data):\n",
    "    set1_list=[0,1,2,3,4,5,6,7,8,9,10,12,13,14,15,16]\n",
    "    set2_list=[17,18,19,20,21,22,24,25,26,27,28,29,30,31,37,40]\n",
    "    keywords_dict=get_keywords_dict(df)\n",
    "    keywords=[j for i in list(keywords_dict.values()) for j in i]\n",
    "    audio_path=get_pathset(audio_dir)[::-1]\n",
    "    out_dict={}\n",
    "    word_features=[[] for i in range(len(keywords))]\n",
    "    for __, each_path in enumerate(audio_path):\n",
    "        current_talker=os.path.basename(each_path)[:13]\n",
    "        if current_talker not in out_dict.keys():\n",
    "            out_dict[current_talker]=[[] for i in range(32)]\n",
    "        tg = textgrid.TextGrid.fromFile(each_path[:-3]+\"TextGrid\")\n",
    "        tg_sentence = tg[0]\n",
    "        for _,i in enumerate(tg[0]):\n",
    "            if i.mark!=\"\":\n",
    "                tg_sentence[_-1].maxTime=tg_sentence[_].minTime\n",
    "        tg_sentence = [i for i in tg_sentence if i.mark!=\"\"]\n",
    "        tg_sentence=[tg_sentence[i] for i in set1_list+set2_list]\n",
    "        tg_word = [i for i in tg[1] if i.mark!=\"\" and i.mark!=\"sp\"]\n",
    "        count=0\n",
    "        for _,each_sentence in enumerate(tg_sentence):\n",
    "            sentence_total_length=each_sentence.maxTime-each_sentence.minTime\n",
    "            for key_word in list(keywords_dict.values())[_]:\n",
    "\n",
    "                for each_word_tg in tg_word:\n",
    "                    if each_word_tg.mark.lower()==key_word:\n",
    "                        if each_word_tg.minTime >= each_sentence.minTime and each_word_tg.maxTime <= each_sentence.maxTime:\n",
    "                            start=each_word_tg.minTime\n",
    "                            end=each_word_tg.maxTime\n",
    "                            break\n",
    "\n",
    "                word_cut_start=start-each_sentence.minTime\n",
    "                word_cut_end=end-each_sentence.minTime\n",
    "                word_start=round(reduced_data[_][__].shape[0]*word_cut_start/sentence_total_length)\n",
    "                word_end=round(reduced_data[_][__].shape[0]*word_cut_end/sentence_total_length)\n",
    "\n",
    "                features=copy.deepcopy(reduced_data[_][__][word_start:word_end,:])\n",
    "                word_features[count].append(features)\n",
    "                out_dict[current_talker][_].append(features)\n",
    "                count+=1\n",
    "    return word_features,out_dict\n",
    "word_features,out_dict=create_set(audio_dir, human_result_1a, sentence_matrix1)"
   ]
  },
  {
   "cell_type": "code",
   "execution_count": 11,
   "metadata": {},
   "outputs": [],
   "source": [
    "def get_keywords_dict(human_result_1a):\n",
    "    '''\n",
    "    Return a dict, key: sentenceID, values: keywords\n",
    "    '''\n",
    "    keywords_dict={}\n",
    "    for each_ in human_result_1a.values:\n",
    "        sentenceID=each_[human_result_1a.columns.get_loc(\"SentenceID\")]\n",
    "        if sentenceID not in keywords_dict:\n",
    "            keywords_dict[sentenceID]=[]\n",
    "        keyword=each_[human_result_1a.columns.get_loc(\"Keyword\")]\n",
    "        if keyword not in keywords_dict[sentenceID]:\n",
    "            keywords_dict[sentenceID].append(keyword)\n",
    "    return dict(sorted(keywords_dict.items()))\n",
    "\n",
    "def create_set(audio_dir, df, reduced_data):\n",
    "    set1_list=[0,1,2,3,4,5,6,7,8,9,10,12,13,14,15,16]\n",
    "    set2_list=[17,18,19,20,21,22,24,25,26,27,28,29,30,31,37,40]\n",
    "    keywords_dict=get_keywords_dict(df)\n",
    "    keywords=[j for i in list(keywords_dict.values()) for j in i]\n",
    "\n",
    "    audio_path=get_pathset(audio_dir)[::-1]\n",
    "    out_dict={}\n",
    "\n",
    "    word_features=[[] for i in range(len(keywords))]\n",
    "\n",
    "    for __, each_path in enumerate(audio_path):\n",
    "        #audio, sr = librosa.load(each_path)\n",
    "        #wave_res = librosa.resample(audio, orig_sr=sr, target_sr=16000)\n",
    "\n",
    "        current_talker=os.path.basename(each_path)[:13]\n",
    "        if current_talker not in out_dict.keys():\n",
    "            out_dict[current_talker]=[[] for i in range(32)]\n",
    "        tg = textgrid.TextGrid.fromFile(each_path[:-3]+\"TextGrid\")\n",
    "        tg_sentence = tg[0]\n",
    "        for _,i in enumerate(tg[0]):\n",
    "            if i.mark!=\"\":\n",
    "                tg_sentence[_-1].maxTime=tg_sentence[_].minTime\n",
    "        tg_sentence = [i for i in tg_sentence if i.mark!=\"\"]\n",
    "        tg_sentence=[tg_sentence[i] for i in set1_list+set2_list]\n",
    "        tg_word = [i for i in tg[1] if i.mark!=\"\" and i.mark!=\"sp\"]\n",
    "        count=0\n",
    "        for _,each_sentence in enumerate(tg_sentence):\n",
    "            sentence_total_length=each_sentence.maxTime-each_sentence.minTime\n",
    "            for key_word in list(keywords_dict.values())[_]:\n",
    "\n",
    "                for each_word_tg in tg_word:\n",
    "                    if each_word_tg.mark.lower()==key_word:\n",
    "                        if each_word_tg.minTime >= each_sentence.minTime and each_word_tg.maxTime <= each_sentence.maxTime:\n",
    "                            start=each_word_tg.minTime\n",
    "                            end=each_word_tg.maxTime\n",
    "                            break\n",
    "\n",
    "                word_cut_start=start-each_sentence.minTime\n",
    "                word_cut_end=end-each_sentence.minTime\n",
    "                word_start=round(reduced_data[_][__].shape[0]*word_cut_start/sentence_total_length)\n",
    "                word_end=round(reduced_data[_][__].shape[0]*word_cut_end/sentence_total_length)\n",
    "\n",
    "                features=copy.deepcopy(reduced_data[_][__][word_start:word_end,:])\n",
    "                word_features[count].append(features)\n",
    "                out_dict[current_talker][_].append(features)\n",
    "                count+=1\n",
    "\n",
    "\n",
    "    return word_features,out_dict\n",
    "word_features,out_dict=create_set(audio_dir, human_result_1a, sentence_matrix1)\n",
    "\n",
    "def get_training_paths(TrainingTalkerID):\n",
    "    path_list=[]\n",
    "    TalkerID=[]\n",
    "    for each_ID in TrainingTalkerID.split(\", \"):\n",
    "        if each_ID[:3]==\"CMN\":\n",
    "            TalkerID.append(f\"ALL_{each_ID[-3:]}_M_CMN\")\n",
    "        else:\n",
    "            TalkerID.append(f\"ALL_{each_ID[-3:]}_M_ENG\")\n",
    "    return TalkerID\n",
    "\n",
    "def get_keywords_list(df):\n",
    "    out_dict={}\n",
    "    for each_ in human_result_1a.values:\n",
    "        keyword_loc=df.columns.get_loc(\"Keyword\")\n",
    "        key_word = each_[keyword_loc]\n",
    "        sentenceID = each_[df.columns.get_loc(\"SentenceID\")]\n",
    "        if sentenceID not in out_dict.keys():\n",
    "            out_dict[sentenceID]=[]\n",
    "        if key_word not in out_dict[sentenceID]:\n",
    "            out_dict[sentenceID].append(key_word)\n",
    "    return out_dict\n",
    "\n",
    "def get_exposure_set(feature_dict,trainingTalkerID,sentenceID,key_word):\n",
    "    keywors_list = get_keywords_list(human_result_1a)\n",
    "    set1_list=[0,1,2,3,4,5,6,7,8,9,10,12,13,14,15,16]\n",
    "    set2_list=[17,18,19,20,21,22,24,25,26,27,28,29,30,31,37,40]\n",
    "    features=[]\n",
    "    for i in trainingTalkerID:\n",
    "        sentence_ind=(set1_list+set2_list).index(int(sentenceID[-3:])-1)\n",
    "        key_word_ind=keywors_list[sentenceID].index(key_word)\n",
    "        features.append(copy.deepcopy(feature_dict[i][sentence_ind][key_word_ind]))\n",
    "    return features\n",
    "\n",
    "def get_test_feature(feature_dict, test_talker, sentenceID, key_word):\n",
    "    keywors_list = get_keywords_list(human_result_1a)\n",
    "    set1_list=[0,1,2,3,4,5,6,7,8,9,10,12,13,14,15,16]\n",
    "    set2_list=[17,18,19,20,21,22,24,25,26,27,28,29,30,31,37,40]\n",
    "    #print(sentenceID)\n",
    "    sentence_ind=(set1_list+set2_list).index(int(sentenceID[-3:])-1)\n",
    "    key_word_ind=keywors_list[sentenceID].index(key_word)\n",
    "\n",
    "    return copy.deepcopy(feature_dict[test_talker][sentence_ind][key_word_ind])\n",
    "\n",
    "\n",
    "from numba import njit\n",
    "@njit\n",
    "def weighted_minkowski(vec1, vec2,  tau, w=1):\n",
    "\n",
    "    total = 0.0\n",
    "    for m in range(len(vec1)):\n",
    "        diff = w*abs(vec1[m] - vec2[m])\n",
    "        total += (diff ** tau)\n",
    "    return total**(1/tau)#np.sqrt(total)\n",
    "\n",
    "@njit\n",
    "def dtw_sim(seq1, seq2,  tau, k):\n",
    "    n, m = len(seq1), len(seq2)\n",
    "    dtw_matrix = np.full((n+1, m+1), np.inf)\n",
    "    dtw_matrix[0, 0] = 0.0\n",
    "\n",
    "    for i in range(1, n+1):\n",
    "        for j in range(1, m+1):\n",
    "            cost = weighted_minkowski(seq1[i-1], seq2[j-1], tau)\n",
    "            dtw_matrix[i, j] = cost + min(dtw_matrix[i-1, j],    # insertion\n",
    "                                         dtw_matrix[i, j-1],    # deletion\n",
    "                                         dtw_matrix[i-1, j-1])  # match\n",
    "    return np.exp(-(dtw_matrix[n, m]/((n+m)/2))*k)# change to *k,\n",
    "\n",
    "def sim_measure1(df, feature_dict,tau, k):\n",
    "    sim_min_list=[]\n",
    "    sim_std_list=[]\n",
    "    sim_median_list=[]\n",
    "    sim_mean_list=[]\n",
    "\n",
    "    train_set_dict={}\n",
    "    test_word_dict={}\n",
    "    count=0\n",
    "    error=0\n",
    "\n",
    "\n",
    "    train_talker_list=[]\n",
    "    test_talker_list=[]\n",
    "    out_df=pd.DataFrame(columns=['Condition2', 'TrainingTalkerID', 'TestTalkerID','SentenceID', 'Keyword',  'distance_min', 'IsCorrect'])#'trial',\n",
    "    for each_ in tqdm.tqdm(df.values):\n",
    "        filename_loc=df.columns.get_loc(\"Filename\")\n",
    "        keyword_loc=df.columns.get_loc(\"Keyword\")\n",
    "        sentence_loc= df.columns.get_loc(\"SentenceID\")\n",
    "        training_talker_loc=df.columns.get_loc(\"TrainingTalkerID\")\n",
    "\n",
    "        set1_list=[0,1,2,3,4,5,6,7,8,9,10,12,13,14,15,16]\n",
    "        set2_list=[17,18,19,20,21,22,24,25,26,27,28,29,30,31,37,40]\n",
    "        if each_[df.columns.get_loc(\"TrainingTestSet\")] == \"set2,set1\":\n",
    "            train_set=set2_list\n",
    "            test_set=set1_list\n",
    "        else:\n",
    "            train_set=set1_list\n",
    "            test_set=set2_list\n",
    "\n",
    "        test_file = [os.path.basename(each_[df.columns.get_loc(\"Filename\")])[:13]]\n",
    "        key_word = each_[keyword_loc] #string\n",
    "        TrainingTalkerID = each_[training_talker_loc] #list of string\n",
    "        sentenceID = each_[df.columns.get_loc(\"SentenceID\")]\n",
    "        trainingTalkerID=get_training_paths(TrainingTalkerID)\n",
    "\n",
    "        train_talker_key=\",\".join(sorted(trainingTalkerID))\n",
    "        if train_talker_key not in train_set_dict:\n",
    "            train_set_dict[train_talker_key]={}\n",
    "        if sentenceID not in train_set_dict[train_talker_key]:\n",
    "            train_set_dict[train_talker_key][sentenceID]={}\n",
    "        if key_word not in train_set_dict[train_talker_key][sentenceID]:\n",
    "\n",
    "            training_features=get_exposure_set(feature_dict,trainingTalkerID,sentenceID,key_word)\n",
    "            train_set_dict[train_talker_key][sentenceID][key_word]=copy.deepcopy(training_features)\n",
    "        else:\n",
    "            training_features=train_set_dict[train_talker_key][sentenceID][key_word]\n",
    "\n",
    "        if test_file[0] not in test_word_dict:\n",
    "            test_word_dict[test_file[0]]={}\n",
    "        if sentenceID not in test_word_dict[test_file[0]]:\n",
    "            test_word_dict[test_file[0]][sentenceID]={}\n",
    "        if key_word not in test_word_dict[test_file[0]][sentenceID]:\n",
    "            test_feature = get_test_feature(feature_dict, test_file[0], sentenceID, key_word)\n",
    "            test_word_dict[test_file[0]][sentenceID][key_word]=copy.deepcopy(test_feature)\n",
    "        else:\n",
    "            test_feature = test_word_dict[test_file[0]][sentenceID][key_word]\n",
    "\n",
    "        train_talker_list.append(\",\".join(trainingTalkerID))\n",
    "        test_talker_list.append(test_file[0])\n",
    "        sims=[]\n",
    "\n",
    "        for _, each_train_feature in enumerate(training_features):\n",
    "            #print(each_train_feature)\n",
    "            #print(test_feature)\n",
    "            X=each_train_feature#.transpose()\n",
    "            Y=test_feature#.transpose()\n",
    "            #D, wp = librosa.sequence.dtw(X, Y, metric='euclidean')\n",
    "            #combined_length = X.shape[1] + Y.shape[1]\n",
    "            #normalized_distance = D[-1, -1] / combined_length\n",
    "            normalized_distance = dtw_sim(X, Y, tau, k)\n",
    "            sims.append(normalized_distance)\n",
    "\n",
    "            #out_df=pd.DataFrame(columns=['Condition2', 'TrainingTalkerID', 'TestTalkerID', 'Keyword','distance_min', 'IsCorrect'])\n",
    "        out_df.loc[len(out_df)]=[each_[df.columns.get_loc(\"Condition2\")], each_[df.columns.get_loc(\"TrainingTalkerID\")],#trainingTalkerID[_],\n",
    "                                    each_[df.columns.get_loc(\"TestTalkerID\")], each_[sentence_loc],\n",
    "                                    each_[df.columns.get_loc(\"Keyword\")],\n",
    "                                    #each_[df.columns.get_loc('trial')],\n",
    "                                    np.max(sims),\n",
    "                                    each_[df.columns.get_loc(\"IsCorrect\")]]\n",
    "    return out_df\n",
    "\n",
    "def objective_function(params, out_dict, human_result_1a):\n",
    "\n",
    "    tau, k = params\n",
    "    print(tau, k)\n",
    "    out_df=sim_measure1(human_result_1a, out_dict,tau, k)\n",
    "    new_df=copy.deepcopy(out_df)\n",
    "    new_df['similarity'] = new_df['distance_min'].apply(lambda x:np.max(x))\n",
    "    \n",
    "    TTID=new_df.columns.get_loc(\"TrainingTalkerID\")\n",
    "    new_TrainingTalkerID=[]\n",
    "    for i in new_df.values:\n",
    "        new_TrainingTalkerID.append( \",\".join(sorted(i[TTID].split(\", \"))) )\n",
    "    new_df[\"TrainingTalkerID1\"]=new_TrainingTalkerID\n",
    "    new_df['trial'] = (new_df.groupby(['Keyword', 'Condition2', 'TrainingTalkerID1', 'TestTalkerID', 'SentenceID'], as_index=False).ngroup() + 1)\n",
    "\n",
    "\n",
    "    new_df2=new_df.groupby(['Keyword', 'Condition2', 'TrainingTalkerID1', 'TestTalkerID', 'SentenceID','trial'], as_index=False).agg( #'sentenceID'\n",
    "        IsCorrect=('IsCorrect', 'mean'),\n",
    "        #distance=('distance_min', 'min'),\n",
    "        similarity=('similarity', 'mean'),\n",
    "        numCorrect=('IsCorrect', lambda x: (x==1).sum()),\n",
    "        numIncorrect=('IsCorrect', lambda x: (x==0).sum())\n",
    "        )\n",
    "    new_df2['similarity_scaled'] = (new_df2['similarity'] - np.mean(new_df2['similarity'])) / (2 * np.std(new_df2['similarity']))\n",
    "    if np.std(new_df2['similarity_scaled']) < 0.3:\n",
    "        return {\n",
    "                    \"tau\": [tau], \n",
    "                    \"k\": [k], \n",
    "                    \"z-value\": [0],  \n",
    "                    \"mean_sim\": [float(np.mean(new_df2[\"similarity\"]))], \n",
    "                    \"sd_sim\": [float(np.std(new_df2[\"similarity\"]))],  \n",
    "                    \"error\": [\"std_sim<0.3\"]  # \n",
    "                }\n",
    "    else:\n",
    "        try:\n",
    "            import rpy2.robjects as ro\n",
    "            import rpy2\n",
    "            from rpy2.robjects import pandas2ri\n",
    "            \n",
    "            pandas2ri.activate()\n",
    "            base = importr('base')\n",
    "            stats = importr('stats')\n",
    "            lme4 = importr('lme4')\n",
    "            ro.r('options(warn=2)')\n",
    "            #r_data = ro.conversion.py2rpy(new_df2)\n",
    "            r_data = pandas2ri.py2rpy(new_df2)\n",
    "            formula = Formula('cbind(numCorrect, numIncorrect) ~ 1 + similarity_scaled + (1 | SentenceID / Keyword) + (1| TestTalkerID)')\n",
    "            glmerControl = lme4.glmerControl(optimizer=\"bobyqa\", optCtrl=ro.vectors.ListVector({'maxfun': 1e6}))\n",
    "        except Exception as e:\n",
    "            return {\n",
    "                    \"tau\": [tau], \n",
    "                    \"k\": [k], \n",
    "                    \"z-value\": [0],  \n",
    "                    \"mean_sim\": [float(np.mean(new_df2[\"similarity\"]))], \n",
    "                    \"sd_sim\": [float(np.std(new_df2[\"similarity\"]))],  \n",
    "                    \"error\": [e]  # \n",
    "                }\n",
    "        try:\n",
    "            model = lme4.glmer(formula, data=r_data, control=glmerControl, family=stats.binomial(link=\"logit\"))\n",
    "            #log_likelihood = ro.r['logLik'](model)\n",
    "            summary = base.summary(model)\n",
    "            coefficients = summary.rx2('coefficients')\n",
    "            #z_value = coefficients.rx('similarity_scaled', 'z value')[0]\n",
    "            z_value=coefficients[1][2]\n",
    "            return {\n",
    "                    \"tau\": [tau], \n",
    "                    \"k\": [k], \n",
    "                    \"z-value\": [z_value],  \n",
    "                    \"mean_sim\": [float(np.mean(new_df2[\"similarity\"]))], \n",
    "                    \"sd_sim\": [float(np.std(new_df2[\"similarity\"]))],  \n",
    "                    \"error\": [\"NA\"]  # \n",
    "                }\n",
    "        except Exception as e:\n",
    "            return {\n",
    "                    \"tau\": [tau], \n",
    "                    \"k\": [k], \n",
    "                    \"z-value\": [0],  \n",
    "                    \"mean_sim\": [float(np.mean(new_df2[\"similarity\"]))], \n",
    "                    \"sd_sim\": [float(np.std(new_df2[\"similarity\"]))],  \n",
    "                    \"error\": [str(e)]  # \n",
    "                }\n",
    "    "
   ]
  },
  {
   "cell_type": "code",
   "execution_count": null,
   "metadata": {},
   "outputs": [],
   "source": []
  },
  {
   "cell_type": "code",
   "execution_count": 13,
   "metadata": {},
   "outputs": [],
   "source": [
    "tau_values = np.arange(1,11,1)\n",
    "k_values = 10**np.arange(-4,1.1,0.1)\n",
    "import itertools\n",
    "import multiprocessing\n",
    "import time\n",
    "from joblib import Parallel, delayed\n",
    "pandas2ri.activate()\n",
    "params_grid=list(itertools.product(tau_values, k_values))\n",
    "\n",
    "start_time = time.time()\n",
    "n_jobs = min(28, multiprocessing.cpu_count())\n",
    "results = Parallel(n_jobs=n_jobs)(delayed(objective_function)(_,out_dict, human_result_1a) for _ in params_grid)\n",
    "end_time = time.time()\n"
   ]
  },
  {
   "cell_type": "code",
   "execution_count": null,
   "metadata": {},
   "outputs": [
    {
     "data": {
      "text/html": [
       "<div>\n",
       "<style scoped>\n",
       "    .dataframe tbody tr th:only-of-type {\n",
       "        vertical-align: middle;\n",
       "    }\n",
       "\n",
       "    .dataframe tbody tr th {\n",
       "        vertical-align: top;\n",
       "    }\n",
       "\n",
       "    .dataframe thead th {\n",
       "        text-align: right;\n",
       "    }\n",
       "</style>\n",
       "<table border=\"1\" class=\"dataframe\">\n",
       "  <thead>\n",
       "    <tr style=\"text-align: right;\">\n",
       "      <th></th>\n",
       "      <th>tau</th>\n",
       "      <th>k</th>\n",
       "      <th>z-value</th>\n",
       "      <th>mean_sim</th>\n",
       "      <th>sd_sim</th>\n",
       "      <th>error</th>\n",
       "    </tr>\n",
       "  </thead>\n",
       "  <tbody>\n",
       "    <tr>\n",
       "      <th>0</th>\n",
       "      <td>1</td>\n",
       "      <td>0.000100</td>\n",
       "      <td>0.000000</td>\n",
       "      <td>0.999407</td>\n",
       "      <td>0.000617</td>\n",
       "      <td>std_sim&lt;0.3</td>\n",
       "    </tr>\n",
       "    <tr>\n",
       "      <th>1</th>\n",
       "      <td>1</td>\n",
       "      <td>0.000126</td>\n",
       "      <td>0.000000</td>\n",
       "      <td>0.999253</td>\n",
       "      <td>0.000776</td>\n",
       "      <td>std_sim&lt;0.3</td>\n",
       "    </tr>\n",
       "    <tr>\n",
       "      <th>2</th>\n",
       "      <td>1</td>\n",
       "      <td>0.000158</td>\n",
       "      <td>0.000000</td>\n",
       "      <td>0.999060</td>\n",
       "      <td>0.000977</td>\n",
       "      <td>std_sim&lt;0.3</td>\n",
       "    </tr>\n",
       "    <tr>\n",
       "      <th>3</th>\n",
       "      <td>1</td>\n",
       "      <td>0.000200</td>\n",
       "      <td>0.000000</td>\n",
       "      <td>0.998817</td>\n",
       "      <td>0.001229</td>\n",
       "      <td>std_sim&lt;0.3</td>\n",
       "    </tr>\n",
       "    <tr>\n",
       "      <th>4</th>\n",
       "      <td>1</td>\n",
       "      <td>0.000251</td>\n",
       "      <td>0.000000</td>\n",
       "      <td>0.998511</td>\n",
       "      <td>0.001546</td>\n",
       "      <td>std_sim&lt;0.3</td>\n",
       "    </tr>\n",
       "    <tr>\n",
       "      <th>...</th>\n",
       "      <td>...</td>\n",
       "      <td>...</td>\n",
       "      <td>...</td>\n",
       "      <td>...</td>\n",
       "      <td>...</td>\n",
       "      <td>...</td>\n",
       "    </tr>\n",
       "    <tr>\n",
       "      <th>505</th>\n",
       "      <td>10</td>\n",
       "      <td>3.981072</td>\n",
       "      <td>9.740809</td>\n",
       "      <td>0.136836</td>\n",
       "      <td>0.328466</td>\n",
       "      <td>NA</td>\n",
       "    </tr>\n",
       "    <tr>\n",
       "      <th>506</th>\n",
       "      <td>10</td>\n",
       "      <td>5.011872</td>\n",
       "      <td>9.581618</td>\n",
       "      <td>0.131534</td>\n",
       "      <td>0.329290</td>\n",
       "      <td>NA</td>\n",
       "    </tr>\n",
       "    <tr>\n",
       "      <th>507</th>\n",
       "      <td>10</td>\n",
       "      <td>6.309573</td>\n",
       "      <td>9.472723</td>\n",
       "      <td>0.128370</td>\n",
       "      <td>0.329903</td>\n",
       "      <td>NA</td>\n",
       "    </tr>\n",
       "    <tr>\n",
       "      <th>508</th>\n",
       "      <td>10</td>\n",
       "      <td>7.943282</td>\n",
       "      <td>9.403990</td>\n",
       "      <td>0.126627</td>\n",
       "      <td>0.330292</td>\n",
       "      <td>NA</td>\n",
       "    </tr>\n",
       "    <tr>\n",
       "      <th>509</th>\n",
       "      <td>10</td>\n",
       "      <td>10.000000</td>\n",
       "      <td>9.363889</td>\n",
       "      <td>0.125739</td>\n",
       "      <td>0.330510</td>\n",
       "      <td>NA</td>\n",
       "    </tr>\n",
       "  </tbody>\n",
       "</table>\n",
       "<p>510 rows × 6 columns</p>\n",
       "</div>"
      ],
      "text/plain": [
       "     tau          k   z-value  mean_sim    sd_sim        error\n",
       "0      1   0.000100  0.000000  0.999407  0.000617  std_sim<0.3\n",
       "1      1   0.000126  0.000000  0.999253  0.000776  std_sim<0.3\n",
       "2      1   0.000158  0.000000  0.999060  0.000977  std_sim<0.3\n",
       "3      1   0.000200  0.000000  0.998817  0.001229  std_sim<0.3\n",
       "4      1   0.000251  0.000000  0.998511  0.001546  std_sim<0.3\n",
       "..   ...        ...       ...       ...       ...          ...\n",
       "505   10   3.981072  9.740809  0.136836  0.328466           NA\n",
       "506   10   5.011872  9.581618  0.131534  0.329290           NA\n",
       "507   10   6.309573  9.472723  0.128370  0.329903           NA\n",
       "508   10   7.943282  9.403990  0.126627  0.330292           NA\n",
       "509   10  10.000000  9.363889  0.125739  0.330510           NA\n",
       "\n",
       "[510 rows x 6 columns]"
      ]
     },
     "execution_count": 103,
     "metadata": {},
     "output_type": "execute_result"
    }
   ],
   "source": [
    "results_df=pd.json_normalize(results)\n",
    "results_df\n",
    "\n",
    "results_df['tau'] = results_df['tau'].apply(lambda x: x[0] if isinstance(x, list) else x)\n",
    "results_df['k'] = results_df['k'].apply(lambda x: x[0] if isinstance(x, list) else x)\n",
    "\n",
    "results_df['z-value'] = results_df['z-value'].apply(lambda x: x[0] if isinstance(x, list) else x)\n",
    "results_df['mean_sim'] = results_df['mean_sim'].apply(lambda x: x[0] if isinstance(x, list) else x)\n",
    "results_df['sd_sim'] = results_df['sd_sim'].apply(lambda x: x[0] if isinstance(x, list) else x)\n",
    "results_df['error'] = results_df['error'].apply(lambda x: x[0] if isinstance(x, list) else x)\n"
   ]
  },
  {
   "cell_type": "code",
   "execution_count": 106,
   "metadata": {},
   "outputs": [],
   "source": [
    "results_df.to_csv('Xie_Transformers.csv', index=False)"
   ]
  },
  {
   "cell_type": "code",
   "execution_count": 14,
   "metadata": {},
   "outputs": [
    {
     "data": {
      "application/vnd.plotly.v1+json": {
       "config": {
        "plotlyServerURL": "https://plot.ly"
       },
       "data": [
        {
         "colorscale": [
          [
           0,
           "#440154"
          ],
          [
           0.1111111111111111,
           "#482878"
          ],
          [
           0.2222222222222222,
           "#3e4989"
          ],
          [
           0.3333333333333333,
           "#31688e"
          ],
          [
           0.4444444444444444,
           "#26828e"
          ],
          [
           0.5555555555555556,
           "#1f9e89"
          ],
          [
           0.6666666666666666,
           "#35b779"
          ],
          [
           0.7777777777777778,
           "#6ece58"
          ],
          [
           0.8888888888888888,
           "#b5de2b"
          ],
          [
           1,
           "#fde725"
          ]
         ],
         "type": "surface",
         "x": [
          [
           1,
           2,
           3,
           4,
           5,
           6,
           7,
           8,
           9,
           10
          ],
          [
           1,
           2,
           3,
           4,
           5,
           6,
           7,
           8,
           9,
           10
          ],
          [
           1,
           2,
           3,
           4,
           5,
           6,
           7,
           8,
           9,
           10
          ],
          [
           1,
           2,
           3,
           4,
           5,
           6,
           7,
           8,
           9,
           10
          ],
          [
           1,
           2,
           3,
           4,
           5,
           6,
           7,
           8,
           9,
           10
          ],
          [
           1,
           2,
           3,
           4,
           5,
           6,
           7,
           8,
           9,
           10
          ],
          [
           1,
           2,
           3,
           4,
           5,
           6,
           7,
           8,
           9,
           10
          ],
          [
           1,
           2,
           3,
           4,
           5,
           6,
           7,
           8,
           9,
           10
          ],
          [
           1,
           2,
           3,
           4,
           5,
           6,
           7,
           8,
           9,
           10
          ],
          [
           1,
           2,
           3,
           4,
           5,
           6,
           7,
           8,
           9,
           10
          ],
          [
           1,
           2,
           3,
           4,
           5,
           6,
           7,
           8,
           9,
           10
          ],
          [
           1,
           2,
           3,
           4,
           5,
           6,
           7,
           8,
           9,
           10
          ],
          [
           1,
           2,
           3,
           4,
           5,
           6,
           7,
           8,
           9,
           10
          ],
          [
           1,
           2,
           3,
           4,
           5,
           6,
           7,
           8,
           9,
           10
          ],
          [
           1,
           2,
           3,
           4,
           5,
           6,
           7,
           8,
           9,
           10
          ],
          [
           1,
           2,
           3,
           4,
           5,
           6,
           7,
           8,
           9,
           10
          ],
          [
           1,
           2,
           3,
           4,
           5,
           6,
           7,
           8,
           9,
           10
          ],
          [
           1,
           2,
           3,
           4,
           5,
           6,
           7,
           8,
           9,
           10
          ],
          [
           1,
           2,
           3,
           4,
           5,
           6,
           7,
           8,
           9,
           10
          ],
          [
           1,
           2,
           3,
           4,
           5,
           6,
           7,
           8,
           9,
           10
          ],
          [
           1,
           2,
           3,
           4,
           5,
           6,
           7,
           8,
           9,
           10
          ],
          [
           1,
           2,
           3,
           4,
           5,
           6,
           7,
           8,
           9,
           10
          ],
          [
           1,
           2,
           3,
           4,
           5,
           6,
           7,
           8,
           9,
           10
          ],
          [
           1,
           2,
           3,
           4,
           5,
           6,
           7,
           8,
           9,
           10
          ],
          [
           1,
           2,
           3,
           4,
           5,
           6,
           7,
           8,
           9,
           10
          ],
          [
           1,
           2,
           3,
           4,
           5,
           6,
           7,
           8,
           9,
           10
          ],
          [
           1,
           2,
           3,
           4,
           5,
           6,
           7,
           8,
           9,
           10
          ],
          [
           1,
           2,
           3,
           4,
           5,
           6,
           7,
           8,
           9,
           10
          ],
          [
           1,
           2,
           3,
           4,
           5,
           6,
           7,
           8,
           9,
           10
          ],
          [
           1,
           2,
           3,
           4,
           5,
           6,
           7,
           8,
           9,
           10
          ],
          [
           1,
           2,
           3,
           4,
           5,
           6,
           7,
           8,
           9,
           10
          ],
          [
           1,
           2,
           3,
           4,
           5,
           6,
           7,
           8,
           9,
           10
          ],
          [
           1,
           2,
           3,
           4,
           5,
           6,
           7,
           8,
           9,
           10
          ],
          [
           1,
           2,
           3,
           4,
           5,
           6,
           7,
           8,
           9,
           10
          ],
          [
           1,
           2,
           3,
           4,
           5,
           6,
           7,
           8,
           9,
           10
          ],
          [
           1,
           2,
           3,
           4,
           5,
           6,
           7,
           8,
           9,
           10
          ],
          [
           1,
           2,
           3,
           4,
           5,
           6,
           7,
           8,
           9,
           10
          ],
          [
           1,
           2,
           3,
           4,
           5,
           6,
           7,
           8,
           9,
           10
          ],
          [
           1,
           2,
           3,
           4,
           5,
           6,
           7,
           8,
           9,
           10
          ],
          [
           1,
           2,
           3,
           4,
           5,
           6,
           7,
           8,
           9,
           10
          ],
          [
           1,
           2,
           3,
           4,
           5,
           6,
           7,
           8,
           9,
           10
          ],
          [
           1,
           2,
           3,
           4,
           5,
           6,
           7,
           8,
           9,
           10
          ],
          [
           1,
           2,
           3,
           4,
           5,
           6,
           7,
           8,
           9,
           10
          ],
          [
           1,
           2,
           3,
           4,
           5,
           6,
           7,
           8,
           9,
           10
          ],
          [
           1,
           2,
           3,
           4,
           5,
           6,
           7,
           8,
           9,
           10
          ],
          [
           1,
           2,
           3,
           4,
           5,
           6,
           7,
           8,
           9,
           10
          ],
          [
           1,
           2,
           3,
           4,
           5,
           6,
           7,
           8,
           9,
           10
          ],
          [
           1,
           2,
           3,
           4,
           5,
           6,
           7,
           8,
           9,
           10
          ],
          [
           1,
           2,
           3,
           4,
           5,
           6,
           7,
           8,
           9,
           10
          ],
          [
           1,
           2,
           3,
           4,
           5,
           6,
           7,
           8,
           9,
           10
          ],
          [
           1,
           2,
           3,
           4,
           5,
           6,
           7,
           8,
           9,
           10
          ]
         ],
         "y": [
          [
           0.0001,
           0.0001,
           0.0001,
           0.0001,
           0.0001,
           0.0001,
           0.0001,
           0.0001,
           0.0001,
           0.0001
          ],
          [
           0.00012589254117941674,
           0.00012589254117941674,
           0.00012589254117941674,
           0.00012589254117941674,
           0.00012589254117941674,
           0.00012589254117941674,
           0.00012589254117941674,
           0.00012589254117941674,
           0.00012589254117941674,
           0.00012589254117941674
          ],
          [
           0.00015848931924611142,
           0.00015848931924611142,
           0.00015848931924611142,
           0.00015848931924611142,
           0.00015848931924611142,
           0.00015848931924611142,
           0.00015848931924611142,
           0.00015848931924611142,
           0.00015848931924611142,
           0.00015848931924611142
          ],
          [
           0.0001995262314968881,
           0.0001995262314968881,
           0.0001995262314968881,
           0.0001995262314968881,
           0.0001995262314968881,
           0.0001995262314968881,
           0.0001995262314968881,
           0.0001995262314968881,
           0.0001995262314968881,
           0.0001995262314968881
          ],
          [
           0.0002511886431509582,
           0.0002511886431509582,
           0.0002511886431509582,
           0.0002511886431509582,
           0.0002511886431509582,
           0.0002511886431509582,
           0.0002511886431509582,
           0.0002511886431509582,
           0.0002511886431509582,
           0.0002511886431509582
          ],
          [
           0.00031622776601683826,
           0.00031622776601683826,
           0.00031622776601683826,
           0.00031622776601683826,
           0.00031622776601683826,
           0.00031622776601683826,
           0.00031622776601683826,
           0.00031622776601683826,
           0.00031622776601683826,
           0.00031622776601683826
          ],
          [
           0.00039810717055349773,
           0.00039810717055349773,
           0.00039810717055349773,
           0.00039810717055349773,
           0.00039810717055349773,
           0.00039810717055349773,
           0.00039810717055349773,
           0.00039810717055349773,
           0.00039810717055349773,
           0.00039810717055349773
          ],
          [
           0.000501187233627273,
           0.000501187233627273,
           0.000501187233627273,
           0.000501187233627273,
           0.000501187233627273,
           0.000501187233627273,
           0.000501187233627273,
           0.000501187233627273,
           0.000501187233627273,
           0.000501187233627273
          ],
          [
           0.0006309573444801943,
           0.0006309573444801943,
           0.0006309573444801943,
           0.0006309573444801943,
           0.0006309573444801943,
           0.0006309573444801943,
           0.0006309573444801943,
           0.0006309573444801943,
           0.0006309573444801943,
           0.0006309573444801943
          ],
          [
           0.0007943282347242829,
           0.0007943282347242829,
           0.0007943282347242829,
           0.0007943282347242829,
           0.0007943282347242829,
           0.0007943282347242829,
           0.0007943282347242829,
           0.0007943282347242829,
           0.0007943282347242829,
           0.0007943282347242829
          ],
          [
           0.001000000000000002,
           0.001000000000000002,
           0.001000000000000002,
           0.001000000000000002,
           0.001000000000000002,
           0.001000000000000002,
           0.001000000000000002,
           0.001000000000000002,
           0.001000000000000002,
           0.001000000000000002
          ],
          [
           0.00125892541179417,
           0.00125892541179417,
           0.00125892541179417,
           0.00125892541179417,
           0.00125892541179417,
           0.00125892541179417,
           0.00125892541179417,
           0.00125892541179417,
           0.00125892541179417,
           0.00125892541179417
          ],
          [
           0.0015848931924611173,
           0.0015848931924611173,
           0.0015848931924611173,
           0.0015848931924611173,
           0.0015848931924611173,
           0.0015848931924611173,
           0.0015848931924611173,
           0.0015848931924611173,
           0.0015848931924611173,
           0.0015848931924611173
          ],
          [
           0.001995262314968885,
           0.001995262314968885,
           0.001995262314968885,
           0.001995262314968885,
           0.001995262314968885,
           0.001995262314968885,
           0.001995262314968885,
           0.001995262314968885,
           0.001995262314968885,
           0.001995262314968885
          ],
          [
           0.0025118864315095872,
           0.0025118864315095872,
           0.0025118864315095872,
           0.0025118864315095872,
           0.0025118864315095872,
           0.0025118864315095872,
           0.0025118864315095872,
           0.0025118864315095872,
           0.0025118864315095872,
           0.0025118864315095872
          ],
          [
           0.003162277660168389,
           0.003162277660168389,
           0.003162277660168389,
           0.003162277660168389,
           0.003162277660168389,
           0.003162277660168389,
           0.003162277660168389,
           0.003162277660168389,
           0.003162277660168389,
           0.003162277660168389
          ],
          [
           0.0039810717055349856,
           0.0039810717055349856,
           0.0039810717055349856,
           0.0039810717055349856,
           0.0039810717055349856,
           0.0039810717055349856,
           0.0039810717055349856,
           0.0039810717055349856,
           0.0039810717055349856,
           0.0039810717055349856
          ],
          [
           0.00501187233627274,
           0.00501187233627274,
           0.00501187233627274,
           0.00501187233627274,
           0.00501187233627274,
           0.00501187233627274,
           0.00501187233627274,
           0.00501187233627274,
           0.00501187233627274,
           0.00501187233627274
          ],
          [
           0.006309573444801955,
           0.006309573444801955,
           0.006309573444801955,
           0.006309573444801955,
           0.006309573444801955,
           0.006309573444801955,
           0.006309573444801955,
           0.006309573444801955,
           0.006309573444801955,
           0.006309573444801955
          ],
          [
           0.007943282347242847,
           0.007943282347242847,
           0.007943282347242847,
           0.007943282347242847,
           0.007943282347242847,
           0.007943282347242847,
           0.007943282347242847,
           0.007943282347242847,
           0.007943282347242847,
           0.007943282347242847
          ],
          [
           0.01000000000000004,
           0.01000000000000004,
           0.01000000000000004,
           0.01000000000000004,
           0.01000000000000004,
           0.01000000000000004,
           0.01000000000000004,
           0.01000000000000004,
           0.01000000000000004,
           0.01000000000000004
          ],
          [
           0.012589254117941727,
           0.012589254117941727,
           0.012589254117941727,
           0.012589254117941727,
           0.012589254117941727,
           0.012589254117941727,
           0.012589254117941727,
           0.012589254117941727,
           0.012589254117941727,
           0.012589254117941727
          ],
          [
           0.015848931924611207,
           0.015848931924611207,
           0.015848931924611207,
           0.015848931924611207,
           0.015848931924611207,
           0.015848931924611207,
           0.015848931924611207,
           0.015848931924611207,
           0.015848931924611207,
           0.015848931924611207
          ],
          [
           0.01995262314968889,
           0.01995262314968889,
           0.01995262314968889,
           0.01995262314968889,
           0.01995262314968889,
           0.01995262314968889,
           0.01995262314968889,
           0.01995262314968889,
           0.01995262314968889,
           0.01995262314968889
          ],
          [
           0.025118864315095923,
           0.025118864315095923,
           0.025118864315095923,
           0.025118864315095923,
           0.025118864315095923,
           0.025118864315095923,
           0.025118864315095923,
           0.025118864315095923,
           0.025118864315095923,
           0.025118864315095923
          ],
          [
           0.03162277660168396,
           0.03162277660168396,
           0.03162277660168396,
           0.03162277660168396,
           0.03162277660168396,
           0.03162277660168396,
           0.03162277660168396,
           0.03162277660168396,
           0.03162277660168396,
           0.03162277660168396
          ],
          [
           0.039810717055349935,
           0.039810717055349935,
           0.039810717055349935,
           0.039810717055349935,
           0.039810717055349935,
           0.039810717055349935,
           0.039810717055349935,
           0.039810717055349935,
           0.039810717055349935,
           0.039810717055349935
          ],
          [
           0.050118723362727505,
           0.050118723362727505,
           0.050118723362727505,
           0.050118723362727505,
           0.050118723362727505,
           0.050118723362727505,
           0.050118723362727505,
           0.050118723362727505,
           0.050118723362727505,
           0.050118723362727505
          ],
          [
           0.06309573444801969,
           0.06309573444801969,
           0.06309573444801969,
           0.06309573444801969,
           0.06309573444801969,
           0.06309573444801969,
           0.06309573444801969,
           0.06309573444801969,
           0.06309573444801969,
           0.06309573444801969
          ],
          [
           0.07943282347242862,
           0.07943282347242862,
           0.07943282347242862,
           0.07943282347242862,
           0.07943282347242862,
           0.07943282347242862,
           0.07943282347242862,
           0.07943282347242862,
           0.07943282347242862,
           0.07943282347242862
          ],
          [
           0.10000000000000062,
           0.10000000000000062,
           0.10000000000000062,
           0.10000000000000062,
           0.10000000000000062,
           0.10000000000000062,
           0.10000000000000062,
           0.10000000000000062,
           0.10000000000000062,
           0.10000000000000062
          ],
          [
           0.1258925411794175,
           0.1258925411794175,
           0.1258925411794175,
           0.1258925411794175,
           0.1258925411794175,
           0.1258925411794175,
           0.1258925411794175,
           0.1258925411794175,
           0.1258925411794175,
           0.1258925411794175
          ],
          [
           0.1584893192461124,
           0.1584893192461124,
           0.1584893192461124,
           0.1584893192461124,
           0.1584893192461124,
           0.1584893192461124,
           0.1584893192461124,
           0.1584893192461124,
           0.1584893192461124,
           0.1584893192461124
          ],
          [
           0.1995262314968893,
           0.1995262314968893,
           0.1995262314968893,
           0.1995262314968893,
           0.1995262314968893,
           0.1995262314968893,
           0.1995262314968893,
           0.1995262314968893,
           0.1995262314968893,
           0.1995262314968893
          ],
          [
           0.25118864315095973,
           0.25118864315095973,
           0.25118864315095973,
           0.25118864315095973,
           0.25118864315095973,
           0.25118864315095973,
           0.25118864315095973,
           0.25118864315095973,
           0.25118864315095973,
           0.25118864315095973
          ],
          [
           0.3162277660168402,
           0.3162277660168402,
           0.3162277660168402,
           0.3162277660168402,
           0.3162277660168402,
           0.3162277660168402,
           0.3162277660168402,
           0.3162277660168402,
           0.3162277660168402,
           0.3162277660168402
          ],
          [
           0.3981071705535002,
           0.3981071705535002,
           0.3981071705535002,
           0.3981071705535002,
           0.3981071705535002,
           0.3981071705535002,
           0.3981071705535002,
           0.3981071705535002,
           0.3981071705535002,
           0.3981071705535002
          ],
          [
           0.5011872336272761,
           0.5011872336272761,
           0.5011872336272761,
           0.5011872336272761,
           0.5011872336272761,
           0.5011872336272761,
           0.5011872336272761,
           0.5011872336272761,
           0.5011872336272761,
           0.5011872336272761
          ],
          [
           0.6309573444801981,
           0.6309573444801981,
           0.6309573444801981,
           0.6309573444801981,
           0.6309573444801981,
           0.6309573444801981,
           0.6309573444801981,
           0.6309573444801981,
           0.6309573444801981,
           0.6309573444801981
          ],
          [
           0.7943282347242878,
           0.7943282347242878,
           0.7943282347242878,
           0.7943282347242878,
           0.7943282347242878,
           0.7943282347242878,
           0.7943282347242878,
           0.7943282347242878,
           0.7943282347242878,
           0.7943282347242878
          ],
          [
           1.0000000000000082,
           1.0000000000000082,
           1.0000000000000082,
           1.0000000000000082,
           1.0000000000000082,
           1.0000000000000082,
           1.0000000000000082,
           1.0000000000000082,
           1.0000000000000082,
           1.0000000000000082
          ],
          [
           1.2589254117941764,
           1.2589254117941764,
           1.2589254117941764,
           1.2589254117941764,
           1.2589254117941764,
           1.2589254117941764,
           1.2589254117941764,
           1.2589254117941764,
           1.2589254117941764,
           1.2589254117941764
          ],
          [
           1.5848931924611271,
           1.5848931924611271,
           1.5848931924611271,
           1.5848931924611271,
           1.5848931924611271,
           1.5848931924611271,
           1.5848931924611271,
           1.5848931924611271,
           1.5848931924611271,
           1.5848931924611271
          ],
          [
           1.9952623149688993,
           1.9952623149688993,
           1.9952623149688993,
           1.9952623149688993,
           1.9952623149688993,
           1.9952623149688993,
           1.9952623149688993,
           1.9952623149688993,
           1.9952623149688993,
           1.9952623149688993
          ],
          [
           2.511886431509603,
           2.511886431509603,
           2.511886431509603,
           2.511886431509603,
           2.511886431509603,
           2.511886431509603,
           2.511886431509603,
           2.511886431509603,
           2.511886431509603,
           2.511886431509603
          ],
          [
           3.1622776601684053,
           3.1622776601684053,
           3.1622776601684053,
           3.1622776601684053,
           3.1622776601684053,
           3.1622776601684053,
           3.1622776601684053,
           3.1622776601684053,
           3.1622776601684053,
           3.1622776601684053
          ],
          [
           3.98107170553501,
           3.98107170553501,
           3.98107170553501,
           3.98107170553501,
           3.98107170553501,
           3.98107170553501,
           3.98107170553501,
           3.98107170553501,
           3.98107170553501,
           3.98107170553501
          ],
          [
           5.011872336272776,
           5.011872336272776,
           5.011872336272776,
           5.011872336272776,
           5.011872336272776,
           5.011872336272776,
           5.011872336272776,
           5.011872336272776,
           5.011872336272776,
           5.011872336272776
          ],
          [
           6.309573444801995,
           6.309573444801995,
           6.309573444801995,
           6.309573444801995,
           6.309573444801995,
           6.309573444801995,
           6.309573444801995,
           6.309573444801995,
           6.309573444801995,
           6.309573444801995
          ],
          [
           7.943282347242887,
           7.943282347242887,
           7.943282347242887,
           7.943282347242887,
           7.943282347242887,
           7.943282347242887,
           7.943282347242887,
           7.943282347242887,
           7.943282347242887,
           7.943282347242887
          ],
          [
           10.000000000000103,
           10.000000000000103,
           10.000000000000103,
           10.000000000000103,
           10.000000000000103,
           10.000000000000103,
           10.000000000000103,
           10.000000000000103,
           10.000000000000103,
           10.000000000000103
          ]
         ],
         "z": [
          [
           11.994582178138968,
           11.937912885998514,
           11.8447278208942,
           11.791249896935982,
           11.758776218707233,
           11.737081859059174,
           11.722424023649536,
           11.712240565513182,
           11.704928494424829,
           11.699578300225063
          ],
          [
           11.99538116878388,
           11.938484548402712,
           11.845261361009863,
           11.79176738778336,
           11.759350354865086,
           11.737639144828343,
           11.72299611339449,
           11.712864881499097,
           11.705481771244536,
           11.700116641823252
          ],
          [
           11.996375147212353,
           11.939210229088221,
           11.845970169485602,
           11.792465231175509,
           11.760008757826121,
           11.738328170545055,
           11.723664145577702,
           11.7135031459168,
           11.706154124653041,
           11.700828496998952
          ],
          [
           11.99770586452118,
           11.940139222321946,
           11.84684771916185,
           11.793370195470835,
           11.760920032236548,
           11.739220147851967,
           11.724585103011501,
           11.714361083379043,
           11.707073712782803,
           11.701644025432179
          ],
          [
           11.999337758918974,
           11.941259945042466,
           11.847986978378133,
           11.79446874140676,
           11.761994421930568,
           11.740284577441862,
           11.725650215452868,
           11.715478408753595,
           11.708131754479865,
           11.702786358391618
          ],
          [
           12.001330816902781,
           11.942774787755589,
           11.849355323067186,
           11.79581540923496,
           11.763373698854094,
           11.741692418989988,
           11.727060240906903,
           11.716846704497678,
           11.709484493114015,
           11.704146790517932
          ],
          [
           12.00389994914135,
           11.944630344174655,
           11.851149842691857,
           11.797580742935878,
           11.765104378470788,
           11.743430194710989,
           11.728760565866565,
           11.718559691324414,
           11.711219680916997,
           11.705875849695415
          ],
          [
           12.007117306563517,
           11.946912252610183,
           11.853377269070858,
           11.799779289771747,
           11.767294547337498,
           11.745620803271597,
           11.73093907582318,
           11.720753524575132,
           11.713406459324549,
           11.708045145785054
          ],
          [
           12.011172173962548,
           11.949804892994882,
           11.856168304367703,
           11.802527903227674,
           11.770025873539497,
           11.748371919512511,
           11.733657445563821,
           11.723407227549977,
           11.716136306091045,
           11.710817171518054
          ],
          [
           12.016207187232228,
           11.953479931504008,
           11.859611585299984,
           11.806000834543534,
           11.773486501118665,
           11.751786940185756,
           11.737098607215655,
           11.726926235611401,
           11.719584058909067,
           11.714209919075879
          ],
          [
           12.022596088887887,
           11.958049895600825,
           11.86399523977249,
           11.810377724712586,
           11.7778155635848,
           11.756136698034199,
           11.741423312294062,
           11.731246342945722,
           11.7239420210356,
           11.718506053992972
          ],
          [
           12.03056241283387,
           11.963803238243857,
           11.869556409744927,
           11.815815144608099,
           11.783212364078153,
           11.761577912235323,
           11.746868227142222,
           11.736641040021707,
           11.729316918150865,
           11.72393972934737
          ],
          [
           12.040507397544571,
           11.970989631454797,
           11.87646371277848,
           11.822608339392271,
           11.790107379425761,
           11.768328374742119,
           11.753657533237504,
           11.743434264290151,
           11.736154946955814,
           11.730728550819894
          ],
          [
           12.052980227570716,
           11.980006711367313,
           11.885107229311625,
           11.831264666152475,
           11.7986000708025,
           11.776918585176507,
           11.762203049242892,
           11.75201217967932,
           11.74462679691343,
           11.739280083641288
          ],
          [
           12.068558253022207,
           11.99134709840123,
           11.89599857661174,
           11.842014779479902,
           11.809326246662247,
           11.78761447340228,
           11.772903164554542,
           11.762724085396844,
           11.755292298278427,
           11.749920055373249
          ],
          [
           12.08792157964413,
           12.005421448237756,
           11.90955877684562,
           11.855423221565722,
           11.8227550657968,
           11.800981830591535,
           11.786296895240904,
           11.776085700093518,
           11.768647349675462,
           11.763291988543607
          ],
          [
           12.111973898263944,
           12.023058724762299,
           11.926536320848447,
           11.872203536529085,
           11.839474550356574,
           11.817690481675632,
           11.802971818961435,
           11.792687359199938,
           11.785329838127575,
           11.779949251026183
          ],
          [
           12.141730042924413,
           12.044958264795403,
           11.947648976877423,
           11.893116580464298,
           11.860297113719351,
           11.838516634301774,
           11.823770482142788,
           11.813500116186347,
           11.806117275906894,
           11.800700844654232
          ],
          [
           12.178360244455027,
           12.072135322266593,
           11.973767138763343,
           11.919050631595244,
           11.886205068676961,
           11.864371124132342,
           11.84965993534246,
           11.83935081826838,
           11.831906042691223,
           11.826483775863156
          ],
          [
           12.223211661712547,
           12.105670307615016,
           12.006213357847084,
           11.951225778640884,
           11.918269658112699,
           11.896422987676482,
           11.88163676224368,
           11.871366171383944,
           11.863868028892643,
           11.858467616246529
          ],
          [
           12.277700470482783,
           12.146980617276936,
           12.046127915972479,
           11.990848959713583,
           11.957788612520599,
           11.935925514220799,
           11.921114850345061,
           11.910816471296227,
           11.903322433085453,
           11.897850484695319
          ],
          [
           12.34331337693037,
           12.197400998918388,
           12.095034840695432,
           12.039391562795773,
           12.006263040302604,
           11.984329441341343,
           11.969548904377136,
           11.959200728232256,
           11.951722280439924,
           11.94620860152496
          ],
          [
           12.421259902021388,
           12.258515576245639,
           12.154534969855254,
           12.098552895742158,
           12.065285349904862,
           12.0433504583461,
           12.028531176054019,
           12.018181691895364,
           12.010690037276827,
           12.00516372525984
          ],
          [
           12.512475408323667,
           12.33193328641207,
           12.226206007116199,
           12.169916989551435,
           12.13657393525927,
           12.114714361288488,
           12.099864509564913,
           12.089490185908915,
           12.081969383631952,
           12.07641951566502
          ],
          [
           12.617017421464059,
           12.418909678398576,
           12.311619174828623,
           12.255103363405619,
           12.221816714496416,
           12.199955420512174,
           12.185154230005105,
           12.174768928956372,
           12.167261540832373,
           12.161670489710318
          ],
          [
           12.73346499353214,
           12.520272905866827,
           12.411884680172431,
           12.35546869819444,
           12.322277662728139,
           12.300523459408454,
           12.28586555652605,
           12.275475551511091,
           12.267947128119083,
           12.262397155234945
          ],
          [
           12.858146164074883,
           12.635844260312272,
           12.527473672586549,
           12.471486953407794,
           12.438615843872164,
           12.417135823126893,
           12.402593278368348,
           12.392297379162768,
           12.384816221934893,
           12.37927598351085
          ],
          [
           12.984588781189958,
           12.763804232848743,
           12.657301839894394,
           12.602451334530443,
           12.570223364185056,
           12.549183822838575,
           12.534974369490957,
           12.524856346361933,
           12.517416229045192,
           12.511950549773717
          ],
          [
           13.102533464026399,
           12.899847632795096,
           12.798047982078257,
           12.745520478636074,
           12.71458855936921,
           12.694359463947537,
           12.68056518747714,
           12.670711212786745,
           12.663477052425243,
           12.658089870259996
          ],
          [
           13.198158826615819,
           13.036263604452142,
           12.943643833645801,
           12.895158972376878,
           12.86623971007568,
           12.847235754855074,
           12.83422765343176,
           12.824830152749298,
           12.817901525434484,
           12.812715358534804
          ],
          [
           13.254953357947382,
           13.16159913487267,
           13.084044643348557,
           13.041930515023202,
           13.016168278641562,
           12.99903692776954,
           12.987133094431666,
           12.97850717660029,
           12.972054285080404,
           12.96717151969178
          ],
          [
           13.256205244056476,
           13.26050396160271,
           13.20526796712253,
           13.172364064084432,
           13.151177775689114,
           13.136773205704385,
           13.126522125277782,
           13.118941325779213,
           13.113247973395858,
           13.108846755463691
          ],
          [
           13.188402038761103,
           13.315370932849465,
           13.290119528120501,
           13.269613815281875,
           13.254696879301422,
           13.243823716188563,
           13.235864782068967,
           13.229758236341905,
           13.22496773630615,
           13.22131377077502
          ],
          [
           13.043947669827952,
           13.308881055898997,
           13.320452987776527,
           13.315307710268796,
           13.30812975443264,
           13.301855565524562,
           13.296725608776681,
           13.292428255497416,
           13.288980516069042,
           13.286177525605485
          ],
          [
           12.823223631259584,
           13.22764858782368,
           13.280284150685137,
           13.29259418315194,
           13.2944146941924,
           13.293405849051195,
           13.291559024987551,
           13.289469241326042,
           13.287539968364591,
           13.285862917891912
          ],
          [
           12.533720336631266,
           13.06514003777241,
           13.159353952113701,
           13.189814999678157,
           13.201088188420988,
           13.205670883755165,
           13.207372480241874,
           13.207648371475353,
           13.207383297899334,
           13.206934342315963
          ],
          [
           12.18891794084894,
           12.82335252712864,
           12.955532802300551,
           13.002988737961061,
           13.02342620502161,
           13.03340027339942,
           13.038550582569808,
           13.041238349249927,
           13.042653840223693,
           13.043372726168958
          ],
          [
           11.806356892514252,
           12.512453628672944,
           12.675413677091301,
           12.7372620994239,
           12.76552709842055,
           12.780283837575418,
           12.788525000731482,
           12.793313669944975,
           12.79622184305894,
           12.798060409614802
          ],
          [
           11.406190110346518,
           12.148817127894347,
           12.33323700326188,
           12.405548650185459,
           12.439882190682455,
           12.458334458226604,
           12.468997111350252,
           12.475495578767422,
           12.479661818355183,
           12.4824459746681
          ],
          [
           11.009251647229885,
           11.75273312912304,
           11.948363298065019,
           12.026917125300624,
           12.065019020947629,
           12.085908812706744,
           12.098253541975378,
           12.105956578511783,
           12.111037598751878,
           12.114530849414601
          ],
          [
           10.635100520712443,
           11.34584771292316,
           11.542726990688376,
           11.623163242755005,
           11.662843803464163,
           11.684832134805177,
           11.698028020165088,
           11.706422782669424,
           11.71204133525319,
           11.715955589790289
          ],
          [
           10.29977394366678,
           10.948959375724955,
           11.138031886435131,
           11.21634978022775,
           11.25544788551148,
           11.277339993414945,
           11.290634546357047,
           11.299184399263165,
           11.304980673806472,
           11.309114667251244
          ],
          [
           10.01447264824257,
           10.580040093893517,
           10.753585784532122,
           10.826465086311607,
           10.863127582737745,
           10.883806362341055,
           10.89647522693185,
           10.90474410702335,
           10.910381148809396,
           10.91447486498401
          ],
          [
           9.785174649715502,
           10.252968082308644,
           10.405107783681286,
           10.469844910677958,
           10.502597197040096,
           10.521247240441083,
           10.532723919769648,
           10.540292203494236,
           10.545532641027137,
           10.549271964121298
          ],
          [
           9.61264294390257,
           9.97707223113263,
           10.103813365979226,
           10.158532882090425,
           10.18644917594388,
           10.202399299148336,
           10.21227483591187,
           10.218855249238327,
           10.223421432260915,
           10.226735863063242
          ],
          [
           9.492202640029905,
           9.75710413885771,
           9.856609386170659,
           9.900361014798353,
           9.92283430701383,
           9.935735272006024,
           9.943803616616513,
           9.94916592436552,
           9.952934609314468,
           9.95568496071314
          ],
          [
           9.414615806669994,
           9.593120731207852,
           9.665941649925001,
           9.698683923129023,
           9.715632454465272,
           9.725418476890152,
           9.731583923639816,
           9.735709160089398,
           9.738605822625738,
           9.7407233453174
          ],
          [
           9.36850723208848,
           9.47975966040045,
           9.529114361196017,
           9.551851193698644,
           9.563773231543985,
           9.57068891661179,
           9.575078066590017,
           9.578027799581285,
           9.580100905020737,
           9.581648012787886
          ],
          [
           9.34341764712635,
           9.407474366899448,
           9.438423290966687,
           9.453089562219086,
           9.460877067977943,
           9.465413128606864,
           9.468291551762752,
           9.470298471819396,
           9.47168624021673,
           9.47273105580186
          ],
          [
           9.331088151833269,
           9.364891777555853,
           9.3829267057101,
           9.391771431853774,
           9.39652871922227,
           9.399381102588178,
           9.401181195962229,
           9.40242793556052,
           9.403302892487915,
           9.403972430906148
          ],
          [
           9.325840059037832,
           9.341844409537988,
           9.351591716369404,
           9.356590675426045,
           9.359349170279758,
           9.36103844642178,
           9.362147073485524,
           9.362931208354826,
           9.3634490973577,
           9.363890615528273
          ]
         ]
        }
       ],
       "layout": {
        "height": 1000,
        "scene": {
         "xaxis": {
          "title": {
           "text": "Tau"
          }
         },
         "yaxis": {
          "title": {
           "text": "K"
          },
          "type": "log"
         },
         "zaxis": {
          "title": {
           "text": "sd_sim"
          }
         }
        },
        "template": {
         "data": {
          "bar": [
           {
            "error_x": {
             "color": "#2a3f5f"
            },
            "error_y": {
             "color": "#2a3f5f"
            },
            "marker": {
             "line": {
              "color": "#E5ECF6",
              "width": 0.5
             },
             "pattern": {
              "fillmode": "overlay",
              "size": 10,
              "solidity": 0.2
             }
            },
            "type": "bar"
           }
          ],
          "barpolar": [
           {
            "marker": {
             "line": {
              "color": "#E5ECF6",
              "width": 0.5
             },
             "pattern": {
              "fillmode": "overlay",
              "size": 10,
              "solidity": 0.2
             }
            },
            "type": "barpolar"
           }
          ],
          "carpet": [
           {
            "aaxis": {
             "endlinecolor": "#2a3f5f",
             "gridcolor": "white",
             "linecolor": "white",
             "minorgridcolor": "white",
             "startlinecolor": "#2a3f5f"
            },
            "baxis": {
             "endlinecolor": "#2a3f5f",
             "gridcolor": "white",
             "linecolor": "white",
             "minorgridcolor": "white",
             "startlinecolor": "#2a3f5f"
            },
            "type": "carpet"
           }
          ],
          "choropleth": [
           {
            "colorbar": {
             "outlinewidth": 0,
             "ticks": ""
            },
            "type": "choropleth"
           }
          ],
          "contour": [
           {
            "colorbar": {
             "outlinewidth": 0,
             "ticks": ""
            },
            "colorscale": [
             [
              0,
              "#0d0887"
             ],
             [
              0.1111111111111111,
              "#46039f"
             ],
             [
              0.2222222222222222,
              "#7201a8"
             ],
             [
              0.3333333333333333,
              "#9c179e"
             ],
             [
              0.4444444444444444,
              "#bd3786"
             ],
             [
              0.5555555555555556,
              "#d8576b"
             ],
             [
              0.6666666666666666,
              "#ed7953"
             ],
             [
              0.7777777777777778,
              "#fb9f3a"
             ],
             [
              0.8888888888888888,
              "#fdca26"
             ],
             [
              1,
              "#f0f921"
             ]
            ],
            "type": "contour"
           }
          ],
          "contourcarpet": [
           {
            "colorbar": {
             "outlinewidth": 0,
             "ticks": ""
            },
            "type": "contourcarpet"
           }
          ],
          "heatmap": [
           {
            "colorbar": {
             "outlinewidth": 0,
             "ticks": ""
            },
            "colorscale": [
             [
              0,
              "#0d0887"
             ],
             [
              0.1111111111111111,
              "#46039f"
             ],
             [
              0.2222222222222222,
              "#7201a8"
             ],
             [
              0.3333333333333333,
              "#9c179e"
             ],
             [
              0.4444444444444444,
              "#bd3786"
             ],
             [
              0.5555555555555556,
              "#d8576b"
             ],
             [
              0.6666666666666666,
              "#ed7953"
             ],
             [
              0.7777777777777778,
              "#fb9f3a"
             ],
             [
              0.8888888888888888,
              "#fdca26"
             ],
             [
              1,
              "#f0f921"
             ]
            ],
            "type": "heatmap"
           }
          ],
          "heatmapgl": [
           {
            "colorbar": {
             "outlinewidth": 0,
             "ticks": ""
            },
            "colorscale": [
             [
              0,
              "#0d0887"
             ],
             [
              0.1111111111111111,
              "#46039f"
             ],
             [
              0.2222222222222222,
              "#7201a8"
             ],
             [
              0.3333333333333333,
              "#9c179e"
             ],
             [
              0.4444444444444444,
              "#bd3786"
             ],
             [
              0.5555555555555556,
              "#d8576b"
             ],
             [
              0.6666666666666666,
              "#ed7953"
             ],
             [
              0.7777777777777778,
              "#fb9f3a"
             ],
             [
              0.8888888888888888,
              "#fdca26"
             ],
             [
              1,
              "#f0f921"
             ]
            ],
            "type": "heatmapgl"
           }
          ],
          "histogram": [
           {
            "marker": {
             "pattern": {
              "fillmode": "overlay",
              "size": 10,
              "solidity": 0.2
             }
            },
            "type": "histogram"
           }
          ],
          "histogram2d": [
           {
            "colorbar": {
             "outlinewidth": 0,
             "ticks": ""
            },
            "colorscale": [
             [
              0,
              "#0d0887"
             ],
             [
              0.1111111111111111,
              "#46039f"
             ],
             [
              0.2222222222222222,
              "#7201a8"
             ],
             [
              0.3333333333333333,
              "#9c179e"
             ],
             [
              0.4444444444444444,
              "#bd3786"
             ],
             [
              0.5555555555555556,
              "#d8576b"
             ],
             [
              0.6666666666666666,
              "#ed7953"
             ],
             [
              0.7777777777777778,
              "#fb9f3a"
             ],
             [
              0.8888888888888888,
              "#fdca26"
             ],
             [
              1,
              "#f0f921"
             ]
            ],
            "type": "histogram2d"
           }
          ],
          "histogram2dcontour": [
           {
            "colorbar": {
             "outlinewidth": 0,
             "ticks": ""
            },
            "colorscale": [
             [
              0,
              "#0d0887"
             ],
             [
              0.1111111111111111,
              "#46039f"
             ],
             [
              0.2222222222222222,
              "#7201a8"
             ],
             [
              0.3333333333333333,
              "#9c179e"
             ],
             [
              0.4444444444444444,
              "#bd3786"
             ],
             [
              0.5555555555555556,
              "#d8576b"
             ],
             [
              0.6666666666666666,
              "#ed7953"
             ],
             [
              0.7777777777777778,
              "#fb9f3a"
             ],
             [
              0.8888888888888888,
              "#fdca26"
             ],
             [
              1,
              "#f0f921"
             ]
            ],
            "type": "histogram2dcontour"
           }
          ],
          "mesh3d": [
           {
            "colorbar": {
             "outlinewidth": 0,
             "ticks": ""
            },
            "type": "mesh3d"
           }
          ],
          "parcoords": [
           {
            "line": {
             "colorbar": {
              "outlinewidth": 0,
              "ticks": ""
             }
            },
            "type": "parcoords"
           }
          ],
          "pie": [
           {
            "automargin": true,
            "type": "pie"
           }
          ],
          "scatter": [
           {
            "fillpattern": {
             "fillmode": "overlay",
             "size": 10,
             "solidity": 0.2
            },
            "type": "scatter"
           }
          ],
          "scatter3d": [
           {
            "line": {
             "colorbar": {
              "outlinewidth": 0,
              "ticks": ""
             }
            },
            "marker": {
             "colorbar": {
              "outlinewidth": 0,
              "ticks": ""
             }
            },
            "type": "scatter3d"
           }
          ],
          "scattercarpet": [
           {
            "marker": {
             "colorbar": {
              "outlinewidth": 0,
              "ticks": ""
             }
            },
            "type": "scattercarpet"
           }
          ],
          "scattergeo": [
           {
            "marker": {
             "colorbar": {
              "outlinewidth": 0,
              "ticks": ""
             }
            },
            "type": "scattergeo"
           }
          ],
          "scattergl": [
           {
            "marker": {
             "colorbar": {
              "outlinewidth": 0,
              "ticks": ""
             }
            },
            "type": "scattergl"
           }
          ],
          "scattermapbox": [
           {
            "marker": {
             "colorbar": {
              "outlinewidth": 0,
              "ticks": ""
             }
            },
            "type": "scattermapbox"
           }
          ],
          "scatterpolar": [
           {
            "marker": {
             "colorbar": {
              "outlinewidth": 0,
              "ticks": ""
             }
            },
            "type": "scatterpolar"
           }
          ],
          "scatterpolargl": [
           {
            "marker": {
             "colorbar": {
              "outlinewidth": 0,
              "ticks": ""
             }
            },
            "type": "scatterpolargl"
           }
          ],
          "scatterternary": [
           {
            "marker": {
             "colorbar": {
              "outlinewidth": 0,
              "ticks": ""
             }
            },
            "type": "scatterternary"
           }
          ],
          "surface": [
           {
            "colorbar": {
             "outlinewidth": 0,
             "ticks": ""
            },
            "colorscale": [
             [
              0,
              "#0d0887"
             ],
             [
              0.1111111111111111,
              "#46039f"
             ],
             [
              0.2222222222222222,
              "#7201a8"
             ],
             [
              0.3333333333333333,
              "#9c179e"
             ],
             [
              0.4444444444444444,
              "#bd3786"
             ],
             [
              0.5555555555555556,
              "#d8576b"
             ],
             [
              0.6666666666666666,
              "#ed7953"
             ],
             [
              0.7777777777777778,
              "#fb9f3a"
             ],
             [
              0.8888888888888888,
              "#fdca26"
             ],
             [
              1,
              "#f0f921"
             ]
            ],
            "type": "surface"
           }
          ],
          "table": [
           {
            "cells": {
             "fill": {
              "color": "#EBF0F8"
             },
             "line": {
              "color": "white"
             }
            },
            "header": {
             "fill": {
              "color": "#C8D4E3"
             },
             "line": {
              "color": "white"
             }
            },
            "type": "table"
           }
          ]
         },
         "layout": {
          "annotationdefaults": {
           "arrowcolor": "#2a3f5f",
           "arrowhead": 0,
           "arrowwidth": 1
          },
          "autotypenumbers": "strict",
          "coloraxis": {
           "colorbar": {
            "outlinewidth": 0,
            "ticks": ""
           }
          },
          "colorscale": {
           "diverging": [
            [
             0,
             "#8e0152"
            ],
            [
             0.1,
             "#c51b7d"
            ],
            [
             0.2,
             "#de77ae"
            ],
            [
             0.3,
             "#f1b6da"
            ],
            [
             0.4,
             "#fde0ef"
            ],
            [
             0.5,
             "#f7f7f7"
            ],
            [
             0.6,
             "#e6f5d0"
            ],
            [
             0.7,
             "#b8e186"
            ],
            [
             0.8,
             "#7fbc41"
            ],
            [
             0.9,
             "#4d9221"
            ],
            [
             1,
             "#276419"
            ]
           ],
           "sequential": [
            [
             0,
             "#0d0887"
            ],
            [
             0.1111111111111111,
             "#46039f"
            ],
            [
             0.2222222222222222,
             "#7201a8"
            ],
            [
             0.3333333333333333,
             "#9c179e"
            ],
            [
             0.4444444444444444,
             "#bd3786"
            ],
            [
             0.5555555555555556,
             "#d8576b"
            ],
            [
             0.6666666666666666,
             "#ed7953"
            ],
            [
             0.7777777777777778,
             "#fb9f3a"
            ],
            [
             0.8888888888888888,
             "#fdca26"
            ],
            [
             1,
             "#f0f921"
            ]
           ],
           "sequentialminus": [
            [
             0,
             "#0d0887"
            ],
            [
             0.1111111111111111,
             "#46039f"
            ],
            [
             0.2222222222222222,
             "#7201a8"
            ],
            [
             0.3333333333333333,
             "#9c179e"
            ],
            [
             0.4444444444444444,
             "#bd3786"
            ],
            [
             0.5555555555555556,
             "#d8576b"
            ],
            [
             0.6666666666666666,
             "#ed7953"
            ],
            [
             0.7777777777777778,
             "#fb9f3a"
            ],
            [
             0.8888888888888888,
             "#fdca26"
            ],
            [
             1,
             "#f0f921"
            ]
           ]
          },
          "colorway": [
           "#636efa",
           "#EF553B",
           "#00cc96",
           "#ab63fa",
           "#FFA15A",
           "#19d3f3",
           "#FF6692",
           "#B6E880",
           "#FF97FF",
           "#FECB52"
          ],
          "font": {
           "color": "#2a3f5f"
          },
          "geo": {
           "bgcolor": "white",
           "lakecolor": "white",
           "landcolor": "#E5ECF6",
           "showlakes": true,
           "showland": true,
           "subunitcolor": "white"
          },
          "hoverlabel": {
           "align": "left"
          },
          "hovermode": "closest",
          "mapbox": {
           "style": "light"
          },
          "paper_bgcolor": "white",
          "plot_bgcolor": "#E5ECF6",
          "polar": {
           "angularaxis": {
            "gridcolor": "white",
            "linecolor": "white",
            "ticks": ""
           },
           "bgcolor": "#E5ECF6",
           "radialaxis": {
            "gridcolor": "white",
            "linecolor": "white",
            "ticks": ""
           }
          },
          "scene": {
           "xaxis": {
            "backgroundcolor": "#E5ECF6",
            "gridcolor": "white",
            "gridwidth": 2,
            "linecolor": "white",
            "showbackground": true,
            "ticks": "",
            "zerolinecolor": "white"
           },
           "yaxis": {
            "backgroundcolor": "#E5ECF6",
            "gridcolor": "white",
            "gridwidth": 2,
            "linecolor": "white",
            "showbackground": true,
            "ticks": "",
            "zerolinecolor": "white"
           },
           "zaxis": {
            "backgroundcolor": "#E5ECF6",
            "gridcolor": "white",
            "gridwidth": 2,
            "linecolor": "white",
            "showbackground": true,
            "ticks": "",
            "zerolinecolor": "white"
           }
          },
          "shapedefaults": {
           "line": {
            "color": "#2a3f5f"
           }
          },
          "ternary": {
           "aaxis": {
            "gridcolor": "white",
            "linecolor": "white",
            "ticks": ""
           },
           "baxis": {
            "gridcolor": "white",
            "linecolor": "white",
            "ticks": ""
           },
           "bgcolor": "#E5ECF6",
           "caxis": {
            "gridcolor": "white",
            "linecolor": "white",
            "ticks": ""
           }
          },
          "title": {
           "x": 0.05
          },
          "xaxis": {
           "automargin": true,
           "gridcolor": "white",
           "linecolor": "white",
           "ticks": "",
           "title": {
            "standoff": 15
           },
           "zerolinecolor": "white",
           "zerolinewidth": 2
          },
          "yaxis": {
           "automargin": true,
           "gridcolor": "white",
           "linecolor": "white",
           "ticks": "",
           "title": {
            "standoff": 15
           },
           "zerolinecolor": "white",
           "zerolinewidth": 2
          }
         }
        },
        "title": {
         "text": "3D Surface Plot of output from 24th-Transformer-layer"
        },
        "width": 1000
       }
      }
     },
     "metadata": {},
     "output_type": "display_data"
    }
   ],
   "source": [
    "df = pd.json_normalize(results)\n",
    "\n",
    "\n",
    "df['tau'] = df['tau'].apply(lambda x: x[0] if isinstance(x, list) else x)\n",
    "df['k'] = df['k'].apply(lambda x: x[0] if isinstance(x, list) else x)\n",
    "df['z-value'] = df['z-value'].apply(lambda x: x[0] if isinstance(x, list) else x)\n",
    "df['mean_sim'] = df['mean_sim'].apply(lambda x: x[0] if isinstance(x, list) else x)\n",
    "df['sd_sim'] = df['sd_sim'].apply(lambda x: x[0] if isinstance(x, list) else x)\n",
    "tau_vals = tau_values  \n",
    "k_vals = k_values\n",
    "tau_grid, k_grid = np.meshgrid(tau_vals, k_vals)  \n",
    "\n",
    "\n",
    "from scipy.interpolate import griddata\n",
    "#z_grid = griddata((df['tau'], df['k']), df['z-value'], (tau_grid, k_grid), method='linear')\n",
    "\n",
    "z_grid = griddata((df['tau'], df['k']), df['z-value'], (tau_grid, k_grid), method='nearest')\n",
    "\n",
    "fig = go.Figure(data=[go.Surface(z=z_grid, x=tau_grid, y=k_grid, colorscale='Viridis')])\n",
    "\n",
    "fig.update_layout(\n",
    "    width=1000,\n",
    "    height=1000,\n",
    "    title='3D Surface Plot of output from 24th-Transformer-layer',\n",
    "    scene=dict(\n",
    "        xaxis_title='Tau',\n",
    "        yaxis_title='K',\n",
    "        zaxis_title='sd_sim',\n",
    "        yaxis=dict(type='log')\n",
    "    )\n",
    ")\n",
    "\n",
    "fig.show()"
   ]
  },
  {
   "cell_type": "code",
   "execution_count": 16,
   "metadata": {},
   "outputs": [
    {
     "data": {
      "application/vnd.plotly.v1+json": {
       "config": {
        "plotlyServerURL": "https://plot.ly"
       },
       "data": [
        {
         "colorscale": [
          [
           0,
           "rgb(165,0,38)"
          ],
          [
           0.1,
           "rgb(215,48,39)"
          ],
          [
           0.2,
           "rgb(244,109,67)"
          ],
          [
           0.3,
           "rgb(253,174,97)"
          ],
          [
           0.4,
           "rgb(254,224,139)"
          ],
          [
           0.5,
           "rgb(255,255,191)"
          ],
          [
           0.6,
           "rgb(217,239,139)"
          ],
          [
           0.7,
           "rgb(166,217,106)"
          ],
          [
           0.8,
           "rgb(102,189,99)"
          ],
          [
           0.9,
           "rgb(26,152,80)"
          ],
          [
           1,
           "rgb(0,104,55)"
          ]
         ],
         "scene": "scene",
         "showscale": false,
         "type": "surface",
         "x": [
          [
           1,
           2,
           3,
           4,
           5,
           6,
           7,
           8,
           9,
           10
          ],
          [
           1,
           2,
           3,
           4,
           5,
           6,
           7,
           8,
           9,
           10
          ],
          [
           1,
           2,
           3,
           4,
           5,
           6,
           7,
           8,
           9,
           10
          ],
          [
           1,
           2,
           3,
           4,
           5,
           6,
           7,
           8,
           9,
           10
          ],
          [
           1,
           2,
           3,
           4,
           5,
           6,
           7,
           8,
           9,
           10
          ],
          [
           1,
           2,
           3,
           4,
           5,
           6,
           7,
           8,
           9,
           10
          ],
          [
           1,
           2,
           3,
           4,
           5,
           6,
           7,
           8,
           9,
           10
          ],
          [
           1,
           2,
           3,
           4,
           5,
           6,
           7,
           8,
           9,
           10
          ],
          [
           1,
           2,
           3,
           4,
           5,
           6,
           7,
           8,
           9,
           10
          ],
          [
           1,
           2,
           3,
           4,
           5,
           6,
           7,
           8,
           9,
           10
          ],
          [
           1,
           2,
           3,
           4,
           5,
           6,
           7,
           8,
           9,
           10
          ],
          [
           1,
           2,
           3,
           4,
           5,
           6,
           7,
           8,
           9,
           10
          ],
          [
           1,
           2,
           3,
           4,
           5,
           6,
           7,
           8,
           9,
           10
          ],
          [
           1,
           2,
           3,
           4,
           5,
           6,
           7,
           8,
           9,
           10
          ],
          [
           1,
           2,
           3,
           4,
           5,
           6,
           7,
           8,
           9,
           10
          ],
          [
           1,
           2,
           3,
           4,
           5,
           6,
           7,
           8,
           9,
           10
          ],
          [
           1,
           2,
           3,
           4,
           5,
           6,
           7,
           8,
           9,
           10
          ],
          [
           1,
           2,
           3,
           4,
           5,
           6,
           7,
           8,
           9,
           10
          ],
          [
           1,
           2,
           3,
           4,
           5,
           6,
           7,
           8,
           9,
           10
          ],
          [
           1,
           2,
           3,
           4,
           5,
           6,
           7,
           8,
           9,
           10
          ],
          [
           1,
           2,
           3,
           4,
           5,
           6,
           7,
           8,
           9,
           10
          ],
          [
           1,
           2,
           3,
           4,
           5,
           6,
           7,
           8,
           9,
           10
          ],
          [
           1,
           2,
           3,
           4,
           5,
           6,
           7,
           8,
           9,
           10
          ],
          [
           1,
           2,
           3,
           4,
           5,
           6,
           7,
           8,
           9,
           10
          ],
          [
           1,
           2,
           3,
           4,
           5,
           6,
           7,
           8,
           9,
           10
          ],
          [
           1,
           2,
           3,
           4,
           5,
           6,
           7,
           8,
           9,
           10
          ],
          [
           1,
           2,
           3,
           4,
           5,
           6,
           7,
           8,
           9,
           10
          ],
          [
           1,
           2,
           3,
           4,
           5,
           6,
           7,
           8,
           9,
           10
          ],
          [
           1,
           2,
           3,
           4,
           5,
           6,
           7,
           8,
           9,
           10
          ],
          [
           1,
           2,
           3,
           4,
           5,
           6,
           7,
           8,
           9,
           10
          ],
          [
           1,
           2,
           3,
           4,
           5,
           6,
           7,
           8,
           9,
           10
          ],
          [
           1,
           2,
           3,
           4,
           5,
           6,
           7,
           8,
           9,
           10
          ],
          [
           1,
           2,
           3,
           4,
           5,
           6,
           7,
           8,
           9,
           10
          ],
          [
           1,
           2,
           3,
           4,
           5,
           6,
           7,
           8,
           9,
           10
          ],
          [
           1,
           2,
           3,
           4,
           5,
           6,
           7,
           8,
           9,
           10
          ],
          [
           1,
           2,
           3,
           4,
           5,
           6,
           7,
           8,
           9,
           10
          ],
          [
           1,
           2,
           3,
           4,
           5,
           6,
           7,
           8,
           9,
           10
          ],
          [
           1,
           2,
           3,
           4,
           5,
           6,
           7,
           8,
           9,
           10
          ],
          [
           1,
           2,
           3,
           4,
           5,
           6,
           7,
           8,
           9,
           10
          ],
          [
           1,
           2,
           3,
           4,
           5,
           6,
           7,
           8,
           9,
           10
          ],
          [
           1,
           2,
           3,
           4,
           5,
           6,
           7,
           8,
           9,
           10
          ],
          [
           1,
           2,
           3,
           4,
           5,
           6,
           7,
           8,
           9,
           10
          ],
          [
           1,
           2,
           3,
           4,
           5,
           6,
           7,
           8,
           9,
           10
          ],
          [
           1,
           2,
           3,
           4,
           5,
           6,
           7,
           8,
           9,
           10
          ],
          [
           1,
           2,
           3,
           4,
           5,
           6,
           7,
           8,
           9,
           10
          ],
          [
           1,
           2,
           3,
           4,
           5,
           6,
           7,
           8,
           9,
           10
          ],
          [
           1,
           2,
           3,
           4,
           5,
           6,
           7,
           8,
           9,
           10
          ],
          [
           1,
           2,
           3,
           4,
           5,
           6,
           7,
           8,
           9,
           10
          ],
          [
           1,
           2,
           3,
           4,
           5,
           6,
           7,
           8,
           9,
           10
          ],
          [
           1,
           2,
           3,
           4,
           5,
           6,
           7,
           8,
           9,
           10
          ],
          [
           1,
           2,
           3,
           4,
           5,
           6,
           7,
           8,
           9,
           10
          ]
         ],
         "y": [
          [
           0.0001,
           0.0001,
           0.0001,
           0.0001,
           0.0001,
           0.0001,
           0.0001,
           0.0001,
           0.0001,
           0.0001
          ],
          [
           0.00012589254117941674,
           0.00012589254117941674,
           0.00012589254117941674,
           0.00012589254117941674,
           0.00012589254117941674,
           0.00012589254117941674,
           0.00012589254117941674,
           0.00012589254117941674,
           0.00012589254117941674,
           0.00012589254117941674
          ],
          [
           0.00015848931924611142,
           0.00015848931924611142,
           0.00015848931924611142,
           0.00015848931924611142,
           0.00015848931924611142,
           0.00015848931924611142,
           0.00015848931924611142,
           0.00015848931924611142,
           0.00015848931924611142,
           0.00015848931924611142
          ],
          [
           0.0001995262314968881,
           0.0001995262314968881,
           0.0001995262314968881,
           0.0001995262314968881,
           0.0001995262314968881,
           0.0001995262314968881,
           0.0001995262314968881,
           0.0001995262314968881,
           0.0001995262314968881,
           0.0001995262314968881
          ],
          [
           0.0002511886431509582,
           0.0002511886431509582,
           0.0002511886431509582,
           0.0002511886431509582,
           0.0002511886431509582,
           0.0002511886431509582,
           0.0002511886431509582,
           0.0002511886431509582,
           0.0002511886431509582,
           0.0002511886431509582
          ],
          [
           0.00031622776601683826,
           0.00031622776601683826,
           0.00031622776601683826,
           0.00031622776601683826,
           0.00031622776601683826,
           0.00031622776601683826,
           0.00031622776601683826,
           0.00031622776601683826,
           0.00031622776601683826,
           0.00031622776601683826
          ],
          [
           0.00039810717055349773,
           0.00039810717055349773,
           0.00039810717055349773,
           0.00039810717055349773,
           0.00039810717055349773,
           0.00039810717055349773,
           0.00039810717055349773,
           0.00039810717055349773,
           0.00039810717055349773,
           0.00039810717055349773
          ],
          [
           0.000501187233627273,
           0.000501187233627273,
           0.000501187233627273,
           0.000501187233627273,
           0.000501187233627273,
           0.000501187233627273,
           0.000501187233627273,
           0.000501187233627273,
           0.000501187233627273,
           0.000501187233627273
          ],
          [
           0.0006309573444801943,
           0.0006309573444801943,
           0.0006309573444801943,
           0.0006309573444801943,
           0.0006309573444801943,
           0.0006309573444801943,
           0.0006309573444801943,
           0.0006309573444801943,
           0.0006309573444801943,
           0.0006309573444801943
          ],
          [
           0.0007943282347242829,
           0.0007943282347242829,
           0.0007943282347242829,
           0.0007943282347242829,
           0.0007943282347242829,
           0.0007943282347242829,
           0.0007943282347242829,
           0.0007943282347242829,
           0.0007943282347242829,
           0.0007943282347242829
          ],
          [
           0.001000000000000002,
           0.001000000000000002,
           0.001000000000000002,
           0.001000000000000002,
           0.001000000000000002,
           0.001000000000000002,
           0.001000000000000002,
           0.001000000000000002,
           0.001000000000000002,
           0.001000000000000002
          ],
          [
           0.00125892541179417,
           0.00125892541179417,
           0.00125892541179417,
           0.00125892541179417,
           0.00125892541179417,
           0.00125892541179417,
           0.00125892541179417,
           0.00125892541179417,
           0.00125892541179417,
           0.00125892541179417
          ],
          [
           0.0015848931924611173,
           0.0015848931924611173,
           0.0015848931924611173,
           0.0015848931924611173,
           0.0015848931924611173,
           0.0015848931924611173,
           0.0015848931924611173,
           0.0015848931924611173,
           0.0015848931924611173,
           0.0015848931924611173
          ],
          [
           0.001995262314968885,
           0.001995262314968885,
           0.001995262314968885,
           0.001995262314968885,
           0.001995262314968885,
           0.001995262314968885,
           0.001995262314968885,
           0.001995262314968885,
           0.001995262314968885,
           0.001995262314968885
          ],
          [
           0.0025118864315095872,
           0.0025118864315095872,
           0.0025118864315095872,
           0.0025118864315095872,
           0.0025118864315095872,
           0.0025118864315095872,
           0.0025118864315095872,
           0.0025118864315095872,
           0.0025118864315095872,
           0.0025118864315095872
          ],
          [
           0.003162277660168389,
           0.003162277660168389,
           0.003162277660168389,
           0.003162277660168389,
           0.003162277660168389,
           0.003162277660168389,
           0.003162277660168389,
           0.003162277660168389,
           0.003162277660168389,
           0.003162277660168389
          ],
          [
           0.0039810717055349856,
           0.0039810717055349856,
           0.0039810717055349856,
           0.0039810717055349856,
           0.0039810717055349856,
           0.0039810717055349856,
           0.0039810717055349856,
           0.0039810717055349856,
           0.0039810717055349856,
           0.0039810717055349856
          ],
          [
           0.00501187233627274,
           0.00501187233627274,
           0.00501187233627274,
           0.00501187233627274,
           0.00501187233627274,
           0.00501187233627274,
           0.00501187233627274,
           0.00501187233627274,
           0.00501187233627274,
           0.00501187233627274
          ],
          [
           0.006309573444801955,
           0.006309573444801955,
           0.006309573444801955,
           0.006309573444801955,
           0.006309573444801955,
           0.006309573444801955,
           0.006309573444801955,
           0.006309573444801955,
           0.006309573444801955,
           0.006309573444801955
          ],
          [
           0.007943282347242847,
           0.007943282347242847,
           0.007943282347242847,
           0.007943282347242847,
           0.007943282347242847,
           0.007943282347242847,
           0.007943282347242847,
           0.007943282347242847,
           0.007943282347242847,
           0.007943282347242847
          ],
          [
           0.01000000000000004,
           0.01000000000000004,
           0.01000000000000004,
           0.01000000000000004,
           0.01000000000000004,
           0.01000000000000004,
           0.01000000000000004,
           0.01000000000000004,
           0.01000000000000004,
           0.01000000000000004
          ],
          [
           0.012589254117941727,
           0.012589254117941727,
           0.012589254117941727,
           0.012589254117941727,
           0.012589254117941727,
           0.012589254117941727,
           0.012589254117941727,
           0.012589254117941727,
           0.012589254117941727,
           0.012589254117941727
          ],
          [
           0.015848931924611207,
           0.015848931924611207,
           0.015848931924611207,
           0.015848931924611207,
           0.015848931924611207,
           0.015848931924611207,
           0.015848931924611207,
           0.015848931924611207,
           0.015848931924611207,
           0.015848931924611207
          ],
          [
           0.01995262314968889,
           0.01995262314968889,
           0.01995262314968889,
           0.01995262314968889,
           0.01995262314968889,
           0.01995262314968889,
           0.01995262314968889,
           0.01995262314968889,
           0.01995262314968889,
           0.01995262314968889
          ],
          [
           0.025118864315095923,
           0.025118864315095923,
           0.025118864315095923,
           0.025118864315095923,
           0.025118864315095923,
           0.025118864315095923,
           0.025118864315095923,
           0.025118864315095923,
           0.025118864315095923,
           0.025118864315095923
          ],
          [
           0.03162277660168396,
           0.03162277660168396,
           0.03162277660168396,
           0.03162277660168396,
           0.03162277660168396,
           0.03162277660168396,
           0.03162277660168396,
           0.03162277660168396,
           0.03162277660168396,
           0.03162277660168396
          ],
          [
           0.039810717055349935,
           0.039810717055349935,
           0.039810717055349935,
           0.039810717055349935,
           0.039810717055349935,
           0.039810717055349935,
           0.039810717055349935,
           0.039810717055349935,
           0.039810717055349935,
           0.039810717055349935
          ],
          [
           0.050118723362727505,
           0.050118723362727505,
           0.050118723362727505,
           0.050118723362727505,
           0.050118723362727505,
           0.050118723362727505,
           0.050118723362727505,
           0.050118723362727505,
           0.050118723362727505,
           0.050118723362727505
          ],
          [
           0.06309573444801969,
           0.06309573444801969,
           0.06309573444801969,
           0.06309573444801969,
           0.06309573444801969,
           0.06309573444801969,
           0.06309573444801969,
           0.06309573444801969,
           0.06309573444801969,
           0.06309573444801969
          ],
          [
           0.07943282347242862,
           0.07943282347242862,
           0.07943282347242862,
           0.07943282347242862,
           0.07943282347242862,
           0.07943282347242862,
           0.07943282347242862,
           0.07943282347242862,
           0.07943282347242862,
           0.07943282347242862
          ],
          [
           0.10000000000000062,
           0.10000000000000062,
           0.10000000000000062,
           0.10000000000000062,
           0.10000000000000062,
           0.10000000000000062,
           0.10000000000000062,
           0.10000000000000062,
           0.10000000000000062,
           0.10000000000000062
          ],
          [
           0.1258925411794175,
           0.1258925411794175,
           0.1258925411794175,
           0.1258925411794175,
           0.1258925411794175,
           0.1258925411794175,
           0.1258925411794175,
           0.1258925411794175,
           0.1258925411794175,
           0.1258925411794175
          ],
          [
           0.1584893192461124,
           0.1584893192461124,
           0.1584893192461124,
           0.1584893192461124,
           0.1584893192461124,
           0.1584893192461124,
           0.1584893192461124,
           0.1584893192461124,
           0.1584893192461124,
           0.1584893192461124
          ],
          [
           0.1995262314968893,
           0.1995262314968893,
           0.1995262314968893,
           0.1995262314968893,
           0.1995262314968893,
           0.1995262314968893,
           0.1995262314968893,
           0.1995262314968893,
           0.1995262314968893,
           0.1995262314968893
          ],
          [
           0.25118864315095973,
           0.25118864315095973,
           0.25118864315095973,
           0.25118864315095973,
           0.25118864315095973,
           0.25118864315095973,
           0.25118864315095973,
           0.25118864315095973,
           0.25118864315095973,
           0.25118864315095973
          ],
          [
           0.3162277660168402,
           0.3162277660168402,
           0.3162277660168402,
           0.3162277660168402,
           0.3162277660168402,
           0.3162277660168402,
           0.3162277660168402,
           0.3162277660168402,
           0.3162277660168402,
           0.3162277660168402
          ],
          [
           0.3981071705535002,
           0.3981071705535002,
           0.3981071705535002,
           0.3981071705535002,
           0.3981071705535002,
           0.3981071705535002,
           0.3981071705535002,
           0.3981071705535002,
           0.3981071705535002,
           0.3981071705535002
          ],
          [
           0.5011872336272761,
           0.5011872336272761,
           0.5011872336272761,
           0.5011872336272761,
           0.5011872336272761,
           0.5011872336272761,
           0.5011872336272761,
           0.5011872336272761,
           0.5011872336272761,
           0.5011872336272761
          ],
          [
           0.6309573444801981,
           0.6309573444801981,
           0.6309573444801981,
           0.6309573444801981,
           0.6309573444801981,
           0.6309573444801981,
           0.6309573444801981,
           0.6309573444801981,
           0.6309573444801981,
           0.6309573444801981
          ],
          [
           0.7943282347242878,
           0.7943282347242878,
           0.7943282347242878,
           0.7943282347242878,
           0.7943282347242878,
           0.7943282347242878,
           0.7943282347242878,
           0.7943282347242878,
           0.7943282347242878,
           0.7943282347242878
          ],
          [
           1.0000000000000082,
           1.0000000000000082,
           1.0000000000000082,
           1.0000000000000082,
           1.0000000000000082,
           1.0000000000000082,
           1.0000000000000082,
           1.0000000000000082,
           1.0000000000000082,
           1.0000000000000082
          ],
          [
           1.2589254117941764,
           1.2589254117941764,
           1.2589254117941764,
           1.2589254117941764,
           1.2589254117941764,
           1.2589254117941764,
           1.2589254117941764,
           1.2589254117941764,
           1.2589254117941764,
           1.2589254117941764
          ],
          [
           1.5848931924611271,
           1.5848931924611271,
           1.5848931924611271,
           1.5848931924611271,
           1.5848931924611271,
           1.5848931924611271,
           1.5848931924611271,
           1.5848931924611271,
           1.5848931924611271,
           1.5848931924611271
          ],
          [
           1.9952623149688993,
           1.9952623149688993,
           1.9952623149688993,
           1.9952623149688993,
           1.9952623149688993,
           1.9952623149688993,
           1.9952623149688993,
           1.9952623149688993,
           1.9952623149688993,
           1.9952623149688993
          ],
          [
           2.511886431509603,
           2.511886431509603,
           2.511886431509603,
           2.511886431509603,
           2.511886431509603,
           2.511886431509603,
           2.511886431509603,
           2.511886431509603,
           2.511886431509603,
           2.511886431509603
          ],
          [
           3.1622776601684053,
           3.1622776601684053,
           3.1622776601684053,
           3.1622776601684053,
           3.1622776601684053,
           3.1622776601684053,
           3.1622776601684053,
           3.1622776601684053,
           3.1622776601684053,
           3.1622776601684053
          ],
          [
           3.98107170553501,
           3.98107170553501,
           3.98107170553501,
           3.98107170553501,
           3.98107170553501,
           3.98107170553501,
           3.98107170553501,
           3.98107170553501,
           3.98107170553501,
           3.98107170553501
          ],
          [
           5.011872336272776,
           5.011872336272776,
           5.011872336272776,
           5.011872336272776,
           5.011872336272776,
           5.011872336272776,
           5.011872336272776,
           5.011872336272776,
           5.011872336272776,
           5.011872336272776
          ],
          [
           6.309573444801995,
           6.309573444801995,
           6.309573444801995,
           6.309573444801995,
           6.309573444801995,
           6.309573444801995,
           6.309573444801995,
           6.309573444801995,
           6.309573444801995,
           6.309573444801995
          ],
          [
           7.943282347242887,
           7.943282347242887,
           7.943282347242887,
           7.943282347242887,
           7.943282347242887,
           7.943282347242887,
           7.943282347242887,
           7.943282347242887,
           7.943282347242887,
           7.943282347242887
          ],
          [
           10.000000000000103,
           10.000000000000103,
           10.000000000000103,
           10.000000000000103,
           10.000000000000103,
           10.000000000000103,
           10.000000000000103,
           10.000000000000103,
           10.000000000000103,
           10.000000000000103
          ]
         ],
         "z": [
          [
           11.994582178138968,
           11.937912885998514,
           11.8447278208942,
           11.791249896935982,
           11.758776218707233,
           11.737081859059174,
           11.722424023649536,
           11.712240565513182,
           11.704928494424829,
           11.699578300225063
          ],
          [
           11.99538116878388,
           11.938484548402712,
           11.845261361009863,
           11.79176738778336,
           11.759350354865086,
           11.737639144828343,
           11.72299611339449,
           11.712864881499097,
           11.705481771244536,
           11.700116641823252
          ],
          [
           11.996375147212353,
           11.939210229088221,
           11.845970169485602,
           11.792465231175509,
           11.760008757826121,
           11.738328170545055,
           11.723664145577702,
           11.7135031459168,
           11.706154124653041,
           11.700828496998952
          ],
          [
           11.99770586452118,
           11.940139222321946,
           11.84684771916185,
           11.793370195470835,
           11.760920032236548,
           11.739220147851967,
           11.724585103011501,
           11.714361083379043,
           11.707073712782803,
           11.701644025432179
          ],
          [
           11.999337758918974,
           11.941259945042466,
           11.847986978378133,
           11.79446874140676,
           11.761994421930568,
           11.740284577441862,
           11.725650215452868,
           11.715478408753595,
           11.708131754479865,
           11.702786358391618
          ],
          [
           12.001330816902781,
           11.942774787755589,
           11.849355323067186,
           11.79581540923496,
           11.763373698854094,
           11.741692418989988,
           11.727060240906903,
           11.716846704497678,
           11.709484493114015,
           11.704146790517932
          ],
          [
           12.00389994914135,
           11.944630344174655,
           11.851149842691857,
           11.797580742935878,
           11.765104378470788,
           11.743430194710989,
           11.728760565866565,
           11.718559691324414,
           11.711219680916997,
           11.705875849695415
          ],
          [
           12.007117306563517,
           11.946912252610183,
           11.853377269070858,
           11.799779289771747,
           11.767294547337498,
           11.745620803271597,
           11.73093907582318,
           11.720753524575132,
           11.713406459324549,
           11.708045145785054
          ],
          [
           12.011172173962548,
           11.949804892994882,
           11.856168304367703,
           11.802527903227674,
           11.770025873539497,
           11.748371919512511,
           11.733657445563821,
           11.723407227549977,
           11.716136306091045,
           11.710817171518054
          ],
          [
           12.016207187232228,
           11.953479931504008,
           11.859611585299984,
           11.806000834543534,
           11.773486501118665,
           11.751786940185756,
           11.737098607215655,
           11.726926235611401,
           11.719584058909067,
           11.714209919075879
          ],
          [
           12.022596088887887,
           11.958049895600825,
           11.86399523977249,
           11.810377724712586,
           11.7778155635848,
           11.756136698034199,
           11.741423312294062,
           11.731246342945722,
           11.7239420210356,
           11.718506053992972
          ],
          [
           12.03056241283387,
           11.963803238243857,
           11.869556409744927,
           11.815815144608099,
           11.783212364078153,
           11.761577912235323,
           11.746868227142222,
           11.736641040021707,
           11.729316918150865,
           11.72393972934737
          ],
          [
           12.040507397544571,
           11.970989631454797,
           11.87646371277848,
           11.822608339392271,
           11.790107379425761,
           11.768328374742119,
           11.753657533237504,
           11.743434264290151,
           11.736154946955814,
           11.730728550819894
          ],
          [
           12.052980227570716,
           11.980006711367313,
           11.885107229311625,
           11.831264666152475,
           11.7986000708025,
           11.776918585176507,
           11.762203049242892,
           11.75201217967932,
           11.74462679691343,
           11.739280083641288
          ],
          [
           12.068558253022207,
           11.99134709840123,
           11.89599857661174,
           11.842014779479902,
           11.809326246662247,
           11.78761447340228,
           11.772903164554542,
           11.762724085396844,
           11.755292298278427,
           11.749920055373249
          ],
          [
           12.08792157964413,
           12.005421448237756,
           11.90955877684562,
           11.855423221565722,
           11.8227550657968,
           11.800981830591535,
           11.786296895240904,
           11.776085700093518,
           11.768647349675462,
           11.763291988543607
          ],
          [
           12.111973898263944,
           12.023058724762299,
           11.926536320848447,
           11.872203536529085,
           11.839474550356574,
           11.817690481675632,
           11.802971818961435,
           11.792687359199938,
           11.785329838127575,
           11.779949251026183
          ],
          [
           12.141730042924413,
           12.044958264795403,
           11.947648976877423,
           11.893116580464298,
           11.860297113719351,
           11.838516634301774,
           11.823770482142788,
           11.813500116186347,
           11.806117275906894,
           11.800700844654232
          ],
          [
           12.178360244455027,
           12.072135322266593,
           11.973767138763343,
           11.919050631595244,
           11.886205068676961,
           11.864371124132342,
           11.84965993534246,
           11.83935081826838,
           11.831906042691223,
           11.826483775863156
          ],
          [
           12.223211661712547,
           12.105670307615016,
           12.006213357847084,
           11.951225778640884,
           11.918269658112699,
           11.896422987676482,
           11.88163676224368,
           11.871366171383944,
           11.863868028892643,
           11.858467616246529
          ],
          [
           12.277700470482783,
           12.146980617276936,
           12.046127915972479,
           11.990848959713583,
           11.957788612520599,
           11.935925514220799,
           11.921114850345061,
           11.910816471296227,
           11.903322433085453,
           11.897850484695319
          ],
          [
           12.34331337693037,
           12.197400998918388,
           12.095034840695432,
           12.039391562795773,
           12.006263040302604,
           11.984329441341343,
           11.969548904377136,
           11.959200728232256,
           11.951722280439924,
           11.94620860152496
          ],
          [
           12.421259902021388,
           12.258515576245639,
           12.154534969855254,
           12.098552895742158,
           12.065285349904862,
           12.0433504583461,
           12.028531176054019,
           12.018181691895364,
           12.010690037276827,
           12.00516372525984
          ],
          [
           12.512475408323667,
           12.33193328641207,
           12.226206007116199,
           12.169916989551435,
           12.13657393525927,
           12.114714361288488,
           12.099864509564913,
           12.089490185908915,
           12.081969383631952,
           12.07641951566502
          ],
          [
           12.617017421464059,
           12.418909678398576,
           12.311619174828623,
           12.255103363405619,
           12.221816714496416,
           12.199955420512174,
           12.185154230005105,
           12.174768928956372,
           12.167261540832373,
           12.161670489710318
          ],
          [
           12.73346499353214,
           12.520272905866827,
           12.411884680172431,
           12.35546869819444,
           12.322277662728139,
           12.300523459408454,
           12.28586555652605,
           12.275475551511091,
           12.267947128119083,
           12.262397155234945
          ],
          [
           12.858146164074883,
           12.635844260312272,
           12.527473672586549,
           12.471486953407794,
           12.438615843872164,
           12.417135823126893,
           12.402593278368348,
           12.392297379162768,
           12.384816221934893,
           12.37927598351085
          ],
          [
           12.984588781189958,
           12.763804232848743,
           12.657301839894394,
           12.602451334530443,
           12.570223364185056,
           12.549183822838575,
           12.534974369490957,
           12.524856346361933,
           12.517416229045192,
           12.511950549773717
          ],
          [
           13.102533464026399,
           12.899847632795096,
           12.798047982078257,
           12.745520478636074,
           12.71458855936921,
           12.694359463947537,
           12.68056518747714,
           12.670711212786745,
           12.663477052425243,
           12.658089870259996
          ],
          [
           13.198158826615819,
           13.036263604452142,
           12.943643833645801,
           12.895158972376878,
           12.86623971007568,
           12.847235754855074,
           12.83422765343176,
           12.824830152749298,
           12.817901525434484,
           12.812715358534804
          ],
          [
           13.254953357947382,
           13.16159913487267,
           13.084044643348557,
           13.041930515023202,
           13.016168278641562,
           12.99903692776954,
           12.987133094431666,
           12.97850717660029,
           12.972054285080404,
           12.96717151969178
          ],
          [
           13.256205244056476,
           13.26050396160271,
           13.20526796712253,
           13.172364064084432,
           13.151177775689114,
           13.136773205704385,
           13.126522125277782,
           13.118941325779213,
           13.113247973395858,
           13.108846755463691
          ],
          [
           13.188402038761103,
           13.315370932849465,
           13.290119528120501,
           13.269613815281875,
           13.254696879301422,
           13.243823716188563,
           13.235864782068967,
           13.229758236341905,
           13.22496773630615,
           13.22131377077502
          ],
          [
           13.043947669827952,
           13.308881055898997,
           13.320452987776527,
           13.315307710268796,
           13.30812975443264,
           13.301855565524562,
           13.296725608776681,
           13.292428255497416,
           13.288980516069042,
           13.286177525605485
          ],
          [
           12.823223631259584,
           13.22764858782368,
           13.280284150685137,
           13.29259418315194,
           13.2944146941924,
           13.293405849051195,
           13.291559024987551,
           13.289469241326042,
           13.287539968364591,
           13.285862917891912
          ],
          [
           12.533720336631266,
           13.06514003777241,
           13.159353952113701,
           13.189814999678157,
           13.201088188420988,
           13.205670883755165,
           13.207372480241874,
           13.207648371475353,
           13.207383297899334,
           13.206934342315963
          ],
          [
           12.18891794084894,
           12.82335252712864,
           12.955532802300551,
           13.002988737961061,
           13.02342620502161,
           13.03340027339942,
           13.038550582569808,
           13.041238349249927,
           13.042653840223693,
           13.043372726168958
          ],
          [
           11.806356892514252,
           12.512453628672944,
           12.675413677091301,
           12.7372620994239,
           12.76552709842055,
           12.780283837575418,
           12.788525000731482,
           12.793313669944975,
           12.79622184305894,
           12.798060409614802
          ],
          [
           11.406190110346518,
           12.148817127894347,
           12.33323700326188,
           12.405548650185459,
           12.439882190682455,
           12.458334458226604,
           12.468997111350252,
           12.475495578767422,
           12.479661818355183,
           12.4824459746681
          ],
          [
           11.009251647229885,
           11.75273312912304,
           11.948363298065019,
           12.026917125300624,
           12.065019020947629,
           12.085908812706744,
           12.098253541975378,
           12.105956578511783,
           12.111037598751878,
           12.114530849414601
          ],
          [
           10.635100520712443,
           11.34584771292316,
           11.542726990688376,
           11.623163242755005,
           11.662843803464163,
           11.684832134805177,
           11.698028020165088,
           11.706422782669424,
           11.71204133525319,
           11.715955589790289
          ],
          [
           10.29977394366678,
           10.948959375724955,
           11.138031886435131,
           11.21634978022775,
           11.25544788551148,
           11.277339993414945,
           11.290634546357047,
           11.299184399263165,
           11.304980673806472,
           11.309114667251244
          ],
          [
           10.01447264824257,
           10.580040093893517,
           10.753585784532122,
           10.826465086311607,
           10.863127582737745,
           10.883806362341055,
           10.89647522693185,
           10.90474410702335,
           10.910381148809396,
           10.91447486498401
          ],
          [
           9.785174649715502,
           10.252968082308644,
           10.405107783681286,
           10.469844910677958,
           10.502597197040096,
           10.521247240441083,
           10.532723919769648,
           10.540292203494236,
           10.545532641027137,
           10.549271964121298
          ],
          [
           9.61264294390257,
           9.97707223113263,
           10.103813365979226,
           10.158532882090425,
           10.18644917594388,
           10.202399299148336,
           10.21227483591187,
           10.218855249238327,
           10.223421432260915,
           10.226735863063242
          ],
          [
           9.492202640029905,
           9.75710413885771,
           9.856609386170659,
           9.900361014798353,
           9.92283430701383,
           9.935735272006024,
           9.943803616616513,
           9.94916592436552,
           9.952934609314468,
           9.95568496071314
          ],
          [
           9.414615806669994,
           9.593120731207852,
           9.665941649925001,
           9.698683923129023,
           9.715632454465272,
           9.725418476890152,
           9.731583923639816,
           9.735709160089398,
           9.738605822625738,
           9.7407233453174
          ],
          [
           9.36850723208848,
           9.47975966040045,
           9.529114361196017,
           9.551851193698644,
           9.563773231543985,
           9.57068891661179,
           9.575078066590017,
           9.578027799581285,
           9.580100905020737,
           9.581648012787886
          ],
          [
           9.34341764712635,
           9.407474366899448,
           9.438423290966687,
           9.453089562219086,
           9.460877067977943,
           9.465413128606864,
           9.468291551762752,
           9.470298471819396,
           9.47168624021673,
           9.47273105580186
          ],
          [
           9.331088151833269,
           9.364891777555853,
           9.3829267057101,
           9.391771431853774,
           9.39652871922227,
           9.399381102588178,
           9.401181195962229,
           9.40242793556052,
           9.403302892487915,
           9.403972430906148
          ],
          [
           9.325840059037832,
           9.341844409537988,
           9.351591716369404,
           9.356590675426045,
           9.359349170279758,
           9.36103844642178,
           9.362147073485524,
           9.362931208354826,
           9.3634490973577,
           9.363890615528273
          ]
         ]
        },
        {
         "colorscale": [
          [
           0,
           "rgb(165,0,38)"
          ],
          [
           0.1,
           "rgb(215,48,39)"
          ],
          [
           0.2,
           "rgb(244,109,67)"
          ],
          [
           0.3,
           "rgb(253,174,97)"
          ],
          [
           0.4,
           "rgb(254,224,139)"
          ],
          [
           0.5,
           "rgb(255,255,191)"
          ],
          [
           0.6,
           "rgb(217,239,139)"
          ],
          [
           0.7,
           "rgb(166,217,106)"
          ],
          [
           0.8,
           "rgb(102,189,99)"
          ],
          [
           0.9,
           "rgb(26,152,80)"
          ],
          [
           1,
           "rgb(0,104,55)"
          ]
         ],
         "scene": "scene2",
         "showscale": false,
         "type": "surface",
         "x": [
          [
           1,
           2,
           3,
           4,
           5,
           6,
           7,
           8,
           9,
           10
          ],
          [
           1,
           2,
           3,
           4,
           5,
           6,
           7,
           8,
           9,
           10
          ],
          [
           1,
           2,
           3,
           4,
           5,
           6,
           7,
           8,
           9,
           10
          ],
          [
           1,
           2,
           3,
           4,
           5,
           6,
           7,
           8,
           9,
           10
          ],
          [
           1,
           2,
           3,
           4,
           5,
           6,
           7,
           8,
           9,
           10
          ],
          [
           1,
           2,
           3,
           4,
           5,
           6,
           7,
           8,
           9,
           10
          ],
          [
           1,
           2,
           3,
           4,
           5,
           6,
           7,
           8,
           9,
           10
          ],
          [
           1,
           2,
           3,
           4,
           5,
           6,
           7,
           8,
           9,
           10
          ],
          [
           1,
           2,
           3,
           4,
           5,
           6,
           7,
           8,
           9,
           10
          ],
          [
           1,
           2,
           3,
           4,
           5,
           6,
           7,
           8,
           9,
           10
          ],
          [
           1,
           2,
           3,
           4,
           5,
           6,
           7,
           8,
           9,
           10
          ],
          [
           1,
           2,
           3,
           4,
           5,
           6,
           7,
           8,
           9,
           10
          ],
          [
           1,
           2,
           3,
           4,
           5,
           6,
           7,
           8,
           9,
           10
          ],
          [
           1,
           2,
           3,
           4,
           5,
           6,
           7,
           8,
           9,
           10
          ],
          [
           1,
           2,
           3,
           4,
           5,
           6,
           7,
           8,
           9,
           10
          ],
          [
           1,
           2,
           3,
           4,
           5,
           6,
           7,
           8,
           9,
           10
          ],
          [
           1,
           2,
           3,
           4,
           5,
           6,
           7,
           8,
           9,
           10
          ],
          [
           1,
           2,
           3,
           4,
           5,
           6,
           7,
           8,
           9,
           10
          ],
          [
           1,
           2,
           3,
           4,
           5,
           6,
           7,
           8,
           9,
           10
          ],
          [
           1,
           2,
           3,
           4,
           5,
           6,
           7,
           8,
           9,
           10
          ],
          [
           1,
           2,
           3,
           4,
           5,
           6,
           7,
           8,
           9,
           10
          ],
          [
           1,
           2,
           3,
           4,
           5,
           6,
           7,
           8,
           9,
           10
          ],
          [
           1,
           2,
           3,
           4,
           5,
           6,
           7,
           8,
           9,
           10
          ],
          [
           1,
           2,
           3,
           4,
           5,
           6,
           7,
           8,
           9,
           10
          ],
          [
           1,
           2,
           3,
           4,
           5,
           6,
           7,
           8,
           9,
           10
          ],
          [
           1,
           2,
           3,
           4,
           5,
           6,
           7,
           8,
           9,
           10
          ],
          [
           1,
           2,
           3,
           4,
           5,
           6,
           7,
           8,
           9,
           10
          ],
          [
           1,
           2,
           3,
           4,
           5,
           6,
           7,
           8,
           9,
           10
          ],
          [
           1,
           2,
           3,
           4,
           5,
           6,
           7,
           8,
           9,
           10
          ],
          [
           1,
           2,
           3,
           4,
           5,
           6,
           7,
           8,
           9,
           10
          ],
          [
           1,
           2,
           3,
           4,
           5,
           6,
           7,
           8,
           9,
           10
          ],
          [
           1,
           2,
           3,
           4,
           5,
           6,
           7,
           8,
           9,
           10
          ],
          [
           1,
           2,
           3,
           4,
           5,
           6,
           7,
           8,
           9,
           10
          ],
          [
           1,
           2,
           3,
           4,
           5,
           6,
           7,
           8,
           9,
           10
          ],
          [
           1,
           2,
           3,
           4,
           5,
           6,
           7,
           8,
           9,
           10
          ],
          [
           1,
           2,
           3,
           4,
           5,
           6,
           7,
           8,
           9,
           10
          ],
          [
           1,
           2,
           3,
           4,
           5,
           6,
           7,
           8,
           9,
           10
          ],
          [
           1,
           2,
           3,
           4,
           5,
           6,
           7,
           8,
           9,
           10
          ],
          [
           1,
           2,
           3,
           4,
           5,
           6,
           7,
           8,
           9,
           10
          ],
          [
           1,
           2,
           3,
           4,
           5,
           6,
           7,
           8,
           9,
           10
          ],
          [
           1,
           2,
           3,
           4,
           5,
           6,
           7,
           8,
           9,
           10
          ],
          [
           1,
           2,
           3,
           4,
           5,
           6,
           7,
           8,
           9,
           10
          ],
          [
           1,
           2,
           3,
           4,
           5,
           6,
           7,
           8,
           9,
           10
          ],
          [
           1,
           2,
           3,
           4,
           5,
           6,
           7,
           8,
           9,
           10
          ],
          [
           1,
           2,
           3,
           4,
           5,
           6,
           7,
           8,
           9,
           10
          ],
          [
           1,
           2,
           3,
           4,
           5,
           6,
           7,
           8,
           9,
           10
          ],
          [
           1,
           2,
           3,
           4,
           5,
           6,
           7,
           8,
           9,
           10
          ],
          [
           1,
           2,
           3,
           4,
           5,
           6,
           7,
           8,
           9,
           10
          ],
          [
           1,
           2,
           3,
           4,
           5,
           6,
           7,
           8,
           9,
           10
          ],
          [
           1,
           2,
           3,
           4,
           5,
           6,
           7,
           8,
           9,
           10
          ],
          [
           1,
           2,
           3,
           4,
           5,
           6,
           7,
           8,
           9,
           10
          ]
         ],
         "y": [
          [
           0.0001,
           0.0001,
           0.0001,
           0.0001,
           0.0001,
           0.0001,
           0.0001,
           0.0001,
           0.0001,
           0.0001
          ],
          [
           0.00012589254117941674,
           0.00012589254117941674,
           0.00012589254117941674,
           0.00012589254117941674,
           0.00012589254117941674,
           0.00012589254117941674,
           0.00012589254117941674,
           0.00012589254117941674,
           0.00012589254117941674,
           0.00012589254117941674
          ],
          [
           0.00015848931924611142,
           0.00015848931924611142,
           0.00015848931924611142,
           0.00015848931924611142,
           0.00015848931924611142,
           0.00015848931924611142,
           0.00015848931924611142,
           0.00015848931924611142,
           0.00015848931924611142,
           0.00015848931924611142
          ],
          [
           0.0001995262314968881,
           0.0001995262314968881,
           0.0001995262314968881,
           0.0001995262314968881,
           0.0001995262314968881,
           0.0001995262314968881,
           0.0001995262314968881,
           0.0001995262314968881,
           0.0001995262314968881,
           0.0001995262314968881
          ],
          [
           0.0002511886431509582,
           0.0002511886431509582,
           0.0002511886431509582,
           0.0002511886431509582,
           0.0002511886431509582,
           0.0002511886431509582,
           0.0002511886431509582,
           0.0002511886431509582,
           0.0002511886431509582,
           0.0002511886431509582
          ],
          [
           0.00031622776601683826,
           0.00031622776601683826,
           0.00031622776601683826,
           0.00031622776601683826,
           0.00031622776601683826,
           0.00031622776601683826,
           0.00031622776601683826,
           0.00031622776601683826,
           0.00031622776601683826,
           0.00031622776601683826
          ],
          [
           0.00039810717055349773,
           0.00039810717055349773,
           0.00039810717055349773,
           0.00039810717055349773,
           0.00039810717055349773,
           0.00039810717055349773,
           0.00039810717055349773,
           0.00039810717055349773,
           0.00039810717055349773,
           0.00039810717055349773
          ],
          [
           0.000501187233627273,
           0.000501187233627273,
           0.000501187233627273,
           0.000501187233627273,
           0.000501187233627273,
           0.000501187233627273,
           0.000501187233627273,
           0.000501187233627273,
           0.000501187233627273,
           0.000501187233627273
          ],
          [
           0.0006309573444801943,
           0.0006309573444801943,
           0.0006309573444801943,
           0.0006309573444801943,
           0.0006309573444801943,
           0.0006309573444801943,
           0.0006309573444801943,
           0.0006309573444801943,
           0.0006309573444801943,
           0.0006309573444801943
          ],
          [
           0.0007943282347242829,
           0.0007943282347242829,
           0.0007943282347242829,
           0.0007943282347242829,
           0.0007943282347242829,
           0.0007943282347242829,
           0.0007943282347242829,
           0.0007943282347242829,
           0.0007943282347242829,
           0.0007943282347242829
          ],
          [
           0.001000000000000002,
           0.001000000000000002,
           0.001000000000000002,
           0.001000000000000002,
           0.001000000000000002,
           0.001000000000000002,
           0.001000000000000002,
           0.001000000000000002,
           0.001000000000000002,
           0.001000000000000002
          ],
          [
           0.00125892541179417,
           0.00125892541179417,
           0.00125892541179417,
           0.00125892541179417,
           0.00125892541179417,
           0.00125892541179417,
           0.00125892541179417,
           0.00125892541179417,
           0.00125892541179417,
           0.00125892541179417
          ],
          [
           0.0015848931924611173,
           0.0015848931924611173,
           0.0015848931924611173,
           0.0015848931924611173,
           0.0015848931924611173,
           0.0015848931924611173,
           0.0015848931924611173,
           0.0015848931924611173,
           0.0015848931924611173,
           0.0015848931924611173
          ],
          [
           0.001995262314968885,
           0.001995262314968885,
           0.001995262314968885,
           0.001995262314968885,
           0.001995262314968885,
           0.001995262314968885,
           0.001995262314968885,
           0.001995262314968885,
           0.001995262314968885,
           0.001995262314968885
          ],
          [
           0.0025118864315095872,
           0.0025118864315095872,
           0.0025118864315095872,
           0.0025118864315095872,
           0.0025118864315095872,
           0.0025118864315095872,
           0.0025118864315095872,
           0.0025118864315095872,
           0.0025118864315095872,
           0.0025118864315095872
          ],
          [
           0.003162277660168389,
           0.003162277660168389,
           0.003162277660168389,
           0.003162277660168389,
           0.003162277660168389,
           0.003162277660168389,
           0.003162277660168389,
           0.003162277660168389,
           0.003162277660168389,
           0.003162277660168389
          ],
          [
           0.0039810717055349856,
           0.0039810717055349856,
           0.0039810717055349856,
           0.0039810717055349856,
           0.0039810717055349856,
           0.0039810717055349856,
           0.0039810717055349856,
           0.0039810717055349856,
           0.0039810717055349856,
           0.0039810717055349856
          ],
          [
           0.00501187233627274,
           0.00501187233627274,
           0.00501187233627274,
           0.00501187233627274,
           0.00501187233627274,
           0.00501187233627274,
           0.00501187233627274,
           0.00501187233627274,
           0.00501187233627274,
           0.00501187233627274
          ],
          [
           0.006309573444801955,
           0.006309573444801955,
           0.006309573444801955,
           0.006309573444801955,
           0.006309573444801955,
           0.006309573444801955,
           0.006309573444801955,
           0.006309573444801955,
           0.006309573444801955,
           0.006309573444801955
          ],
          [
           0.007943282347242847,
           0.007943282347242847,
           0.007943282347242847,
           0.007943282347242847,
           0.007943282347242847,
           0.007943282347242847,
           0.007943282347242847,
           0.007943282347242847,
           0.007943282347242847,
           0.007943282347242847
          ],
          [
           0.01000000000000004,
           0.01000000000000004,
           0.01000000000000004,
           0.01000000000000004,
           0.01000000000000004,
           0.01000000000000004,
           0.01000000000000004,
           0.01000000000000004,
           0.01000000000000004,
           0.01000000000000004
          ],
          [
           0.012589254117941727,
           0.012589254117941727,
           0.012589254117941727,
           0.012589254117941727,
           0.012589254117941727,
           0.012589254117941727,
           0.012589254117941727,
           0.012589254117941727,
           0.012589254117941727,
           0.012589254117941727
          ],
          [
           0.015848931924611207,
           0.015848931924611207,
           0.015848931924611207,
           0.015848931924611207,
           0.015848931924611207,
           0.015848931924611207,
           0.015848931924611207,
           0.015848931924611207,
           0.015848931924611207,
           0.015848931924611207
          ],
          [
           0.01995262314968889,
           0.01995262314968889,
           0.01995262314968889,
           0.01995262314968889,
           0.01995262314968889,
           0.01995262314968889,
           0.01995262314968889,
           0.01995262314968889,
           0.01995262314968889,
           0.01995262314968889
          ],
          [
           0.025118864315095923,
           0.025118864315095923,
           0.025118864315095923,
           0.025118864315095923,
           0.025118864315095923,
           0.025118864315095923,
           0.025118864315095923,
           0.025118864315095923,
           0.025118864315095923,
           0.025118864315095923
          ],
          [
           0.03162277660168396,
           0.03162277660168396,
           0.03162277660168396,
           0.03162277660168396,
           0.03162277660168396,
           0.03162277660168396,
           0.03162277660168396,
           0.03162277660168396,
           0.03162277660168396,
           0.03162277660168396
          ],
          [
           0.039810717055349935,
           0.039810717055349935,
           0.039810717055349935,
           0.039810717055349935,
           0.039810717055349935,
           0.039810717055349935,
           0.039810717055349935,
           0.039810717055349935,
           0.039810717055349935,
           0.039810717055349935
          ],
          [
           0.050118723362727505,
           0.050118723362727505,
           0.050118723362727505,
           0.050118723362727505,
           0.050118723362727505,
           0.050118723362727505,
           0.050118723362727505,
           0.050118723362727505,
           0.050118723362727505,
           0.050118723362727505
          ],
          [
           0.06309573444801969,
           0.06309573444801969,
           0.06309573444801969,
           0.06309573444801969,
           0.06309573444801969,
           0.06309573444801969,
           0.06309573444801969,
           0.06309573444801969,
           0.06309573444801969,
           0.06309573444801969
          ],
          [
           0.07943282347242862,
           0.07943282347242862,
           0.07943282347242862,
           0.07943282347242862,
           0.07943282347242862,
           0.07943282347242862,
           0.07943282347242862,
           0.07943282347242862,
           0.07943282347242862,
           0.07943282347242862
          ],
          [
           0.10000000000000062,
           0.10000000000000062,
           0.10000000000000062,
           0.10000000000000062,
           0.10000000000000062,
           0.10000000000000062,
           0.10000000000000062,
           0.10000000000000062,
           0.10000000000000062,
           0.10000000000000062
          ],
          [
           0.1258925411794175,
           0.1258925411794175,
           0.1258925411794175,
           0.1258925411794175,
           0.1258925411794175,
           0.1258925411794175,
           0.1258925411794175,
           0.1258925411794175,
           0.1258925411794175,
           0.1258925411794175
          ],
          [
           0.1584893192461124,
           0.1584893192461124,
           0.1584893192461124,
           0.1584893192461124,
           0.1584893192461124,
           0.1584893192461124,
           0.1584893192461124,
           0.1584893192461124,
           0.1584893192461124,
           0.1584893192461124
          ],
          [
           0.1995262314968893,
           0.1995262314968893,
           0.1995262314968893,
           0.1995262314968893,
           0.1995262314968893,
           0.1995262314968893,
           0.1995262314968893,
           0.1995262314968893,
           0.1995262314968893,
           0.1995262314968893
          ],
          [
           0.25118864315095973,
           0.25118864315095973,
           0.25118864315095973,
           0.25118864315095973,
           0.25118864315095973,
           0.25118864315095973,
           0.25118864315095973,
           0.25118864315095973,
           0.25118864315095973,
           0.25118864315095973
          ],
          [
           0.3162277660168402,
           0.3162277660168402,
           0.3162277660168402,
           0.3162277660168402,
           0.3162277660168402,
           0.3162277660168402,
           0.3162277660168402,
           0.3162277660168402,
           0.3162277660168402,
           0.3162277660168402
          ],
          [
           0.3981071705535002,
           0.3981071705535002,
           0.3981071705535002,
           0.3981071705535002,
           0.3981071705535002,
           0.3981071705535002,
           0.3981071705535002,
           0.3981071705535002,
           0.3981071705535002,
           0.3981071705535002
          ],
          [
           0.5011872336272761,
           0.5011872336272761,
           0.5011872336272761,
           0.5011872336272761,
           0.5011872336272761,
           0.5011872336272761,
           0.5011872336272761,
           0.5011872336272761,
           0.5011872336272761,
           0.5011872336272761
          ],
          [
           0.6309573444801981,
           0.6309573444801981,
           0.6309573444801981,
           0.6309573444801981,
           0.6309573444801981,
           0.6309573444801981,
           0.6309573444801981,
           0.6309573444801981,
           0.6309573444801981,
           0.6309573444801981
          ],
          [
           0.7943282347242878,
           0.7943282347242878,
           0.7943282347242878,
           0.7943282347242878,
           0.7943282347242878,
           0.7943282347242878,
           0.7943282347242878,
           0.7943282347242878,
           0.7943282347242878,
           0.7943282347242878
          ],
          [
           1.0000000000000082,
           1.0000000000000082,
           1.0000000000000082,
           1.0000000000000082,
           1.0000000000000082,
           1.0000000000000082,
           1.0000000000000082,
           1.0000000000000082,
           1.0000000000000082,
           1.0000000000000082
          ],
          [
           1.2589254117941764,
           1.2589254117941764,
           1.2589254117941764,
           1.2589254117941764,
           1.2589254117941764,
           1.2589254117941764,
           1.2589254117941764,
           1.2589254117941764,
           1.2589254117941764,
           1.2589254117941764
          ],
          [
           1.5848931924611271,
           1.5848931924611271,
           1.5848931924611271,
           1.5848931924611271,
           1.5848931924611271,
           1.5848931924611271,
           1.5848931924611271,
           1.5848931924611271,
           1.5848931924611271,
           1.5848931924611271
          ],
          [
           1.9952623149688993,
           1.9952623149688993,
           1.9952623149688993,
           1.9952623149688993,
           1.9952623149688993,
           1.9952623149688993,
           1.9952623149688993,
           1.9952623149688993,
           1.9952623149688993,
           1.9952623149688993
          ],
          [
           2.511886431509603,
           2.511886431509603,
           2.511886431509603,
           2.511886431509603,
           2.511886431509603,
           2.511886431509603,
           2.511886431509603,
           2.511886431509603,
           2.511886431509603,
           2.511886431509603
          ],
          [
           3.1622776601684053,
           3.1622776601684053,
           3.1622776601684053,
           3.1622776601684053,
           3.1622776601684053,
           3.1622776601684053,
           3.1622776601684053,
           3.1622776601684053,
           3.1622776601684053,
           3.1622776601684053
          ],
          [
           3.98107170553501,
           3.98107170553501,
           3.98107170553501,
           3.98107170553501,
           3.98107170553501,
           3.98107170553501,
           3.98107170553501,
           3.98107170553501,
           3.98107170553501,
           3.98107170553501
          ],
          [
           5.011872336272776,
           5.011872336272776,
           5.011872336272776,
           5.011872336272776,
           5.011872336272776,
           5.011872336272776,
           5.011872336272776,
           5.011872336272776,
           5.011872336272776,
           5.011872336272776
          ],
          [
           6.309573444801995,
           6.309573444801995,
           6.309573444801995,
           6.309573444801995,
           6.309573444801995,
           6.309573444801995,
           6.309573444801995,
           6.309573444801995,
           6.309573444801995,
           6.309573444801995
          ],
          [
           7.943282347242887,
           7.943282347242887,
           7.943282347242887,
           7.943282347242887,
           7.943282347242887,
           7.943282347242887,
           7.943282347242887,
           7.943282347242887,
           7.943282347242887,
           7.943282347242887
          ],
          [
           10.000000000000103,
           10.000000000000103,
           10.000000000000103,
           10.000000000000103,
           10.000000000000103,
           10.000000000000103,
           10.000000000000103,
           10.000000000000103,
           10.000000000000103,
           10.000000000000103
          ]
         ],
         "z": [
          [
           0.9994067542625754,
           0.9996003331457735,
           0.9996366993889795,
           0.9996497360971248,
           0.9996558454651755,
           0.9996591780660165,
           0.9996611867020596,
           0.9996624894359574,
           0.9996633806321824,
           0.9996640161967586
          ],
          [
           0.9992532672694188,
           0.9994969038070338,
           0.9995426769789906,
           0.9995590861556208,
           0.9995667759995391,
           0.9995709707453074,
           0.9995734990191134,
           0.9995751387731435,
           0.9995762605239304,
           0.9995770605104134
          ],
          [
           0.9990601083643601,
           0.999366725878485,
           0.9994243362868014,
           0.9994449893576364,
           0.9994546680876688,
           0.9994599477712143,
           0.999463129967712,
           0.9994651938350153,
           0.9994666057206228,
           0.999467612619087
          ],
          [
           0.998817046222853,
           0.9992028921043721,
           0.9992753961801425,
           0.9993013891585123,
           0.9993135704566112,
           0.9993202153014632,
           0.9993242203220444,
           0.9993268178471312,
           0.9993285948068061,
           0.9993298620606434
          ],
          [
           0.9985112241333292,
           0.9989967176429595,
           0.9990879582254836,
           0.9991206692530982,
           0.9991359990526457,
           0.9991443614338689,
           0.9991494016700054,
           0.9991526706040678,
           0.9991549068732802,
           0.9991565016870279
          ],
          [
           0.9981264940504629,
           0.9987372861462211,
           0.9988520932013318,
           0.9988932546321364,
           0.9989125449215913,
           0.9989230678112057,
           0.9989294102635548,
           0.9989335237762351,
           0.9989363378202999,
           0.9989383446780163
          ],
          [
           0.9976425862430472,
           0.9984108819968697,
           0.9985553236181888,
           0.9986071122043355,
           0.9986313833276927,
           0.9986446233784886,
           0.9986526035726256,
           0.998657779277752,
           0.9986613199664247,
           0.9986638450350334
          ],
          [
           0.9970340765968171,
           0.9980002813632551,
           0.9981819770980774,
           0.9982471266392268,
           0.9982776601450214,
           0.9982943165339806,
           0.9983043559090944,
           0.9983108671431404,
           0.9983153214663609,
           0.9983184980980035
          ],
          [
           0.9962691064526622,
           0.9974838688837973,
           0.9977123799807291,
           0.9977943217394398,
           0.9978327262758144,
           0.9978536766726841,
           0.997866304267167,
           0.9978744941549592,
           0.9978800968454556,
           0.9978840924396254
          ],
          [
           0.9953078023053122,
           0.9968345401289916,
           0.9971218542018897,
           0.9972248914663122,
           0.9972731847321737,
           0.9972995300401163,
           0.9973154094680658,
           0.9973257084206847,
           0.9973327539247049,
           0.9973377784647859
          ],
          [
           0.9941003354663024,
           0.9960183426895208,
           0.996379473442367,
           0.9965089978085622,
           0.9965697081401275,
           0.9966028279687282,
           0.9966227908710384,
           0.9966357382839955,
           0.9966445956057111,
           0.9966509122446237
          ],
          [
           0.9925845562142755,
           0.9949928012379611,
           0.9954465270905155,
           0.9956092852778289,
           0.9956855770486301,
           0.9957271982105365,
           0.9957522855649709,
           0.9957685566151605,
           0.9957796876495688,
           0.9957876257828286
          ],
          [
           0.9906831352596107,
           0.993704865069225,
           0.9942746333599608,
           0.9944790545367589,
           0.9945748821210111,
           0.9946271627621628,
           0.9946586756307657,
           0.9946791141968349,
           0.994693096252376,
           0.9947030675784048
          ],
          [
           0.9883001512080738,
           0.9920884119856996,
           0.9928034371894872,
           0.9930600316416683,
           0.9931803271319125,
           0.9932459593562039,
           0.9932855208025119,
           0.9933111796337998,
           0.9933287329148087,
           0.9933412510313566
          ],
          [
           0.9853170818749031,
           0.9900612425650847,
           0.9909578264460465,
           0.9912796665723067,
           0.9914305665740881,
           0.991512900510845,
           0.9915625304765291,
           0.9915947197736599,
           0.9916167406189748,
           0.9916324447230094
          ],
          [
           0.9815881984465533,
           0.9875215080380351,
           0.988644604935363,
           0.9890478983597304,
           0.9892370147172613,
           0.9893402067475411,
           0.9894024115446504,
           0.9894427570296394,
           0.9894703576457629,
           0.9894900408626153
          ],
          [
           0.9769354370963798,
           0.9843435397214689,
           0.9857485782693444,
           0.9862533393222948,
           0.9864900771025774,
           0.9866192641618856,
           0.9866971417654223,
           0.9867476530154108,
           0.9867822082354439,
           0.9868068509549142
          ],
          [
           0.9711429497066325,
           0.9803730978776435,
           0.9821280470057092,
           0.9827588654415745,
           0.9830547882321233,
           0.9832162883712225,
           0.9833136496646382,
           0.9833767988170449,
           0.9834199999617287,
           0.9834508082339884
          ],
          [
           0.9639517350753847,
           0.9754221466973781,
           0.9776097725845078,
           0.9783966650321173,
           0.9787659015988636,
           0.9789674377747617,
           0.9790889419863333,
           0.9791677516860119,
           0.9792216667583556,
           0.9792601151994808
          ],
          [
           0.9550550474715757,
           0.9692634080349415,
           0.9719836016975352,
           0.9729629090974773,
           0.9734225853591109,
           0.9736735240137894,
           0.9738248233451084,
           0.9739229607115758,
           0.9739900987273741,
           0.974037976364663
          ],
          [
           0.9440956886448877,
           0.9616251715041534,
           0.9649971242895528,
           0.9662123838970278,
           0.9667830483178346,
           0.9670946357631677,
           0.9672825190979366,
           0.9674043891841037,
           0.9674877641821382,
           0.9675472200586542
          ],
          [
           0.9306668106128795,
           0.9521871647598724,
           0.956351021844424,
           0.9578536915145893,
           0.9585596785760545,
           0.9589452455312899,
           0.959177763512788,
           0.9593285908106292,
           0.9594317777286181,
           0.9595053606927899
          ],
          [
           0.9143184419699351,
           0.9405787287687114,
           0.9456961540116465,
           0.9475459967510756,
           0.9484156407187682,
           0.948890727733909,
           0.9491772709172771,
           0.9493631506192649,
           0.9494903205454824,
           0.9495810043200651
          ],
          [
           0.8945724673190895,
           0.9263810857827615,
           0.9326339329927423,
           0.9348987821783742,
           0.9359643521000225,
           0.9365466860581911,
           0.9368979742680706,
           0.9371258662077128,
           0.9372817825184366,
           0.937392962872139
          ],
          [
           0.8709489755009985,
           0.9091360635282628,
           0.916722103959191,
           0.9194766335039255,
           0.9207738140822028,
           0.9214830404576548,
           0.9219109660527677,
           0.9221885942587227,
           0.9223785443312266,
           0.9225139903278893
          ],
          [
           0.8430063333706403,
           0.8883640811704687,
           0.8974885645026592,
           0.900811607815533,
           0.9023783100766697,
           0.9032353627014499,
           0.9037526164654975,
           0.9040882282029971,
           0.9043178592091902,
           0.9044815961268189
          ],
          [
           0.810395529710249,
           0.8635942059176487,
           0.8744560736093826,
           0.8784260167702475,
           0.8803002881562747,
           0.8813262690582491,
           0.8819456715455597,
           0.8823476058798552,
           0.8826226305500278,
           0.8828187302418566
          ],
          [
           0.7729258887209806,
           0.8344082056663371,
           0.8471802327178174,
           0.8518681218686955,
           0.8540849704229724,
           0.8552994346495009,
           0.8560329086971443,
           0.856508932902844,
           0.856834676820068,
           0.8570669353991712
          ],
          [
           0.7306343599924983,
           0.8004982604510185,
           0.8153014831674341,
           0.8207618171234754,
           0.8233489090988729,
           0.8247675255471408,
           0.8256246907593605,
           0.8261810920102154,
           0.8265618738934095,
           0.8268333708918438
          ],
          [
           0.6838455240750954,
           0.761734099748507,
           0.7786086719529323,
           0.7848684530721914,
           0.7878409173342173,
           0.789472623732831,
           0.7904590817176766,
           0.7910995583399607,
           0.7915379336257491,
           0.7918504945584095
          ],
          [
           0.6332066975321906,
           0.7182302685390833,
           0.7371071065518852,
           0.7441545455144815,
           0.7475095055081503,
           0.7493534871057496,
           0.7504689935862938,
           0.7511934724957886,
           0.7516894267974815,
           0.7520430511962386
          ],
          [
           0.5796847995103741,
           0.6703996355094326,
           0.6910790599937837,
           0.6988541339648473,
           0.7025659846564634,
           0.7046090273387681,
           0.7058458816880039,
           0.706649475537974,
           0.7071997139034112,
           0.7075920730325582
          ],
          [
           0.5245196510661346,
           0.6189778304811596,
           0.641121684569042,
           0.6495111018005513,
           0.6535287529468149,
           0.6557436423419377,
           0.6570857000805931,
           0.6579580658555928,
           0.658555576402618,
           0.6589817075832377
          ],
          [
           0.46913889890566335,
           0.5650073802351792,
           0.5881489032791427,
           0.5969875055467151,
           0.6012346084341966,
           0.6035801445091432,
           0.6050027981170627,
           0.6059281188973726,
           0.6065621611403751,
           0.6070144642171585
          ],
          [
           0.41504718787795375,
           0.5097795120170024,
           0.5333510533683183,
           0.5424302700891955,
           0.546808796308971,
           0.5492316396619853,
           0.5507028978714986,
           0.551660568207237,
           0.5523171380333902,
           0.5527857074941106
          ],
          [
           0.36370386342472266,
           0.4547416327030241,
           0.47811620297546503,
           0.48719849983149344,
           0.49159524288574025,
           0.49403336424813205,
           0.49551588711282096,
           0.49648180446216317,
           0.49714450441368174,
           0.4976177412768518
          ],
          [
           0.3164024516389055,
           0.40138409576381495,
           0.4239248768017376,
           0.4327621243984515,
           0.43705720840535434,
           0.439444444762556,
           0.440898231626491,
           0.4418464961971049,
           0.4424976727973156,
           0.44296307414773156
          ],
          [
           0.2741653300560387,
           0.3511200367457138,
           0.37223222953259094,
           0.38058581802412134,
           0.38466227048787555,
           0.3869334989901713,
           0.38831894808238726,
           0.3892237988968242,
           0.389845833533247,
           0.3902908818768429
          ],
          [
           0.23766752364671012,
           0.3051705229776731,
           0.3243504522977739,
           0.3320111791288363,
           0.33576471051730894,
           0.3378612284567323,
           0.33914235676601284,
           0.3399802307633853,
           0.3405569212080057,
           0.34097004136954523
          ],
          [
           0.20720178426601096,
           0.26446690243596865,
           0.281342961480494,
           0.2881486063948329,
           0.291496592316897,
           0.2933712031380852,
           0.29451876484490536,
           0.2952703353174946,
           0.2957882879045456,
           0.2961598313439626
          ],
          [
           0.18269166730686054,
           0.22958296192448102,
           0.243942058414725,
           0.24979012065810563,
           0.2526784647027437,
           0.2542995394227058,
           0.2552936097348093,
           0.25594553116506574,
           0.2563953855581713,
           0.256718523900771
          ],
          [
           0.16374808901612792,
           0.20070992358524958,
           0.21250327234599536,
           0.2173561173546541,
           0.21976250164609173,
           0.22111611897097658,
           0.22194755879647116,
           0.22249351541252116,
           0.22287071575435907,
           0.22314203067365534
          ],
          [
           0.149750737960103,
           0.17768204052438966,
           0.1870084988504068,
           0.19088932467887829,
           0.1928218482889579,
           0.19391133141393965,
           0.19458164302479308,
           0.19502233603974906,
           0.19532717303663544,
           0.19554672470746018
          ],
          [
           0.13993154879764033,
           0.1600447529215961,
           0.16711825224108298,
           0.1700993870603176,
           0.17159107824617037,
           0.17243406733076994,
           0.17295366252560707,
           0.17329571097264487,
           0.17353259518932893,
           0.17370342432430558
          ],
          [
           0.13344943671501477,
           0.14714099414648796,
           0.15225417833723495,
           0.15444225890998017,
           0.15554362619262097,
           0.15616785359288896,
           0.1565534420284105,
           0.1568076576264898,
           0.15698393564345967,
           0.1571112210934467
          ],
          [
           0.12946074000221708,
           0.13819162389115494,
           0.14168448847146242,
           0.14320711707961536,
           0.14397926882223422,
           0.14441855200448467,
           0.1446906305992911,
           0.14487034142083796,
           0.14499513094080926,
           0.14508535294383654
          ],
          [
           0.127191383772663,
           0.1323632519027761,
           0.13459616154394474,
           0.13559127086527614,
           0.13610061024064984,
           0.13639178896842538,
           0.13657274225119267,
           0.13669253432367334,
           0.1367758485629142,
           0.13683615946230676
          ],
          [
           0.1260025905962515,
           0.12883307499943852,
           0.13015759895743687,
           0.13076306889195638,
           0.13107646748967514,
           0.13125674283365568,
           0.13136924048706525,
           0.13144391978751793,
           0.13149595253593088,
           0.13153366423530488
          ],
          [
           0.12542852102799418,
           0.12685863677428488,
           0.12758461551041744,
           0.1279260100390066,
           0.12810509363910516,
           0.12820892135901735,
           0.12827405232365002,
           0.12831743830121506,
           0.1283477342744905,
           0.12836971980225673
          ],
          [
           0.12517138841792577,
           0.1258409946248336,
           0.12620943446789082,
           0.12638823933802412,
           0.12648356627874716,
           0.12653940923071683,
           0.12657468555085888,
           0.1265982971514558,
           0.1266148369552578,
           0.1266268617187788
          ],
          [
           0.12506365661667007,
           0.12535586397832707,
           0.12553019930899173,
           0.12561794266423082,
           0.12566569785113973,
           0.12569407369983276,
           0.12571217939424958,
           0.125724385885925,
           0.12573298045996364,
           0.12573925012899909
          ]
         ]
        },
        {
         "colorscale": [
          [
           0,
           "rgb(165,0,38)"
          ],
          [
           0.1,
           "rgb(215,48,39)"
          ],
          [
           0.2,
           "rgb(244,109,67)"
          ],
          [
           0.3,
           "rgb(253,174,97)"
          ],
          [
           0.4,
           "rgb(254,224,139)"
          ],
          [
           0.5,
           "rgb(255,255,191)"
          ],
          [
           0.6,
           "rgb(217,239,139)"
          ],
          [
           0.7,
           "rgb(166,217,106)"
          ],
          [
           0.8,
           "rgb(102,189,99)"
          ],
          [
           0.9,
           "rgb(26,152,80)"
          ],
          [
           1,
           "rgb(0,104,55)"
          ]
         ],
         "scene": "scene3",
         "showscale": false,
         "type": "surface",
         "x": [
          [
           1,
           2,
           3,
           4,
           5,
           6,
           7,
           8,
           9,
           10
          ],
          [
           1,
           2,
           3,
           4,
           5,
           6,
           7,
           8,
           9,
           10
          ],
          [
           1,
           2,
           3,
           4,
           5,
           6,
           7,
           8,
           9,
           10
          ],
          [
           1,
           2,
           3,
           4,
           5,
           6,
           7,
           8,
           9,
           10
          ],
          [
           1,
           2,
           3,
           4,
           5,
           6,
           7,
           8,
           9,
           10
          ],
          [
           1,
           2,
           3,
           4,
           5,
           6,
           7,
           8,
           9,
           10
          ],
          [
           1,
           2,
           3,
           4,
           5,
           6,
           7,
           8,
           9,
           10
          ],
          [
           1,
           2,
           3,
           4,
           5,
           6,
           7,
           8,
           9,
           10
          ],
          [
           1,
           2,
           3,
           4,
           5,
           6,
           7,
           8,
           9,
           10
          ],
          [
           1,
           2,
           3,
           4,
           5,
           6,
           7,
           8,
           9,
           10
          ],
          [
           1,
           2,
           3,
           4,
           5,
           6,
           7,
           8,
           9,
           10
          ],
          [
           1,
           2,
           3,
           4,
           5,
           6,
           7,
           8,
           9,
           10
          ],
          [
           1,
           2,
           3,
           4,
           5,
           6,
           7,
           8,
           9,
           10
          ],
          [
           1,
           2,
           3,
           4,
           5,
           6,
           7,
           8,
           9,
           10
          ],
          [
           1,
           2,
           3,
           4,
           5,
           6,
           7,
           8,
           9,
           10
          ],
          [
           1,
           2,
           3,
           4,
           5,
           6,
           7,
           8,
           9,
           10
          ],
          [
           1,
           2,
           3,
           4,
           5,
           6,
           7,
           8,
           9,
           10
          ],
          [
           1,
           2,
           3,
           4,
           5,
           6,
           7,
           8,
           9,
           10
          ],
          [
           1,
           2,
           3,
           4,
           5,
           6,
           7,
           8,
           9,
           10
          ],
          [
           1,
           2,
           3,
           4,
           5,
           6,
           7,
           8,
           9,
           10
          ],
          [
           1,
           2,
           3,
           4,
           5,
           6,
           7,
           8,
           9,
           10
          ],
          [
           1,
           2,
           3,
           4,
           5,
           6,
           7,
           8,
           9,
           10
          ],
          [
           1,
           2,
           3,
           4,
           5,
           6,
           7,
           8,
           9,
           10
          ],
          [
           1,
           2,
           3,
           4,
           5,
           6,
           7,
           8,
           9,
           10
          ],
          [
           1,
           2,
           3,
           4,
           5,
           6,
           7,
           8,
           9,
           10
          ],
          [
           1,
           2,
           3,
           4,
           5,
           6,
           7,
           8,
           9,
           10
          ],
          [
           1,
           2,
           3,
           4,
           5,
           6,
           7,
           8,
           9,
           10
          ],
          [
           1,
           2,
           3,
           4,
           5,
           6,
           7,
           8,
           9,
           10
          ],
          [
           1,
           2,
           3,
           4,
           5,
           6,
           7,
           8,
           9,
           10
          ],
          [
           1,
           2,
           3,
           4,
           5,
           6,
           7,
           8,
           9,
           10
          ],
          [
           1,
           2,
           3,
           4,
           5,
           6,
           7,
           8,
           9,
           10
          ],
          [
           1,
           2,
           3,
           4,
           5,
           6,
           7,
           8,
           9,
           10
          ],
          [
           1,
           2,
           3,
           4,
           5,
           6,
           7,
           8,
           9,
           10
          ],
          [
           1,
           2,
           3,
           4,
           5,
           6,
           7,
           8,
           9,
           10
          ],
          [
           1,
           2,
           3,
           4,
           5,
           6,
           7,
           8,
           9,
           10
          ],
          [
           1,
           2,
           3,
           4,
           5,
           6,
           7,
           8,
           9,
           10
          ],
          [
           1,
           2,
           3,
           4,
           5,
           6,
           7,
           8,
           9,
           10
          ],
          [
           1,
           2,
           3,
           4,
           5,
           6,
           7,
           8,
           9,
           10
          ],
          [
           1,
           2,
           3,
           4,
           5,
           6,
           7,
           8,
           9,
           10
          ],
          [
           1,
           2,
           3,
           4,
           5,
           6,
           7,
           8,
           9,
           10
          ],
          [
           1,
           2,
           3,
           4,
           5,
           6,
           7,
           8,
           9,
           10
          ],
          [
           1,
           2,
           3,
           4,
           5,
           6,
           7,
           8,
           9,
           10
          ],
          [
           1,
           2,
           3,
           4,
           5,
           6,
           7,
           8,
           9,
           10
          ],
          [
           1,
           2,
           3,
           4,
           5,
           6,
           7,
           8,
           9,
           10
          ],
          [
           1,
           2,
           3,
           4,
           5,
           6,
           7,
           8,
           9,
           10
          ],
          [
           1,
           2,
           3,
           4,
           5,
           6,
           7,
           8,
           9,
           10
          ],
          [
           1,
           2,
           3,
           4,
           5,
           6,
           7,
           8,
           9,
           10
          ],
          [
           1,
           2,
           3,
           4,
           5,
           6,
           7,
           8,
           9,
           10
          ],
          [
           1,
           2,
           3,
           4,
           5,
           6,
           7,
           8,
           9,
           10
          ],
          [
           1,
           2,
           3,
           4,
           5,
           6,
           7,
           8,
           9,
           10
          ],
          [
           1,
           2,
           3,
           4,
           5,
           6,
           7,
           8,
           9,
           10
          ]
         ],
         "y": [
          [
           0.0001,
           0.0001,
           0.0001,
           0.0001,
           0.0001,
           0.0001,
           0.0001,
           0.0001,
           0.0001,
           0.0001
          ],
          [
           0.00012589254117941674,
           0.00012589254117941674,
           0.00012589254117941674,
           0.00012589254117941674,
           0.00012589254117941674,
           0.00012589254117941674,
           0.00012589254117941674,
           0.00012589254117941674,
           0.00012589254117941674,
           0.00012589254117941674
          ],
          [
           0.00015848931924611142,
           0.00015848931924611142,
           0.00015848931924611142,
           0.00015848931924611142,
           0.00015848931924611142,
           0.00015848931924611142,
           0.00015848931924611142,
           0.00015848931924611142,
           0.00015848931924611142,
           0.00015848931924611142
          ],
          [
           0.0001995262314968881,
           0.0001995262314968881,
           0.0001995262314968881,
           0.0001995262314968881,
           0.0001995262314968881,
           0.0001995262314968881,
           0.0001995262314968881,
           0.0001995262314968881,
           0.0001995262314968881,
           0.0001995262314968881
          ],
          [
           0.0002511886431509582,
           0.0002511886431509582,
           0.0002511886431509582,
           0.0002511886431509582,
           0.0002511886431509582,
           0.0002511886431509582,
           0.0002511886431509582,
           0.0002511886431509582,
           0.0002511886431509582,
           0.0002511886431509582
          ],
          [
           0.00031622776601683826,
           0.00031622776601683826,
           0.00031622776601683826,
           0.00031622776601683826,
           0.00031622776601683826,
           0.00031622776601683826,
           0.00031622776601683826,
           0.00031622776601683826,
           0.00031622776601683826,
           0.00031622776601683826
          ],
          [
           0.00039810717055349773,
           0.00039810717055349773,
           0.00039810717055349773,
           0.00039810717055349773,
           0.00039810717055349773,
           0.00039810717055349773,
           0.00039810717055349773,
           0.00039810717055349773,
           0.00039810717055349773,
           0.00039810717055349773
          ],
          [
           0.000501187233627273,
           0.000501187233627273,
           0.000501187233627273,
           0.000501187233627273,
           0.000501187233627273,
           0.000501187233627273,
           0.000501187233627273,
           0.000501187233627273,
           0.000501187233627273,
           0.000501187233627273
          ],
          [
           0.0006309573444801943,
           0.0006309573444801943,
           0.0006309573444801943,
           0.0006309573444801943,
           0.0006309573444801943,
           0.0006309573444801943,
           0.0006309573444801943,
           0.0006309573444801943,
           0.0006309573444801943,
           0.0006309573444801943
          ],
          [
           0.0007943282347242829,
           0.0007943282347242829,
           0.0007943282347242829,
           0.0007943282347242829,
           0.0007943282347242829,
           0.0007943282347242829,
           0.0007943282347242829,
           0.0007943282347242829,
           0.0007943282347242829,
           0.0007943282347242829
          ],
          [
           0.001000000000000002,
           0.001000000000000002,
           0.001000000000000002,
           0.001000000000000002,
           0.001000000000000002,
           0.001000000000000002,
           0.001000000000000002,
           0.001000000000000002,
           0.001000000000000002,
           0.001000000000000002
          ],
          [
           0.00125892541179417,
           0.00125892541179417,
           0.00125892541179417,
           0.00125892541179417,
           0.00125892541179417,
           0.00125892541179417,
           0.00125892541179417,
           0.00125892541179417,
           0.00125892541179417,
           0.00125892541179417
          ],
          [
           0.0015848931924611173,
           0.0015848931924611173,
           0.0015848931924611173,
           0.0015848931924611173,
           0.0015848931924611173,
           0.0015848931924611173,
           0.0015848931924611173,
           0.0015848931924611173,
           0.0015848931924611173,
           0.0015848931924611173
          ],
          [
           0.001995262314968885,
           0.001995262314968885,
           0.001995262314968885,
           0.001995262314968885,
           0.001995262314968885,
           0.001995262314968885,
           0.001995262314968885,
           0.001995262314968885,
           0.001995262314968885,
           0.001995262314968885
          ],
          [
           0.0025118864315095872,
           0.0025118864315095872,
           0.0025118864315095872,
           0.0025118864315095872,
           0.0025118864315095872,
           0.0025118864315095872,
           0.0025118864315095872,
           0.0025118864315095872,
           0.0025118864315095872,
           0.0025118864315095872
          ],
          [
           0.003162277660168389,
           0.003162277660168389,
           0.003162277660168389,
           0.003162277660168389,
           0.003162277660168389,
           0.003162277660168389,
           0.003162277660168389,
           0.003162277660168389,
           0.003162277660168389,
           0.003162277660168389
          ],
          [
           0.0039810717055349856,
           0.0039810717055349856,
           0.0039810717055349856,
           0.0039810717055349856,
           0.0039810717055349856,
           0.0039810717055349856,
           0.0039810717055349856,
           0.0039810717055349856,
           0.0039810717055349856,
           0.0039810717055349856
          ],
          [
           0.00501187233627274,
           0.00501187233627274,
           0.00501187233627274,
           0.00501187233627274,
           0.00501187233627274,
           0.00501187233627274,
           0.00501187233627274,
           0.00501187233627274,
           0.00501187233627274,
           0.00501187233627274
          ],
          [
           0.006309573444801955,
           0.006309573444801955,
           0.006309573444801955,
           0.006309573444801955,
           0.006309573444801955,
           0.006309573444801955,
           0.006309573444801955,
           0.006309573444801955,
           0.006309573444801955,
           0.006309573444801955
          ],
          [
           0.007943282347242847,
           0.007943282347242847,
           0.007943282347242847,
           0.007943282347242847,
           0.007943282347242847,
           0.007943282347242847,
           0.007943282347242847,
           0.007943282347242847,
           0.007943282347242847,
           0.007943282347242847
          ],
          [
           0.01000000000000004,
           0.01000000000000004,
           0.01000000000000004,
           0.01000000000000004,
           0.01000000000000004,
           0.01000000000000004,
           0.01000000000000004,
           0.01000000000000004,
           0.01000000000000004,
           0.01000000000000004
          ],
          [
           0.012589254117941727,
           0.012589254117941727,
           0.012589254117941727,
           0.012589254117941727,
           0.012589254117941727,
           0.012589254117941727,
           0.012589254117941727,
           0.012589254117941727,
           0.012589254117941727,
           0.012589254117941727
          ],
          [
           0.015848931924611207,
           0.015848931924611207,
           0.015848931924611207,
           0.015848931924611207,
           0.015848931924611207,
           0.015848931924611207,
           0.015848931924611207,
           0.015848931924611207,
           0.015848931924611207,
           0.015848931924611207
          ],
          [
           0.01995262314968889,
           0.01995262314968889,
           0.01995262314968889,
           0.01995262314968889,
           0.01995262314968889,
           0.01995262314968889,
           0.01995262314968889,
           0.01995262314968889,
           0.01995262314968889,
           0.01995262314968889
          ],
          [
           0.025118864315095923,
           0.025118864315095923,
           0.025118864315095923,
           0.025118864315095923,
           0.025118864315095923,
           0.025118864315095923,
           0.025118864315095923,
           0.025118864315095923,
           0.025118864315095923,
           0.025118864315095923
          ],
          [
           0.03162277660168396,
           0.03162277660168396,
           0.03162277660168396,
           0.03162277660168396,
           0.03162277660168396,
           0.03162277660168396,
           0.03162277660168396,
           0.03162277660168396,
           0.03162277660168396,
           0.03162277660168396
          ],
          [
           0.039810717055349935,
           0.039810717055349935,
           0.039810717055349935,
           0.039810717055349935,
           0.039810717055349935,
           0.039810717055349935,
           0.039810717055349935,
           0.039810717055349935,
           0.039810717055349935,
           0.039810717055349935
          ],
          [
           0.050118723362727505,
           0.050118723362727505,
           0.050118723362727505,
           0.050118723362727505,
           0.050118723362727505,
           0.050118723362727505,
           0.050118723362727505,
           0.050118723362727505,
           0.050118723362727505,
           0.050118723362727505
          ],
          [
           0.06309573444801969,
           0.06309573444801969,
           0.06309573444801969,
           0.06309573444801969,
           0.06309573444801969,
           0.06309573444801969,
           0.06309573444801969,
           0.06309573444801969,
           0.06309573444801969,
           0.06309573444801969
          ],
          [
           0.07943282347242862,
           0.07943282347242862,
           0.07943282347242862,
           0.07943282347242862,
           0.07943282347242862,
           0.07943282347242862,
           0.07943282347242862,
           0.07943282347242862,
           0.07943282347242862,
           0.07943282347242862
          ],
          [
           0.10000000000000062,
           0.10000000000000062,
           0.10000000000000062,
           0.10000000000000062,
           0.10000000000000062,
           0.10000000000000062,
           0.10000000000000062,
           0.10000000000000062,
           0.10000000000000062,
           0.10000000000000062
          ],
          [
           0.1258925411794175,
           0.1258925411794175,
           0.1258925411794175,
           0.1258925411794175,
           0.1258925411794175,
           0.1258925411794175,
           0.1258925411794175,
           0.1258925411794175,
           0.1258925411794175,
           0.1258925411794175
          ],
          [
           0.1584893192461124,
           0.1584893192461124,
           0.1584893192461124,
           0.1584893192461124,
           0.1584893192461124,
           0.1584893192461124,
           0.1584893192461124,
           0.1584893192461124,
           0.1584893192461124,
           0.1584893192461124
          ],
          [
           0.1995262314968893,
           0.1995262314968893,
           0.1995262314968893,
           0.1995262314968893,
           0.1995262314968893,
           0.1995262314968893,
           0.1995262314968893,
           0.1995262314968893,
           0.1995262314968893,
           0.1995262314968893
          ],
          [
           0.25118864315095973,
           0.25118864315095973,
           0.25118864315095973,
           0.25118864315095973,
           0.25118864315095973,
           0.25118864315095973,
           0.25118864315095973,
           0.25118864315095973,
           0.25118864315095973,
           0.25118864315095973
          ],
          [
           0.3162277660168402,
           0.3162277660168402,
           0.3162277660168402,
           0.3162277660168402,
           0.3162277660168402,
           0.3162277660168402,
           0.3162277660168402,
           0.3162277660168402,
           0.3162277660168402,
           0.3162277660168402
          ],
          [
           0.3981071705535002,
           0.3981071705535002,
           0.3981071705535002,
           0.3981071705535002,
           0.3981071705535002,
           0.3981071705535002,
           0.3981071705535002,
           0.3981071705535002,
           0.3981071705535002,
           0.3981071705535002
          ],
          [
           0.5011872336272761,
           0.5011872336272761,
           0.5011872336272761,
           0.5011872336272761,
           0.5011872336272761,
           0.5011872336272761,
           0.5011872336272761,
           0.5011872336272761,
           0.5011872336272761,
           0.5011872336272761
          ],
          [
           0.6309573444801981,
           0.6309573444801981,
           0.6309573444801981,
           0.6309573444801981,
           0.6309573444801981,
           0.6309573444801981,
           0.6309573444801981,
           0.6309573444801981,
           0.6309573444801981,
           0.6309573444801981
          ],
          [
           0.7943282347242878,
           0.7943282347242878,
           0.7943282347242878,
           0.7943282347242878,
           0.7943282347242878,
           0.7943282347242878,
           0.7943282347242878,
           0.7943282347242878,
           0.7943282347242878,
           0.7943282347242878
          ],
          [
           1.0000000000000082,
           1.0000000000000082,
           1.0000000000000082,
           1.0000000000000082,
           1.0000000000000082,
           1.0000000000000082,
           1.0000000000000082,
           1.0000000000000082,
           1.0000000000000082,
           1.0000000000000082
          ],
          [
           1.2589254117941764,
           1.2589254117941764,
           1.2589254117941764,
           1.2589254117941764,
           1.2589254117941764,
           1.2589254117941764,
           1.2589254117941764,
           1.2589254117941764,
           1.2589254117941764,
           1.2589254117941764
          ],
          [
           1.5848931924611271,
           1.5848931924611271,
           1.5848931924611271,
           1.5848931924611271,
           1.5848931924611271,
           1.5848931924611271,
           1.5848931924611271,
           1.5848931924611271,
           1.5848931924611271,
           1.5848931924611271
          ],
          [
           1.9952623149688993,
           1.9952623149688993,
           1.9952623149688993,
           1.9952623149688993,
           1.9952623149688993,
           1.9952623149688993,
           1.9952623149688993,
           1.9952623149688993,
           1.9952623149688993,
           1.9952623149688993
          ],
          [
           2.511886431509603,
           2.511886431509603,
           2.511886431509603,
           2.511886431509603,
           2.511886431509603,
           2.511886431509603,
           2.511886431509603,
           2.511886431509603,
           2.511886431509603,
           2.511886431509603
          ],
          [
           3.1622776601684053,
           3.1622776601684053,
           3.1622776601684053,
           3.1622776601684053,
           3.1622776601684053,
           3.1622776601684053,
           3.1622776601684053,
           3.1622776601684053,
           3.1622776601684053,
           3.1622776601684053
          ],
          [
           3.98107170553501,
           3.98107170553501,
           3.98107170553501,
           3.98107170553501,
           3.98107170553501,
           3.98107170553501,
           3.98107170553501,
           3.98107170553501,
           3.98107170553501,
           3.98107170553501
          ],
          [
           5.011872336272776,
           5.011872336272776,
           5.011872336272776,
           5.011872336272776,
           5.011872336272776,
           5.011872336272776,
           5.011872336272776,
           5.011872336272776,
           5.011872336272776,
           5.011872336272776
          ],
          [
           6.309573444801995,
           6.309573444801995,
           6.309573444801995,
           6.309573444801995,
           6.309573444801995,
           6.309573444801995,
           6.309573444801995,
           6.309573444801995,
           6.309573444801995,
           6.309573444801995
          ],
          [
           7.943282347242887,
           7.943282347242887,
           7.943282347242887,
           7.943282347242887,
           7.943282347242887,
           7.943282347242887,
           7.943282347242887,
           7.943282347242887,
           7.943282347242887,
           7.943282347242887
          ],
          [
           10.000000000000103,
           10.000000000000103,
           10.000000000000103,
           10.000000000000103,
           10.000000000000103,
           10.000000000000103,
           10.000000000000103,
           10.000000000000103,
           10.000000000000103,
           10.000000000000103
          ]
         ],
         "z": [
          [
           0.0006167166278340077,
           0.0004182793808898301,
           0.00038234041697460117,
           0.0003697015364053787,
           0.0003638231264041608,
           0.0003606235871746051,
           0.00035869172295897514,
           0.00035743168132895545,
           0.00035656552353985186,
           0.0003559439169175532
          ],
          [
           0.0007761616281641783,
           0.0005264722173030509,
           0.00048124517855415626,
           0.0004653394469375981,
           0.0004579415222792247,
           0.00045391491344368547,
           0.000451483665812409,
           0.0004498979069580656,
           0.0004488078507705539,
           0.0004480255622623949
          ],
          [
           0.0009767516495192826,
           0.0006626144698379263,
           0.0006057046210082016,
           0.0005856894831213499,
           0.0005763800953363712,
           0.0005713130692294701,
           0.000568253617227474,
           0.0005662581198655102,
           0.0005648864095113531,
           0.0005639019909606975
          ],
          [
           0.0012290589001599326,
           0.0008339053202280023,
           0.0007623038095684139,
           0.0007371204859840015,
           0.0007254070721865976,
           0.0007190315078718683,
           0.0007151819568831883,
           0.0007126711284261104,
           0.0007109451804674923,
           0.0007097065430488459
          ],
          [
           0.0015463456746501918,
           0.0010493860589936342,
           0.0009593143681535862,
           0.0009276329964767826,
           0.0009128968352480293,
           0.000904875928949792,
           0.0009000329110349433,
           0.000896874109413655,
           0.0008947027473474069,
           0.0008931444596319116
          ],
          [
           0.0019452334173326576,
           0.001320404288385559,
           0.0012071204156852472,
           0.0011672716423299537,
           0.0011487359905048612,
           0.0011386469029381503,
           0.0011325550975669165,
           0.0011285817969023003,
           0.001125850553732437,
           0.0011238904710719146
          ],
          [
           0.002446529168089211,
           0.001661190920075016,
           0.0015187485496454736,
           0.0014686384425090363,
           0.0014453288872943839,
           0.0014326411480484475,
           0.0014249802398900347,
           0.0014199835249060517,
           0.0014165487971891269,
           0.0014140838671645507
          ],
          [
           0.0030762410747880403,
           0.002089574911973795,
           0.0019105252208805,
           0.0018475297800905567,
           0.0018182250593747743,
           0.0018022737740227396,
           0.0017926422709505666,
           0.0017863602841155703,
           0.0017820420791787425,
           0.0017789431379233978
          ],
          [
           0.0038668177619555263,
           0.0026278647207588187,
           0.002402888836096688,
           0.002323723755994833,
           0.0022868950006606228,
           0.002266847741580282,
           0.0022547429762530794,
           0.0022468478766711846,
           0.0022414208501419287,
           0.0022375261924722166
          ],
          [
           0.004858647470540192,
           0.003303929168037605,
           0.003021387801186898,
           0.002921948541549986,
           0.0028756846031449835,
           0.002850500703968974,
           0.0028352942445390664,
           0.002825376174009842,
           0.0028185586112221754,
           0.002813666086395607
          ],
          [
           0.006101850079212862,
           0.004152513018295491,
           0.003797898826469228,
           0.003673065595308895,
           0.003614981889551145,
           0.0035833627318243772,
           0.003564270347151445,
           0.0035518178468157274,
           0.003543258206135892,
           0.0035371155658051358
          ],
          [
           0.007658385268292443,
           0.005216822658887789,
           0.004772101015069241,
           0.0046155031409819015,
           0.0045426313478552915,
           0.004502960172626849,
           0.004479005462308053,
           0.004463381760860307,
           0.004452642381885981,
           0.004444935596356547
          ],
          [
           0.009604478390110796,
           0.00655041258558677,
           0.00599323865646967,
           0.005796973352604161,
           0.005705629509627715,
           0.00565589938267285,
           0.00562587023808183,
           0.005606284869615352,
           0.0055928224751883695,
           0.005583161753287065
          ],
          [
           0.012033324930967574,
           0.008219390349222883,
           0.007522196227944817,
           0.007276498427240085,
           0.0071621276618204915,
           0.007099856591416429,
           0.007062253874351703,
           0.007037729228574394,
           0.00702087194970436,
           0.007008775270257041
          ],
          [
           0.015057964656320163,
           0.010304930757232144,
           0.009433888213533526,
           0.009126751762223762,
           0.008983749484084607,
           0.008905882524350131,
           0.008858860848818309,
           0.008828193583056976,
           0.008807114461405493,
           0.008791988587364939
          ],
          [
           0.018814104059726944,
           0.012906041469704015,
           0.011819927080114874,
           0.011436684262833318,
           0.011258196603075471,
           0.011160996356886424,
           0.011102297807259492,
           0.011064015669467532,
           0.011037703019416766,
           0.011018822274034784
          ],
          [
           0.023462494007632197,
           0.016142440563174473,
           0.014791465313011632,
           0.014314343074472083,
           0.014092054462252734,
           0.013970984130543927,
           0.013897867389560408,
           0.013850183073388518,
           0.013817408824160817,
           0.01379389244076151
          ],
          [
           0.029190221323079572,
           0.02015727767797645,
           0.01848199873527935,
           0.017889688225981647,
           0.017613612244832804,
           0.01746321980112374,
           0.01737238982385003,
           0.017313155215668962,
           0.017272443551086102,
           0.017243233269925336
          ],
          [
           0.03620993723747296,
           0.025119237110485682,
           0.023049752479541122,
           0.02231705631188563,
           0.021975358619808857,
           0.021789177500709876,
           0.02167672496663709,
           0.021603391817660623,
           0.021552992270372075,
           0.02151683317923997
          ],
          [
           0.04475563048565435,
           0.031223287821052846,
           0.028679031516696547,
           0.027776693046259803,
           0.027355593492659085,
           0.02712608511668003,
           0.026987450864161,
           0.026897047815916786,
           0.026834919651009544,
           0.02679034919127865
          ],
          [
           0.05507311065310104,
           0.038688985413588624,
           0.03557959387914306,
           0.03447446656475141,
           0.03395829262227787,
           0.03367686962090108,
           0.03350685744893115,
           0.03339599867229213,
           0.03331981705851045,
           0.03326516974913165
          ],
          [
           0.06740303173384228,
           0.047754804289263535,
           0.04398270464526036,
           0.042638485458183155,
           0.04200998027196319,
           0.041667166373682216,
           0.041460037901917,
           0.041324985321573283,
           0.04123218439578311,
           0.04116562313274273
          ],
          [
           0.08195431605116459,
           0.0586665578698296,
           0.05413210199419666,
           0.05251092204961107,
           0.051751944200795465,
           0.05133774543016051,
           0.05108744207306959,
           0.05092425054370867,
           0.05081212354531971,
           0.0507317119657934
          ],
          [
           0.09886664829233392,
           0.07165771794850573,
           0.06626777891076048,
           0.06433299479915985,
           0.06342577374839214,
           0.06293035100865325,
           0.06263089759747659,
           0.06243567855615065,
           0.062301559425696935,
           0.06220539283677099
          ],
          [
           0.118162822623405,
           0.08691967256699358,
           0.08060049795865526,
           0.07832101599332023,
           0.07725012810191667,
           0.07666486322286829,
           0.07631100940476676,
           0.07608034954957005,
           0.0759219010805767,
           0.07580831392666657
          ],
          [
           0.13969556926865684,
           0.1045611135372386,
           0.0972756966807303,
           0.09463202180402676,
           0.09338719561253009,
           0.09270621477072004,
           0.09229435398308959,
           0.09202591489907039,
           0.09184154124225824,
           0.0917094038262076
          ],
          [
           0.16309892562165837,
           0.12455833147336152,
           0.11632739506388412,
           0.11331924123085564,
           0.1118989459313947,
           0.11112108323000776,
           0.11065044104156402,
           0.11034373447837381,
           0.11013311440771462,
           0.1099822162090537
          ],
          [
           0.1877598763437188,
           0.1467025211645662,
           0.13762628965788087,
           0.13428095112576785,
           0.13269643146303667,
           0.13182745966743634,
           0.1313014501217132,
           0.13095872301804706,
           0.13072341881737967,
           0.13055490591214555
          ],
          [
           0.2128287657662933,
           0.17055583160649296,
           0.16083132614138107,
           0.15721111686621853,
           0.15549011262515391,
           0.1545448352135124,
           0.15397234300172125,
           0.15359941452615736,
           0.1533434482590544,
           0.15316023698255085
          ],
          [
           0.2372826834429983,
           0.19543300113408715,
           0.18535949991515782,
           0.1815656611936111,
           0.17975458814569714,
           0.17875812551924,
           0.1781543107955847,
           0.17776109807206472,
           0.17749131401005785,
           0.1772983503163441
          ],
          [
           0.2600420705090731,
           0.2204264921056819,
           0.21039167553258495,
           0.2065617667871289,
           0.20472488597051405,
           0.20371233065655894,
           0.20309845015187128,
           0.2026988504009199,
           0.20242483379509574,
           0.2022290321873999
          ],
          [
           0.28012046883817465,
           0.2444860366021182,
           0.2349289155228096,
           0.23122555204043094,
           0.22943997857172435,
           0.22845374434176102,
           0.22785556302222523,
           0.22746641024094622,
           0.2271997655332988,
           0.22700948418129208
          ],
          [
           0.2967712531020524,
           0.26654718235484415,
           0.2579014167908358,
           0.2544926766903793,
           0.2528392242120949,
           0.2519240302269566,
           0.2513687669729447,
           0.25100782227943097,
           0.25076077919183026,
           0.25058480671733147
          ],
          [
           0.3095946014433839,
           0.285683345478812,
           0.27831306682786594,
           0.27534825587828193,
           0.2738998069127477,
           0.2730962005243416,
           0.2726085494805146,
           0.2722918809502844,
           0.27207547369327545,
           0.2719217050538842
          ],
          [
           0.3185830352503611,
           0.30124365812372794,
           0.29538823352318144,
           0.29297509831627727,
           0.2917854937680325,
           0.29112360376281776,
           0.29072188419353723,
           0.2904613375998865,
           0.2902836487207242,
           0.2901578109977626
          ],
          [
           0.3241023162336831,
           0.3129429340059859,
           0.3086842510764124,
           0.30687349958093757,
           0.3059698865573546,
           0.30546511818124866,
           0.30515864170418106,
           0.3049601342264694,
           0.3048251221545388,
           0.30472993599735143
          ],
          [
           0.32681629508154303,
           0.3208864123241403,
           0.3181444896842897,
           0.3169248419983585,
           0.3163050465437174,
           0.31595663799690454,
           0.3157448828247964,
           0.31560791515201386,
           0.31551510734816113,
           0.3154500951234172
          ],
          [
           0.3275705204528449,
           0.32552980000302906,
           0.32408446638049465,
           0.3233881591940295,
           0.32302297545312647,
           0.3228153222765678,
           0.3226888320251595,
           0.322607147865455,
           0.32255214194401777,
           0.32251403316398286
          ],
          [
           0.3272523093811701,
           0.32758885702746143,
           0.3271200064823917,
           0.3268362130681816,
           0.32667538330834417,
           0.32658136692967626,
           0.32652383692777964,
           0.32648683638624,
           0.32646231123201974,
           0.3264458054003556
          ],
          [
           0.3266452679771329,
           0.3279194170530489,
           0.328057954932709,
           0.3280508849593916,
           0.32803127490446515,
           0.32801669325721894,
           0.3280076280273581,
           0.3280020890929614,
           0.3279989917483309,
           0.32799761284715745
          ],
          [
           0.3263020065273591,
           0.3273845447845436,
           0.32776967458633777,
           0.3278993132256395,
           0.32795433731921647,
           0.32798289447729295,
           0.3280005014493531,
           0.32801238427220764,
           0.32802113346721723,
           0.3280280606484898
          ],
          [
           0.3264714703460401,
           0.32671944119325763,
           0.32705829818869353,
           0.32720274962705104,
           0.3272726932638366,
           0.3273114379985022,
           0.32733577076816256,
           0.32735216276038703,
           0.32736393503144806,
           0.3273728838815004
          ],
          [
           0.32711549994220074,
           0.326414186728757,
           0.326531757868964,
           0.3266081997148325,
           0.3266504040518381,
           0.3266752427043127,
           0.32669148578779245,
           0.32670269234187443,
           0.32671083021656827,
           0.32671704319951655
          ],
          [
           0.328014857081688,
           0.3266530607317017,
           0.32651162195911626,
           0.3264888227056195,
           0.3264846685440848,
           0.32648442230315194,
           0.32648545116984623,
           0.3264867045963287,
           0.32648790260422933,
           0.3264890098737049
          ],
          [
           0.32891554843455306,
           0.3273461552729226,
           0.3270191461988006,
           0.32691373145124336,
           0.32686831438980596,
           0.32684497257803036,
           0.326831701626118,
           0.32682348342812767,
           0.3268180486119299,
           0.3268142793507385
          ],
          [
           0.3296430743072686,
           0.3282487376487721,
           0.32785799602781246,
           0.32771379787897925,
           0.3276470177584448,
           0.3276111735336582,
           0.327589930332233,
           0.32757633272589987,
           0.327567090216156,
           0.32756050269037656
          ],
          [
           0.3301394695964102,
           0.3291106662107545,
           0.3287605069919595,
           0.32862160500274346,
           0.32855510012351863,
           0.32851876575629413,
           0.3284969240442491,
           0.328482802058464,
           0.3284731339430162,
           0.32846620043499686
          ],
          [
           0.3304335465406637,
           0.32977968517195044,
           0.32952168318493386,
           0.32941407982178983,
           0.3293614720623507,
           0.3293324441291755,
           0.3293148821376557,
           0.32930348641477203,
           0.32929567234377716,
           0.32929006535274563
          ],
          [
           0.3305885251430404,
           0.33022103119520974,
           0.330057462478356,
           0.3299864617271079,
           0.32995119357011765,
           0.3299315964266559,
           0.32991970038729584,
           0.3299119747830725,
           0.32990668272796386,
           0.32990289410337253
          ],
          [
           0.3306631835544399,
           0.3304760006744048,
           0.33038367544042946,
           0.330342062620042,
           0.330321046604789,
           0.3303092665265824,
           0.33030208377149156,
           0.3302974115854706,
           0.33029421308542223,
           0.33029192894122994
          ],
          [
           0.330696888068941,
           0.33060859012433064,
           0.3305607617306921,
           0.33053825615478927,
           0.3305266154103916,
           0.33051998343007505,
           0.33051589488322286,
           0.33051321573765197,
           0.3305113734690965,
           0.33051005552701257
          ]
         ]
        }
       ],
       "layout": {
        "annotations": [
         {
          "font": {
           "size": 16
          },
          "showarrow": false,
          "text": "z-value",
          "x": 0.14444444444444446,
          "xanchor": "center",
          "xref": "paper",
          "y": 1,
          "yanchor": "bottom",
          "yref": "paper"
         },
         {
          "font": {
           "size": 16
          },
          "showarrow": false,
          "text": "mean_sim",
          "x": 0.5,
          "xanchor": "center",
          "xref": "paper",
          "y": 1,
          "yanchor": "bottom",
          "yref": "paper"
         },
         {
          "font": {
           "size": 16
          },
          "showarrow": false,
          "text": "sd_sim",
          "x": 0.8555555555555556,
          "xanchor": "center",
          "xref": "paper",
          "y": 1,
          "yanchor": "bottom",
          "yref": "paper"
         }
        ],
        "coloraxis": {
         "showscale": false
        },
        "height": 600,
        "scene": {
         "domain": {
          "x": [
           0,
           0.2888888888888889
          ],
          "y": [
           0,
           1
          ]
         },
         "xaxis": {
          "title": {
           "text": "Tau"
          }
         },
         "yaxis": {
          "ticktext": [
           "1e-4",
           "1e-3",
           "1e-2",
           "1e-1",
           "1",
           "10"
          ],
          "tickvals": [
           0.0001,
           0.001,
           0.01,
           0.1,
           1,
           10
          ],
          "title": {
           "text": "K"
          },
          "type": "log"
         },
         "zaxis": {
          "title": {
           "text": "Z-Value"
          }
         }
        },
        "scene2": {
         "domain": {
          "x": [
           0.35555555555555557,
           0.6444444444444445
          ],
          "y": [
           0,
           1
          ]
         },
         "xaxis": {
          "title": {
           "text": "Tau"
          }
         },
         "yaxis": {
          "ticktext": [
           "1e-4",
           "1e-3",
           "1e-2",
           "1e-1",
           "1",
           "10"
          ],
          "tickvals": [
           0.0001,
           0.001,
           0.01,
           0.1,
           1,
           10
          ],
          "title": {
           "text": "K"
          },
          "type": "log"
         },
         "zaxis": {
          "title": {
           "text": "Mean-Sim"
          }
         }
        },
        "scene3": {
         "domain": {
          "x": [
           0.7111111111111111,
           1
          ],
          "y": [
           0,
           1
          ]
         },
         "xaxis": {
          "title": {
           "text": "Tau"
          }
         },
         "yaxis": {
          "ticktext": [
           "1e-4",
           "1e-3",
           "1e-2",
           "1e-1",
           "1",
           "10"
          ],
          "tickvals": [
           0.0001,
           0.001,
           0.01,
           0.1,
           1,
           10
          ],
          "title": {
           "text": "K"
          },
          "type": "log"
         },
         "zaxis": {
          "title": {
           "text": "SD-Sim"
          }
         }
        },
        "showlegend": false,
        "template": {
         "data": {
          "bar": [
           {
            "error_x": {
             "color": "#2a3f5f"
            },
            "error_y": {
             "color": "#2a3f5f"
            },
            "marker": {
             "line": {
              "color": "#E5ECF6",
              "width": 0.5
             },
             "pattern": {
              "fillmode": "overlay",
              "size": 10,
              "solidity": 0.2
             }
            },
            "type": "bar"
           }
          ],
          "barpolar": [
           {
            "marker": {
             "line": {
              "color": "#E5ECF6",
              "width": 0.5
             },
             "pattern": {
              "fillmode": "overlay",
              "size": 10,
              "solidity": 0.2
             }
            },
            "type": "barpolar"
           }
          ],
          "carpet": [
           {
            "aaxis": {
             "endlinecolor": "#2a3f5f",
             "gridcolor": "white",
             "linecolor": "white",
             "minorgridcolor": "white",
             "startlinecolor": "#2a3f5f"
            },
            "baxis": {
             "endlinecolor": "#2a3f5f",
             "gridcolor": "white",
             "linecolor": "white",
             "minorgridcolor": "white",
             "startlinecolor": "#2a3f5f"
            },
            "type": "carpet"
           }
          ],
          "choropleth": [
           {
            "colorbar": {
             "outlinewidth": 0,
             "ticks": ""
            },
            "type": "choropleth"
           }
          ],
          "contour": [
           {
            "colorbar": {
             "outlinewidth": 0,
             "ticks": ""
            },
            "colorscale": [
             [
              0,
              "#0d0887"
             ],
             [
              0.1111111111111111,
              "#46039f"
             ],
             [
              0.2222222222222222,
              "#7201a8"
             ],
             [
              0.3333333333333333,
              "#9c179e"
             ],
             [
              0.4444444444444444,
              "#bd3786"
             ],
             [
              0.5555555555555556,
              "#d8576b"
             ],
             [
              0.6666666666666666,
              "#ed7953"
             ],
             [
              0.7777777777777778,
              "#fb9f3a"
             ],
             [
              0.8888888888888888,
              "#fdca26"
             ],
             [
              1,
              "#f0f921"
             ]
            ],
            "type": "contour"
           }
          ],
          "contourcarpet": [
           {
            "colorbar": {
             "outlinewidth": 0,
             "ticks": ""
            },
            "type": "contourcarpet"
           }
          ],
          "heatmap": [
           {
            "colorbar": {
             "outlinewidth": 0,
             "ticks": ""
            },
            "colorscale": [
             [
              0,
              "#0d0887"
             ],
             [
              0.1111111111111111,
              "#46039f"
             ],
             [
              0.2222222222222222,
              "#7201a8"
             ],
             [
              0.3333333333333333,
              "#9c179e"
             ],
             [
              0.4444444444444444,
              "#bd3786"
             ],
             [
              0.5555555555555556,
              "#d8576b"
             ],
             [
              0.6666666666666666,
              "#ed7953"
             ],
             [
              0.7777777777777778,
              "#fb9f3a"
             ],
             [
              0.8888888888888888,
              "#fdca26"
             ],
             [
              1,
              "#f0f921"
             ]
            ],
            "type": "heatmap"
           }
          ],
          "heatmapgl": [
           {
            "colorbar": {
             "outlinewidth": 0,
             "ticks": ""
            },
            "colorscale": [
             [
              0,
              "#0d0887"
             ],
             [
              0.1111111111111111,
              "#46039f"
             ],
             [
              0.2222222222222222,
              "#7201a8"
             ],
             [
              0.3333333333333333,
              "#9c179e"
             ],
             [
              0.4444444444444444,
              "#bd3786"
             ],
             [
              0.5555555555555556,
              "#d8576b"
             ],
             [
              0.6666666666666666,
              "#ed7953"
             ],
             [
              0.7777777777777778,
              "#fb9f3a"
             ],
             [
              0.8888888888888888,
              "#fdca26"
             ],
             [
              1,
              "#f0f921"
             ]
            ],
            "type": "heatmapgl"
           }
          ],
          "histogram": [
           {
            "marker": {
             "pattern": {
              "fillmode": "overlay",
              "size": 10,
              "solidity": 0.2
             }
            },
            "type": "histogram"
           }
          ],
          "histogram2d": [
           {
            "colorbar": {
             "outlinewidth": 0,
             "ticks": ""
            },
            "colorscale": [
             [
              0,
              "#0d0887"
             ],
             [
              0.1111111111111111,
              "#46039f"
             ],
             [
              0.2222222222222222,
              "#7201a8"
             ],
             [
              0.3333333333333333,
              "#9c179e"
             ],
             [
              0.4444444444444444,
              "#bd3786"
             ],
             [
              0.5555555555555556,
              "#d8576b"
             ],
             [
              0.6666666666666666,
              "#ed7953"
             ],
             [
              0.7777777777777778,
              "#fb9f3a"
             ],
             [
              0.8888888888888888,
              "#fdca26"
             ],
             [
              1,
              "#f0f921"
             ]
            ],
            "type": "histogram2d"
           }
          ],
          "histogram2dcontour": [
           {
            "colorbar": {
             "outlinewidth": 0,
             "ticks": ""
            },
            "colorscale": [
             [
              0,
              "#0d0887"
             ],
             [
              0.1111111111111111,
              "#46039f"
             ],
             [
              0.2222222222222222,
              "#7201a8"
             ],
             [
              0.3333333333333333,
              "#9c179e"
             ],
             [
              0.4444444444444444,
              "#bd3786"
             ],
             [
              0.5555555555555556,
              "#d8576b"
             ],
             [
              0.6666666666666666,
              "#ed7953"
             ],
             [
              0.7777777777777778,
              "#fb9f3a"
             ],
             [
              0.8888888888888888,
              "#fdca26"
             ],
             [
              1,
              "#f0f921"
             ]
            ],
            "type": "histogram2dcontour"
           }
          ],
          "mesh3d": [
           {
            "colorbar": {
             "outlinewidth": 0,
             "ticks": ""
            },
            "type": "mesh3d"
           }
          ],
          "parcoords": [
           {
            "line": {
             "colorbar": {
              "outlinewidth": 0,
              "ticks": ""
             }
            },
            "type": "parcoords"
           }
          ],
          "pie": [
           {
            "automargin": true,
            "type": "pie"
           }
          ],
          "scatter": [
           {
            "fillpattern": {
             "fillmode": "overlay",
             "size": 10,
             "solidity": 0.2
            },
            "type": "scatter"
           }
          ],
          "scatter3d": [
           {
            "line": {
             "colorbar": {
              "outlinewidth": 0,
              "ticks": ""
             }
            },
            "marker": {
             "colorbar": {
              "outlinewidth": 0,
              "ticks": ""
             }
            },
            "type": "scatter3d"
           }
          ],
          "scattercarpet": [
           {
            "marker": {
             "colorbar": {
              "outlinewidth": 0,
              "ticks": ""
             }
            },
            "type": "scattercarpet"
           }
          ],
          "scattergeo": [
           {
            "marker": {
             "colorbar": {
              "outlinewidth": 0,
              "ticks": ""
             }
            },
            "type": "scattergeo"
           }
          ],
          "scattergl": [
           {
            "marker": {
             "colorbar": {
              "outlinewidth": 0,
              "ticks": ""
             }
            },
            "type": "scattergl"
           }
          ],
          "scattermapbox": [
           {
            "marker": {
             "colorbar": {
              "outlinewidth": 0,
              "ticks": ""
             }
            },
            "type": "scattermapbox"
           }
          ],
          "scatterpolar": [
           {
            "marker": {
             "colorbar": {
              "outlinewidth": 0,
              "ticks": ""
             }
            },
            "type": "scatterpolar"
           }
          ],
          "scatterpolargl": [
           {
            "marker": {
             "colorbar": {
              "outlinewidth": 0,
              "ticks": ""
             }
            },
            "type": "scatterpolargl"
           }
          ],
          "scatterternary": [
           {
            "marker": {
             "colorbar": {
              "outlinewidth": 0,
              "ticks": ""
             }
            },
            "type": "scatterternary"
           }
          ],
          "surface": [
           {
            "colorbar": {
             "outlinewidth": 0,
             "ticks": ""
            },
            "colorscale": [
             [
              0,
              "#0d0887"
             ],
             [
              0.1111111111111111,
              "#46039f"
             ],
             [
              0.2222222222222222,
              "#7201a8"
             ],
             [
              0.3333333333333333,
              "#9c179e"
             ],
             [
              0.4444444444444444,
              "#bd3786"
             ],
             [
              0.5555555555555556,
              "#d8576b"
             ],
             [
              0.6666666666666666,
              "#ed7953"
             ],
             [
              0.7777777777777778,
              "#fb9f3a"
             ],
             [
              0.8888888888888888,
              "#fdca26"
             ],
             [
              1,
              "#f0f921"
             ]
            ],
            "type": "surface"
           }
          ],
          "table": [
           {
            "cells": {
             "fill": {
              "color": "#EBF0F8"
             },
             "line": {
              "color": "white"
             }
            },
            "header": {
             "fill": {
              "color": "#C8D4E3"
             },
             "line": {
              "color": "white"
             }
            },
            "type": "table"
           }
          ]
         },
         "layout": {
          "annotationdefaults": {
           "arrowcolor": "#2a3f5f",
           "arrowhead": 0,
           "arrowwidth": 1
          },
          "autotypenumbers": "strict",
          "coloraxis": {
           "colorbar": {
            "outlinewidth": 0,
            "ticks": ""
           }
          },
          "colorscale": {
           "diverging": [
            [
             0,
             "#8e0152"
            ],
            [
             0.1,
             "#c51b7d"
            ],
            [
             0.2,
             "#de77ae"
            ],
            [
             0.3,
             "#f1b6da"
            ],
            [
             0.4,
             "#fde0ef"
            ],
            [
             0.5,
             "#f7f7f7"
            ],
            [
             0.6,
             "#e6f5d0"
            ],
            [
             0.7,
             "#b8e186"
            ],
            [
             0.8,
             "#7fbc41"
            ],
            [
             0.9,
             "#4d9221"
            ],
            [
             1,
             "#276419"
            ]
           ],
           "sequential": [
            [
             0,
             "#0d0887"
            ],
            [
             0.1111111111111111,
             "#46039f"
            ],
            [
             0.2222222222222222,
             "#7201a8"
            ],
            [
             0.3333333333333333,
             "#9c179e"
            ],
            [
             0.4444444444444444,
             "#bd3786"
            ],
            [
             0.5555555555555556,
             "#d8576b"
            ],
            [
             0.6666666666666666,
             "#ed7953"
            ],
            [
             0.7777777777777778,
             "#fb9f3a"
            ],
            [
             0.8888888888888888,
             "#fdca26"
            ],
            [
             1,
             "#f0f921"
            ]
           ],
           "sequentialminus": [
            [
             0,
             "#0d0887"
            ],
            [
             0.1111111111111111,
             "#46039f"
            ],
            [
             0.2222222222222222,
             "#7201a8"
            ],
            [
             0.3333333333333333,
             "#9c179e"
            ],
            [
             0.4444444444444444,
             "#bd3786"
            ],
            [
             0.5555555555555556,
             "#d8576b"
            ],
            [
             0.6666666666666666,
             "#ed7953"
            ],
            [
             0.7777777777777778,
             "#fb9f3a"
            ],
            [
             0.8888888888888888,
             "#fdca26"
            ],
            [
             1,
             "#f0f921"
            ]
           ]
          },
          "colorway": [
           "#636efa",
           "#EF553B",
           "#00cc96",
           "#ab63fa",
           "#FFA15A",
           "#19d3f3",
           "#FF6692",
           "#B6E880",
           "#FF97FF",
           "#FECB52"
          ],
          "font": {
           "color": "#2a3f5f"
          },
          "geo": {
           "bgcolor": "white",
           "lakecolor": "white",
           "landcolor": "#E5ECF6",
           "showlakes": true,
           "showland": true,
           "subunitcolor": "white"
          },
          "hoverlabel": {
           "align": "left"
          },
          "hovermode": "closest",
          "mapbox": {
           "style": "light"
          },
          "paper_bgcolor": "white",
          "plot_bgcolor": "#E5ECF6",
          "polar": {
           "angularaxis": {
            "gridcolor": "white",
            "linecolor": "white",
            "ticks": ""
           },
           "bgcolor": "#E5ECF6",
           "radialaxis": {
            "gridcolor": "white",
            "linecolor": "white",
            "ticks": ""
           }
          },
          "scene": {
           "xaxis": {
            "backgroundcolor": "#E5ECF6",
            "gridcolor": "white",
            "gridwidth": 2,
            "linecolor": "white",
            "showbackground": true,
            "ticks": "",
            "zerolinecolor": "white"
           },
           "yaxis": {
            "backgroundcolor": "#E5ECF6",
            "gridcolor": "white",
            "gridwidth": 2,
            "linecolor": "white",
            "showbackground": true,
            "ticks": "",
            "zerolinecolor": "white"
           },
           "zaxis": {
            "backgroundcolor": "#E5ECF6",
            "gridcolor": "white",
            "gridwidth": 2,
            "linecolor": "white",
            "showbackground": true,
            "ticks": "",
            "zerolinecolor": "white"
           }
          },
          "shapedefaults": {
           "line": {
            "color": "#2a3f5f"
           }
          },
          "ternary": {
           "aaxis": {
            "gridcolor": "white",
            "linecolor": "white",
            "ticks": ""
           },
           "baxis": {
            "gridcolor": "white",
            "linecolor": "white",
            "ticks": ""
           },
           "bgcolor": "#E5ECF6",
           "caxis": {
            "gridcolor": "white",
            "linecolor": "white",
            "ticks": ""
           }
          },
          "title": {
           "x": 0.05
          },
          "xaxis": {
           "automargin": true,
           "gridcolor": "white",
           "linecolor": "white",
           "ticks": "",
           "title": {
            "standoff": 15
           },
           "zerolinecolor": "white",
           "zerolinewidth": 2
          },
          "yaxis": {
           "automargin": true,
           "gridcolor": "white",
           "linecolor": "white",
           "ticks": "",
           "title": {
            "standoff": 15
           },
           "zerolinecolor": "white",
           "zerolinewidth": 2
          }
         }
        },
        "title": {
         "text": "3D Surface Plots for z-value, mean_sim, and sd_sim from LSR of 24th-Transformer-layer (Xie 2021)"
        },
        "width": 1700
       }
      }
     },
     "metadata": {},
     "output_type": "display_data"
    }
   ],
   "source": [
    "import plotly.graph_objects as go\n",
    "from plotly.subplots import make_subplots\n",
    "from scipy.interpolate import griddata\n",
    "\n",
    "def plot_gridsearch_result(results):\n",
    "    df = pd.json_normalize(results)\n",
    "    df['tau'] = df['tau'].apply(lambda x: x[0] if isinstance(x, list) else x)\n",
    "    df['k'] = df['k'].apply(lambda x: x[0] if isinstance(x, list) else x)\n",
    "    df['z-value'] = df['z-value'].apply(lambda x: x[0] if isinstance(x, list) else x)\n",
    "    df['mean_sim'] = df['mean_sim'].apply(lambda x: x[0] if isinstance(x, list) else x)\n",
    "    df['sd_sim'] = df['sd_sim'].apply(lambda x: x[0] if isinstance(x, list) else x)\n",
    "    tau_vals = tau_values  \n",
    "    k_vals = k_values\n",
    "    tau_grid, k_grid = np.meshgrid(tau_vals, k_vals)  \n",
    "\n",
    "\n",
    "\n",
    "    fig = make_subplots(\n",
    "        rows=1, cols=3, \n",
    "        subplot_titles=['z-value', 'mean_sim', 'sd_sim'], \n",
    "        specs=[[{'type': 'surface'}, {'type': 'surface'}, {'type': 'surface'}]]\n",
    "    )\n",
    "\n",
    "\n",
    "    z_grid = griddata((df['tau'], df['k']), df['z-value'], (tau_grid, k_grid), method='nearest')\n",
    "    mean_sim_grid = griddata((df['tau'], df['k']), df['mean_sim'], (tau_grid, k_grid), method='nearest')\n",
    "    sd_sim_grid = griddata((df['tau'], df['k']), df['sd_sim'], (tau_grid, k_grid), method='nearest')\n",
    "\n",
    "\n",
    "    fig.add_trace(go.Surface(z=z_grid, x=tau_grid, y=k_grid, colorscale='RdYlGn', showscale=False), row=1, col=1)\n",
    "    fig.add_trace(go.Surface(z=mean_sim_grid, x=tau_grid, y=k_grid, colorscale='RdYlGn', showscale=False), row=1, col=2)\n",
    "    fig.add_trace(go.Surface(z=sd_sim_grid, x=tau_grid, y=k_grid, colorscale='RdYlGn', showscale=False), row=1, col=3)\n",
    "\n",
    "\n",
    "    fig.update_layout(\n",
    "        width=1700, \n",
    "        height=600,  \n",
    "        title='3D Surface Plots for z-value, mean_sim, and sd_sim from LSR of 24th-Transformer-layer (Xie 2021)',\n",
    "        scene=dict(\n",
    "            xaxis_title='Tau',\n",
    "            yaxis_title='K',\n",
    "            zaxis_title='Z-Value',\n",
    "            yaxis=dict(\n",
    "                type='log',\n",
    "                tickvals=[1e-4, 1e-3, 1e-2, 1e-1, 1, 10], \n",
    "                ticktext=['1e-4', '1e-3', '1e-2', '1e-1', '1', '10'],\n",
    "            )\n",
    "        ),\n",
    "        scene2=dict(\n",
    "            xaxis_title='Tau',\n",
    "            yaxis_title='K',\n",
    "            zaxis_title='Mean-Sim',\n",
    "            yaxis=dict(\n",
    "                type='log',\n",
    "                tickvals=[1e-4, 1e-3, 1e-2, 1e-1, 1, 10], \n",
    "                ticktext=['1e-4', '1e-3', '1e-2', '1e-1', '1', '10'],\n",
    "            )\n",
    "        ),\n",
    "        scene3=dict(\n",
    "            xaxis_title='Tau',\n",
    "            yaxis_title='K',\n",
    "            zaxis_title='SD-Sim',\n",
    "            yaxis=dict(\n",
    "                type='log',\n",
    "                tickvals=[1e-4, 1e-3, 1e-2, 1e-1, 1, 10], \n",
    "                ticktext=['1e-4', '1e-3', '1e-2', '1e-1', '1', '10'],\n",
    "            )\n",
    "        ),\n",
    "        showlegend=False,\n",
    "        coloraxis_showscale=False\n",
    "        \n",
    "    )\n",
    "    fig.show()\n",
    "plot_gridsearch_result(results)"
   ]
  },
  {
   "cell_type": "code",
   "execution_count": null,
   "metadata": {},
   "outputs": [],
   "source": []
  },
  {
   "cell_type": "code",
   "execution_count": 98,
   "metadata": {},
   "outputs": [
    {
     "name": "stdout",
     "output_type": "stream",
     "text": [
      "Total wall time: 2084.34 seconds\n"
     ]
    }
   ],
   "source": [
    "\n",
    "import pickle\n",
    "with open(\"..\\O_Jan31\\hubert_words_CNN.pkl\", \"rb\") as file:\n",
    "    sentence_matrix2 = pickle.load(file)\n",
    "\n",
    "word_features2,out_dict2=create_set(audio_dir, human_result_1a, sentence_matrix2)\n",
    "tau_values = np.arange(1,11,1)\n",
    "k_values = 10**np.arange(-4,1.1,0.1)\n",
    "import itertools\n",
    "import multiprocessing\n",
    "import time\n",
    "from joblib import Parallel, delayed\n",
    "pandas2ri.activate()\n",
    "params_grid=list(itertools.product(tau_values, k_values))\n",
    "\n",
    "start_time = time.time()\n",
    "n_jobs = min(32, multiprocessing.cpu_count())\n",
    "results2 = Parallel(n_jobs=n_jobs)(delayed(objective_function)(_,out_dict2, human_result_1a) for _ in params_grid)\n",
    "end_time = time.time()\n",
    "print(f\"Total wall time: {end_time - start_time:.2f} seconds\")"
   ]
  },
  {
   "cell_type": "code",
   "execution_count": 116,
   "metadata": {},
   "outputs": [
    {
     "data": {
      "application/vnd.plotly.v1+json": {
       "config": {
        "plotlyServerURL": "https://plot.ly"
       },
       "data": [
        {
         "colorscale": [
          [
           0,
           "#440154"
          ],
          [
           0.1111111111111111,
           "#482878"
          ],
          [
           0.2222222222222222,
           "#3e4989"
          ],
          [
           0.3333333333333333,
           "#31688e"
          ],
          [
           0.4444444444444444,
           "#26828e"
          ],
          [
           0.5555555555555556,
           "#1f9e89"
          ],
          [
           0.6666666666666666,
           "#35b779"
          ],
          [
           0.7777777777777778,
           "#6ece58"
          ],
          [
           0.8888888888888888,
           "#b5de2b"
          ],
          [
           1,
           "#fde725"
          ]
         ],
         "type": "surface",
         "x": [
          [
           1,
           2,
           3,
           4,
           5,
           6,
           7,
           8,
           9,
           10
          ],
          [
           1,
           2,
           3,
           4,
           5,
           6,
           7,
           8,
           9,
           10
          ],
          [
           1,
           2,
           3,
           4,
           5,
           6,
           7,
           8,
           9,
           10
          ],
          [
           1,
           2,
           3,
           4,
           5,
           6,
           7,
           8,
           9,
           10
          ],
          [
           1,
           2,
           3,
           4,
           5,
           6,
           7,
           8,
           9,
           10
          ],
          [
           1,
           2,
           3,
           4,
           5,
           6,
           7,
           8,
           9,
           10
          ],
          [
           1,
           2,
           3,
           4,
           5,
           6,
           7,
           8,
           9,
           10
          ],
          [
           1,
           2,
           3,
           4,
           5,
           6,
           7,
           8,
           9,
           10
          ],
          [
           1,
           2,
           3,
           4,
           5,
           6,
           7,
           8,
           9,
           10
          ],
          [
           1,
           2,
           3,
           4,
           5,
           6,
           7,
           8,
           9,
           10
          ],
          [
           1,
           2,
           3,
           4,
           5,
           6,
           7,
           8,
           9,
           10
          ],
          [
           1,
           2,
           3,
           4,
           5,
           6,
           7,
           8,
           9,
           10
          ],
          [
           1,
           2,
           3,
           4,
           5,
           6,
           7,
           8,
           9,
           10
          ],
          [
           1,
           2,
           3,
           4,
           5,
           6,
           7,
           8,
           9,
           10
          ],
          [
           1,
           2,
           3,
           4,
           5,
           6,
           7,
           8,
           9,
           10
          ],
          [
           1,
           2,
           3,
           4,
           5,
           6,
           7,
           8,
           9,
           10
          ],
          [
           1,
           2,
           3,
           4,
           5,
           6,
           7,
           8,
           9,
           10
          ],
          [
           1,
           2,
           3,
           4,
           5,
           6,
           7,
           8,
           9,
           10
          ],
          [
           1,
           2,
           3,
           4,
           5,
           6,
           7,
           8,
           9,
           10
          ],
          [
           1,
           2,
           3,
           4,
           5,
           6,
           7,
           8,
           9,
           10
          ],
          [
           1,
           2,
           3,
           4,
           5,
           6,
           7,
           8,
           9,
           10
          ],
          [
           1,
           2,
           3,
           4,
           5,
           6,
           7,
           8,
           9,
           10
          ],
          [
           1,
           2,
           3,
           4,
           5,
           6,
           7,
           8,
           9,
           10
          ],
          [
           1,
           2,
           3,
           4,
           5,
           6,
           7,
           8,
           9,
           10
          ],
          [
           1,
           2,
           3,
           4,
           5,
           6,
           7,
           8,
           9,
           10
          ],
          [
           1,
           2,
           3,
           4,
           5,
           6,
           7,
           8,
           9,
           10
          ],
          [
           1,
           2,
           3,
           4,
           5,
           6,
           7,
           8,
           9,
           10
          ],
          [
           1,
           2,
           3,
           4,
           5,
           6,
           7,
           8,
           9,
           10
          ],
          [
           1,
           2,
           3,
           4,
           5,
           6,
           7,
           8,
           9,
           10
          ],
          [
           1,
           2,
           3,
           4,
           5,
           6,
           7,
           8,
           9,
           10
          ],
          [
           1,
           2,
           3,
           4,
           5,
           6,
           7,
           8,
           9,
           10
          ],
          [
           1,
           2,
           3,
           4,
           5,
           6,
           7,
           8,
           9,
           10
          ],
          [
           1,
           2,
           3,
           4,
           5,
           6,
           7,
           8,
           9,
           10
          ],
          [
           1,
           2,
           3,
           4,
           5,
           6,
           7,
           8,
           9,
           10
          ],
          [
           1,
           2,
           3,
           4,
           5,
           6,
           7,
           8,
           9,
           10
          ],
          [
           1,
           2,
           3,
           4,
           5,
           6,
           7,
           8,
           9,
           10
          ],
          [
           1,
           2,
           3,
           4,
           5,
           6,
           7,
           8,
           9,
           10
          ],
          [
           1,
           2,
           3,
           4,
           5,
           6,
           7,
           8,
           9,
           10
          ],
          [
           1,
           2,
           3,
           4,
           5,
           6,
           7,
           8,
           9,
           10
          ],
          [
           1,
           2,
           3,
           4,
           5,
           6,
           7,
           8,
           9,
           10
          ],
          [
           1,
           2,
           3,
           4,
           5,
           6,
           7,
           8,
           9,
           10
          ],
          [
           1,
           2,
           3,
           4,
           5,
           6,
           7,
           8,
           9,
           10
          ],
          [
           1,
           2,
           3,
           4,
           5,
           6,
           7,
           8,
           9,
           10
          ],
          [
           1,
           2,
           3,
           4,
           5,
           6,
           7,
           8,
           9,
           10
          ],
          [
           1,
           2,
           3,
           4,
           5,
           6,
           7,
           8,
           9,
           10
          ],
          [
           1,
           2,
           3,
           4,
           5,
           6,
           7,
           8,
           9,
           10
          ],
          [
           1,
           2,
           3,
           4,
           5,
           6,
           7,
           8,
           9,
           10
          ],
          [
           1,
           2,
           3,
           4,
           5,
           6,
           7,
           8,
           9,
           10
          ],
          [
           1,
           2,
           3,
           4,
           5,
           6,
           7,
           8,
           9,
           10
          ],
          [
           1,
           2,
           3,
           4,
           5,
           6,
           7,
           8,
           9,
           10
          ],
          [
           1,
           2,
           3,
           4,
           5,
           6,
           7,
           8,
           9,
           10
          ]
         ],
         "y": [
          [
           0.0001,
           0.0001,
           0.0001,
           0.0001,
           0.0001,
           0.0001,
           0.0001,
           0.0001,
           0.0001,
           0.0001
          ],
          [
           0.00012589254117941674,
           0.00012589254117941674,
           0.00012589254117941674,
           0.00012589254117941674,
           0.00012589254117941674,
           0.00012589254117941674,
           0.00012589254117941674,
           0.00012589254117941674,
           0.00012589254117941674,
           0.00012589254117941674
          ],
          [
           0.00015848931924611142,
           0.00015848931924611142,
           0.00015848931924611142,
           0.00015848931924611142,
           0.00015848931924611142,
           0.00015848931924611142,
           0.00015848931924611142,
           0.00015848931924611142,
           0.00015848931924611142,
           0.00015848931924611142
          ],
          [
           0.0001995262314968881,
           0.0001995262314968881,
           0.0001995262314968881,
           0.0001995262314968881,
           0.0001995262314968881,
           0.0001995262314968881,
           0.0001995262314968881,
           0.0001995262314968881,
           0.0001995262314968881,
           0.0001995262314968881
          ],
          [
           0.0002511886431509582,
           0.0002511886431509582,
           0.0002511886431509582,
           0.0002511886431509582,
           0.0002511886431509582,
           0.0002511886431509582,
           0.0002511886431509582,
           0.0002511886431509582,
           0.0002511886431509582,
           0.0002511886431509582
          ],
          [
           0.00031622776601683826,
           0.00031622776601683826,
           0.00031622776601683826,
           0.00031622776601683826,
           0.00031622776601683826,
           0.00031622776601683826,
           0.00031622776601683826,
           0.00031622776601683826,
           0.00031622776601683826,
           0.00031622776601683826
          ],
          [
           0.00039810717055349773,
           0.00039810717055349773,
           0.00039810717055349773,
           0.00039810717055349773,
           0.00039810717055349773,
           0.00039810717055349773,
           0.00039810717055349773,
           0.00039810717055349773,
           0.00039810717055349773,
           0.00039810717055349773
          ],
          [
           0.000501187233627273,
           0.000501187233627273,
           0.000501187233627273,
           0.000501187233627273,
           0.000501187233627273,
           0.000501187233627273,
           0.000501187233627273,
           0.000501187233627273,
           0.000501187233627273,
           0.000501187233627273
          ],
          [
           0.0006309573444801943,
           0.0006309573444801943,
           0.0006309573444801943,
           0.0006309573444801943,
           0.0006309573444801943,
           0.0006309573444801943,
           0.0006309573444801943,
           0.0006309573444801943,
           0.0006309573444801943,
           0.0006309573444801943
          ],
          [
           0.0007943282347242829,
           0.0007943282347242829,
           0.0007943282347242829,
           0.0007943282347242829,
           0.0007943282347242829,
           0.0007943282347242829,
           0.0007943282347242829,
           0.0007943282347242829,
           0.0007943282347242829,
           0.0007943282347242829
          ],
          [
           0.001000000000000002,
           0.001000000000000002,
           0.001000000000000002,
           0.001000000000000002,
           0.001000000000000002,
           0.001000000000000002,
           0.001000000000000002,
           0.001000000000000002,
           0.001000000000000002,
           0.001000000000000002
          ],
          [
           0.00125892541179417,
           0.00125892541179417,
           0.00125892541179417,
           0.00125892541179417,
           0.00125892541179417,
           0.00125892541179417,
           0.00125892541179417,
           0.00125892541179417,
           0.00125892541179417,
           0.00125892541179417
          ],
          [
           0.0015848931924611173,
           0.0015848931924611173,
           0.0015848931924611173,
           0.0015848931924611173,
           0.0015848931924611173,
           0.0015848931924611173,
           0.0015848931924611173,
           0.0015848931924611173,
           0.0015848931924611173,
           0.0015848931924611173
          ],
          [
           0.001995262314968885,
           0.001995262314968885,
           0.001995262314968885,
           0.001995262314968885,
           0.001995262314968885,
           0.001995262314968885,
           0.001995262314968885,
           0.001995262314968885,
           0.001995262314968885,
           0.001995262314968885
          ],
          [
           0.0025118864315095872,
           0.0025118864315095872,
           0.0025118864315095872,
           0.0025118864315095872,
           0.0025118864315095872,
           0.0025118864315095872,
           0.0025118864315095872,
           0.0025118864315095872,
           0.0025118864315095872,
           0.0025118864315095872
          ],
          [
           0.003162277660168389,
           0.003162277660168389,
           0.003162277660168389,
           0.003162277660168389,
           0.003162277660168389,
           0.003162277660168389,
           0.003162277660168389,
           0.003162277660168389,
           0.003162277660168389,
           0.003162277660168389
          ],
          [
           0.0039810717055349856,
           0.0039810717055349856,
           0.0039810717055349856,
           0.0039810717055349856,
           0.0039810717055349856,
           0.0039810717055349856,
           0.0039810717055349856,
           0.0039810717055349856,
           0.0039810717055349856,
           0.0039810717055349856
          ],
          [
           0.00501187233627274,
           0.00501187233627274,
           0.00501187233627274,
           0.00501187233627274,
           0.00501187233627274,
           0.00501187233627274,
           0.00501187233627274,
           0.00501187233627274,
           0.00501187233627274,
           0.00501187233627274
          ],
          [
           0.006309573444801955,
           0.006309573444801955,
           0.006309573444801955,
           0.006309573444801955,
           0.006309573444801955,
           0.006309573444801955,
           0.006309573444801955,
           0.006309573444801955,
           0.006309573444801955,
           0.006309573444801955
          ],
          [
           0.007943282347242847,
           0.007943282347242847,
           0.007943282347242847,
           0.007943282347242847,
           0.007943282347242847,
           0.007943282347242847,
           0.007943282347242847,
           0.007943282347242847,
           0.007943282347242847,
           0.007943282347242847
          ],
          [
           0.01000000000000004,
           0.01000000000000004,
           0.01000000000000004,
           0.01000000000000004,
           0.01000000000000004,
           0.01000000000000004,
           0.01000000000000004,
           0.01000000000000004,
           0.01000000000000004,
           0.01000000000000004
          ],
          [
           0.012589254117941727,
           0.012589254117941727,
           0.012589254117941727,
           0.012589254117941727,
           0.012589254117941727,
           0.012589254117941727,
           0.012589254117941727,
           0.012589254117941727,
           0.012589254117941727,
           0.012589254117941727
          ],
          [
           0.015848931924611207,
           0.015848931924611207,
           0.015848931924611207,
           0.015848931924611207,
           0.015848931924611207,
           0.015848931924611207,
           0.015848931924611207,
           0.015848931924611207,
           0.015848931924611207,
           0.015848931924611207
          ],
          [
           0.01995262314968889,
           0.01995262314968889,
           0.01995262314968889,
           0.01995262314968889,
           0.01995262314968889,
           0.01995262314968889,
           0.01995262314968889,
           0.01995262314968889,
           0.01995262314968889,
           0.01995262314968889
          ],
          [
           0.025118864315095923,
           0.025118864315095923,
           0.025118864315095923,
           0.025118864315095923,
           0.025118864315095923,
           0.025118864315095923,
           0.025118864315095923,
           0.025118864315095923,
           0.025118864315095923,
           0.025118864315095923
          ],
          [
           0.03162277660168396,
           0.03162277660168396,
           0.03162277660168396,
           0.03162277660168396,
           0.03162277660168396,
           0.03162277660168396,
           0.03162277660168396,
           0.03162277660168396,
           0.03162277660168396,
           0.03162277660168396
          ],
          [
           0.039810717055349935,
           0.039810717055349935,
           0.039810717055349935,
           0.039810717055349935,
           0.039810717055349935,
           0.039810717055349935,
           0.039810717055349935,
           0.039810717055349935,
           0.039810717055349935,
           0.039810717055349935
          ],
          [
           0.050118723362727505,
           0.050118723362727505,
           0.050118723362727505,
           0.050118723362727505,
           0.050118723362727505,
           0.050118723362727505,
           0.050118723362727505,
           0.050118723362727505,
           0.050118723362727505,
           0.050118723362727505
          ],
          [
           0.06309573444801969,
           0.06309573444801969,
           0.06309573444801969,
           0.06309573444801969,
           0.06309573444801969,
           0.06309573444801969,
           0.06309573444801969,
           0.06309573444801969,
           0.06309573444801969,
           0.06309573444801969
          ],
          [
           0.07943282347242862,
           0.07943282347242862,
           0.07943282347242862,
           0.07943282347242862,
           0.07943282347242862,
           0.07943282347242862,
           0.07943282347242862,
           0.07943282347242862,
           0.07943282347242862,
           0.07943282347242862
          ],
          [
           0.10000000000000062,
           0.10000000000000062,
           0.10000000000000062,
           0.10000000000000062,
           0.10000000000000062,
           0.10000000000000062,
           0.10000000000000062,
           0.10000000000000062,
           0.10000000000000062,
           0.10000000000000062
          ],
          [
           0.1258925411794175,
           0.1258925411794175,
           0.1258925411794175,
           0.1258925411794175,
           0.1258925411794175,
           0.1258925411794175,
           0.1258925411794175,
           0.1258925411794175,
           0.1258925411794175,
           0.1258925411794175
          ],
          [
           0.1584893192461124,
           0.1584893192461124,
           0.1584893192461124,
           0.1584893192461124,
           0.1584893192461124,
           0.1584893192461124,
           0.1584893192461124,
           0.1584893192461124,
           0.1584893192461124,
           0.1584893192461124
          ],
          [
           0.1995262314968893,
           0.1995262314968893,
           0.1995262314968893,
           0.1995262314968893,
           0.1995262314968893,
           0.1995262314968893,
           0.1995262314968893,
           0.1995262314968893,
           0.1995262314968893,
           0.1995262314968893
          ],
          [
           0.25118864315095973,
           0.25118864315095973,
           0.25118864315095973,
           0.25118864315095973,
           0.25118864315095973,
           0.25118864315095973,
           0.25118864315095973,
           0.25118864315095973,
           0.25118864315095973,
           0.25118864315095973
          ],
          [
           0.3162277660168402,
           0.3162277660168402,
           0.3162277660168402,
           0.3162277660168402,
           0.3162277660168402,
           0.3162277660168402,
           0.3162277660168402,
           0.3162277660168402,
           0.3162277660168402,
           0.3162277660168402
          ],
          [
           0.3981071705535002,
           0.3981071705535002,
           0.3981071705535002,
           0.3981071705535002,
           0.3981071705535002,
           0.3981071705535002,
           0.3981071705535002,
           0.3981071705535002,
           0.3981071705535002,
           0.3981071705535002
          ],
          [
           0.5011872336272761,
           0.5011872336272761,
           0.5011872336272761,
           0.5011872336272761,
           0.5011872336272761,
           0.5011872336272761,
           0.5011872336272761,
           0.5011872336272761,
           0.5011872336272761,
           0.5011872336272761
          ],
          [
           0.6309573444801981,
           0.6309573444801981,
           0.6309573444801981,
           0.6309573444801981,
           0.6309573444801981,
           0.6309573444801981,
           0.6309573444801981,
           0.6309573444801981,
           0.6309573444801981,
           0.6309573444801981
          ],
          [
           0.7943282347242878,
           0.7943282347242878,
           0.7943282347242878,
           0.7943282347242878,
           0.7943282347242878,
           0.7943282347242878,
           0.7943282347242878,
           0.7943282347242878,
           0.7943282347242878,
           0.7943282347242878
          ],
          [
           1.0000000000000082,
           1.0000000000000082,
           1.0000000000000082,
           1.0000000000000082,
           1.0000000000000082,
           1.0000000000000082,
           1.0000000000000082,
           1.0000000000000082,
           1.0000000000000082,
           1.0000000000000082
          ],
          [
           1.2589254117941764,
           1.2589254117941764,
           1.2589254117941764,
           1.2589254117941764,
           1.2589254117941764,
           1.2589254117941764,
           1.2589254117941764,
           1.2589254117941764,
           1.2589254117941764,
           1.2589254117941764
          ],
          [
           1.5848931924611271,
           1.5848931924611271,
           1.5848931924611271,
           1.5848931924611271,
           1.5848931924611271,
           1.5848931924611271,
           1.5848931924611271,
           1.5848931924611271,
           1.5848931924611271,
           1.5848931924611271
          ],
          [
           1.9952623149688993,
           1.9952623149688993,
           1.9952623149688993,
           1.9952623149688993,
           1.9952623149688993,
           1.9952623149688993,
           1.9952623149688993,
           1.9952623149688993,
           1.9952623149688993,
           1.9952623149688993
          ],
          [
           2.511886431509603,
           2.511886431509603,
           2.511886431509603,
           2.511886431509603,
           2.511886431509603,
           2.511886431509603,
           2.511886431509603,
           2.511886431509603,
           2.511886431509603,
           2.511886431509603
          ],
          [
           3.1622776601684053,
           3.1622776601684053,
           3.1622776601684053,
           3.1622776601684053,
           3.1622776601684053,
           3.1622776601684053,
           3.1622776601684053,
           3.1622776601684053,
           3.1622776601684053,
           3.1622776601684053
          ],
          [
           3.98107170553501,
           3.98107170553501,
           3.98107170553501,
           3.98107170553501,
           3.98107170553501,
           3.98107170553501,
           3.98107170553501,
           3.98107170553501,
           3.98107170553501,
           3.98107170553501
          ],
          [
           5.011872336272776,
           5.011872336272776,
           5.011872336272776,
           5.011872336272776,
           5.011872336272776,
           5.011872336272776,
           5.011872336272776,
           5.011872336272776,
           5.011872336272776,
           5.011872336272776
          ],
          [
           6.309573444801995,
           6.309573444801995,
           6.309573444801995,
           6.309573444801995,
           6.309573444801995,
           6.309573444801995,
           6.309573444801995,
           6.309573444801995,
           6.309573444801995,
           6.309573444801995
          ],
          [
           7.943282347242887,
           7.943282347242887,
           7.943282347242887,
           7.943282347242887,
           7.943282347242887,
           7.943282347242887,
           7.943282347242887,
           7.943282347242887,
           7.943282347242887,
           7.943282347242887
          ],
          [
           10.000000000000103,
           10.000000000000103,
           10.000000000000103,
           10.000000000000103,
           10.000000000000103,
           10.000000000000103,
           10.000000000000103,
           10.000000000000103,
           10.000000000000103,
           10.000000000000103
          ]
         ],
         "z": [
          [
           0,
           0,
           0,
           0,
           0,
           0,
           0,
           0,
           0,
           0
          ],
          [
           0,
           0,
           0,
           0,
           0,
           0,
           0,
           0,
           0,
           0
          ],
          [
           0,
           0,
           0,
           0,
           0,
           0,
           0,
           0,
           0,
           0
          ],
          [
           0,
           0,
           0,
           0,
           0,
           0,
           0,
           0,
           0,
           0
          ],
          [
           0,
           0,
           0,
           0,
           0,
           0,
           0,
           0,
           0,
           0
          ],
          [
           0,
           0,
           0,
           0,
           0,
           0,
           0,
           0,
           0,
           0
          ],
          [
           0,
           0,
           0,
           0,
           0,
           0,
           0,
           0,
           0,
           0
          ],
          [
           0,
           0,
           0,
           0,
           0,
           0,
           0,
           0,
           0,
           0
          ],
          [
           0,
           0,
           0,
           0,
           0,
           0,
           0,
           0,
           0,
           0
          ],
          [
           0,
           0,
           0,
           0,
           0,
           0,
           0,
           0,
           0,
           0
          ],
          [
           0,
           0,
           0,
           0,
           0,
           0,
           0,
           0,
           0,
           0
          ],
          [
           0,
           0,
           0,
           0,
           0,
           0,
           0,
           0,
           0,
           0
          ],
          [
           0,
           0,
           0,
           0,
           0,
           0,
           0,
           0,
           0,
           0
          ],
          [
           0,
           0,
           0,
           0,
           0,
           0,
           0,
           0,
           0,
           0
          ],
          [
           0,
           0,
           0,
           0,
           0,
           0,
           0,
           0,
           0,
           0
          ],
          [
           0,
           0,
           0,
           0,
           0,
           0,
           0,
           0,
           0,
           0
          ],
          [
           0,
           0,
           0,
           0,
           0,
           0,
           0,
           0,
           0,
           0
          ],
          [
           0,
           0,
           0,
           0,
           0,
           0,
           0,
           0,
           0,
           0
          ],
          [
           0,
           0,
           0,
           0,
           0,
           0,
           0,
           0,
           0,
           0
          ],
          [
           0,
           0,
           0,
           0,
           0,
           0,
           0,
           0,
           0,
           0
          ],
          [
           0,
           0,
           0,
           0,
           0,
           0,
           0,
           0,
           0,
           0
          ],
          [
           0,
           0,
           0,
           0,
           0,
           0,
           0,
           0,
           0,
           0
          ],
          [
           0,
           0,
           0,
           0,
           0,
           0,
           0,
           0,
           0,
           0
          ],
          [
           0,
           0,
           0,
           0,
           0,
           0,
           0,
           0,
           0,
           0
          ],
          [
           0,
           0,
           0,
           0,
           0,
           0,
           0,
           0,
           0,
           0
          ],
          [
           0,
           0,
           0,
           0,
           0,
           0,
           0,
           0,
           0,
           0
          ],
          [
           0,
           0,
           0,
           0,
           0,
           0,
           0,
           0,
           0,
           0
          ],
          [
           0,
           0,
           0,
           0,
           0,
           0,
           0,
           0,
           0,
           0
          ],
          [
           0,
           0,
           0,
           0,
           0,
           0,
           0,
           0,
           0,
           0
          ],
          [
           0,
           0,
           0,
           0,
           0,
           0,
           0,
           0,
           0,
           0
          ],
          [
           0,
           0,
           0,
           0,
           0,
           0,
           0,
           0,
           0,
           0
          ],
          [
           0,
           0,
           0,
           0,
           0,
           0,
           0,
           0,
           0,
           0
          ],
          [
           0,
           0,
           0,
           0,
           0,
           0,
           0,
           0,
           0,
           0
          ],
          [
           0,
           0,
           0,
           0,
           0,
           0,
           0,
           0,
           0,
           0
          ],
          [
           0,
           0,
           0,
           0,
           0,
           0,
           0,
           0,
           0,
           0
          ],
          [
           0,
           0,
           0,
           0,
           0,
           0,
           0,
           0,
           0,
           0
          ],
          [
           0,
           0,
           0,
           0,
           0,
           0,
           0,
           0,
           0,
           0
          ],
          [
           0,
           0,
           0,
           0,
           0,
           0,
           0,
           0,
           0,
           0
          ],
          [
           0,
           0,
           0,
           0,
           0,
           0,
           0,
           0,
           0,
           0
          ],
          [
           10.039327337719776,
           0,
           0,
           0,
           0,
           0,
           0,
           0,
           0,
           0
          ],
          [
           9.974446058164801,
           10.061166241319178,
           0,
           0,
           0,
           0,
           0,
           0,
           0,
           0
          ],
          [
           9.877437893100323,
           10.021495037916681,
           10.038302148400211,
           10.040949599585378,
           10.04277439420196,
           10.044496216002265,
           10.04524747183067,
           10.04495454000629,
           10.044886426140344,
           10.044533357087099
          ],
          [
           9.757361855884527,
           9.94793112757636,
           9.981203800751013,
           9.990518253368775,
           9.995545608904118,
           9.998938221911793,
           10.00064041072024,
           10.001181266497095,
           10.001575406188657,
           10.001786094140908
          ],
          [
           9.630720002659473,
           9.843647111578814,
           9.890289852944242,
           9.905602047988294,
           9.913419824627663,
           9.918230260174987,
           9.92088220206915,
           9.922241360971332,
           9.923195027730145,
           9.923763346979511
          ],
          [
           9.516692090019552,
           9.720288756629682,
           9.773822393395905,
           9.792881528016121,
           9.802566720949885,
           9.808274332083485,
           9.811495516897288,
           9.81343144079803,
           9.814816194788731,
           9.815617978911462
          ],
          [
           9.42945364453023,
           9.595924799145982,
           9.647678101675798,
           9.66739837710969,
           9.677378082729993,
           9.683166240337204,
           9.686580162280558,
           9.688714426452371,
           9.690210097132999,
           9.691189444221939
          ],
          [
           9.373258119846538,
           9.488890494922268,
           9.531401991208808,
           9.54844197001476,
           9.55715725376134,
           9.562188311042112,
           9.565254608719055,
           9.567196413732917,
           9.568591953675263,
           9.569498289777595
          ],
          [
           9.34323819975281,
           9.410766807781041,
           9.440113153919576,
           9.4525950974326,
           9.459031288892659,
           9.4627827066442,
           9.465006155069963,
           9.46649686694761,
           9.467558740098129,
           9.46832416343694
          ],
          [
           9.329906148424085,
           9.362857147676781,
           9.379790489579477,
           9.387390496217527,
           9.391350701857883,
           9.39368134715756,
           9.395090516326217,
           9.396033123908287,
           9.396736617415716,
           9.397189422603715
          ],
          [
           9.325050487049433,
           9.338411523932434,
           9.346477907318278,
           9.350314817045454,
           9.352307587101352,
           9.35347340498921,
           9.35423842375982,
           9.354715666039892,
           9.355069351242722,
           9.355306425185338
          ],
          [
           9.32363675951997,
           9.328005518579507,
           9.33119132448772,
           9.332753658017916,
           9.333623526781125,
           9.33411344091468,
           9.334432830214471,
           9.334651515393338,
           9.3347791204287,
           9.33489486527337
          ]
         ]
        }
       ],
       "layout": {
        "height": 1000,
        "scene": {
         "xaxis": {
          "title": {
           "text": "Tau"
          }
         },
         "yaxis": {
          "title": {
           "text": "K"
          },
          "type": "log"
         },
         "zaxis": {
          "title": {
           "text": "Z-value"
          }
         }
        },
        "template": {
         "data": {
          "bar": [
           {
            "error_x": {
             "color": "#2a3f5f"
            },
            "error_y": {
             "color": "#2a3f5f"
            },
            "marker": {
             "line": {
              "color": "#E5ECF6",
              "width": 0.5
             },
             "pattern": {
              "fillmode": "overlay",
              "size": 10,
              "solidity": 0.2
             }
            },
            "type": "bar"
           }
          ],
          "barpolar": [
           {
            "marker": {
             "line": {
              "color": "#E5ECF6",
              "width": 0.5
             },
             "pattern": {
              "fillmode": "overlay",
              "size": 10,
              "solidity": 0.2
             }
            },
            "type": "barpolar"
           }
          ],
          "carpet": [
           {
            "aaxis": {
             "endlinecolor": "#2a3f5f",
             "gridcolor": "white",
             "linecolor": "white",
             "minorgridcolor": "white",
             "startlinecolor": "#2a3f5f"
            },
            "baxis": {
             "endlinecolor": "#2a3f5f",
             "gridcolor": "white",
             "linecolor": "white",
             "minorgridcolor": "white",
             "startlinecolor": "#2a3f5f"
            },
            "type": "carpet"
           }
          ],
          "choropleth": [
           {
            "colorbar": {
             "outlinewidth": 0,
             "ticks": ""
            },
            "type": "choropleth"
           }
          ],
          "contour": [
           {
            "colorbar": {
             "outlinewidth": 0,
             "ticks": ""
            },
            "colorscale": [
             [
              0,
              "#0d0887"
             ],
             [
              0.1111111111111111,
              "#46039f"
             ],
             [
              0.2222222222222222,
              "#7201a8"
             ],
             [
              0.3333333333333333,
              "#9c179e"
             ],
             [
              0.4444444444444444,
              "#bd3786"
             ],
             [
              0.5555555555555556,
              "#d8576b"
             ],
             [
              0.6666666666666666,
              "#ed7953"
             ],
             [
              0.7777777777777778,
              "#fb9f3a"
             ],
             [
              0.8888888888888888,
              "#fdca26"
             ],
             [
              1,
              "#f0f921"
             ]
            ],
            "type": "contour"
           }
          ],
          "contourcarpet": [
           {
            "colorbar": {
             "outlinewidth": 0,
             "ticks": ""
            },
            "type": "contourcarpet"
           }
          ],
          "heatmap": [
           {
            "colorbar": {
             "outlinewidth": 0,
             "ticks": ""
            },
            "colorscale": [
             [
              0,
              "#0d0887"
             ],
             [
              0.1111111111111111,
              "#46039f"
             ],
             [
              0.2222222222222222,
              "#7201a8"
             ],
             [
              0.3333333333333333,
              "#9c179e"
             ],
             [
              0.4444444444444444,
              "#bd3786"
             ],
             [
              0.5555555555555556,
              "#d8576b"
             ],
             [
              0.6666666666666666,
              "#ed7953"
             ],
             [
              0.7777777777777778,
              "#fb9f3a"
             ],
             [
              0.8888888888888888,
              "#fdca26"
             ],
             [
              1,
              "#f0f921"
             ]
            ],
            "type": "heatmap"
           }
          ],
          "heatmapgl": [
           {
            "colorbar": {
             "outlinewidth": 0,
             "ticks": ""
            },
            "colorscale": [
             [
              0,
              "#0d0887"
             ],
             [
              0.1111111111111111,
              "#46039f"
             ],
             [
              0.2222222222222222,
              "#7201a8"
             ],
             [
              0.3333333333333333,
              "#9c179e"
             ],
             [
              0.4444444444444444,
              "#bd3786"
             ],
             [
              0.5555555555555556,
              "#d8576b"
             ],
             [
              0.6666666666666666,
              "#ed7953"
             ],
             [
              0.7777777777777778,
              "#fb9f3a"
             ],
             [
              0.8888888888888888,
              "#fdca26"
             ],
             [
              1,
              "#f0f921"
             ]
            ],
            "type": "heatmapgl"
           }
          ],
          "histogram": [
           {
            "marker": {
             "pattern": {
              "fillmode": "overlay",
              "size": 10,
              "solidity": 0.2
             }
            },
            "type": "histogram"
           }
          ],
          "histogram2d": [
           {
            "colorbar": {
             "outlinewidth": 0,
             "ticks": ""
            },
            "colorscale": [
             [
              0,
              "#0d0887"
             ],
             [
              0.1111111111111111,
              "#46039f"
             ],
             [
              0.2222222222222222,
              "#7201a8"
             ],
             [
              0.3333333333333333,
              "#9c179e"
             ],
             [
              0.4444444444444444,
              "#bd3786"
             ],
             [
              0.5555555555555556,
              "#d8576b"
             ],
             [
              0.6666666666666666,
              "#ed7953"
             ],
             [
              0.7777777777777778,
              "#fb9f3a"
             ],
             [
              0.8888888888888888,
              "#fdca26"
             ],
             [
              1,
              "#f0f921"
             ]
            ],
            "type": "histogram2d"
           }
          ],
          "histogram2dcontour": [
           {
            "colorbar": {
             "outlinewidth": 0,
             "ticks": ""
            },
            "colorscale": [
             [
              0,
              "#0d0887"
             ],
             [
              0.1111111111111111,
              "#46039f"
             ],
             [
              0.2222222222222222,
              "#7201a8"
             ],
             [
              0.3333333333333333,
              "#9c179e"
             ],
             [
              0.4444444444444444,
              "#bd3786"
             ],
             [
              0.5555555555555556,
              "#d8576b"
             ],
             [
              0.6666666666666666,
              "#ed7953"
             ],
             [
              0.7777777777777778,
              "#fb9f3a"
             ],
             [
              0.8888888888888888,
              "#fdca26"
             ],
             [
              1,
              "#f0f921"
             ]
            ],
            "type": "histogram2dcontour"
           }
          ],
          "mesh3d": [
           {
            "colorbar": {
             "outlinewidth": 0,
             "ticks": ""
            },
            "type": "mesh3d"
           }
          ],
          "parcoords": [
           {
            "line": {
             "colorbar": {
              "outlinewidth": 0,
              "ticks": ""
             }
            },
            "type": "parcoords"
           }
          ],
          "pie": [
           {
            "automargin": true,
            "type": "pie"
           }
          ],
          "scatter": [
           {
            "fillpattern": {
             "fillmode": "overlay",
             "size": 10,
             "solidity": 0.2
            },
            "type": "scatter"
           }
          ],
          "scatter3d": [
           {
            "line": {
             "colorbar": {
              "outlinewidth": 0,
              "ticks": ""
             }
            },
            "marker": {
             "colorbar": {
              "outlinewidth": 0,
              "ticks": ""
             }
            },
            "type": "scatter3d"
           }
          ],
          "scattercarpet": [
           {
            "marker": {
             "colorbar": {
              "outlinewidth": 0,
              "ticks": ""
             }
            },
            "type": "scattercarpet"
           }
          ],
          "scattergeo": [
           {
            "marker": {
             "colorbar": {
              "outlinewidth": 0,
              "ticks": ""
             }
            },
            "type": "scattergeo"
           }
          ],
          "scattergl": [
           {
            "marker": {
             "colorbar": {
              "outlinewidth": 0,
              "ticks": ""
             }
            },
            "type": "scattergl"
           }
          ],
          "scattermapbox": [
           {
            "marker": {
             "colorbar": {
              "outlinewidth": 0,
              "ticks": ""
             }
            },
            "type": "scattermapbox"
           }
          ],
          "scatterpolar": [
           {
            "marker": {
             "colorbar": {
              "outlinewidth": 0,
              "ticks": ""
             }
            },
            "type": "scatterpolar"
           }
          ],
          "scatterpolargl": [
           {
            "marker": {
             "colorbar": {
              "outlinewidth": 0,
              "ticks": ""
             }
            },
            "type": "scatterpolargl"
           }
          ],
          "scatterternary": [
           {
            "marker": {
             "colorbar": {
              "outlinewidth": 0,
              "ticks": ""
             }
            },
            "type": "scatterternary"
           }
          ],
          "surface": [
           {
            "colorbar": {
             "outlinewidth": 0,
             "ticks": ""
            },
            "colorscale": [
             [
              0,
              "#0d0887"
             ],
             [
              0.1111111111111111,
              "#46039f"
             ],
             [
              0.2222222222222222,
              "#7201a8"
             ],
             [
              0.3333333333333333,
              "#9c179e"
             ],
             [
              0.4444444444444444,
              "#bd3786"
             ],
             [
              0.5555555555555556,
              "#d8576b"
             ],
             [
              0.6666666666666666,
              "#ed7953"
             ],
             [
              0.7777777777777778,
              "#fb9f3a"
             ],
             [
              0.8888888888888888,
              "#fdca26"
             ],
             [
              1,
              "#f0f921"
             ]
            ],
            "type": "surface"
           }
          ],
          "table": [
           {
            "cells": {
             "fill": {
              "color": "#EBF0F8"
             },
             "line": {
              "color": "white"
             }
            },
            "header": {
             "fill": {
              "color": "#C8D4E3"
             },
             "line": {
              "color": "white"
             }
            },
            "type": "table"
           }
          ]
         },
         "layout": {
          "annotationdefaults": {
           "arrowcolor": "#2a3f5f",
           "arrowhead": 0,
           "arrowwidth": 1
          },
          "autotypenumbers": "strict",
          "coloraxis": {
           "colorbar": {
            "outlinewidth": 0,
            "ticks": ""
           }
          },
          "colorscale": {
           "diverging": [
            [
             0,
             "#8e0152"
            ],
            [
             0.1,
             "#c51b7d"
            ],
            [
             0.2,
             "#de77ae"
            ],
            [
             0.3,
             "#f1b6da"
            ],
            [
             0.4,
             "#fde0ef"
            ],
            [
             0.5,
             "#f7f7f7"
            ],
            [
             0.6,
             "#e6f5d0"
            ],
            [
             0.7,
             "#b8e186"
            ],
            [
             0.8,
             "#7fbc41"
            ],
            [
             0.9,
             "#4d9221"
            ],
            [
             1,
             "#276419"
            ]
           ],
           "sequential": [
            [
             0,
             "#0d0887"
            ],
            [
             0.1111111111111111,
             "#46039f"
            ],
            [
             0.2222222222222222,
             "#7201a8"
            ],
            [
             0.3333333333333333,
             "#9c179e"
            ],
            [
             0.4444444444444444,
             "#bd3786"
            ],
            [
             0.5555555555555556,
             "#d8576b"
            ],
            [
             0.6666666666666666,
             "#ed7953"
            ],
            [
             0.7777777777777778,
             "#fb9f3a"
            ],
            [
             0.8888888888888888,
             "#fdca26"
            ],
            [
             1,
             "#f0f921"
            ]
           ],
           "sequentialminus": [
            [
             0,
             "#0d0887"
            ],
            [
             0.1111111111111111,
             "#46039f"
            ],
            [
             0.2222222222222222,
             "#7201a8"
            ],
            [
             0.3333333333333333,
             "#9c179e"
            ],
            [
             0.4444444444444444,
             "#bd3786"
            ],
            [
             0.5555555555555556,
             "#d8576b"
            ],
            [
             0.6666666666666666,
             "#ed7953"
            ],
            [
             0.7777777777777778,
             "#fb9f3a"
            ],
            [
             0.8888888888888888,
             "#fdca26"
            ],
            [
             1,
             "#f0f921"
            ]
           ]
          },
          "colorway": [
           "#636efa",
           "#EF553B",
           "#00cc96",
           "#ab63fa",
           "#FFA15A",
           "#19d3f3",
           "#FF6692",
           "#B6E880",
           "#FF97FF",
           "#FECB52"
          ],
          "font": {
           "color": "#2a3f5f"
          },
          "geo": {
           "bgcolor": "white",
           "lakecolor": "white",
           "landcolor": "#E5ECF6",
           "showlakes": true,
           "showland": true,
           "subunitcolor": "white"
          },
          "hoverlabel": {
           "align": "left"
          },
          "hovermode": "closest",
          "mapbox": {
           "style": "light"
          },
          "paper_bgcolor": "white",
          "plot_bgcolor": "#E5ECF6",
          "polar": {
           "angularaxis": {
            "gridcolor": "white",
            "linecolor": "white",
            "ticks": ""
           },
           "bgcolor": "#E5ECF6",
           "radialaxis": {
            "gridcolor": "white",
            "linecolor": "white",
            "ticks": ""
           }
          },
          "scene": {
           "xaxis": {
            "backgroundcolor": "#E5ECF6",
            "gridcolor": "white",
            "gridwidth": 2,
            "linecolor": "white",
            "showbackground": true,
            "ticks": "",
            "zerolinecolor": "white"
           },
           "yaxis": {
            "backgroundcolor": "#E5ECF6",
            "gridcolor": "white",
            "gridwidth": 2,
            "linecolor": "white",
            "showbackground": true,
            "ticks": "",
            "zerolinecolor": "white"
           },
           "zaxis": {
            "backgroundcolor": "#E5ECF6",
            "gridcolor": "white",
            "gridwidth": 2,
            "linecolor": "white",
            "showbackground": true,
            "ticks": "",
            "zerolinecolor": "white"
           }
          },
          "shapedefaults": {
           "line": {
            "color": "#2a3f5f"
           }
          },
          "ternary": {
           "aaxis": {
            "gridcolor": "white",
            "linecolor": "white",
            "ticks": ""
           },
           "baxis": {
            "gridcolor": "white",
            "linecolor": "white",
            "ticks": ""
           },
           "bgcolor": "#E5ECF6",
           "caxis": {
            "gridcolor": "white",
            "linecolor": "white",
            "ticks": ""
           }
          },
          "title": {
           "x": 0.05
          },
          "xaxis": {
           "automargin": true,
           "gridcolor": "white",
           "linecolor": "white",
           "ticks": "",
           "title": {
            "standoff": 15
           },
           "zerolinecolor": "white",
           "zerolinewidth": 2
          },
          "yaxis": {
           "automargin": true,
           "gridcolor": "white",
           "linecolor": "white",
           "ticks": "",
           "title": {
            "standoff": 15
           },
           "zerolinecolor": "white",
           "zerolinewidth": 2
          }
         }
        },
        "title": {
         "text": "3D Surface Plot of output from 24th-Transformer-layer"
        },
        "width": 1000
       }
      }
     },
     "metadata": {},
     "output_type": "display_data"
    }
   ],
   "source": [
    "df = pd.json_normalize(results2)\n",
    "\n",
    "\n",
    "df['tau'] = df['tau'].apply(lambda x: x[0] if isinstance(x, list) else x)\n",
    "df['k'] = df['k'].apply(lambda x: x[0] if isinstance(x, list) else x)\n",
    "df['z-value'] = df['z-value'].apply(lambda x: x[0] if isinstance(x, list) else x)\n",
    "\n",
    "tau_vals = tau_values  \n",
    "k_vals = k_values\n",
    "tau_grid, k_grid = np.meshgrid(tau_vals, k_vals)  \n",
    "\n",
    "\n",
    "from scipy.interpolate import griddata\n",
    "#z_grid = griddata((df['tau'], df['k']), df['z-value'], (tau_grid, k_grid), method='linear')\n",
    "\n",
    "z_grid = griddata((df['tau'], df['k']), df['z-value'], (tau_grid, k_grid), method='nearest')\n",
    "\n",
    "fig = go.Figure(data=[go.Surface(z=z_grid, x=tau_grid, y=k_grid, colorscale='Viridis')])\n",
    "\n",
    "fig.update_layout(\n",
    "    width=1000,\n",
    "    height=1000,\n",
    "    title='3D Surface Plot of output from 24th-Transformer-layer',\n",
    "    scene=dict(\n",
    "        xaxis_title='Tau',\n",
    "        yaxis_title='K',\n",
    "        zaxis_title='Z-value',\n",
    "        yaxis=dict(type='log')\n",
    "    )\n",
    ")\n",
    "\n",
    "fig.show()"
   ]
  },
  {
   "cell_type": "code",
   "execution_count": 118,
   "metadata": {},
   "outputs": [
    {
     "name": "stdout",
     "output_type": "stream",
     "text": [
      "Total wall time: 911.62 seconds\n"
     ]
    }
   ],
   "source": [
    "\n",
    "import pickle\n",
    "with open(\"..\\O_Jan31\\hubert_words_CNN.pkl\", \"rb\") as file:\n",
    "    sentence_matrix2 = pickle.load(file)\n",
    "\n",
    "word_features2,out_dict2=create_set(audio_dir, human_result_1a, sentence_matrix2)\n",
    "tau_values = np.arange(1,11,1)\n",
    "k_values = 10**np.arange(-1,3.1,0.2)\n",
    "import itertools\n",
    "import multiprocessing\n",
    "import time\n",
    "from joblib import Parallel, delayed\n",
    "pandas2ri.activate()\n",
    "params_grid=list(itertools.product(tau_values, k_values))\n",
    "\n",
    "start_time = time.time()\n",
    "n_jobs = min(32, multiprocessing.cpu_count())\n",
    "results3 = Parallel(n_jobs=n_jobs)(delayed(objective_function)(_,out_dict2, human_result_1a) for _ in params_grid)\n",
    "end_time = time.time()\n",
    "print(f\"Total wall time: {end_time - start_time:.2f} seconds\")"
   ]
  },
  {
   "cell_type": "code",
   "execution_count": 124,
   "metadata": {},
   "outputs": [
    {
     "data": {
      "application/vnd.plotly.v1+json": {
       "config": {
        "plotlyServerURL": "https://plot.ly"
       },
       "data": [
        {
         "colorscale": [
          [
           0,
           "#440154"
          ],
          [
           0.1111111111111111,
           "#482878"
          ],
          [
           0.2222222222222222,
           "#3e4989"
          ],
          [
           0.3333333333333333,
           "#31688e"
          ],
          [
           0.4444444444444444,
           "#26828e"
          ],
          [
           0.5555555555555556,
           "#1f9e89"
          ],
          [
           0.6666666666666666,
           "#35b779"
          ],
          [
           0.7777777777777778,
           "#6ece58"
          ],
          [
           0.8888888888888888,
           "#b5de2b"
          ],
          [
           1,
           "#fde725"
          ]
         ],
         "type": "surface",
         "x": [
          [
           1,
           2,
           3,
           4,
           5,
           6,
           7,
           8,
           9,
           10
          ],
          [
           1,
           2,
           3,
           4,
           5,
           6,
           7,
           8,
           9,
           10
          ],
          [
           1,
           2,
           3,
           4,
           5,
           6,
           7,
           8,
           9,
           10
          ],
          [
           1,
           2,
           3,
           4,
           5,
           6,
           7,
           8,
           9,
           10
          ],
          [
           1,
           2,
           3,
           4,
           5,
           6,
           7,
           8,
           9,
           10
          ],
          [
           1,
           2,
           3,
           4,
           5,
           6,
           7,
           8,
           9,
           10
          ],
          [
           1,
           2,
           3,
           4,
           5,
           6,
           7,
           8,
           9,
           10
          ],
          [
           1,
           2,
           3,
           4,
           5,
           6,
           7,
           8,
           9,
           10
          ],
          [
           1,
           2,
           3,
           4,
           5,
           6,
           7,
           8,
           9,
           10
          ],
          [
           1,
           2,
           3,
           4,
           5,
           6,
           7,
           8,
           9,
           10
          ],
          [
           1,
           2,
           3,
           4,
           5,
           6,
           7,
           8,
           9,
           10
          ],
          [
           1,
           2,
           3,
           4,
           5,
           6,
           7,
           8,
           9,
           10
          ],
          [
           1,
           2,
           3,
           4,
           5,
           6,
           7,
           8,
           9,
           10
          ],
          [
           1,
           2,
           3,
           4,
           5,
           6,
           7,
           8,
           9,
           10
          ],
          [
           1,
           2,
           3,
           4,
           5,
           6,
           7,
           8,
           9,
           10
          ],
          [
           1,
           2,
           3,
           4,
           5,
           6,
           7,
           8,
           9,
           10
          ],
          [
           1,
           2,
           3,
           4,
           5,
           6,
           7,
           8,
           9,
           10
          ],
          [
           1,
           2,
           3,
           4,
           5,
           6,
           7,
           8,
           9,
           10
          ],
          [
           1,
           2,
           3,
           4,
           5,
           6,
           7,
           8,
           9,
           10
          ],
          [
           1,
           2,
           3,
           4,
           5,
           6,
           7,
           8,
           9,
           10
          ],
          [
           1,
           2,
           3,
           4,
           5,
           6,
           7,
           8,
           9,
           10
          ]
         ],
         "y": [
          [
           0.1,
           0.1,
           0.1,
           0.1,
           0.1,
           0.1,
           0.1,
           0.1,
           0.1,
           0.1
          ],
          [
           0.15848931924611134,
           0.15848931924611134,
           0.15848931924611134,
           0.15848931924611134,
           0.15848931924611134,
           0.15848931924611134,
           0.15848931924611134,
           0.15848931924611134,
           0.15848931924611134,
           0.15848931924611134
          ],
          [
           0.25118864315095796,
           0.25118864315095796,
           0.25118864315095796,
           0.25118864315095796,
           0.25118864315095796,
           0.25118864315095796,
           0.25118864315095796,
           0.25118864315095796,
           0.25118864315095796,
           0.25118864315095796
          ],
          [
           0.39810717055349715,
           0.39810717055349715,
           0.39810717055349715,
           0.39810717055349715,
           0.39810717055349715,
           0.39810717055349715,
           0.39810717055349715,
           0.39810717055349715,
           0.39810717055349715,
           0.39810717055349715
          ],
          [
           0.630957344480193,
           0.630957344480193,
           0.630957344480193,
           0.630957344480193,
           0.630957344480193,
           0.630957344480193,
           0.630957344480193,
           0.630957344480193,
           0.630957344480193,
           0.630957344480193
          ],
          [
           0.9999999999999994,
           0.9999999999999994,
           0.9999999999999994,
           0.9999999999999994,
           0.9999999999999994,
           0.9999999999999994,
           0.9999999999999994,
           0.9999999999999994,
           0.9999999999999994,
           0.9999999999999994
          ],
          [
           1.5848931924611125,
           1.5848931924611125,
           1.5848931924611125,
           1.5848931924611125,
           1.5848931924611125,
           1.5848931924611125,
           1.5848931924611125,
           1.5848931924611125,
           1.5848931924611125,
           1.5848931924611125
          ],
          [
           2.5118864315095784,
           2.5118864315095784,
           2.5118864315095784,
           2.5118864315095784,
           2.5118864315095784,
           2.5118864315095784,
           2.5118864315095784,
           2.5118864315095784,
           2.5118864315095784,
           2.5118864315095784
          ],
          [
           3.981071705534969,
           3.981071705534969,
           3.981071705534969,
           3.981071705534969,
           3.981071705534969,
           3.981071705534969,
           3.981071705534969,
           3.981071705534969,
           3.981071705534969,
           3.981071705534969
          ],
          [
           6.309573444801926,
           6.309573444801926,
           6.309573444801926,
           6.309573444801926,
           6.309573444801926,
           6.309573444801926,
           6.309573444801926,
           6.309573444801926,
           6.309573444801926,
           6.309573444801926
          ],
          [
           9.99999999999999,
           9.99999999999999,
           9.99999999999999,
           9.99999999999999,
           9.99999999999999,
           9.99999999999999,
           9.99999999999999,
           9.99999999999999,
           9.99999999999999,
           9.99999999999999
          ],
          [
           15.84893192461111,
           15.84893192461111,
           15.84893192461111,
           15.84893192461111,
           15.84893192461111,
           15.84893192461111,
           15.84893192461111,
           15.84893192461111,
           15.84893192461111,
           15.84893192461111
          ],
          [
           25.11886431509577,
           25.11886431509577,
           25.11886431509577,
           25.11886431509577,
           25.11886431509577,
           25.11886431509577,
           25.11886431509577,
           25.11886431509577,
           25.11886431509577,
           25.11886431509577
          ],
          [
           39.81071705534969,
           39.81071705534969,
           39.81071705534969,
           39.81071705534969,
           39.81071705534969,
           39.81071705534969,
           39.81071705534969,
           39.81071705534969,
           39.81071705534969,
           39.81071705534969
          ],
          [
           63.095734448019236,
           63.095734448019236,
           63.095734448019236,
           63.095734448019236,
           63.095734448019236,
           63.095734448019236,
           63.095734448019236,
           63.095734448019236,
           63.095734448019236,
           63.095734448019236
          ],
          [
           99.9999999999998,
           99.9999999999998,
           99.9999999999998,
           99.9999999999998,
           99.9999999999998,
           99.9999999999998,
           99.9999999999998,
           99.9999999999998,
           99.9999999999998,
           99.9999999999998
          ],
          [
           158.48931924611108,
           158.48931924611108,
           158.48931924611108,
           158.48931924611108,
           158.48931924611108,
           158.48931924611108,
           158.48931924611108,
           158.48931924611108,
           158.48931924611108,
           158.48931924611108
          ],
          [
           251.18864315095772,
           251.18864315095772,
           251.18864315095772,
           251.18864315095772,
           251.18864315095772,
           251.18864315095772,
           251.18864315095772,
           251.18864315095772,
           251.18864315095772,
           251.18864315095772
          ],
          [
           398.10717055349653,
           398.10717055349653,
           398.10717055349653,
           398.10717055349653,
           398.10717055349653,
           398.10717055349653,
           398.10717055349653,
           398.10717055349653,
           398.10717055349653,
           398.10717055349653
          ],
          [
           630.9573444801918,
           630.9573444801918,
           630.9573444801918,
           630.9573444801918,
           630.9573444801918,
           630.9573444801918,
           630.9573444801918,
           630.9573444801918,
           630.9573444801918,
           630.9573444801918
          ],
          [
           999.999999999998,
           999.999999999998,
           999.999999999998,
           999.999999999998,
           999.999999999998,
           999.999999999998,
           999.999999999998,
           999.999999999998,
           999.999999999998,
           999.999999999998
          ]
         ],
         "z": [
          [
           0,
           0,
           0,
           0,
           0,
           0,
           0,
           0,
           0,
           0
          ],
          [
           0,
           0,
           0,
           0,
           0,
           0,
           0,
           0,
           0,
           0
          ],
          [
           0,
           0,
           0,
           0,
           0,
           0,
           0,
           0,
           0,
           0
          ],
          [
           0,
           0,
           0,
           0,
           0,
           0,
           0,
           0,
           0,
           0
          ],
          [
           0,
           0,
           0,
           0,
           0,
           0,
           0,
           0,
           0,
           0
          ],
          [
           9.97441811429716,
           10.061048648621547,
           0,
           0,
           0,
           0,
           0,
           0,
           0,
           0
          ],
          [
           9.757374414254967,
           9.94792244084757,
           9.981142087288136,
           9.990494019802723,
           9.995489754728943,
           9.998922349501989,
           10.000602564812395,
           10.001127624776709,
           10.001576597412967,
           10.001748356995746
          ],
          [
           9.516698055912924,
           9.720282222799899,
           9.773767984889636,
           9.792863777602673,
           9.802555032245145,
           9.808272323848579,
           9.81155439092065,
           9.813405090395365,
           9.81480697330906,
           9.815706182845794
          ],
          [
           9.373251067909633,
           9.488909377523072,
           9.53134972802461,
           9.548421794255459,
           9.557150948239675,
           9.562196137067684,
           9.565267599116067,
           9.567215718773777,
           9.56856498527151,
           9.569515115195761
          ],
          [
           9.329869780281248,
           9.362863461085528,
           9.379813666684395,
           9.387415254714705,
           9.39139055597818,
           9.393694438874272,
           9.395080746766954,
           9.396069015025875,
           9.39670612865201,
           9.39717331037125
          ],
          [
           9.32364166976348,
           9.328025205878197,
           9.331197958228067,
           9.332793782647153,
           9.333597899375466,
           9.334070056819547,
           9.334454062826058,
           9.33464739231911,
           9.334785038974028,
           9.334896569164306
          ],
          [
           9.323258007563958,
           9.323491643465296,
           9.323725762511746,
           9.323879275970306,
           9.323922346504343,
           9.32399920425133,
           9.3240669393487,
           9.324019075455569,
           9.324068185400181,
           9.324054412676986
          ],
          [
           9.323236105416857,
           9.323227446288756,
           9.323264654418834,
           9.32324964844468,
           9.323286492345135,
           9.323251156254315,
           9.32326647001254,
           9.323303140988143,
           9.323244782516825,
           9.323248152471809
          ],
          [
           9.323258472284516,
           9.32324218308558,
           9.323253253583252,
           9.323235555444178,
           9.323263165885125,
           9.323218898004615,
           9.323266180752656,
           9.323252320974838,
           9.323227854324776,
           9.323255525151138
          ],
          [
           9.32323357732762,
           9.323252590830624,
           9.323219908690195,
           9.323245572163799,
           9.323247375319339,
           9.323271688784297,
           9.323223869902861,
           9.323198150234544,
           9.323279847526013,
           9.323284969679653
          ],
          [
           9.32323357732762,
           9.32323357732762,
           9.32323357732762,
           9.32323357732762,
           9.32323357732762,
           9.323248986515852,
           9.323248986515852,
           9.323272857053398,
           9.323286767104658,
           9.323286767104658
          ],
          [
           9.32323357732762,
           9.32323357732762,
           9.32323357732762,
           9.32323357732762,
           9.32323357732762,
           9.32323357732762,
           9.32323357732762,
           9.32323357732762,
           9.32323357732762,
           9.32323357732762
          ],
          [
           9.32323357732762,
           9.32323357732762,
           9.32323357732762,
           9.32323357732762,
           9.32323357732762,
           9.32323357732762,
           9.32323357732762,
           9.32323357732762,
           9.32323357732762,
           9.32323357732762
          ],
          [
           9.32323357732762,
           9.32323357732762,
           9.32323357732762,
           9.32323357732762,
           9.32323357732762,
           9.32323357732762,
           9.32323357732762,
           9.32323357732762,
           9.32323357732762,
           9.32323357732762
          ],
          [
           9.32323357732762,
           9.32323357732762,
           9.32323357732762,
           9.32323357732762,
           9.32323357732762,
           9.32323357732762,
           9.32323357732762,
           9.32323357732762,
           9.32323357732762,
           9.32323357732762
          ],
          [
           9.32323357732762,
           9.32323357732762,
           9.32323357732762,
           9.32323357732762,
           9.32323357732762,
           9.32323357732762,
           9.32323357732762,
           9.32323357732762,
           9.32323357732762,
           9.32323357732762
          ]
         ]
        }
       ],
       "layout": {
        "height": 1000,
        "scene": {
         "xaxis": {
          "title": {
           "text": "Tau"
          }
         },
         "yaxis": {
          "title": {
           "text": "K"
          },
          "type": "log"
         },
         "zaxis": {
          "title": {
           "text": "Z-value"
          }
         }
        },
        "template": {
         "data": {
          "bar": [
           {
            "error_x": {
             "color": "#2a3f5f"
            },
            "error_y": {
             "color": "#2a3f5f"
            },
            "marker": {
             "line": {
              "color": "#E5ECF6",
              "width": 0.5
             },
             "pattern": {
              "fillmode": "overlay",
              "size": 10,
              "solidity": 0.2
             }
            },
            "type": "bar"
           }
          ],
          "barpolar": [
           {
            "marker": {
             "line": {
              "color": "#E5ECF6",
              "width": 0.5
             },
             "pattern": {
              "fillmode": "overlay",
              "size": 10,
              "solidity": 0.2
             }
            },
            "type": "barpolar"
           }
          ],
          "carpet": [
           {
            "aaxis": {
             "endlinecolor": "#2a3f5f",
             "gridcolor": "white",
             "linecolor": "white",
             "minorgridcolor": "white",
             "startlinecolor": "#2a3f5f"
            },
            "baxis": {
             "endlinecolor": "#2a3f5f",
             "gridcolor": "white",
             "linecolor": "white",
             "minorgridcolor": "white",
             "startlinecolor": "#2a3f5f"
            },
            "type": "carpet"
           }
          ],
          "choropleth": [
           {
            "colorbar": {
             "outlinewidth": 0,
             "ticks": ""
            },
            "type": "choropleth"
           }
          ],
          "contour": [
           {
            "colorbar": {
             "outlinewidth": 0,
             "ticks": ""
            },
            "colorscale": [
             [
              0,
              "#0d0887"
             ],
             [
              0.1111111111111111,
              "#46039f"
             ],
             [
              0.2222222222222222,
              "#7201a8"
             ],
             [
              0.3333333333333333,
              "#9c179e"
             ],
             [
              0.4444444444444444,
              "#bd3786"
             ],
             [
              0.5555555555555556,
              "#d8576b"
             ],
             [
              0.6666666666666666,
              "#ed7953"
             ],
             [
              0.7777777777777778,
              "#fb9f3a"
             ],
             [
              0.8888888888888888,
              "#fdca26"
             ],
             [
              1,
              "#f0f921"
             ]
            ],
            "type": "contour"
           }
          ],
          "contourcarpet": [
           {
            "colorbar": {
             "outlinewidth": 0,
             "ticks": ""
            },
            "type": "contourcarpet"
           }
          ],
          "heatmap": [
           {
            "colorbar": {
             "outlinewidth": 0,
             "ticks": ""
            },
            "colorscale": [
             [
              0,
              "#0d0887"
             ],
             [
              0.1111111111111111,
              "#46039f"
             ],
             [
              0.2222222222222222,
              "#7201a8"
             ],
             [
              0.3333333333333333,
              "#9c179e"
             ],
             [
              0.4444444444444444,
              "#bd3786"
             ],
             [
              0.5555555555555556,
              "#d8576b"
             ],
             [
              0.6666666666666666,
              "#ed7953"
             ],
             [
              0.7777777777777778,
              "#fb9f3a"
             ],
             [
              0.8888888888888888,
              "#fdca26"
             ],
             [
              1,
              "#f0f921"
             ]
            ],
            "type": "heatmap"
           }
          ],
          "heatmapgl": [
           {
            "colorbar": {
             "outlinewidth": 0,
             "ticks": ""
            },
            "colorscale": [
             [
              0,
              "#0d0887"
             ],
             [
              0.1111111111111111,
              "#46039f"
             ],
             [
              0.2222222222222222,
              "#7201a8"
             ],
             [
              0.3333333333333333,
              "#9c179e"
             ],
             [
              0.4444444444444444,
              "#bd3786"
             ],
             [
              0.5555555555555556,
              "#d8576b"
             ],
             [
              0.6666666666666666,
              "#ed7953"
             ],
             [
              0.7777777777777778,
              "#fb9f3a"
             ],
             [
              0.8888888888888888,
              "#fdca26"
             ],
             [
              1,
              "#f0f921"
             ]
            ],
            "type": "heatmapgl"
           }
          ],
          "histogram": [
           {
            "marker": {
             "pattern": {
              "fillmode": "overlay",
              "size": 10,
              "solidity": 0.2
             }
            },
            "type": "histogram"
           }
          ],
          "histogram2d": [
           {
            "colorbar": {
             "outlinewidth": 0,
             "ticks": ""
            },
            "colorscale": [
             [
              0,
              "#0d0887"
             ],
             [
              0.1111111111111111,
              "#46039f"
             ],
             [
              0.2222222222222222,
              "#7201a8"
             ],
             [
              0.3333333333333333,
              "#9c179e"
             ],
             [
              0.4444444444444444,
              "#bd3786"
             ],
             [
              0.5555555555555556,
              "#d8576b"
             ],
             [
              0.6666666666666666,
              "#ed7953"
             ],
             [
              0.7777777777777778,
              "#fb9f3a"
             ],
             [
              0.8888888888888888,
              "#fdca26"
             ],
             [
              1,
              "#f0f921"
             ]
            ],
            "type": "histogram2d"
           }
          ],
          "histogram2dcontour": [
           {
            "colorbar": {
             "outlinewidth": 0,
             "ticks": ""
            },
            "colorscale": [
             [
              0,
              "#0d0887"
             ],
             [
              0.1111111111111111,
              "#46039f"
             ],
             [
              0.2222222222222222,
              "#7201a8"
             ],
             [
              0.3333333333333333,
              "#9c179e"
             ],
             [
              0.4444444444444444,
              "#bd3786"
             ],
             [
              0.5555555555555556,
              "#d8576b"
             ],
             [
              0.6666666666666666,
              "#ed7953"
             ],
             [
              0.7777777777777778,
              "#fb9f3a"
             ],
             [
              0.8888888888888888,
              "#fdca26"
             ],
             [
              1,
              "#f0f921"
             ]
            ],
            "type": "histogram2dcontour"
           }
          ],
          "mesh3d": [
           {
            "colorbar": {
             "outlinewidth": 0,
             "ticks": ""
            },
            "type": "mesh3d"
           }
          ],
          "parcoords": [
           {
            "line": {
             "colorbar": {
              "outlinewidth": 0,
              "ticks": ""
             }
            },
            "type": "parcoords"
           }
          ],
          "pie": [
           {
            "automargin": true,
            "type": "pie"
           }
          ],
          "scatter": [
           {
            "fillpattern": {
             "fillmode": "overlay",
             "size": 10,
             "solidity": 0.2
            },
            "type": "scatter"
           }
          ],
          "scatter3d": [
           {
            "line": {
             "colorbar": {
              "outlinewidth": 0,
              "ticks": ""
             }
            },
            "marker": {
             "colorbar": {
              "outlinewidth": 0,
              "ticks": ""
             }
            },
            "type": "scatter3d"
           }
          ],
          "scattercarpet": [
           {
            "marker": {
             "colorbar": {
              "outlinewidth": 0,
              "ticks": ""
             }
            },
            "type": "scattercarpet"
           }
          ],
          "scattergeo": [
           {
            "marker": {
             "colorbar": {
              "outlinewidth": 0,
              "ticks": ""
             }
            },
            "type": "scattergeo"
           }
          ],
          "scattergl": [
           {
            "marker": {
             "colorbar": {
              "outlinewidth": 0,
              "ticks": ""
             }
            },
            "type": "scattergl"
           }
          ],
          "scattermapbox": [
           {
            "marker": {
             "colorbar": {
              "outlinewidth": 0,
              "ticks": ""
             }
            },
            "type": "scattermapbox"
           }
          ],
          "scatterpolar": [
           {
            "marker": {
             "colorbar": {
              "outlinewidth": 0,
              "ticks": ""
             }
            },
            "type": "scatterpolar"
           }
          ],
          "scatterpolargl": [
           {
            "marker": {
             "colorbar": {
              "outlinewidth": 0,
              "ticks": ""
             }
            },
            "type": "scatterpolargl"
           }
          ],
          "scatterternary": [
           {
            "marker": {
             "colorbar": {
              "outlinewidth": 0,
              "ticks": ""
             }
            },
            "type": "scatterternary"
           }
          ],
          "surface": [
           {
            "colorbar": {
             "outlinewidth": 0,
             "ticks": ""
            },
            "colorscale": [
             [
              0,
              "#0d0887"
             ],
             [
              0.1111111111111111,
              "#46039f"
             ],
             [
              0.2222222222222222,
              "#7201a8"
             ],
             [
              0.3333333333333333,
              "#9c179e"
             ],
             [
              0.4444444444444444,
              "#bd3786"
             ],
             [
              0.5555555555555556,
              "#d8576b"
             ],
             [
              0.6666666666666666,
              "#ed7953"
             ],
             [
              0.7777777777777778,
              "#fb9f3a"
             ],
             [
              0.8888888888888888,
              "#fdca26"
             ],
             [
              1,
              "#f0f921"
             ]
            ],
            "type": "surface"
           }
          ],
          "table": [
           {
            "cells": {
             "fill": {
              "color": "#EBF0F8"
             },
             "line": {
              "color": "white"
             }
            },
            "header": {
             "fill": {
              "color": "#C8D4E3"
             },
             "line": {
              "color": "white"
             }
            },
            "type": "table"
           }
          ]
         },
         "layout": {
          "annotationdefaults": {
           "arrowcolor": "#2a3f5f",
           "arrowhead": 0,
           "arrowwidth": 1
          },
          "autotypenumbers": "strict",
          "coloraxis": {
           "colorbar": {
            "outlinewidth": 0,
            "ticks": ""
           }
          },
          "colorscale": {
           "diverging": [
            [
             0,
             "#8e0152"
            ],
            [
             0.1,
             "#c51b7d"
            ],
            [
             0.2,
             "#de77ae"
            ],
            [
             0.3,
             "#f1b6da"
            ],
            [
             0.4,
             "#fde0ef"
            ],
            [
             0.5,
             "#f7f7f7"
            ],
            [
             0.6,
             "#e6f5d0"
            ],
            [
             0.7,
             "#b8e186"
            ],
            [
             0.8,
             "#7fbc41"
            ],
            [
             0.9,
             "#4d9221"
            ],
            [
             1,
             "#276419"
            ]
           ],
           "sequential": [
            [
             0,
             "#0d0887"
            ],
            [
             0.1111111111111111,
             "#46039f"
            ],
            [
             0.2222222222222222,
             "#7201a8"
            ],
            [
             0.3333333333333333,
             "#9c179e"
            ],
            [
             0.4444444444444444,
             "#bd3786"
            ],
            [
             0.5555555555555556,
             "#d8576b"
            ],
            [
             0.6666666666666666,
             "#ed7953"
            ],
            [
             0.7777777777777778,
             "#fb9f3a"
            ],
            [
             0.8888888888888888,
             "#fdca26"
            ],
            [
             1,
             "#f0f921"
            ]
           ],
           "sequentialminus": [
            [
             0,
             "#0d0887"
            ],
            [
             0.1111111111111111,
             "#46039f"
            ],
            [
             0.2222222222222222,
             "#7201a8"
            ],
            [
             0.3333333333333333,
             "#9c179e"
            ],
            [
             0.4444444444444444,
             "#bd3786"
            ],
            [
             0.5555555555555556,
             "#d8576b"
            ],
            [
             0.6666666666666666,
             "#ed7953"
            ],
            [
             0.7777777777777778,
             "#fb9f3a"
            ],
            [
             0.8888888888888888,
             "#fdca26"
            ],
            [
             1,
             "#f0f921"
            ]
           ]
          },
          "colorway": [
           "#636efa",
           "#EF553B",
           "#00cc96",
           "#ab63fa",
           "#FFA15A",
           "#19d3f3",
           "#FF6692",
           "#B6E880",
           "#FF97FF",
           "#FECB52"
          ],
          "font": {
           "color": "#2a3f5f"
          },
          "geo": {
           "bgcolor": "white",
           "lakecolor": "white",
           "landcolor": "#E5ECF6",
           "showlakes": true,
           "showland": true,
           "subunitcolor": "white"
          },
          "hoverlabel": {
           "align": "left"
          },
          "hovermode": "closest",
          "mapbox": {
           "style": "light"
          },
          "paper_bgcolor": "white",
          "plot_bgcolor": "#E5ECF6",
          "polar": {
           "angularaxis": {
            "gridcolor": "white",
            "linecolor": "white",
            "ticks": ""
           },
           "bgcolor": "#E5ECF6",
           "radialaxis": {
            "gridcolor": "white",
            "linecolor": "white",
            "ticks": ""
           }
          },
          "scene": {
           "xaxis": {
            "backgroundcolor": "#E5ECF6",
            "gridcolor": "white",
            "gridwidth": 2,
            "linecolor": "white",
            "showbackground": true,
            "ticks": "",
            "zerolinecolor": "white"
           },
           "yaxis": {
            "backgroundcolor": "#E5ECF6",
            "gridcolor": "white",
            "gridwidth": 2,
            "linecolor": "white",
            "showbackground": true,
            "ticks": "",
            "zerolinecolor": "white"
           },
           "zaxis": {
            "backgroundcolor": "#E5ECF6",
            "gridcolor": "white",
            "gridwidth": 2,
            "linecolor": "white",
            "showbackground": true,
            "ticks": "",
            "zerolinecolor": "white"
           }
          },
          "shapedefaults": {
           "line": {
            "color": "#2a3f5f"
           }
          },
          "ternary": {
           "aaxis": {
            "gridcolor": "white",
            "linecolor": "white",
            "ticks": ""
           },
           "baxis": {
            "gridcolor": "white",
            "linecolor": "white",
            "ticks": ""
           },
           "bgcolor": "#E5ECF6",
           "caxis": {
            "gridcolor": "white",
            "linecolor": "white",
            "ticks": ""
           }
          },
          "title": {
           "x": 0.05
          },
          "xaxis": {
           "automargin": true,
           "gridcolor": "white",
           "linecolor": "white",
           "ticks": "",
           "title": {
            "standoff": 15
           },
           "zerolinecolor": "white",
           "zerolinewidth": 2
          },
          "yaxis": {
           "automargin": true,
           "gridcolor": "white",
           "linecolor": "white",
           "ticks": "",
           "title": {
            "standoff": 15
           },
           "zerolinecolor": "white",
           "zerolinewidth": 2
          }
         }
        },
        "title": {
         "text": "3D Surface Plot of output from 7th-CNN-layer"
        },
        "width": 1000
       }
      }
     },
     "metadata": {},
     "output_type": "display_data"
    }
   ],
   "source": [
    "df = pd.json_normalize(results3)\n",
    "\n",
    "\n",
    "df['tau'] = df['tau'].apply(lambda x: x[0] if isinstance(x, list) else x)\n",
    "df['k'] = df['k'].apply(lambda x: x[0] if isinstance(x, list) else x)\n",
    "df['z-value'] = df['z-value'].apply(lambda x: x[0] if isinstance(x, list) else x)\n",
    "\n",
    "tau_vals = tau_values\n",
    "k_vals = k_values\n",
    "tau_grid, k_grid = np.meshgrid(tau_vals, k_vals)\n",
    "\n",
    "\n",
    "from scipy.interpolate import griddata\n",
    "#z_grid = griddata((df['tau'], df['k']), df['z-value'], (tau_grid, k_grid), method='linear')\n",
    "\n",
    "z_grid = griddata((df['tau'], df['k']), df['z-value'], (tau_grid, k_grid), method='nearest')\n",
    "\n",
    "fig = go.Figure(data=[go.Surface(z=z_grid, x=tau_grid, y=k_grid, colorscale='Viridis')])\n",
    "\n",
    "fig.update_layout(\n",
    "    width=1000,\n",
    "    height=1000,\n",
    "    title='3D Surface Plot of output from 7th-CNN-layer',\n",
    "    scene=dict(\n",
    "        xaxis_title='Tau',\n",
    "        yaxis_title='K',\n",
    "        zaxis_title='Z-value',\n",
    "        yaxis=dict(type='log')\n",
    "    )\n",
    ")\n",
    "\n",
    "fig.show()"
   ]
  },
  {
   "cell_type": "code",
   "execution_count": null,
   "metadata": {},
   "outputs": [],
   "source": [
    "\n",
    "\n"
   ]
  },
  {
   "cell_type": "code",
   "execution_count": null,
   "metadata": {},
   "outputs": [],
   "source": []
  },
  {
   "cell_type": "code",
   "execution_count": null,
   "metadata": {},
   "outputs": [],
   "source": []
  },
  {
   "cell_type": "code",
   "execution_count": null,
   "metadata": {},
   "outputs": [],
   "source": []
  },
  {
   "cell_type": "code",
   "execution_count": null,
   "metadata": {},
   "outputs": [],
   "source": []
  }
 ],
 "metadata": {
  "kernelspec": {
   "display_name": "BayesPCN",
   "language": "python",
   "name": "python3"
  },
  "language_info": {
   "codemirror_mode": {
    "name": "ipython",
    "version": 3
   },
   "file_extension": ".py",
   "mimetype": "text/x-python",
   "name": "python",
   "nbconvert_exporter": "python",
   "pygments_lexer": "ipython3",
   "version": "3.9.18"
  }
 },
 "nbformat": 4,
 "nbformat_minor": 2
}
