{
 "cells": [
  {
   "cell_type": "code",
   "execution_count": 16,
   "metadata": {},
   "outputs": [
    {
     "name": "stderr",
     "output_type": "stream",
     "text": [
      "[nltk_data] Downloading package cmudict to\n",
      "[nltk_data]     C:\\Users\\Alex\\AppData\\Roaming\\nltk_data...\n",
      "[nltk_data]   Package cmudict is already up-to-date!\n"
     ]
    },
    {
     "name": "stdout",
     "output_type": "stream",
     "text": [
      "WARNING:tensorflow:From c:\\Users\\Alex\\anaconda3\\envs\\BayesPCN\\lib\\site-packages\\keras\\src\\losses.py:2976: The name tf.losses.sparse_softmax_cross_entropy is deprecated. Please use tf.compat.v1.losses.sparse_softmax_cross_entropy instead.\n",
      "\n"
     ]
    },
    {
     "name": "stderr",
     "output_type": "stream",
     "text": [
      "c:\\Users\\Alex\\anaconda3\\envs\\BayesPCN\\lib\\site-packages\\huggingface_hub\\file_download.py:1132: FutureWarning: `resume_download` is deprecated and will be removed in version 1.0.0. Downloads always resume when possible. If you want to force a new download, use `force_download=True`.\n",
      "  warnings.warn(\n",
      "Some weights of the model checkpoint at facebook/hubert-large-ls960-ft were not used when initializing HubertForCTC: ['hubert.encoder.pos_conv_embed.conv.weight_g', 'hubert.encoder.pos_conv_embed.conv.weight_v']\n",
      "- This IS expected if you are initializing HubertForCTC from the checkpoint of a model trained on another task or with another architecture (e.g. initializing a BertForSequenceClassification model from a BertForPreTraining model).\n",
      "- This IS NOT expected if you are initializing HubertForCTC from the checkpoint of a model that you expect to be exactly identical (initializing a BertForSequenceClassification model from a BertForSequenceClassification model).\n",
      "Some weights of HubertForCTC were not initialized from the model checkpoint at facebook/hubert-large-ls960-ft and are newly initialized: ['hubert.encoder.pos_conv_embed.conv.parametrizations.weight.original0', 'hubert.encoder.pos_conv_embed.conv.parametrizations.weight.original1']\n",
      "You should probably TRAIN this model on a down-stream task to be able to use it for predictions and inference.\n"
     ]
    }
   ],
   "source": [
    "from typing import Iterable, List\n",
    "from torch.nn.utils.rnn import pad_sequence\n",
    "from torch.utils.data import DataLoader, Dataset\n",
    "from timeit import default_timer as timer\n",
    "from torch.nn import Transformer\n",
    "from torch import Tensor\n",
    "from sklearn.model_selection import train_test_split\n",
    "import copy\n",
    "import tqdm\n",
    "import librosa\n",
    "import seaborn as sns\n",
    "import torch.nn as nn\n",
    "import torch\n",
    "import torch.nn.functional as F\n",
    "import numpy as np\n",
    "import math\n",
    "import os\n",
    "#!pip install textgrid\n",
    "import textgrid\n",
    "import pandas as pd\n",
    "import matplotlib.pyplot as plt\n",
    "from scipy.spatial.distance import euclidean\n",
    "import plotly.graph_objects as go\n",
    "import pandas as pd\n",
    "device = torch.device(\"cuda\" if torch.cuda.is_available() else \"cpu\")\n",
    "import nltk\n",
    "nltk.download('cmudict')\n",
    "from nltk.corpus import cmudict\n",
    "from transformers import AutoProcessor, AutoModelForCTC\n",
    "import soundfile as sf\n",
    "\n",
    "#_ESPEAK_LIBRARY = r\"C:\\Program Files\\eSpeak NG\\libespeak-ng.dll\"\n",
    "#EspeakWrapper.set_library(_ESPEAK_LIBRARY)\n",
    "'''processor_P = AutoProcessor.from_pretrained(\"facebook/wav2vec2-lv-60-espeak-cv-ft\")\n",
    "model_P = AutoModelForCTC.from_pretrained(\"facebook/wav2vec2-lv-60-espeak-cv-ft\")'''\n",
    "\n",
    "\n",
    "from transformers import Wav2Vec2ForCTC, Wav2Vec2Processor\n",
    "processor_H = AutoProcessor.from_pretrained(\"facebook/hubert-large-ls960-ft\")\n",
    "\n",
    "# 加载HuBERT模型\n",
    "model_H = AutoModelForCTC.from_pretrained(\"facebook/hubert-large-ls960-ft\")"
   ]
  },
  {
   "cell_type": "code",
   "execution_count": null,
   "metadata": {},
   "outputs": [],
   "source": [
    "from rpy2.robjects.packages import importr\n",
    "from rpy2.robjects import Formula, pandas2ri\n",
    "\n",
    "import pandas as pd\n",
    "import rpy2.robjects as ro\n",
    "from rpy2.robjects import pandas2ri\n",
    "\n",
    "# Activate the pandas conversion\n",
    "pandas2ri.activate()\n",
    "#utils = importr('utils')\n",
    "#utils.install_packages('lme4')\n"
   ]
  },
  {
   "cell_type": "code",
   "execution_count": 15,
   "metadata": {},
   "outputs": [],
   "source": [
    "human_result_path=r\"..\\data\\test.xlsx\"\n",
    "human_result = pd.read_excel(human_result_path)\n",
    "human_result_1a=human_result[human_result[\"Experiment\"]==\"1a\"]"
   ]
  },
  {
   "cell_type": "code",
   "execution_count": 13,
   "metadata": {},
   "outputs": [],
   "source": [
    "def get_pathset(paths):\n",
    "    return [os.path.join(dir, each_file) for dir, mid, files in os.walk(paths) for each_file in files if each_file.endswith(\".wav\")]\n",
    "audio_dir =r\"..\\Nov10\\speech_files\"\n",
    "set1_list=[0,1,2,3,4,5,6,7,8,9,10,12,13,14,15,16]\n",
    "set2_list=[17,18,19,20,21,22,24,25,26,27,28,29,30,31,37,40]"
   ]
  },
  {
   "cell_type": "code",
   "execution_count": 17,
   "metadata": {},
   "outputs": [],
   "source": [
    "import pickle\n",
    "with open(\"..\\O_Jan31\\hubert_words_Transformer.pkl\", \"rb\") as file:\n",
    "    sentence_matrix1 = pickle.load(file)"
   ]
  },
  {
   "cell_type": "code",
   "execution_count": 18,
   "metadata": {},
   "outputs": [],
   "source": [
    "def get_keywords_dict(human_result_1a):\n",
    "    '''\n",
    "    Return a dict, key: sentenceID, values: keywords\n",
    "    '''\n",
    "    keywords_dict={}\n",
    "    for each_ in human_result_1a.values:\n",
    "        sentenceID=each_[human_result_1a.columns.get_loc(\"SentenceID\")]\n",
    "        if sentenceID not in keywords_dict:\n",
    "            keywords_dict[sentenceID]=[]\n",
    "        keyword=each_[human_result_1a.columns.get_loc(\"Keyword\")]\n",
    "        if keyword not in keywords_dict[sentenceID]:\n",
    "            keywords_dict[sentenceID].append(keyword)\n",
    "    return dict(sorted(keywords_dict.items()))\n",
    "\n",
    "def create_set(audio_dir, df, reduced_data):\n",
    "    set1_list=[0,1,2,3,4,5,6,7,8,9,10,12,13,14,15,16]\n",
    "    set2_list=[17,18,19,20,21,22,24,25,26,27,28,29,30,31,37,40]\n",
    "    keywords_dict=get_keywords_dict(df)\n",
    "    keywords=[j for i in list(keywords_dict.values()) for j in i]\n",
    "    audio_path=get_pathset(audio_dir)[::-1]\n",
    "    out_dict={}\n",
    "    word_features=[[] for i in range(len(keywords))]\n",
    "    for __, each_path in enumerate(audio_path):\n",
    "        current_talker=os.path.basename(each_path)[:13]\n",
    "        if current_talker not in out_dict.keys():\n",
    "            out_dict[current_talker]=[[] for i in range(32)]\n",
    "        tg = textgrid.TextGrid.fromFile(each_path[:-3]+\"TextGrid\")\n",
    "        tg_sentence = tg[0]\n",
    "        for _,i in enumerate(tg[0]):\n",
    "            if i.mark!=\"\":\n",
    "                tg_sentence[_-1].maxTime=tg_sentence[_].minTime\n",
    "        tg_sentence = [i for i in tg_sentence if i.mark!=\"\"]\n",
    "        tg_sentence=[tg_sentence[i] for i in set1_list+set2_list]\n",
    "        tg_word = [i for i in tg[1] if i.mark!=\"\" and i.mark!=\"sp\"]\n",
    "        count=0\n",
    "        for _,each_sentence in enumerate(tg_sentence):\n",
    "            sentence_total_length=each_sentence.maxTime-each_sentence.minTime\n",
    "            for key_word in list(keywords_dict.values())[_]:\n",
    "\n",
    "                for each_word_tg in tg_word:\n",
    "                    if each_word_tg.mark.lower()==key_word:\n",
    "                        if each_word_tg.minTime >= each_sentence.minTime and each_word_tg.maxTime <= each_sentence.maxTime:\n",
    "                            start=each_word_tg.minTime\n",
    "                            end=each_word_tg.maxTime\n",
    "                            break\n",
    "\n",
    "                word_cut_start=start-each_sentence.minTime\n",
    "                word_cut_end=end-each_sentence.minTime\n",
    "                word_start=round(reduced_data[_][__].shape[0]*word_cut_start/sentence_total_length)\n",
    "                word_end=round(reduced_data[_][__].shape[0]*word_cut_end/sentence_total_length)\n",
    "\n",
    "                features=copy.deepcopy(reduced_data[_][__][word_start:word_end,:])\n",
    "                word_features[count].append(features)\n",
    "                out_dict[current_talker][_].append(features)\n",
    "                count+=1\n",
    "    return word_features,out_dict\n",
    "word_features,out_dict=create_set(audio_dir, human_result_1a, sentence_matrix1)"
   ]
  },
  {
   "cell_type": "code",
   "execution_count": 123,
   "metadata": {},
   "outputs": [
    {
     "data": {
      "text/plain": [
       "'3.5.16'"
      ]
     },
     "execution_count": 123,
     "metadata": {},
     "output_type": "execute_result"
    }
   ],
   "source": [
    "rpy2.__version__"
   ]
  },
  {
   "cell_type": "code",
   "execution_count": null,
   "metadata": {},
   "outputs": [],
   "source": [
    "def get_keywords_dict(human_result_1a):\n",
    "    '''\n",
    "    Return a dict, key: sentenceID, values: keywords\n",
    "    '''\n",
    "    keywords_dict={}\n",
    "    for each_ in human_result_1a.values:\n",
    "        sentenceID=each_[human_result_1a.columns.get_loc(\"SentenceID\")]\n",
    "        if sentenceID not in keywords_dict:\n",
    "            keywords_dict[sentenceID]=[]\n",
    "        keyword=each_[human_result_1a.columns.get_loc(\"Keyword\")]\n",
    "        if keyword not in keywords_dict[sentenceID]:\n",
    "            keywords_dict[sentenceID].append(keyword)\n",
    "    return dict(sorted(keywords_dict.items()))\n",
    "\n",
    "def create_set(audio_dir, df, reduced_data):\n",
    "    set1_list=[0,1,2,3,4,5,6,7,8,9,10,12,13,14,15,16]\n",
    "    set2_list=[17,18,19,20,21,22,24,25,26,27,28,29,30,31,37,40]\n",
    "    keywords_dict=get_keywords_dict(df)\n",
    "    keywords=[j for i in list(keywords_dict.values()) for j in i]\n",
    "\n",
    "    audio_path=get_pathset(audio_dir)[::-1]\n",
    "    out_dict={}\n",
    "\n",
    "    word_features=[[] for i in range(len(keywords))]\n",
    "\n",
    "    for __, each_path in enumerate(audio_path):\n",
    "        #audio, sr = librosa.load(each_path)\n",
    "        #wave_res = librosa.resample(audio, orig_sr=sr, target_sr=16000)\n",
    "\n",
    "        current_talker=os.path.basename(each_path)[:13]\n",
    "        if current_talker not in out_dict.keys():\n",
    "            out_dict[current_talker]=[[] for i in range(32)]\n",
    "        tg = textgrid.TextGrid.fromFile(each_path[:-3]+\"TextGrid\")\n",
    "        tg_sentence = tg[0]\n",
    "        for _,i in enumerate(tg[0]):\n",
    "            if i.mark!=\"\":\n",
    "                tg_sentence[_-1].maxTime=tg_sentence[_].minTime\n",
    "        tg_sentence = [i for i in tg_sentence if i.mark!=\"\"]\n",
    "        tg_sentence=[tg_sentence[i] for i in set1_list+set2_list]\n",
    "        tg_word = [i for i in tg[1] if i.mark!=\"\" and i.mark!=\"sp\"]\n",
    "        count=0\n",
    "        for _,each_sentence in enumerate(tg_sentence):\n",
    "            sentence_total_length=each_sentence.maxTime-each_sentence.minTime\n",
    "            for key_word in list(keywords_dict.values())[_]:\n",
    "\n",
    "                for each_word_tg in tg_word:\n",
    "                    if each_word_tg.mark.lower()==key_word:\n",
    "                        if each_word_tg.minTime >= each_sentence.minTime and each_word_tg.maxTime <= each_sentence.maxTime:\n",
    "                            start=each_word_tg.minTime\n",
    "                            end=each_word_tg.maxTime\n",
    "                            break\n",
    "\n",
    "                word_cut_start=start-each_sentence.minTime\n",
    "                word_cut_end=end-each_sentence.minTime\n",
    "                word_start=round(reduced_data[_][__].shape[0]*word_cut_start/sentence_total_length)\n",
    "                word_end=round(reduced_data[_][__].shape[0]*word_cut_end/sentence_total_length)\n",
    "\n",
    "                features=copy.deepcopy(reduced_data[_][__][word_start:word_end,:])\n",
    "                word_features[count].append(features)\n",
    "                out_dict[current_talker][_].append(features)\n",
    "                count+=1\n",
    "\n",
    "\n",
    "    return word_features,out_dict\n",
    "word_features,out_dict=create_set(audio_dir, human_result_1a, sentence_matrix1)\n",
    "\n",
    "def get_training_paths(TrainingTalkerID):\n",
    "    path_list=[]\n",
    "    TalkerID=[]\n",
    "    for each_ID in TrainingTalkerID.split(\", \"):\n",
    "        if each_ID[:3]==\"CMN\":\n",
    "            TalkerID.append(f\"ALL_{each_ID[-3:]}_M_CMN\")\n",
    "        else:\n",
    "            TalkerID.append(f\"ALL_{each_ID[-3:]}_M_ENG\")\n",
    "    return TalkerID\n",
    "\n",
    "def get_keywords_list(df):\n",
    "    out_dict={}\n",
    "    for each_ in human_result_1a.values:\n",
    "        keyword_loc=df.columns.get_loc(\"Keyword\")\n",
    "        key_word = each_[keyword_loc]\n",
    "        sentenceID = each_[df.columns.get_loc(\"SentenceID\")]\n",
    "        if sentenceID not in out_dict.keys():\n",
    "            out_dict[sentenceID]=[]\n",
    "        if key_word not in out_dict[sentenceID]:\n",
    "            out_dict[sentenceID].append(key_word)\n",
    "    return out_dict\n",
    "\n",
    "def get_exposure_set(feature_dict,trainingTalkerID,sentenceID,key_word):\n",
    "    keywors_list = get_keywords_list(human_result_1a)\n",
    "    set1_list=[0,1,2,3,4,5,6,7,8,9,10,12,13,14,15,16]\n",
    "    set2_list=[17,18,19,20,21,22,24,25,26,27,28,29,30,31,37,40]\n",
    "    features=[]\n",
    "    for i in trainingTalkerID:\n",
    "        sentence_ind=(set1_list+set2_list).index(int(sentenceID[-3:])-1)\n",
    "        key_word_ind=keywors_list[sentenceID].index(key_word)\n",
    "        features.append(copy.deepcopy(feature_dict[i][sentence_ind][key_word_ind]))\n",
    "    return features\n",
    "\n",
    "def get_test_feature(feature_dict, test_talker, sentenceID, key_word):\n",
    "    keywors_list = get_keywords_list(human_result_1a)\n",
    "    set1_list=[0,1,2,3,4,5,6,7,8,9,10,12,13,14,15,16]\n",
    "    set2_list=[17,18,19,20,21,22,24,25,26,27,28,29,30,31,37,40]\n",
    "    #print(sentenceID)\n",
    "    sentence_ind=(set1_list+set2_list).index(int(sentenceID[-3:])-1)\n",
    "    key_word_ind=keywors_list[sentenceID].index(key_word)\n",
    "\n",
    "    return copy.deepcopy(feature_dict[test_talker][sentence_ind][key_word_ind])\n",
    "\n",
    "\n",
    "from numba import njit\n",
    "@njit\n",
    "def weighted_minkowski(vec1, vec2,  tau, w=1):\n",
    "\n",
    "    total = 0.0\n",
    "    for m in range(len(vec1)):\n",
    "        diff = w*abs(vec1[m] - vec2[m])\n",
    "        total += (diff ** tau)\n",
    "    return total**(1/tau)#np.sqrt(total)\n",
    "\n",
    "@njit\n",
    "def dtw_sim(seq1, seq2,  tau, k):\n",
    "    n, m = len(seq1), len(seq2)\n",
    "    dtw_matrix = np.full((n+1, m+1), np.inf)\n",
    "    dtw_matrix[0, 0] = 0.0\n",
    "\n",
    "    for i in range(1, n+1):\n",
    "        for j in range(1, m+1):\n",
    "            cost = weighted_minkowski(seq1[i-1], seq2[j-1], tau)\n",
    "            dtw_matrix[i, j] = cost + min(dtw_matrix[i-1, j],    # insertion\n",
    "                                         dtw_matrix[i, j-1],    # deletion\n",
    "                                         dtw_matrix[i-1, j-1])  # match\n",
    "    return np.exp(-(dtw_matrix[n, m]/((n+m)/2))*k)# change to *k,\n",
    "\n",
    "def sim_measure1(df, feature_dict,tau, k):\n",
    "    sim_min_list=[]\n",
    "    sim_std_list=[]\n",
    "    sim_median_list=[]\n",
    "    sim_mean_list=[]\n",
    "\n",
    "    train_set_dict={}\n",
    "    test_word_dict={}\n",
    "    count=0\n",
    "    error=0\n",
    "\n",
    "\n",
    "    train_talker_list=[]\n",
    "    test_talker_list=[]\n",
    "    out_df=pd.DataFrame(columns=['Condition2', 'TrainingTalkerID', 'TestTalkerID','SentenceID', 'Keyword',  'distance_min', 'IsCorrect'])#'trial',\n",
    "    for each_ in tqdm.tqdm(df.values):\n",
    "        filename_loc=df.columns.get_loc(\"Filename\")\n",
    "        keyword_loc=df.columns.get_loc(\"Keyword\")\n",
    "        sentence_loc= df.columns.get_loc(\"SentenceID\")\n",
    "        training_talker_loc=df.columns.get_loc(\"TrainingTalkerID\")\n",
    "\n",
    "        set1_list=[0,1,2,3,4,5,6,7,8,9,10,12,13,14,15,16]\n",
    "        set2_list=[17,18,19,20,21,22,24,25,26,27,28,29,30,31,37,40]\n",
    "        if each_[df.columns.get_loc(\"TrainingTestSet\")] == \"set2,set1\":\n",
    "            train_set=set2_list\n",
    "            test_set=set1_list\n",
    "        else:\n",
    "            train_set=set1_list\n",
    "            test_set=set2_list\n",
    "\n",
    "        test_file = [os.path.basename(each_[df.columns.get_loc(\"Filename\")])[:13]]\n",
    "        key_word = each_[keyword_loc] #string\n",
    "        TrainingTalkerID = each_[training_talker_loc] #list of string\n",
    "        sentenceID = each_[df.columns.get_loc(\"SentenceID\")]\n",
    "        trainingTalkerID=get_training_paths(TrainingTalkerID)\n",
    "\n",
    "        train_talker_key=\",\".join(sorted(trainingTalkerID))\n",
    "        if train_talker_key not in train_set_dict:\n",
    "            train_set_dict[train_talker_key]={}\n",
    "        if sentenceID not in train_set_dict[train_talker_key]:\n",
    "            train_set_dict[train_talker_key][sentenceID]={}\n",
    "        if key_word not in train_set_dict[train_talker_key][sentenceID]:\n",
    "\n",
    "            training_features=get_exposure_set(feature_dict,trainingTalkerID,sentenceID,key_word)\n",
    "            train_set_dict[train_talker_key][sentenceID][key_word]=copy.deepcopy(training_features)\n",
    "        else:\n",
    "            training_features=train_set_dict[train_talker_key][sentenceID][key_word]\n",
    "\n",
    "        if test_file[0] not in test_word_dict:\n",
    "            test_word_dict[test_file[0]]={}\n",
    "        if sentenceID not in test_word_dict[test_file[0]]:\n",
    "            test_word_dict[test_file[0]][sentenceID]={}\n",
    "        if key_word not in test_word_dict[test_file[0]][sentenceID]:\n",
    "            test_feature = get_test_feature(feature_dict, test_file[0], sentenceID, key_word)\n",
    "            test_word_dict[test_file[0]][sentenceID][key_word]=copy.deepcopy(test_feature)\n",
    "        else:\n",
    "            test_feature = test_word_dict[test_file[0]][sentenceID][key_word]\n",
    "\n",
    "        train_talker_list.append(\",\".join(trainingTalkerID))\n",
    "        test_talker_list.append(test_file[0])\n",
    "        sims=[]\n",
    "\n",
    "        for _, each_train_feature in enumerate(training_features):\n",
    "            #print(each_train_feature)\n",
    "            #print(test_feature)\n",
    "            X=each_train_feature#.transpose()\n",
    "            Y=test_feature#.transpose()\n",
    "            #D, wp = librosa.sequence.dtw(X, Y, metric='euclidean')\n",
    "            #combined_length = X.shape[1] + Y.shape[1]\n",
    "            #normalized_distance = D[-1, -1] / combined_length\n",
    "            normalized_distance = dtw_sim(X, Y, tau, k)\n",
    "            sims.append(normalized_distance)\n",
    "\n",
    "            #out_df=pd.DataFrame(columns=['Condition2', 'TrainingTalkerID', 'TestTalkerID', 'Keyword','distance_min', 'IsCorrect'])\n",
    "        out_df.loc[len(out_df)]=[each_[df.columns.get_loc(\"Condition2\")], each_[df.columns.get_loc(\"TrainingTalkerID\")],#trainingTalkerID[_],\n",
    "                                    each_[df.columns.get_loc(\"TestTalkerID\")], each_[sentence_loc],\n",
    "                                    each_[df.columns.get_loc(\"Keyword\")],\n",
    "                                    #each_[df.columns.get_loc('trial')],\n",
    "                                    np.max(sims),\n",
    "                                    each_[df.columns.get_loc(\"IsCorrect\")]]\n",
    "    return out_df\n",
    "\n",
    "def objective_function(params, out_dict, human_result_1a):\n",
    "\n",
    "    tau, k = params\n",
    "    print(tau, k)\n",
    "    out_df=sim_measure1(human_result_1a, out_dict,tau, k)\n",
    "    new_df=copy.deepcopy(out_df)\n",
    "    new_df['similarity'] = new_df['distance_min'].apply(lambda x:np.max(x))\n",
    "    \n",
    "    TTID=new_df.columns.get_loc(\"TrainingTalkerID\")\n",
    "    new_TrainingTalkerID=[]\n",
    "    for i in new_df.values:\n",
    "        new_TrainingTalkerID.append( \",\".join(sorted(i[TTID].split(\", \"))) )\n",
    "    new_df[\"TrainingTalkerID1\"]=new_TrainingTalkerID\n",
    "    new_df['trial'] = (new_df.groupby(['Keyword', 'Condition2', 'TrainingTalkerID1', 'TestTalkerID', 'SentenceID'], as_index=False).ngroup() + 1)\n",
    "\n",
    "\n",
    "    new_df2=new_df.groupby(['Keyword', 'Condition2', 'TrainingTalkerID1', 'TestTalkerID', 'SentenceID','trial'], as_index=False).agg( #'sentenceID'\n",
    "        IsCorrect=('IsCorrect', 'mean'),\n",
    "        #distance=('distance_min', 'min'),\n",
    "        similarity=('similarity', 'mean'),\n",
    "        numCorrect=('IsCorrect', lambda x: (x==1).sum()),\n",
    "        numIncorrect=('IsCorrect', lambda x: (x==0).sum())\n",
    "        )\n",
    "    new_df2['similarity_scaled'] = (new_df2['similarity'] - np.mean(new_df2['similarity'])) / (2 * np.std(new_df2['similarity']))\n",
    "    if np.std(new_df['similarity_scaled']) < 0.3:\n",
    "        return {\n",
    "                    \"tau\": [tau], \n",
    "                    \"k\": [k], \n",
    "                    \"z-value\": [0],  \n",
    "                    \"mean_sim\": [float(np.mean(new_df2[\"similarity\"]))], \n",
    "                    \"sd_sim\": [float(np.std(new_df2[\"similarity\"]))],  \n",
    "                    \"error\": [\"std_sim<0.3\"]  # \n",
    "                }\n",
    "    else:\n",
    "        try:\n",
    "            import rpy2.robjects as ro\n",
    "            import rpy2\n",
    "            from rpy2.robjects import pandas2ri\n",
    "            \n",
    "            pandas2ri.activate()\n",
    "            base = importr('base')\n",
    "            stats = importr('stats')\n",
    "            lme4 = importr('lme4')\n",
    "            ro.r('options(warn=2)')\n",
    "            #r_data = ro.conversion.py2rpy(new_df2)\n",
    "            r_data = pandas2ri.py2rpy(new_df2)\n",
    "            formula = Formula('cbind(numCorrect, numIncorrect) ~ 1 + similarity_scaled + (1 | SentenceID / Keyword) + (1| TestTalkerID)')\n",
    "            glmerControl = lme4.glmerControl(optimizer=\"bobyqa\", optCtrl=ro.vectors.ListVector({'maxfun': 1e6}))\n",
    "        except Exception as e:\n",
    "            return {\n",
    "                    \"tau\": [tau], \n",
    "                    \"k\": [k], \n",
    "                    \"z-value\": [0],  \n",
    "                    \"mean_sim\": [float(np.mean(new_df2[\"similarity\"]))], \n",
    "                    \"sd_sim\": [float(np.std(new_df2[\"similarity\"]))],  \n",
    "                    \"error\": [e]  # \n",
    "                }\n",
    "        try:\n",
    "            model = lme4.glmer(formula, data=r_data, control=glmerControl, family=stats.binomial(link=\"logit\"))\n",
    "            #log_likelihood = ro.r['logLik'](model)\n",
    "            summary = base.summary(model)\n",
    "            coefficients = summary.rx2('coefficients')\n",
    "            #z_value = coefficients.rx('similarity_scaled', 'z value')[0]\n",
    "            z_value=coefficients[1][2]\n",
    "            return {\n",
    "                    \"tau\": [tau], \n",
    "                    \"k\": [k], \n",
    "                    \"z-value\": [z_value],  \n",
    "                    \"mean_sim\": [float(np.mean(new_df2[\"similarity\"]))], \n",
    "                    \"sd_sim\": [float(np.std(new_df2[\"similarity\"]))],  \n",
    "                    \"error\": [\"NA\"]  # \n",
    "                }\n",
    "        except Exception as e:\n",
    "            return {\n",
    "                    \"tau\": [tau], \n",
    "                    \"k\": [k], \n",
    "                    \"z-value\": [0],  \n",
    "                    \"mean_sim\": [float(np.mean(new_df2[\"similarity\"]))], \n",
    "                    \"sd_sim\": [float(np.std(new_df2[\"similarity\"]))],  \n",
    "                    \"error\": [str(e)]  # \n",
    "                }\n",
    "    "
   ]
  },
  {
   "cell_type": "code",
   "execution_count": 88,
   "metadata": {},
   "outputs": [
    {
     "data": {
      "text/plain": [
       "array([[-8.36155072e+04,  4.12930011e+00, -2.02493171e+04,\n",
       "         0.00000000e+00],\n",
       "       [ 8.36176514e+04,  4.12581370e+00,  2.02669479e+04,\n",
       "         0.00000000e+00]])"
      ]
     },
     "execution_count": 88,
     "metadata": {},
     "output_type": "execute_result"
    }
   ],
   "source": [
    "coefficients"
   ]
  },
  {
   "cell_type": "code",
   "execution_count": 86,
   "metadata": {},
   "outputs": [
    {
     "data": {
      "text/plain": [
       "pandas.core.frame.DataFrame"
      ]
     },
     "execution_count": 86,
     "metadata": {},
     "output_type": "execute_result"
    }
   ],
   "source": [
    "type(new_df2)"
   ]
  },
  {
   "cell_type": "code",
   "execution_count": null,
   "metadata": {},
   "outputs": [],
   "source": []
  },
  {
   "cell_type": "code",
   "execution_count": null,
   "metadata": {},
   "outputs": [],
   "source": []
  },
  {
   "cell_type": "code",
   "execution_count": null,
   "metadata": {},
   "outputs": [],
   "source": []
  },
  {
   "cell_type": "code",
   "execution_count": null,
   "metadata": {},
   "outputs": [],
   "source": []
  },
  {
   "cell_type": "code",
   "execution_count": 96,
   "metadata": {},
   "outputs": [],
   "source": [
    "tau_values = np.arange(1,11,1)\n",
    "k_values = 10**np.arange(-4,1.1,0.1)\n",
    "import itertools\n",
    "import multiprocessing\n",
    "import time\n",
    "from joblib import Parallel, delayed\n",
    "pandas2ri.activate()\n",
    "params_grid=list(itertools.product(tau_values, k_values))\n",
    "\n",
    "start_time = time.time()\n",
    "n_jobs = min(32, multiprocessing.cpu_count())\n",
    "results = Parallel(n_jobs=n_jobs)(delayed(objective_function)(_,out_dict, human_result_1a) for _ in params_grid)\n",
    "end_time = time.time()\n"
   ]
  },
  {
   "cell_type": "code",
   "execution_count": null,
   "metadata": {},
   "outputs": [
    {
     "data": {
      "text/html": [
       "<div>\n",
       "<style scoped>\n",
       "    .dataframe tbody tr th:only-of-type {\n",
       "        vertical-align: middle;\n",
       "    }\n",
       "\n",
       "    .dataframe tbody tr th {\n",
       "        vertical-align: top;\n",
       "    }\n",
       "\n",
       "    .dataframe thead th {\n",
       "        text-align: right;\n",
       "    }\n",
       "</style>\n",
       "<table border=\"1\" class=\"dataframe\">\n",
       "  <thead>\n",
       "    <tr style=\"text-align: right;\">\n",
       "      <th></th>\n",
       "      <th>tau</th>\n",
       "      <th>k</th>\n",
       "      <th>z-value</th>\n",
       "      <th>mean_sim</th>\n",
       "      <th>sd_sim</th>\n",
       "      <th>error</th>\n",
       "    </tr>\n",
       "  </thead>\n",
       "  <tbody>\n",
       "    <tr>\n",
       "      <th>0</th>\n",
       "      <td>1</td>\n",
       "      <td>0.000100</td>\n",
       "      <td>0.000000</td>\n",
       "      <td>0.999407</td>\n",
       "      <td>0.000617</td>\n",
       "      <td>std_sim&lt;0.3</td>\n",
       "    </tr>\n",
       "    <tr>\n",
       "      <th>1</th>\n",
       "      <td>1</td>\n",
       "      <td>0.000126</td>\n",
       "      <td>0.000000</td>\n",
       "      <td>0.999253</td>\n",
       "      <td>0.000776</td>\n",
       "      <td>std_sim&lt;0.3</td>\n",
       "    </tr>\n",
       "    <tr>\n",
       "      <th>2</th>\n",
       "      <td>1</td>\n",
       "      <td>0.000158</td>\n",
       "      <td>0.000000</td>\n",
       "      <td>0.999060</td>\n",
       "      <td>0.000977</td>\n",
       "      <td>std_sim&lt;0.3</td>\n",
       "    </tr>\n",
       "    <tr>\n",
       "      <th>3</th>\n",
       "      <td>1</td>\n",
       "      <td>0.000200</td>\n",
       "      <td>0.000000</td>\n",
       "      <td>0.998817</td>\n",
       "      <td>0.001229</td>\n",
       "      <td>std_sim&lt;0.3</td>\n",
       "    </tr>\n",
       "    <tr>\n",
       "      <th>4</th>\n",
       "      <td>1</td>\n",
       "      <td>0.000251</td>\n",
       "      <td>0.000000</td>\n",
       "      <td>0.998511</td>\n",
       "      <td>0.001546</td>\n",
       "      <td>std_sim&lt;0.3</td>\n",
       "    </tr>\n",
       "    <tr>\n",
       "      <th>...</th>\n",
       "      <td>...</td>\n",
       "      <td>...</td>\n",
       "      <td>...</td>\n",
       "      <td>...</td>\n",
       "      <td>...</td>\n",
       "      <td>...</td>\n",
       "    </tr>\n",
       "    <tr>\n",
       "      <th>505</th>\n",
       "      <td>10</td>\n",
       "      <td>3.981072</td>\n",
       "      <td>9.740809</td>\n",
       "      <td>0.136836</td>\n",
       "      <td>0.328466</td>\n",
       "      <td>NA</td>\n",
       "    </tr>\n",
       "    <tr>\n",
       "      <th>506</th>\n",
       "      <td>10</td>\n",
       "      <td>5.011872</td>\n",
       "      <td>9.581618</td>\n",
       "      <td>0.131534</td>\n",
       "      <td>0.329290</td>\n",
       "      <td>NA</td>\n",
       "    </tr>\n",
       "    <tr>\n",
       "      <th>507</th>\n",
       "      <td>10</td>\n",
       "      <td>6.309573</td>\n",
       "      <td>9.472723</td>\n",
       "      <td>0.128370</td>\n",
       "      <td>0.329903</td>\n",
       "      <td>NA</td>\n",
       "    </tr>\n",
       "    <tr>\n",
       "      <th>508</th>\n",
       "      <td>10</td>\n",
       "      <td>7.943282</td>\n",
       "      <td>9.403990</td>\n",
       "      <td>0.126627</td>\n",
       "      <td>0.330292</td>\n",
       "      <td>NA</td>\n",
       "    </tr>\n",
       "    <tr>\n",
       "      <th>509</th>\n",
       "      <td>10</td>\n",
       "      <td>10.000000</td>\n",
       "      <td>9.363889</td>\n",
       "      <td>0.125739</td>\n",
       "      <td>0.330510</td>\n",
       "      <td>NA</td>\n",
       "    </tr>\n",
       "  </tbody>\n",
       "</table>\n",
       "<p>510 rows × 6 columns</p>\n",
       "</div>"
      ],
      "text/plain": [
       "     tau          k   z-value  mean_sim    sd_sim        error\n",
       "0      1   0.000100  0.000000  0.999407  0.000617  std_sim<0.3\n",
       "1      1   0.000126  0.000000  0.999253  0.000776  std_sim<0.3\n",
       "2      1   0.000158  0.000000  0.999060  0.000977  std_sim<0.3\n",
       "3      1   0.000200  0.000000  0.998817  0.001229  std_sim<0.3\n",
       "4      1   0.000251  0.000000  0.998511  0.001546  std_sim<0.3\n",
       "..   ...        ...       ...       ...       ...          ...\n",
       "505   10   3.981072  9.740809  0.136836  0.328466           NA\n",
       "506   10   5.011872  9.581618  0.131534  0.329290           NA\n",
       "507   10   6.309573  9.472723  0.128370  0.329903           NA\n",
       "508   10   7.943282  9.403990  0.126627  0.330292           NA\n",
       "509   10  10.000000  9.363889  0.125739  0.330510           NA\n",
       "\n",
       "[510 rows x 6 columns]"
      ]
     },
     "execution_count": 103,
     "metadata": {},
     "output_type": "execute_result"
    }
   ],
   "source": [
    "results_df=pd.json_normalize(results)\n",
    "results_df\n",
    "\n",
    "results_df['tau'] = results_df['tau'].apply(lambda x: x[0] if isinstance(x, list) else x)\n",
    "results_df['k'] = results_df['k'].apply(lambda x: x[0] if isinstance(x, list) else x)\n",
    "\n",
    "results_df['z-value'] = results_df['z-value'].apply(lambda x: x[0] if isinstance(x, list) else x)\n",
    "results_df['mean_sim'] = results_df['mean_sim'].apply(lambda x: x[0] if isinstance(x, list) else x)\n",
    "results_df['sd_sim'] = results_df['sd_sim'].apply(lambda x: x[0] if isinstance(x, list) else x)\n",
    "results_df['error'] = results_df['error'].apply(lambda x: x[0] if isinstance(x, list) else x)\n"
   ]
  },
  {
   "cell_type": "code",
   "execution_count": 106,
   "metadata": {},
   "outputs": [],
   "source": [
    "results_df.to_csv('Xie_Transformers.csv', index=False)"
   ]
  },
  {
   "cell_type": "code",
   "execution_count": 125,
   "metadata": {},
   "outputs": [
    {
     "data": {
      "application/vnd.plotly.v1+json": {
       "config": {
        "plotlyServerURL": "https://plot.ly"
       },
       "data": [
        {
         "colorscale": [
          [
           0,
           "#440154"
          ],
          [
           0.1111111111111111,
           "#482878"
          ],
          [
           0.2222222222222222,
           "#3e4989"
          ],
          [
           0.3333333333333333,
           "#31688e"
          ],
          [
           0.4444444444444444,
           "#26828e"
          ],
          [
           0.5555555555555556,
           "#1f9e89"
          ],
          [
           0.6666666666666666,
           "#35b779"
          ],
          [
           0.7777777777777778,
           "#6ece58"
          ],
          [
           0.8888888888888888,
           "#b5de2b"
          ],
          [
           1,
           "#fde725"
          ]
         ],
         "type": "surface",
         "x": [
          [
           1,
           2,
           3,
           4,
           5,
           6,
           7,
           8,
           9,
           10
          ],
          [
           1,
           2,
           3,
           4,
           5,
           6,
           7,
           8,
           9,
           10
          ],
          [
           1,
           2,
           3,
           4,
           5,
           6,
           7,
           8,
           9,
           10
          ],
          [
           1,
           2,
           3,
           4,
           5,
           6,
           7,
           8,
           9,
           10
          ],
          [
           1,
           2,
           3,
           4,
           5,
           6,
           7,
           8,
           9,
           10
          ],
          [
           1,
           2,
           3,
           4,
           5,
           6,
           7,
           8,
           9,
           10
          ],
          [
           1,
           2,
           3,
           4,
           5,
           6,
           7,
           8,
           9,
           10
          ],
          [
           1,
           2,
           3,
           4,
           5,
           6,
           7,
           8,
           9,
           10
          ],
          [
           1,
           2,
           3,
           4,
           5,
           6,
           7,
           8,
           9,
           10
          ],
          [
           1,
           2,
           3,
           4,
           5,
           6,
           7,
           8,
           9,
           10
          ],
          [
           1,
           2,
           3,
           4,
           5,
           6,
           7,
           8,
           9,
           10
          ],
          [
           1,
           2,
           3,
           4,
           5,
           6,
           7,
           8,
           9,
           10
          ],
          [
           1,
           2,
           3,
           4,
           5,
           6,
           7,
           8,
           9,
           10
          ],
          [
           1,
           2,
           3,
           4,
           5,
           6,
           7,
           8,
           9,
           10
          ],
          [
           1,
           2,
           3,
           4,
           5,
           6,
           7,
           8,
           9,
           10
          ],
          [
           1,
           2,
           3,
           4,
           5,
           6,
           7,
           8,
           9,
           10
          ],
          [
           1,
           2,
           3,
           4,
           5,
           6,
           7,
           8,
           9,
           10
          ],
          [
           1,
           2,
           3,
           4,
           5,
           6,
           7,
           8,
           9,
           10
          ],
          [
           1,
           2,
           3,
           4,
           5,
           6,
           7,
           8,
           9,
           10
          ],
          [
           1,
           2,
           3,
           4,
           5,
           6,
           7,
           8,
           9,
           10
          ],
          [
           1,
           2,
           3,
           4,
           5,
           6,
           7,
           8,
           9,
           10
          ]
         ],
         "y": [
          [
           0.1,
           0.1,
           0.1,
           0.1,
           0.1,
           0.1,
           0.1,
           0.1,
           0.1,
           0.1
          ],
          [
           0.15848931924611134,
           0.15848931924611134,
           0.15848931924611134,
           0.15848931924611134,
           0.15848931924611134,
           0.15848931924611134,
           0.15848931924611134,
           0.15848931924611134,
           0.15848931924611134,
           0.15848931924611134
          ],
          [
           0.25118864315095796,
           0.25118864315095796,
           0.25118864315095796,
           0.25118864315095796,
           0.25118864315095796,
           0.25118864315095796,
           0.25118864315095796,
           0.25118864315095796,
           0.25118864315095796,
           0.25118864315095796
          ],
          [
           0.39810717055349715,
           0.39810717055349715,
           0.39810717055349715,
           0.39810717055349715,
           0.39810717055349715,
           0.39810717055349715,
           0.39810717055349715,
           0.39810717055349715,
           0.39810717055349715,
           0.39810717055349715
          ],
          [
           0.630957344480193,
           0.630957344480193,
           0.630957344480193,
           0.630957344480193,
           0.630957344480193,
           0.630957344480193,
           0.630957344480193,
           0.630957344480193,
           0.630957344480193,
           0.630957344480193
          ],
          [
           0.9999999999999994,
           0.9999999999999994,
           0.9999999999999994,
           0.9999999999999994,
           0.9999999999999994,
           0.9999999999999994,
           0.9999999999999994,
           0.9999999999999994,
           0.9999999999999994,
           0.9999999999999994
          ],
          [
           1.5848931924611125,
           1.5848931924611125,
           1.5848931924611125,
           1.5848931924611125,
           1.5848931924611125,
           1.5848931924611125,
           1.5848931924611125,
           1.5848931924611125,
           1.5848931924611125,
           1.5848931924611125
          ],
          [
           2.5118864315095784,
           2.5118864315095784,
           2.5118864315095784,
           2.5118864315095784,
           2.5118864315095784,
           2.5118864315095784,
           2.5118864315095784,
           2.5118864315095784,
           2.5118864315095784,
           2.5118864315095784
          ],
          [
           3.981071705534969,
           3.981071705534969,
           3.981071705534969,
           3.981071705534969,
           3.981071705534969,
           3.981071705534969,
           3.981071705534969,
           3.981071705534969,
           3.981071705534969,
           3.981071705534969
          ],
          [
           6.309573444801926,
           6.309573444801926,
           6.309573444801926,
           6.309573444801926,
           6.309573444801926,
           6.309573444801926,
           6.309573444801926,
           6.309573444801926,
           6.309573444801926,
           6.309573444801926
          ],
          [
           9.99999999999999,
           9.99999999999999,
           9.99999999999999,
           9.99999999999999,
           9.99999999999999,
           9.99999999999999,
           9.99999999999999,
           9.99999999999999,
           9.99999999999999,
           9.99999999999999
          ],
          [
           15.84893192461111,
           15.84893192461111,
           15.84893192461111,
           15.84893192461111,
           15.84893192461111,
           15.84893192461111,
           15.84893192461111,
           15.84893192461111,
           15.84893192461111,
           15.84893192461111
          ],
          [
           25.11886431509577,
           25.11886431509577,
           25.11886431509577,
           25.11886431509577,
           25.11886431509577,
           25.11886431509577,
           25.11886431509577,
           25.11886431509577,
           25.11886431509577,
           25.11886431509577
          ],
          [
           39.81071705534969,
           39.81071705534969,
           39.81071705534969,
           39.81071705534969,
           39.81071705534969,
           39.81071705534969,
           39.81071705534969,
           39.81071705534969,
           39.81071705534969,
           39.81071705534969
          ],
          [
           63.095734448019236,
           63.095734448019236,
           63.095734448019236,
           63.095734448019236,
           63.095734448019236,
           63.095734448019236,
           63.095734448019236,
           63.095734448019236,
           63.095734448019236,
           63.095734448019236
          ],
          [
           99.9999999999998,
           99.9999999999998,
           99.9999999999998,
           99.9999999999998,
           99.9999999999998,
           99.9999999999998,
           99.9999999999998,
           99.9999999999998,
           99.9999999999998,
           99.9999999999998
          ],
          [
           158.48931924611108,
           158.48931924611108,
           158.48931924611108,
           158.48931924611108,
           158.48931924611108,
           158.48931924611108,
           158.48931924611108,
           158.48931924611108,
           158.48931924611108,
           158.48931924611108
          ],
          [
           251.18864315095772,
           251.18864315095772,
           251.18864315095772,
           251.18864315095772,
           251.18864315095772,
           251.18864315095772,
           251.18864315095772,
           251.18864315095772,
           251.18864315095772,
           251.18864315095772
          ],
          [
           398.10717055349653,
           398.10717055349653,
           398.10717055349653,
           398.10717055349653,
           398.10717055349653,
           398.10717055349653,
           398.10717055349653,
           398.10717055349653,
           398.10717055349653,
           398.10717055349653
          ],
          [
           630.9573444801918,
           630.9573444801918,
           630.9573444801918,
           630.9573444801918,
           630.9573444801918,
           630.9573444801918,
           630.9573444801918,
           630.9573444801918,
           630.9573444801918,
           630.9573444801918
          ],
          [
           999.999999999998,
           999.999999999998,
           999.999999999998,
           999.999999999998,
           999.999999999998,
           999.999999999998,
           999.999999999998,
           999.999999999998,
           999.999999999998,
           999.999999999998
          ]
         ],
         "z": [
          [
           0,
           0,
           0,
           0,
           0,
           0,
           0,
           0,
           0,
           0
          ],
          [
           0,
           0,
           0,
           0,
           0,
           0,
           0,
           0,
           0,
           0
          ],
          [
           12.82323066487899,
           13.227705791890422,
           0,
           0,
           0,
           0,
           0,
           0,
           0,
           0
          ],
          [
           12.188927748680833,
           12.823356635815626,
           12.955583449073849,
           13.003040736443008,
           13.023398354030114,
           13.0334036355613,
           13.038554495033317,
           13.041224232844346,
           13.042624875472901,
           13.043266221496205
          ],
          [
           11.406184418566195,
           12.148841928172034,
           12.333251971454281,
           12.405550120592906,
           12.439848029067232,
           12.458344346724065,
           12.469030006406774,
           12.475535241249393,
           12.479708693761408,
           12.482481162001712
          ],
          [
           10.6350990018296,
           11.34589398004275,
           11.542706564177442,
           11.623215822219915,
           11.662816810074958,
           11.684850173642152,
           11.69806233713893,
           11.706445511617316,
           11.712032450446767,
           11.716037732628232
          ],
          [
           10.014492903397384,
           10.580085850914081,
           10.75359018970833,
           10.826464112783837,
           10.86313691778978,
           10.883811740584553,
           10.89655177025647,
           10.904769457563326,
           10.91036814010605,
           10.914437339251274
          ],
          [
           9.61265284504165,
           9.977090358690337,
           10.103860646136697,
           10.158556831626626,
           10.186428585245173,
           10.20239234533148,
           10.212285264044437,
           10.218842274740473,
           10.223419137801248,
           10.226734216096268
          ],
          [
           9.41466074728693,
           9.5931448248526,
           9.665915734902146,
           9.698669103919752,
           9.715627576807483,
           9.72541797794028,
           9.731581648389442,
           9.73570201899249,
           9.73857582269476,
           9.740809474567167
          ],
          [
           9.343432723744723,
           9.407472029233068,
           9.438457708502822,
           9.45306846835386,
           9.460880977274291,
           9.465442526308635,
           9.46837811412432,
           9.470309247732672,
           9.471691217698954,
           9.472722628049189
          ],
          [
           9.325918165930057,
           9.341827666763105,
           9.351628922995237,
           9.356577987383657,
           9.359381411510041,
           9.361074217289625,
           9.362114579003899,
           9.362899810777876,
           9.363491754805318,
           9.363889043094536
          ],
          [
           9.325918165930057,
           9.341827666763105,
           9.351628922995237,
           9.356577987383657,
           9.359381411510041,
           9.361074217289625,
           9.362114579003899,
           9.362899810777876,
           9.363491754805318,
           9.363889043094536
          ],
          [
           9.325918165930057,
           9.341827666763105,
           9.351628922995237,
           9.356577987383657,
           9.359381411510041,
           9.361074217289625,
           9.362114579003899,
           9.362899810777876,
           9.363491754805318,
           9.363889043094536
          ],
          [
           9.325918165930057,
           9.341827666763105,
           9.351628922995237,
           9.356577987383657,
           9.359381411510041,
           9.361074217289625,
           9.362114579003899,
           9.362899810777876,
           9.363491754805318,
           9.363889043094536
          ],
          [
           9.325918165930057,
           9.341827666763105,
           9.351628922995237,
           9.356577987383657,
           9.359381411510041,
           9.361074217289625,
           9.362114579003899,
           9.362899810777876,
           9.363491754805318,
           9.363889043094536
          ],
          [
           9.325918165930057,
           9.341827666763105,
           9.351628922995237,
           9.356577987383657,
           9.359381411510041,
           9.361074217289625,
           9.362114579003899,
           9.362899810777876,
           9.363491754805318,
           9.363889043094536
          ],
          [
           9.325918165930057,
           9.341827666763105,
           9.351628922995237,
           9.356577987383657,
           9.359381411510041,
           9.361074217289625,
           9.362114579003899,
           9.362899810777876,
           9.363491754805318,
           9.363889043094536
          ],
          [
           9.325918165930057,
           9.341827666763105,
           9.351628922995237,
           9.356577987383657,
           9.359381411510041,
           9.361074217289625,
           9.362114579003899,
           9.362899810777876,
           9.363491754805318,
           9.363889043094536
          ],
          [
           9.325918165930057,
           9.341827666763105,
           9.351628922995237,
           9.356577987383657,
           9.359381411510041,
           9.361074217289625,
           9.362114579003899,
           9.362899810777876,
           9.363491754805318,
           9.363889043094536
          ],
          [
           9.325918165930057,
           9.341827666763105,
           9.351628922995237,
           9.356577987383657,
           9.359381411510041,
           9.361074217289625,
           9.362114579003899,
           9.362899810777876,
           9.363491754805318,
           9.363889043094536
          ],
          [
           9.325918165930057,
           9.341827666763105,
           9.351628922995237,
           9.356577987383657,
           9.359381411510041,
           9.361074217289625,
           9.362114579003899,
           9.362899810777876,
           9.363491754805318,
           9.363889043094536
          ]
         ]
        }
       ],
       "layout": {
        "height": 1000,
        "scene": {
         "xaxis": {
          "title": {
           "text": "Tau"
          }
         },
         "yaxis": {
          "title": {
           "text": "K"
          },
          "type": "log"
         },
         "zaxis": {
          "title": {
           "text": "sd_sim"
          }
         }
        },
        "template": {
         "data": {
          "bar": [
           {
            "error_x": {
             "color": "#2a3f5f"
            },
            "error_y": {
             "color": "#2a3f5f"
            },
            "marker": {
             "line": {
              "color": "#E5ECF6",
              "width": 0.5
             },
             "pattern": {
              "fillmode": "overlay",
              "size": 10,
              "solidity": 0.2
             }
            },
            "type": "bar"
           }
          ],
          "barpolar": [
           {
            "marker": {
             "line": {
              "color": "#E5ECF6",
              "width": 0.5
             },
             "pattern": {
              "fillmode": "overlay",
              "size": 10,
              "solidity": 0.2
             }
            },
            "type": "barpolar"
           }
          ],
          "carpet": [
           {
            "aaxis": {
             "endlinecolor": "#2a3f5f",
             "gridcolor": "white",
             "linecolor": "white",
             "minorgridcolor": "white",
             "startlinecolor": "#2a3f5f"
            },
            "baxis": {
             "endlinecolor": "#2a3f5f",
             "gridcolor": "white",
             "linecolor": "white",
             "minorgridcolor": "white",
             "startlinecolor": "#2a3f5f"
            },
            "type": "carpet"
           }
          ],
          "choropleth": [
           {
            "colorbar": {
             "outlinewidth": 0,
             "ticks": ""
            },
            "type": "choropleth"
           }
          ],
          "contour": [
           {
            "colorbar": {
             "outlinewidth": 0,
             "ticks": ""
            },
            "colorscale": [
             [
              0,
              "#0d0887"
             ],
             [
              0.1111111111111111,
              "#46039f"
             ],
             [
              0.2222222222222222,
              "#7201a8"
             ],
             [
              0.3333333333333333,
              "#9c179e"
             ],
             [
              0.4444444444444444,
              "#bd3786"
             ],
             [
              0.5555555555555556,
              "#d8576b"
             ],
             [
              0.6666666666666666,
              "#ed7953"
             ],
             [
              0.7777777777777778,
              "#fb9f3a"
             ],
             [
              0.8888888888888888,
              "#fdca26"
             ],
             [
              1,
              "#f0f921"
             ]
            ],
            "type": "contour"
           }
          ],
          "contourcarpet": [
           {
            "colorbar": {
             "outlinewidth": 0,
             "ticks": ""
            },
            "type": "contourcarpet"
           }
          ],
          "heatmap": [
           {
            "colorbar": {
             "outlinewidth": 0,
             "ticks": ""
            },
            "colorscale": [
             [
              0,
              "#0d0887"
             ],
             [
              0.1111111111111111,
              "#46039f"
             ],
             [
              0.2222222222222222,
              "#7201a8"
             ],
             [
              0.3333333333333333,
              "#9c179e"
             ],
             [
              0.4444444444444444,
              "#bd3786"
             ],
             [
              0.5555555555555556,
              "#d8576b"
             ],
             [
              0.6666666666666666,
              "#ed7953"
             ],
             [
              0.7777777777777778,
              "#fb9f3a"
             ],
             [
              0.8888888888888888,
              "#fdca26"
             ],
             [
              1,
              "#f0f921"
             ]
            ],
            "type": "heatmap"
           }
          ],
          "heatmapgl": [
           {
            "colorbar": {
             "outlinewidth": 0,
             "ticks": ""
            },
            "colorscale": [
             [
              0,
              "#0d0887"
             ],
             [
              0.1111111111111111,
              "#46039f"
             ],
             [
              0.2222222222222222,
              "#7201a8"
             ],
             [
              0.3333333333333333,
              "#9c179e"
             ],
             [
              0.4444444444444444,
              "#bd3786"
             ],
             [
              0.5555555555555556,
              "#d8576b"
             ],
             [
              0.6666666666666666,
              "#ed7953"
             ],
             [
              0.7777777777777778,
              "#fb9f3a"
             ],
             [
              0.8888888888888888,
              "#fdca26"
             ],
             [
              1,
              "#f0f921"
             ]
            ],
            "type": "heatmapgl"
           }
          ],
          "histogram": [
           {
            "marker": {
             "pattern": {
              "fillmode": "overlay",
              "size": 10,
              "solidity": 0.2
             }
            },
            "type": "histogram"
           }
          ],
          "histogram2d": [
           {
            "colorbar": {
             "outlinewidth": 0,
             "ticks": ""
            },
            "colorscale": [
             [
              0,
              "#0d0887"
             ],
             [
              0.1111111111111111,
              "#46039f"
             ],
             [
              0.2222222222222222,
              "#7201a8"
             ],
             [
              0.3333333333333333,
              "#9c179e"
             ],
             [
              0.4444444444444444,
              "#bd3786"
             ],
             [
              0.5555555555555556,
              "#d8576b"
             ],
             [
              0.6666666666666666,
              "#ed7953"
             ],
             [
              0.7777777777777778,
              "#fb9f3a"
             ],
             [
              0.8888888888888888,
              "#fdca26"
             ],
             [
              1,
              "#f0f921"
             ]
            ],
            "type": "histogram2d"
           }
          ],
          "histogram2dcontour": [
           {
            "colorbar": {
             "outlinewidth": 0,
             "ticks": ""
            },
            "colorscale": [
             [
              0,
              "#0d0887"
             ],
             [
              0.1111111111111111,
              "#46039f"
             ],
             [
              0.2222222222222222,
              "#7201a8"
             ],
             [
              0.3333333333333333,
              "#9c179e"
             ],
             [
              0.4444444444444444,
              "#bd3786"
             ],
             [
              0.5555555555555556,
              "#d8576b"
             ],
             [
              0.6666666666666666,
              "#ed7953"
             ],
             [
              0.7777777777777778,
              "#fb9f3a"
             ],
             [
              0.8888888888888888,
              "#fdca26"
             ],
             [
              1,
              "#f0f921"
             ]
            ],
            "type": "histogram2dcontour"
           }
          ],
          "mesh3d": [
           {
            "colorbar": {
             "outlinewidth": 0,
             "ticks": ""
            },
            "type": "mesh3d"
           }
          ],
          "parcoords": [
           {
            "line": {
             "colorbar": {
              "outlinewidth": 0,
              "ticks": ""
             }
            },
            "type": "parcoords"
           }
          ],
          "pie": [
           {
            "automargin": true,
            "type": "pie"
           }
          ],
          "scatter": [
           {
            "fillpattern": {
             "fillmode": "overlay",
             "size": 10,
             "solidity": 0.2
            },
            "type": "scatter"
           }
          ],
          "scatter3d": [
           {
            "line": {
             "colorbar": {
              "outlinewidth": 0,
              "ticks": ""
             }
            },
            "marker": {
             "colorbar": {
              "outlinewidth": 0,
              "ticks": ""
             }
            },
            "type": "scatter3d"
           }
          ],
          "scattercarpet": [
           {
            "marker": {
             "colorbar": {
              "outlinewidth": 0,
              "ticks": ""
             }
            },
            "type": "scattercarpet"
           }
          ],
          "scattergeo": [
           {
            "marker": {
             "colorbar": {
              "outlinewidth": 0,
              "ticks": ""
             }
            },
            "type": "scattergeo"
           }
          ],
          "scattergl": [
           {
            "marker": {
             "colorbar": {
              "outlinewidth": 0,
              "ticks": ""
             }
            },
            "type": "scattergl"
           }
          ],
          "scattermapbox": [
           {
            "marker": {
             "colorbar": {
              "outlinewidth": 0,
              "ticks": ""
             }
            },
            "type": "scattermapbox"
           }
          ],
          "scatterpolar": [
           {
            "marker": {
             "colorbar": {
              "outlinewidth": 0,
              "ticks": ""
             }
            },
            "type": "scatterpolar"
           }
          ],
          "scatterpolargl": [
           {
            "marker": {
             "colorbar": {
              "outlinewidth": 0,
              "ticks": ""
             }
            },
            "type": "scatterpolargl"
           }
          ],
          "scatterternary": [
           {
            "marker": {
             "colorbar": {
              "outlinewidth": 0,
              "ticks": ""
             }
            },
            "type": "scatterternary"
           }
          ],
          "surface": [
           {
            "colorbar": {
             "outlinewidth": 0,
             "ticks": ""
            },
            "colorscale": [
             [
              0,
              "#0d0887"
             ],
             [
              0.1111111111111111,
              "#46039f"
             ],
             [
              0.2222222222222222,
              "#7201a8"
             ],
             [
              0.3333333333333333,
              "#9c179e"
             ],
             [
              0.4444444444444444,
              "#bd3786"
             ],
             [
              0.5555555555555556,
              "#d8576b"
             ],
             [
              0.6666666666666666,
              "#ed7953"
             ],
             [
              0.7777777777777778,
              "#fb9f3a"
             ],
             [
              0.8888888888888888,
              "#fdca26"
             ],
             [
              1,
              "#f0f921"
             ]
            ],
            "type": "surface"
           }
          ],
          "table": [
           {
            "cells": {
             "fill": {
              "color": "#EBF0F8"
             },
             "line": {
              "color": "white"
             }
            },
            "header": {
             "fill": {
              "color": "#C8D4E3"
             },
             "line": {
              "color": "white"
             }
            },
            "type": "table"
           }
          ]
         },
         "layout": {
          "annotationdefaults": {
           "arrowcolor": "#2a3f5f",
           "arrowhead": 0,
           "arrowwidth": 1
          },
          "autotypenumbers": "strict",
          "coloraxis": {
           "colorbar": {
            "outlinewidth": 0,
            "ticks": ""
           }
          },
          "colorscale": {
           "diverging": [
            [
             0,
             "#8e0152"
            ],
            [
             0.1,
             "#c51b7d"
            ],
            [
             0.2,
             "#de77ae"
            ],
            [
             0.3,
             "#f1b6da"
            ],
            [
             0.4,
             "#fde0ef"
            ],
            [
             0.5,
             "#f7f7f7"
            ],
            [
             0.6,
             "#e6f5d0"
            ],
            [
             0.7,
             "#b8e186"
            ],
            [
             0.8,
             "#7fbc41"
            ],
            [
             0.9,
             "#4d9221"
            ],
            [
             1,
             "#276419"
            ]
           ],
           "sequential": [
            [
             0,
             "#0d0887"
            ],
            [
             0.1111111111111111,
             "#46039f"
            ],
            [
             0.2222222222222222,
             "#7201a8"
            ],
            [
             0.3333333333333333,
             "#9c179e"
            ],
            [
             0.4444444444444444,
             "#bd3786"
            ],
            [
             0.5555555555555556,
             "#d8576b"
            ],
            [
             0.6666666666666666,
             "#ed7953"
            ],
            [
             0.7777777777777778,
             "#fb9f3a"
            ],
            [
             0.8888888888888888,
             "#fdca26"
            ],
            [
             1,
             "#f0f921"
            ]
           ],
           "sequentialminus": [
            [
             0,
             "#0d0887"
            ],
            [
             0.1111111111111111,
             "#46039f"
            ],
            [
             0.2222222222222222,
             "#7201a8"
            ],
            [
             0.3333333333333333,
             "#9c179e"
            ],
            [
             0.4444444444444444,
             "#bd3786"
            ],
            [
             0.5555555555555556,
             "#d8576b"
            ],
            [
             0.6666666666666666,
             "#ed7953"
            ],
            [
             0.7777777777777778,
             "#fb9f3a"
            ],
            [
             0.8888888888888888,
             "#fdca26"
            ],
            [
             1,
             "#f0f921"
            ]
           ]
          },
          "colorway": [
           "#636efa",
           "#EF553B",
           "#00cc96",
           "#ab63fa",
           "#FFA15A",
           "#19d3f3",
           "#FF6692",
           "#B6E880",
           "#FF97FF",
           "#FECB52"
          ],
          "font": {
           "color": "#2a3f5f"
          },
          "geo": {
           "bgcolor": "white",
           "lakecolor": "white",
           "landcolor": "#E5ECF6",
           "showlakes": true,
           "showland": true,
           "subunitcolor": "white"
          },
          "hoverlabel": {
           "align": "left"
          },
          "hovermode": "closest",
          "mapbox": {
           "style": "light"
          },
          "paper_bgcolor": "white",
          "plot_bgcolor": "#E5ECF6",
          "polar": {
           "angularaxis": {
            "gridcolor": "white",
            "linecolor": "white",
            "ticks": ""
           },
           "bgcolor": "#E5ECF6",
           "radialaxis": {
            "gridcolor": "white",
            "linecolor": "white",
            "ticks": ""
           }
          },
          "scene": {
           "xaxis": {
            "backgroundcolor": "#E5ECF6",
            "gridcolor": "white",
            "gridwidth": 2,
            "linecolor": "white",
            "showbackground": true,
            "ticks": "",
            "zerolinecolor": "white"
           },
           "yaxis": {
            "backgroundcolor": "#E5ECF6",
            "gridcolor": "white",
            "gridwidth": 2,
            "linecolor": "white",
            "showbackground": true,
            "ticks": "",
            "zerolinecolor": "white"
           },
           "zaxis": {
            "backgroundcolor": "#E5ECF6",
            "gridcolor": "white",
            "gridwidth": 2,
            "linecolor": "white",
            "showbackground": true,
            "ticks": "",
            "zerolinecolor": "white"
           }
          },
          "shapedefaults": {
           "line": {
            "color": "#2a3f5f"
           }
          },
          "ternary": {
           "aaxis": {
            "gridcolor": "white",
            "linecolor": "white",
            "ticks": ""
           },
           "baxis": {
            "gridcolor": "white",
            "linecolor": "white",
            "ticks": ""
           },
           "bgcolor": "#E5ECF6",
           "caxis": {
            "gridcolor": "white",
            "linecolor": "white",
            "ticks": ""
           }
          },
          "title": {
           "x": 0.05
          },
          "xaxis": {
           "automargin": true,
           "gridcolor": "white",
           "linecolor": "white",
           "ticks": "",
           "title": {
            "standoff": 15
           },
           "zerolinecolor": "white",
           "zerolinewidth": 2
          },
          "yaxis": {
           "automargin": true,
           "gridcolor": "white",
           "linecolor": "white",
           "ticks": "",
           "title": {
            "standoff": 15
           },
           "zerolinecolor": "white",
           "zerolinewidth": 2
          }
         }
        },
        "title": {
         "text": "3D Surface Plot of output from 24th-Transformer-layer"
        },
        "width": 1000
       }
      }
     },
     "metadata": {},
     "output_type": "display_data"
    }
   ],
   "source": [
    "df = pd.json_normalize(results)\n",
    "\n",
    "\n",
    "df['tau'] = df['tau'].apply(lambda x: x[0] if isinstance(x, list) else x)\n",
    "df['k'] = df['k'].apply(lambda x: x[0] if isinstance(x, list) else x)\n",
    "df['z-value'] = df['z-value'].apply(lambda x: x[0] if isinstance(x, list) else x)\n",
    "df['mean_sim'] = df['mean_sim'].apply(lambda x: x[0] if isinstance(x, list) else x)\n",
    "df['sd_sim'] = df['sd_sim'].apply(lambda x: x[0] if isinstance(x, list) else x)\n",
    "tau_vals = tau_values  \n",
    "k_vals = k_values\n",
    "tau_grid, k_grid = np.meshgrid(tau_vals, k_vals)  \n",
    "\n",
    "\n",
    "from scipy.interpolate import griddata\n",
    "#z_grid = griddata((df['tau'], df['k']), df['z-value'], (tau_grid, k_grid), method='linear')\n",
    "\n",
    "z_grid = griddata((df['tau'], df['k']), df['z-value'], (tau_grid, k_grid), method='nearest')\n",
    "\n",
    "fig = go.Figure(data=[go.Surface(z=z_grid, x=tau_grid, y=k_grid, colorscale='Viridis')])\n",
    "\n",
    "fig.update_layout(\n",
    "    width=1000,\n",
    "    height=1000,\n",
    "    title='3D Surface Plot of output from 24th-Transformer-layer',\n",
    "    scene=dict(\n",
    "        xaxis_title='Tau',\n",
    "        yaxis_title='K',\n",
    "        zaxis_title='sd_sim',\n",
    "        yaxis=dict(type='log')\n",
    "    )\n",
    ")\n",
    "\n",
    "fig.show()"
   ]
  },
  {
   "cell_type": "code",
   "execution_count": 98,
   "metadata": {},
   "outputs": [
    {
     "name": "stdout",
     "output_type": "stream",
     "text": [
      "Total wall time: 2084.34 seconds\n"
     ]
    }
   ],
   "source": [
    "\n",
    "import pickle\n",
    "with open(\"..\\O_Jan31\\hubert_words_CNN.pkl\", \"rb\") as file:\n",
    "    sentence_matrix2 = pickle.load(file)\n",
    "\n",
    "word_features2,out_dict2=create_set(audio_dir, human_result_1a, sentence_matrix2)\n",
    "tau_values = np.arange(1,11,1)\n",
    "k_values = 10**np.arange(-4,1.1,0.1)\n",
    "import itertools\n",
    "import multiprocessing\n",
    "import time\n",
    "from joblib import Parallel, delayed\n",
    "pandas2ri.activate()\n",
    "params_grid=list(itertools.product(tau_values, k_values))\n",
    "\n",
    "start_time = time.time()\n",
    "n_jobs = min(32, multiprocessing.cpu_count())\n",
    "results2 = Parallel(n_jobs=n_jobs)(delayed(objective_function)(_,out_dict2, human_result_1a) for _ in params_grid)\n",
    "end_time = time.time()\n",
    "print(f\"Total wall time: {end_time - start_time:.2f} seconds\")"
   ]
  },
  {
   "cell_type": "code",
   "execution_count": 116,
   "metadata": {},
   "outputs": [
    {
     "data": {
      "application/vnd.plotly.v1+json": {
       "config": {
        "plotlyServerURL": "https://plot.ly"
       },
       "data": [
        {
         "colorscale": [
          [
           0,
           "#440154"
          ],
          [
           0.1111111111111111,
           "#482878"
          ],
          [
           0.2222222222222222,
           "#3e4989"
          ],
          [
           0.3333333333333333,
           "#31688e"
          ],
          [
           0.4444444444444444,
           "#26828e"
          ],
          [
           0.5555555555555556,
           "#1f9e89"
          ],
          [
           0.6666666666666666,
           "#35b779"
          ],
          [
           0.7777777777777778,
           "#6ece58"
          ],
          [
           0.8888888888888888,
           "#b5de2b"
          ],
          [
           1,
           "#fde725"
          ]
         ],
         "type": "surface",
         "x": [
          [
           1,
           2,
           3,
           4,
           5,
           6,
           7,
           8,
           9,
           10
          ],
          [
           1,
           2,
           3,
           4,
           5,
           6,
           7,
           8,
           9,
           10
          ],
          [
           1,
           2,
           3,
           4,
           5,
           6,
           7,
           8,
           9,
           10
          ],
          [
           1,
           2,
           3,
           4,
           5,
           6,
           7,
           8,
           9,
           10
          ],
          [
           1,
           2,
           3,
           4,
           5,
           6,
           7,
           8,
           9,
           10
          ],
          [
           1,
           2,
           3,
           4,
           5,
           6,
           7,
           8,
           9,
           10
          ],
          [
           1,
           2,
           3,
           4,
           5,
           6,
           7,
           8,
           9,
           10
          ],
          [
           1,
           2,
           3,
           4,
           5,
           6,
           7,
           8,
           9,
           10
          ],
          [
           1,
           2,
           3,
           4,
           5,
           6,
           7,
           8,
           9,
           10
          ],
          [
           1,
           2,
           3,
           4,
           5,
           6,
           7,
           8,
           9,
           10
          ],
          [
           1,
           2,
           3,
           4,
           5,
           6,
           7,
           8,
           9,
           10
          ],
          [
           1,
           2,
           3,
           4,
           5,
           6,
           7,
           8,
           9,
           10
          ],
          [
           1,
           2,
           3,
           4,
           5,
           6,
           7,
           8,
           9,
           10
          ],
          [
           1,
           2,
           3,
           4,
           5,
           6,
           7,
           8,
           9,
           10
          ],
          [
           1,
           2,
           3,
           4,
           5,
           6,
           7,
           8,
           9,
           10
          ],
          [
           1,
           2,
           3,
           4,
           5,
           6,
           7,
           8,
           9,
           10
          ],
          [
           1,
           2,
           3,
           4,
           5,
           6,
           7,
           8,
           9,
           10
          ],
          [
           1,
           2,
           3,
           4,
           5,
           6,
           7,
           8,
           9,
           10
          ],
          [
           1,
           2,
           3,
           4,
           5,
           6,
           7,
           8,
           9,
           10
          ],
          [
           1,
           2,
           3,
           4,
           5,
           6,
           7,
           8,
           9,
           10
          ],
          [
           1,
           2,
           3,
           4,
           5,
           6,
           7,
           8,
           9,
           10
          ],
          [
           1,
           2,
           3,
           4,
           5,
           6,
           7,
           8,
           9,
           10
          ],
          [
           1,
           2,
           3,
           4,
           5,
           6,
           7,
           8,
           9,
           10
          ],
          [
           1,
           2,
           3,
           4,
           5,
           6,
           7,
           8,
           9,
           10
          ],
          [
           1,
           2,
           3,
           4,
           5,
           6,
           7,
           8,
           9,
           10
          ],
          [
           1,
           2,
           3,
           4,
           5,
           6,
           7,
           8,
           9,
           10
          ],
          [
           1,
           2,
           3,
           4,
           5,
           6,
           7,
           8,
           9,
           10
          ],
          [
           1,
           2,
           3,
           4,
           5,
           6,
           7,
           8,
           9,
           10
          ],
          [
           1,
           2,
           3,
           4,
           5,
           6,
           7,
           8,
           9,
           10
          ],
          [
           1,
           2,
           3,
           4,
           5,
           6,
           7,
           8,
           9,
           10
          ],
          [
           1,
           2,
           3,
           4,
           5,
           6,
           7,
           8,
           9,
           10
          ],
          [
           1,
           2,
           3,
           4,
           5,
           6,
           7,
           8,
           9,
           10
          ],
          [
           1,
           2,
           3,
           4,
           5,
           6,
           7,
           8,
           9,
           10
          ],
          [
           1,
           2,
           3,
           4,
           5,
           6,
           7,
           8,
           9,
           10
          ],
          [
           1,
           2,
           3,
           4,
           5,
           6,
           7,
           8,
           9,
           10
          ],
          [
           1,
           2,
           3,
           4,
           5,
           6,
           7,
           8,
           9,
           10
          ],
          [
           1,
           2,
           3,
           4,
           5,
           6,
           7,
           8,
           9,
           10
          ],
          [
           1,
           2,
           3,
           4,
           5,
           6,
           7,
           8,
           9,
           10
          ],
          [
           1,
           2,
           3,
           4,
           5,
           6,
           7,
           8,
           9,
           10
          ],
          [
           1,
           2,
           3,
           4,
           5,
           6,
           7,
           8,
           9,
           10
          ],
          [
           1,
           2,
           3,
           4,
           5,
           6,
           7,
           8,
           9,
           10
          ],
          [
           1,
           2,
           3,
           4,
           5,
           6,
           7,
           8,
           9,
           10
          ],
          [
           1,
           2,
           3,
           4,
           5,
           6,
           7,
           8,
           9,
           10
          ],
          [
           1,
           2,
           3,
           4,
           5,
           6,
           7,
           8,
           9,
           10
          ],
          [
           1,
           2,
           3,
           4,
           5,
           6,
           7,
           8,
           9,
           10
          ],
          [
           1,
           2,
           3,
           4,
           5,
           6,
           7,
           8,
           9,
           10
          ],
          [
           1,
           2,
           3,
           4,
           5,
           6,
           7,
           8,
           9,
           10
          ],
          [
           1,
           2,
           3,
           4,
           5,
           6,
           7,
           8,
           9,
           10
          ],
          [
           1,
           2,
           3,
           4,
           5,
           6,
           7,
           8,
           9,
           10
          ],
          [
           1,
           2,
           3,
           4,
           5,
           6,
           7,
           8,
           9,
           10
          ],
          [
           1,
           2,
           3,
           4,
           5,
           6,
           7,
           8,
           9,
           10
          ]
         ],
         "y": [
          [
           0.0001,
           0.0001,
           0.0001,
           0.0001,
           0.0001,
           0.0001,
           0.0001,
           0.0001,
           0.0001,
           0.0001
          ],
          [
           0.00012589254117941674,
           0.00012589254117941674,
           0.00012589254117941674,
           0.00012589254117941674,
           0.00012589254117941674,
           0.00012589254117941674,
           0.00012589254117941674,
           0.00012589254117941674,
           0.00012589254117941674,
           0.00012589254117941674
          ],
          [
           0.00015848931924611142,
           0.00015848931924611142,
           0.00015848931924611142,
           0.00015848931924611142,
           0.00015848931924611142,
           0.00015848931924611142,
           0.00015848931924611142,
           0.00015848931924611142,
           0.00015848931924611142,
           0.00015848931924611142
          ],
          [
           0.0001995262314968881,
           0.0001995262314968881,
           0.0001995262314968881,
           0.0001995262314968881,
           0.0001995262314968881,
           0.0001995262314968881,
           0.0001995262314968881,
           0.0001995262314968881,
           0.0001995262314968881,
           0.0001995262314968881
          ],
          [
           0.0002511886431509582,
           0.0002511886431509582,
           0.0002511886431509582,
           0.0002511886431509582,
           0.0002511886431509582,
           0.0002511886431509582,
           0.0002511886431509582,
           0.0002511886431509582,
           0.0002511886431509582,
           0.0002511886431509582
          ],
          [
           0.00031622776601683826,
           0.00031622776601683826,
           0.00031622776601683826,
           0.00031622776601683826,
           0.00031622776601683826,
           0.00031622776601683826,
           0.00031622776601683826,
           0.00031622776601683826,
           0.00031622776601683826,
           0.00031622776601683826
          ],
          [
           0.00039810717055349773,
           0.00039810717055349773,
           0.00039810717055349773,
           0.00039810717055349773,
           0.00039810717055349773,
           0.00039810717055349773,
           0.00039810717055349773,
           0.00039810717055349773,
           0.00039810717055349773,
           0.00039810717055349773
          ],
          [
           0.000501187233627273,
           0.000501187233627273,
           0.000501187233627273,
           0.000501187233627273,
           0.000501187233627273,
           0.000501187233627273,
           0.000501187233627273,
           0.000501187233627273,
           0.000501187233627273,
           0.000501187233627273
          ],
          [
           0.0006309573444801943,
           0.0006309573444801943,
           0.0006309573444801943,
           0.0006309573444801943,
           0.0006309573444801943,
           0.0006309573444801943,
           0.0006309573444801943,
           0.0006309573444801943,
           0.0006309573444801943,
           0.0006309573444801943
          ],
          [
           0.0007943282347242829,
           0.0007943282347242829,
           0.0007943282347242829,
           0.0007943282347242829,
           0.0007943282347242829,
           0.0007943282347242829,
           0.0007943282347242829,
           0.0007943282347242829,
           0.0007943282347242829,
           0.0007943282347242829
          ],
          [
           0.001000000000000002,
           0.001000000000000002,
           0.001000000000000002,
           0.001000000000000002,
           0.001000000000000002,
           0.001000000000000002,
           0.001000000000000002,
           0.001000000000000002,
           0.001000000000000002,
           0.001000000000000002
          ],
          [
           0.00125892541179417,
           0.00125892541179417,
           0.00125892541179417,
           0.00125892541179417,
           0.00125892541179417,
           0.00125892541179417,
           0.00125892541179417,
           0.00125892541179417,
           0.00125892541179417,
           0.00125892541179417
          ],
          [
           0.0015848931924611173,
           0.0015848931924611173,
           0.0015848931924611173,
           0.0015848931924611173,
           0.0015848931924611173,
           0.0015848931924611173,
           0.0015848931924611173,
           0.0015848931924611173,
           0.0015848931924611173,
           0.0015848931924611173
          ],
          [
           0.001995262314968885,
           0.001995262314968885,
           0.001995262314968885,
           0.001995262314968885,
           0.001995262314968885,
           0.001995262314968885,
           0.001995262314968885,
           0.001995262314968885,
           0.001995262314968885,
           0.001995262314968885
          ],
          [
           0.0025118864315095872,
           0.0025118864315095872,
           0.0025118864315095872,
           0.0025118864315095872,
           0.0025118864315095872,
           0.0025118864315095872,
           0.0025118864315095872,
           0.0025118864315095872,
           0.0025118864315095872,
           0.0025118864315095872
          ],
          [
           0.003162277660168389,
           0.003162277660168389,
           0.003162277660168389,
           0.003162277660168389,
           0.003162277660168389,
           0.003162277660168389,
           0.003162277660168389,
           0.003162277660168389,
           0.003162277660168389,
           0.003162277660168389
          ],
          [
           0.0039810717055349856,
           0.0039810717055349856,
           0.0039810717055349856,
           0.0039810717055349856,
           0.0039810717055349856,
           0.0039810717055349856,
           0.0039810717055349856,
           0.0039810717055349856,
           0.0039810717055349856,
           0.0039810717055349856
          ],
          [
           0.00501187233627274,
           0.00501187233627274,
           0.00501187233627274,
           0.00501187233627274,
           0.00501187233627274,
           0.00501187233627274,
           0.00501187233627274,
           0.00501187233627274,
           0.00501187233627274,
           0.00501187233627274
          ],
          [
           0.006309573444801955,
           0.006309573444801955,
           0.006309573444801955,
           0.006309573444801955,
           0.006309573444801955,
           0.006309573444801955,
           0.006309573444801955,
           0.006309573444801955,
           0.006309573444801955,
           0.006309573444801955
          ],
          [
           0.007943282347242847,
           0.007943282347242847,
           0.007943282347242847,
           0.007943282347242847,
           0.007943282347242847,
           0.007943282347242847,
           0.007943282347242847,
           0.007943282347242847,
           0.007943282347242847,
           0.007943282347242847
          ],
          [
           0.01000000000000004,
           0.01000000000000004,
           0.01000000000000004,
           0.01000000000000004,
           0.01000000000000004,
           0.01000000000000004,
           0.01000000000000004,
           0.01000000000000004,
           0.01000000000000004,
           0.01000000000000004
          ],
          [
           0.012589254117941727,
           0.012589254117941727,
           0.012589254117941727,
           0.012589254117941727,
           0.012589254117941727,
           0.012589254117941727,
           0.012589254117941727,
           0.012589254117941727,
           0.012589254117941727,
           0.012589254117941727
          ],
          [
           0.015848931924611207,
           0.015848931924611207,
           0.015848931924611207,
           0.015848931924611207,
           0.015848931924611207,
           0.015848931924611207,
           0.015848931924611207,
           0.015848931924611207,
           0.015848931924611207,
           0.015848931924611207
          ],
          [
           0.01995262314968889,
           0.01995262314968889,
           0.01995262314968889,
           0.01995262314968889,
           0.01995262314968889,
           0.01995262314968889,
           0.01995262314968889,
           0.01995262314968889,
           0.01995262314968889,
           0.01995262314968889
          ],
          [
           0.025118864315095923,
           0.025118864315095923,
           0.025118864315095923,
           0.025118864315095923,
           0.025118864315095923,
           0.025118864315095923,
           0.025118864315095923,
           0.025118864315095923,
           0.025118864315095923,
           0.025118864315095923
          ],
          [
           0.03162277660168396,
           0.03162277660168396,
           0.03162277660168396,
           0.03162277660168396,
           0.03162277660168396,
           0.03162277660168396,
           0.03162277660168396,
           0.03162277660168396,
           0.03162277660168396,
           0.03162277660168396
          ],
          [
           0.039810717055349935,
           0.039810717055349935,
           0.039810717055349935,
           0.039810717055349935,
           0.039810717055349935,
           0.039810717055349935,
           0.039810717055349935,
           0.039810717055349935,
           0.039810717055349935,
           0.039810717055349935
          ],
          [
           0.050118723362727505,
           0.050118723362727505,
           0.050118723362727505,
           0.050118723362727505,
           0.050118723362727505,
           0.050118723362727505,
           0.050118723362727505,
           0.050118723362727505,
           0.050118723362727505,
           0.050118723362727505
          ],
          [
           0.06309573444801969,
           0.06309573444801969,
           0.06309573444801969,
           0.06309573444801969,
           0.06309573444801969,
           0.06309573444801969,
           0.06309573444801969,
           0.06309573444801969,
           0.06309573444801969,
           0.06309573444801969
          ],
          [
           0.07943282347242862,
           0.07943282347242862,
           0.07943282347242862,
           0.07943282347242862,
           0.07943282347242862,
           0.07943282347242862,
           0.07943282347242862,
           0.07943282347242862,
           0.07943282347242862,
           0.07943282347242862
          ],
          [
           0.10000000000000062,
           0.10000000000000062,
           0.10000000000000062,
           0.10000000000000062,
           0.10000000000000062,
           0.10000000000000062,
           0.10000000000000062,
           0.10000000000000062,
           0.10000000000000062,
           0.10000000000000062
          ],
          [
           0.1258925411794175,
           0.1258925411794175,
           0.1258925411794175,
           0.1258925411794175,
           0.1258925411794175,
           0.1258925411794175,
           0.1258925411794175,
           0.1258925411794175,
           0.1258925411794175,
           0.1258925411794175
          ],
          [
           0.1584893192461124,
           0.1584893192461124,
           0.1584893192461124,
           0.1584893192461124,
           0.1584893192461124,
           0.1584893192461124,
           0.1584893192461124,
           0.1584893192461124,
           0.1584893192461124,
           0.1584893192461124
          ],
          [
           0.1995262314968893,
           0.1995262314968893,
           0.1995262314968893,
           0.1995262314968893,
           0.1995262314968893,
           0.1995262314968893,
           0.1995262314968893,
           0.1995262314968893,
           0.1995262314968893,
           0.1995262314968893
          ],
          [
           0.25118864315095973,
           0.25118864315095973,
           0.25118864315095973,
           0.25118864315095973,
           0.25118864315095973,
           0.25118864315095973,
           0.25118864315095973,
           0.25118864315095973,
           0.25118864315095973,
           0.25118864315095973
          ],
          [
           0.3162277660168402,
           0.3162277660168402,
           0.3162277660168402,
           0.3162277660168402,
           0.3162277660168402,
           0.3162277660168402,
           0.3162277660168402,
           0.3162277660168402,
           0.3162277660168402,
           0.3162277660168402
          ],
          [
           0.3981071705535002,
           0.3981071705535002,
           0.3981071705535002,
           0.3981071705535002,
           0.3981071705535002,
           0.3981071705535002,
           0.3981071705535002,
           0.3981071705535002,
           0.3981071705535002,
           0.3981071705535002
          ],
          [
           0.5011872336272761,
           0.5011872336272761,
           0.5011872336272761,
           0.5011872336272761,
           0.5011872336272761,
           0.5011872336272761,
           0.5011872336272761,
           0.5011872336272761,
           0.5011872336272761,
           0.5011872336272761
          ],
          [
           0.6309573444801981,
           0.6309573444801981,
           0.6309573444801981,
           0.6309573444801981,
           0.6309573444801981,
           0.6309573444801981,
           0.6309573444801981,
           0.6309573444801981,
           0.6309573444801981,
           0.6309573444801981
          ],
          [
           0.7943282347242878,
           0.7943282347242878,
           0.7943282347242878,
           0.7943282347242878,
           0.7943282347242878,
           0.7943282347242878,
           0.7943282347242878,
           0.7943282347242878,
           0.7943282347242878,
           0.7943282347242878
          ],
          [
           1.0000000000000082,
           1.0000000000000082,
           1.0000000000000082,
           1.0000000000000082,
           1.0000000000000082,
           1.0000000000000082,
           1.0000000000000082,
           1.0000000000000082,
           1.0000000000000082,
           1.0000000000000082
          ],
          [
           1.2589254117941764,
           1.2589254117941764,
           1.2589254117941764,
           1.2589254117941764,
           1.2589254117941764,
           1.2589254117941764,
           1.2589254117941764,
           1.2589254117941764,
           1.2589254117941764,
           1.2589254117941764
          ],
          [
           1.5848931924611271,
           1.5848931924611271,
           1.5848931924611271,
           1.5848931924611271,
           1.5848931924611271,
           1.5848931924611271,
           1.5848931924611271,
           1.5848931924611271,
           1.5848931924611271,
           1.5848931924611271
          ],
          [
           1.9952623149688993,
           1.9952623149688993,
           1.9952623149688993,
           1.9952623149688993,
           1.9952623149688993,
           1.9952623149688993,
           1.9952623149688993,
           1.9952623149688993,
           1.9952623149688993,
           1.9952623149688993
          ],
          [
           2.511886431509603,
           2.511886431509603,
           2.511886431509603,
           2.511886431509603,
           2.511886431509603,
           2.511886431509603,
           2.511886431509603,
           2.511886431509603,
           2.511886431509603,
           2.511886431509603
          ],
          [
           3.1622776601684053,
           3.1622776601684053,
           3.1622776601684053,
           3.1622776601684053,
           3.1622776601684053,
           3.1622776601684053,
           3.1622776601684053,
           3.1622776601684053,
           3.1622776601684053,
           3.1622776601684053
          ],
          [
           3.98107170553501,
           3.98107170553501,
           3.98107170553501,
           3.98107170553501,
           3.98107170553501,
           3.98107170553501,
           3.98107170553501,
           3.98107170553501,
           3.98107170553501,
           3.98107170553501
          ],
          [
           5.011872336272776,
           5.011872336272776,
           5.011872336272776,
           5.011872336272776,
           5.011872336272776,
           5.011872336272776,
           5.011872336272776,
           5.011872336272776,
           5.011872336272776,
           5.011872336272776
          ],
          [
           6.309573444801995,
           6.309573444801995,
           6.309573444801995,
           6.309573444801995,
           6.309573444801995,
           6.309573444801995,
           6.309573444801995,
           6.309573444801995,
           6.309573444801995,
           6.309573444801995
          ],
          [
           7.943282347242887,
           7.943282347242887,
           7.943282347242887,
           7.943282347242887,
           7.943282347242887,
           7.943282347242887,
           7.943282347242887,
           7.943282347242887,
           7.943282347242887,
           7.943282347242887
          ],
          [
           10.000000000000103,
           10.000000000000103,
           10.000000000000103,
           10.000000000000103,
           10.000000000000103,
           10.000000000000103,
           10.000000000000103,
           10.000000000000103,
           10.000000000000103,
           10.000000000000103
          ]
         ],
         "z": [
          [
           0,
           0,
           0,
           0,
           0,
           0,
           0,
           0,
           0,
           0
          ],
          [
           0,
           0,
           0,
           0,
           0,
           0,
           0,
           0,
           0,
           0
          ],
          [
           0,
           0,
           0,
           0,
           0,
           0,
           0,
           0,
           0,
           0
          ],
          [
           0,
           0,
           0,
           0,
           0,
           0,
           0,
           0,
           0,
           0
          ],
          [
           0,
           0,
           0,
           0,
           0,
           0,
           0,
           0,
           0,
           0
          ],
          [
           0,
           0,
           0,
           0,
           0,
           0,
           0,
           0,
           0,
           0
          ],
          [
           0,
           0,
           0,
           0,
           0,
           0,
           0,
           0,
           0,
           0
          ],
          [
           0,
           0,
           0,
           0,
           0,
           0,
           0,
           0,
           0,
           0
          ],
          [
           0,
           0,
           0,
           0,
           0,
           0,
           0,
           0,
           0,
           0
          ],
          [
           0,
           0,
           0,
           0,
           0,
           0,
           0,
           0,
           0,
           0
          ],
          [
           0,
           0,
           0,
           0,
           0,
           0,
           0,
           0,
           0,
           0
          ],
          [
           0,
           0,
           0,
           0,
           0,
           0,
           0,
           0,
           0,
           0
          ],
          [
           0,
           0,
           0,
           0,
           0,
           0,
           0,
           0,
           0,
           0
          ],
          [
           0,
           0,
           0,
           0,
           0,
           0,
           0,
           0,
           0,
           0
          ],
          [
           0,
           0,
           0,
           0,
           0,
           0,
           0,
           0,
           0,
           0
          ],
          [
           0,
           0,
           0,
           0,
           0,
           0,
           0,
           0,
           0,
           0
          ],
          [
           0,
           0,
           0,
           0,
           0,
           0,
           0,
           0,
           0,
           0
          ],
          [
           0,
           0,
           0,
           0,
           0,
           0,
           0,
           0,
           0,
           0
          ],
          [
           0,
           0,
           0,
           0,
           0,
           0,
           0,
           0,
           0,
           0
          ],
          [
           0,
           0,
           0,
           0,
           0,
           0,
           0,
           0,
           0,
           0
          ],
          [
           0,
           0,
           0,
           0,
           0,
           0,
           0,
           0,
           0,
           0
          ],
          [
           0,
           0,
           0,
           0,
           0,
           0,
           0,
           0,
           0,
           0
          ],
          [
           0,
           0,
           0,
           0,
           0,
           0,
           0,
           0,
           0,
           0
          ],
          [
           0,
           0,
           0,
           0,
           0,
           0,
           0,
           0,
           0,
           0
          ],
          [
           0,
           0,
           0,
           0,
           0,
           0,
           0,
           0,
           0,
           0
          ],
          [
           0,
           0,
           0,
           0,
           0,
           0,
           0,
           0,
           0,
           0
          ],
          [
           0,
           0,
           0,
           0,
           0,
           0,
           0,
           0,
           0,
           0
          ],
          [
           0,
           0,
           0,
           0,
           0,
           0,
           0,
           0,
           0,
           0
          ],
          [
           0,
           0,
           0,
           0,
           0,
           0,
           0,
           0,
           0,
           0
          ],
          [
           0,
           0,
           0,
           0,
           0,
           0,
           0,
           0,
           0,
           0
          ],
          [
           0,
           0,
           0,
           0,
           0,
           0,
           0,
           0,
           0,
           0
          ],
          [
           0,
           0,
           0,
           0,
           0,
           0,
           0,
           0,
           0,
           0
          ],
          [
           0,
           0,
           0,
           0,
           0,
           0,
           0,
           0,
           0,
           0
          ],
          [
           0,
           0,
           0,
           0,
           0,
           0,
           0,
           0,
           0,
           0
          ],
          [
           0,
           0,
           0,
           0,
           0,
           0,
           0,
           0,
           0,
           0
          ],
          [
           0,
           0,
           0,
           0,
           0,
           0,
           0,
           0,
           0,
           0
          ],
          [
           0,
           0,
           0,
           0,
           0,
           0,
           0,
           0,
           0,
           0
          ],
          [
           0,
           0,
           0,
           0,
           0,
           0,
           0,
           0,
           0,
           0
          ],
          [
           0,
           0,
           0,
           0,
           0,
           0,
           0,
           0,
           0,
           0
          ],
          [
           10.039327337719776,
           0,
           0,
           0,
           0,
           0,
           0,
           0,
           0,
           0
          ],
          [
           9.974446058164801,
           10.061166241319178,
           0,
           0,
           0,
           0,
           0,
           0,
           0,
           0
          ],
          [
           9.877437893100323,
           10.021495037916681,
           10.038302148400211,
           10.040949599585378,
           10.04277439420196,
           10.044496216002265,
           10.04524747183067,
           10.04495454000629,
           10.044886426140344,
           10.044533357087099
          ],
          [
           9.757361855884527,
           9.94793112757636,
           9.981203800751013,
           9.990518253368775,
           9.995545608904118,
           9.998938221911793,
           10.00064041072024,
           10.001181266497095,
           10.001575406188657,
           10.001786094140908
          ],
          [
           9.630720002659473,
           9.843647111578814,
           9.890289852944242,
           9.905602047988294,
           9.913419824627663,
           9.918230260174987,
           9.92088220206915,
           9.922241360971332,
           9.923195027730145,
           9.923763346979511
          ],
          [
           9.516692090019552,
           9.720288756629682,
           9.773822393395905,
           9.792881528016121,
           9.802566720949885,
           9.808274332083485,
           9.811495516897288,
           9.81343144079803,
           9.814816194788731,
           9.815617978911462
          ],
          [
           9.42945364453023,
           9.595924799145982,
           9.647678101675798,
           9.66739837710969,
           9.677378082729993,
           9.683166240337204,
           9.686580162280558,
           9.688714426452371,
           9.690210097132999,
           9.691189444221939
          ],
          [
           9.373258119846538,
           9.488890494922268,
           9.531401991208808,
           9.54844197001476,
           9.55715725376134,
           9.562188311042112,
           9.565254608719055,
           9.567196413732917,
           9.568591953675263,
           9.569498289777595
          ],
          [
           9.34323819975281,
           9.410766807781041,
           9.440113153919576,
           9.4525950974326,
           9.459031288892659,
           9.4627827066442,
           9.465006155069963,
           9.46649686694761,
           9.467558740098129,
           9.46832416343694
          ],
          [
           9.329906148424085,
           9.362857147676781,
           9.379790489579477,
           9.387390496217527,
           9.391350701857883,
           9.39368134715756,
           9.395090516326217,
           9.396033123908287,
           9.396736617415716,
           9.397189422603715
          ],
          [
           9.325050487049433,
           9.338411523932434,
           9.346477907318278,
           9.350314817045454,
           9.352307587101352,
           9.35347340498921,
           9.35423842375982,
           9.354715666039892,
           9.355069351242722,
           9.355306425185338
          ],
          [
           9.32363675951997,
           9.328005518579507,
           9.33119132448772,
           9.332753658017916,
           9.333623526781125,
           9.33411344091468,
           9.334432830214471,
           9.334651515393338,
           9.3347791204287,
           9.33489486527337
          ]
         ]
        }
       ],
       "layout": {
        "height": 1000,
        "scene": {
         "xaxis": {
          "title": {
           "text": "Tau"
          }
         },
         "yaxis": {
          "title": {
           "text": "K"
          },
          "type": "log"
         },
         "zaxis": {
          "title": {
           "text": "Z-value"
          }
         }
        },
        "template": {
         "data": {
          "bar": [
           {
            "error_x": {
             "color": "#2a3f5f"
            },
            "error_y": {
             "color": "#2a3f5f"
            },
            "marker": {
             "line": {
              "color": "#E5ECF6",
              "width": 0.5
             },
             "pattern": {
              "fillmode": "overlay",
              "size": 10,
              "solidity": 0.2
             }
            },
            "type": "bar"
           }
          ],
          "barpolar": [
           {
            "marker": {
             "line": {
              "color": "#E5ECF6",
              "width": 0.5
             },
             "pattern": {
              "fillmode": "overlay",
              "size": 10,
              "solidity": 0.2
             }
            },
            "type": "barpolar"
           }
          ],
          "carpet": [
           {
            "aaxis": {
             "endlinecolor": "#2a3f5f",
             "gridcolor": "white",
             "linecolor": "white",
             "minorgridcolor": "white",
             "startlinecolor": "#2a3f5f"
            },
            "baxis": {
             "endlinecolor": "#2a3f5f",
             "gridcolor": "white",
             "linecolor": "white",
             "minorgridcolor": "white",
             "startlinecolor": "#2a3f5f"
            },
            "type": "carpet"
           }
          ],
          "choropleth": [
           {
            "colorbar": {
             "outlinewidth": 0,
             "ticks": ""
            },
            "type": "choropleth"
           }
          ],
          "contour": [
           {
            "colorbar": {
             "outlinewidth": 0,
             "ticks": ""
            },
            "colorscale": [
             [
              0,
              "#0d0887"
             ],
             [
              0.1111111111111111,
              "#46039f"
             ],
             [
              0.2222222222222222,
              "#7201a8"
             ],
             [
              0.3333333333333333,
              "#9c179e"
             ],
             [
              0.4444444444444444,
              "#bd3786"
             ],
             [
              0.5555555555555556,
              "#d8576b"
             ],
             [
              0.6666666666666666,
              "#ed7953"
             ],
             [
              0.7777777777777778,
              "#fb9f3a"
             ],
             [
              0.8888888888888888,
              "#fdca26"
             ],
             [
              1,
              "#f0f921"
             ]
            ],
            "type": "contour"
           }
          ],
          "contourcarpet": [
           {
            "colorbar": {
             "outlinewidth": 0,
             "ticks": ""
            },
            "type": "contourcarpet"
           }
          ],
          "heatmap": [
           {
            "colorbar": {
             "outlinewidth": 0,
             "ticks": ""
            },
            "colorscale": [
             [
              0,
              "#0d0887"
             ],
             [
              0.1111111111111111,
              "#46039f"
             ],
             [
              0.2222222222222222,
              "#7201a8"
             ],
             [
              0.3333333333333333,
              "#9c179e"
             ],
             [
              0.4444444444444444,
              "#bd3786"
             ],
             [
              0.5555555555555556,
              "#d8576b"
             ],
             [
              0.6666666666666666,
              "#ed7953"
             ],
             [
              0.7777777777777778,
              "#fb9f3a"
             ],
             [
              0.8888888888888888,
              "#fdca26"
             ],
             [
              1,
              "#f0f921"
             ]
            ],
            "type": "heatmap"
           }
          ],
          "heatmapgl": [
           {
            "colorbar": {
             "outlinewidth": 0,
             "ticks": ""
            },
            "colorscale": [
             [
              0,
              "#0d0887"
             ],
             [
              0.1111111111111111,
              "#46039f"
             ],
             [
              0.2222222222222222,
              "#7201a8"
             ],
             [
              0.3333333333333333,
              "#9c179e"
             ],
             [
              0.4444444444444444,
              "#bd3786"
             ],
             [
              0.5555555555555556,
              "#d8576b"
             ],
             [
              0.6666666666666666,
              "#ed7953"
             ],
             [
              0.7777777777777778,
              "#fb9f3a"
             ],
             [
              0.8888888888888888,
              "#fdca26"
             ],
             [
              1,
              "#f0f921"
             ]
            ],
            "type": "heatmapgl"
           }
          ],
          "histogram": [
           {
            "marker": {
             "pattern": {
              "fillmode": "overlay",
              "size": 10,
              "solidity": 0.2
             }
            },
            "type": "histogram"
           }
          ],
          "histogram2d": [
           {
            "colorbar": {
             "outlinewidth": 0,
             "ticks": ""
            },
            "colorscale": [
             [
              0,
              "#0d0887"
             ],
             [
              0.1111111111111111,
              "#46039f"
             ],
             [
              0.2222222222222222,
              "#7201a8"
             ],
             [
              0.3333333333333333,
              "#9c179e"
             ],
             [
              0.4444444444444444,
              "#bd3786"
             ],
             [
              0.5555555555555556,
              "#d8576b"
             ],
             [
              0.6666666666666666,
              "#ed7953"
             ],
             [
              0.7777777777777778,
              "#fb9f3a"
             ],
             [
              0.8888888888888888,
              "#fdca26"
             ],
             [
              1,
              "#f0f921"
             ]
            ],
            "type": "histogram2d"
           }
          ],
          "histogram2dcontour": [
           {
            "colorbar": {
             "outlinewidth": 0,
             "ticks": ""
            },
            "colorscale": [
             [
              0,
              "#0d0887"
             ],
             [
              0.1111111111111111,
              "#46039f"
             ],
             [
              0.2222222222222222,
              "#7201a8"
             ],
             [
              0.3333333333333333,
              "#9c179e"
             ],
             [
              0.4444444444444444,
              "#bd3786"
             ],
             [
              0.5555555555555556,
              "#d8576b"
             ],
             [
              0.6666666666666666,
              "#ed7953"
             ],
             [
              0.7777777777777778,
              "#fb9f3a"
             ],
             [
              0.8888888888888888,
              "#fdca26"
             ],
             [
              1,
              "#f0f921"
             ]
            ],
            "type": "histogram2dcontour"
           }
          ],
          "mesh3d": [
           {
            "colorbar": {
             "outlinewidth": 0,
             "ticks": ""
            },
            "type": "mesh3d"
           }
          ],
          "parcoords": [
           {
            "line": {
             "colorbar": {
              "outlinewidth": 0,
              "ticks": ""
             }
            },
            "type": "parcoords"
           }
          ],
          "pie": [
           {
            "automargin": true,
            "type": "pie"
           }
          ],
          "scatter": [
           {
            "fillpattern": {
             "fillmode": "overlay",
             "size": 10,
             "solidity": 0.2
            },
            "type": "scatter"
           }
          ],
          "scatter3d": [
           {
            "line": {
             "colorbar": {
              "outlinewidth": 0,
              "ticks": ""
             }
            },
            "marker": {
             "colorbar": {
              "outlinewidth": 0,
              "ticks": ""
             }
            },
            "type": "scatter3d"
           }
          ],
          "scattercarpet": [
           {
            "marker": {
             "colorbar": {
              "outlinewidth": 0,
              "ticks": ""
             }
            },
            "type": "scattercarpet"
           }
          ],
          "scattergeo": [
           {
            "marker": {
             "colorbar": {
              "outlinewidth": 0,
              "ticks": ""
             }
            },
            "type": "scattergeo"
           }
          ],
          "scattergl": [
           {
            "marker": {
             "colorbar": {
              "outlinewidth": 0,
              "ticks": ""
             }
            },
            "type": "scattergl"
           }
          ],
          "scattermapbox": [
           {
            "marker": {
             "colorbar": {
              "outlinewidth": 0,
              "ticks": ""
             }
            },
            "type": "scattermapbox"
           }
          ],
          "scatterpolar": [
           {
            "marker": {
             "colorbar": {
              "outlinewidth": 0,
              "ticks": ""
             }
            },
            "type": "scatterpolar"
           }
          ],
          "scatterpolargl": [
           {
            "marker": {
             "colorbar": {
              "outlinewidth": 0,
              "ticks": ""
             }
            },
            "type": "scatterpolargl"
           }
          ],
          "scatterternary": [
           {
            "marker": {
             "colorbar": {
              "outlinewidth": 0,
              "ticks": ""
             }
            },
            "type": "scatterternary"
           }
          ],
          "surface": [
           {
            "colorbar": {
             "outlinewidth": 0,
             "ticks": ""
            },
            "colorscale": [
             [
              0,
              "#0d0887"
             ],
             [
              0.1111111111111111,
              "#46039f"
             ],
             [
              0.2222222222222222,
              "#7201a8"
             ],
             [
              0.3333333333333333,
              "#9c179e"
             ],
             [
              0.4444444444444444,
              "#bd3786"
             ],
             [
              0.5555555555555556,
              "#d8576b"
             ],
             [
              0.6666666666666666,
              "#ed7953"
             ],
             [
              0.7777777777777778,
              "#fb9f3a"
             ],
             [
              0.8888888888888888,
              "#fdca26"
             ],
             [
              1,
              "#f0f921"
             ]
            ],
            "type": "surface"
           }
          ],
          "table": [
           {
            "cells": {
             "fill": {
              "color": "#EBF0F8"
             },
             "line": {
              "color": "white"
             }
            },
            "header": {
             "fill": {
              "color": "#C8D4E3"
             },
             "line": {
              "color": "white"
             }
            },
            "type": "table"
           }
          ]
         },
         "layout": {
          "annotationdefaults": {
           "arrowcolor": "#2a3f5f",
           "arrowhead": 0,
           "arrowwidth": 1
          },
          "autotypenumbers": "strict",
          "coloraxis": {
           "colorbar": {
            "outlinewidth": 0,
            "ticks": ""
           }
          },
          "colorscale": {
           "diverging": [
            [
             0,
             "#8e0152"
            ],
            [
             0.1,
             "#c51b7d"
            ],
            [
             0.2,
             "#de77ae"
            ],
            [
             0.3,
             "#f1b6da"
            ],
            [
             0.4,
             "#fde0ef"
            ],
            [
             0.5,
             "#f7f7f7"
            ],
            [
             0.6,
             "#e6f5d0"
            ],
            [
             0.7,
             "#b8e186"
            ],
            [
             0.8,
             "#7fbc41"
            ],
            [
             0.9,
             "#4d9221"
            ],
            [
             1,
             "#276419"
            ]
           ],
           "sequential": [
            [
             0,
             "#0d0887"
            ],
            [
             0.1111111111111111,
             "#46039f"
            ],
            [
             0.2222222222222222,
             "#7201a8"
            ],
            [
             0.3333333333333333,
             "#9c179e"
            ],
            [
             0.4444444444444444,
             "#bd3786"
            ],
            [
             0.5555555555555556,
             "#d8576b"
            ],
            [
             0.6666666666666666,
             "#ed7953"
            ],
            [
             0.7777777777777778,
             "#fb9f3a"
            ],
            [
             0.8888888888888888,
             "#fdca26"
            ],
            [
             1,
             "#f0f921"
            ]
           ],
           "sequentialminus": [
            [
             0,
             "#0d0887"
            ],
            [
             0.1111111111111111,
             "#46039f"
            ],
            [
             0.2222222222222222,
             "#7201a8"
            ],
            [
             0.3333333333333333,
             "#9c179e"
            ],
            [
             0.4444444444444444,
             "#bd3786"
            ],
            [
             0.5555555555555556,
             "#d8576b"
            ],
            [
             0.6666666666666666,
             "#ed7953"
            ],
            [
             0.7777777777777778,
             "#fb9f3a"
            ],
            [
             0.8888888888888888,
             "#fdca26"
            ],
            [
             1,
             "#f0f921"
            ]
           ]
          },
          "colorway": [
           "#636efa",
           "#EF553B",
           "#00cc96",
           "#ab63fa",
           "#FFA15A",
           "#19d3f3",
           "#FF6692",
           "#B6E880",
           "#FF97FF",
           "#FECB52"
          ],
          "font": {
           "color": "#2a3f5f"
          },
          "geo": {
           "bgcolor": "white",
           "lakecolor": "white",
           "landcolor": "#E5ECF6",
           "showlakes": true,
           "showland": true,
           "subunitcolor": "white"
          },
          "hoverlabel": {
           "align": "left"
          },
          "hovermode": "closest",
          "mapbox": {
           "style": "light"
          },
          "paper_bgcolor": "white",
          "plot_bgcolor": "#E5ECF6",
          "polar": {
           "angularaxis": {
            "gridcolor": "white",
            "linecolor": "white",
            "ticks": ""
           },
           "bgcolor": "#E5ECF6",
           "radialaxis": {
            "gridcolor": "white",
            "linecolor": "white",
            "ticks": ""
           }
          },
          "scene": {
           "xaxis": {
            "backgroundcolor": "#E5ECF6",
            "gridcolor": "white",
            "gridwidth": 2,
            "linecolor": "white",
            "showbackground": true,
            "ticks": "",
            "zerolinecolor": "white"
           },
           "yaxis": {
            "backgroundcolor": "#E5ECF6",
            "gridcolor": "white",
            "gridwidth": 2,
            "linecolor": "white",
            "showbackground": true,
            "ticks": "",
            "zerolinecolor": "white"
           },
           "zaxis": {
            "backgroundcolor": "#E5ECF6",
            "gridcolor": "white",
            "gridwidth": 2,
            "linecolor": "white",
            "showbackground": true,
            "ticks": "",
            "zerolinecolor": "white"
           }
          },
          "shapedefaults": {
           "line": {
            "color": "#2a3f5f"
           }
          },
          "ternary": {
           "aaxis": {
            "gridcolor": "white",
            "linecolor": "white",
            "ticks": ""
           },
           "baxis": {
            "gridcolor": "white",
            "linecolor": "white",
            "ticks": ""
           },
           "bgcolor": "#E5ECF6",
           "caxis": {
            "gridcolor": "white",
            "linecolor": "white",
            "ticks": ""
           }
          },
          "title": {
           "x": 0.05
          },
          "xaxis": {
           "automargin": true,
           "gridcolor": "white",
           "linecolor": "white",
           "ticks": "",
           "title": {
            "standoff": 15
           },
           "zerolinecolor": "white",
           "zerolinewidth": 2
          },
          "yaxis": {
           "automargin": true,
           "gridcolor": "white",
           "linecolor": "white",
           "ticks": "",
           "title": {
            "standoff": 15
           },
           "zerolinecolor": "white",
           "zerolinewidth": 2
          }
         }
        },
        "title": {
         "text": "3D Surface Plot of output from 24th-Transformer-layer"
        },
        "width": 1000
       }
      }
     },
     "metadata": {},
     "output_type": "display_data"
    }
   ],
   "source": [
    "df = pd.json_normalize(results2)\n",
    "\n",
    "\n",
    "df['tau'] = df['tau'].apply(lambda x: x[0] if isinstance(x, list) else x)\n",
    "df['k'] = df['k'].apply(lambda x: x[0] if isinstance(x, list) else x)\n",
    "df['z-value'] = df['z-value'].apply(lambda x: x[0] if isinstance(x, list) else x)\n",
    "\n",
    "tau_vals = tau_values  \n",
    "k_vals = k_values\n",
    "tau_grid, k_grid = np.meshgrid(tau_vals, k_vals)  \n",
    "\n",
    "\n",
    "from scipy.interpolate import griddata\n",
    "#z_grid = griddata((df['tau'], df['k']), df['z-value'], (tau_grid, k_grid), method='linear')\n",
    "\n",
    "z_grid = griddata((df['tau'], df['k']), df['z-value'], (tau_grid, k_grid), method='nearest')\n",
    "\n",
    "fig = go.Figure(data=[go.Surface(z=z_grid, x=tau_grid, y=k_grid, colorscale='Viridis')])\n",
    "\n",
    "fig.update_layout(\n",
    "    width=1000,\n",
    "    height=1000,\n",
    "    title='3D Surface Plot of output from 24th-Transformer-layer',\n",
    "    scene=dict(\n",
    "        xaxis_title='Tau',\n",
    "        yaxis_title='K',\n",
    "        zaxis_title='Z-value',\n",
    "        yaxis=dict(type='log')\n",
    "    )\n",
    ")\n",
    "\n",
    "fig.show()"
   ]
  },
  {
   "cell_type": "code",
   "execution_count": 118,
   "metadata": {},
   "outputs": [
    {
     "name": "stdout",
     "output_type": "stream",
     "text": [
      "Total wall time: 911.62 seconds\n"
     ]
    }
   ],
   "source": [
    "\n",
    "import pickle\n",
    "with open(\"..\\O_Jan31\\hubert_words_CNN.pkl\", \"rb\") as file:\n",
    "    sentence_matrix2 = pickle.load(file)\n",
    "\n",
    "word_features2,out_dict2=create_set(audio_dir, human_result_1a, sentence_matrix2)\n",
    "tau_values = np.arange(1,11,1)\n",
    "k_values = 10**np.arange(-1,3.1,0.2)\n",
    "import itertools\n",
    "import multiprocessing\n",
    "import time\n",
    "from joblib import Parallel, delayed\n",
    "pandas2ri.activate()\n",
    "params_grid=list(itertools.product(tau_values, k_values))\n",
    "\n",
    "start_time = time.time()\n",
    "n_jobs = min(32, multiprocessing.cpu_count())\n",
    "results3 = Parallel(n_jobs=n_jobs)(delayed(objective_function)(_,out_dict2, human_result_1a) for _ in params_grid)\n",
    "end_time = time.time()\n",
    "print(f\"Total wall time: {end_time - start_time:.2f} seconds\")"
   ]
  },
  {
   "cell_type": "code",
   "execution_count": 124,
   "metadata": {},
   "outputs": [
    {
     "data": {
      "application/vnd.plotly.v1+json": {
       "config": {
        "plotlyServerURL": "https://plot.ly"
       },
       "data": [
        {
         "colorscale": [
          [
           0,
           "#440154"
          ],
          [
           0.1111111111111111,
           "#482878"
          ],
          [
           0.2222222222222222,
           "#3e4989"
          ],
          [
           0.3333333333333333,
           "#31688e"
          ],
          [
           0.4444444444444444,
           "#26828e"
          ],
          [
           0.5555555555555556,
           "#1f9e89"
          ],
          [
           0.6666666666666666,
           "#35b779"
          ],
          [
           0.7777777777777778,
           "#6ece58"
          ],
          [
           0.8888888888888888,
           "#b5de2b"
          ],
          [
           1,
           "#fde725"
          ]
         ],
         "type": "surface",
         "x": [
          [
           1,
           2,
           3,
           4,
           5,
           6,
           7,
           8,
           9,
           10
          ],
          [
           1,
           2,
           3,
           4,
           5,
           6,
           7,
           8,
           9,
           10
          ],
          [
           1,
           2,
           3,
           4,
           5,
           6,
           7,
           8,
           9,
           10
          ],
          [
           1,
           2,
           3,
           4,
           5,
           6,
           7,
           8,
           9,
           10
          ],
          [
           1,
           2,
           3,
           4,
           5,
           6,
           7,
           8,
           9,
           10
          ],
          [
           1,
           2,
           3,
           4,
           5,
           6,
           7,
           8,
           9,
           10
          ],
          [
           1,
           2,
           3,
           4,
           5,
           6,
           7,
           8,
           9,
           10
          ],
          [
           1,
           2,
           3,
           4,
           5,
           6,
           7,
           8,
           9,
           10
          ],
          [
           1,
           2,
           3,
           4,
           5,
           6,
           7,
           8,
           9,
           10
          ],
          [
           1,
           2,
           3,
           4,
           5,
           6,
           7,
           8,
           9,
           10
          ],
          [
           1,
           2,
           3,
           4,
           5,
           6,
           7,
           8,
           9,
           10
          ],
          [
           1,
           2,
           3,
           4,
           5,
           6,
           7,
           8,
           9,
           10
          ],
          [
           1,
           2,
           3,
           4,
           5,
           6,
           7,
           8,
           9,
           10
          ],
          [
           1,
           2,
           3,
           4,
           5,
           6,
           7,
           8,
           9,
           10
          ],
          [
           1,
           2,
           3,
           4,
           5,
           6,
           7,
           8,
           9,
           10
          ],
          [
           1,
           2,
           3,
           4,
           5,
           6,
           7,
           8,
           9,
           10
          ],
          [
           1,
           2,
           3,
           4,
           5,
           6,
           7,
           8,
           9,
           10
          ],
          [
           1,
           2,
           3,
           4,
           5,
           6,
           7,
           8,
           9,
           10
          ],
          [
           1,
           2,
           3,
           4,
           5,
           6,
           7,
           8,
           9,
           10
          ],
          [
           1,
           2,
           3,
           4,
           5,
           6,
           7,
           8,
           9,
           10
          ],
          [
           1,
           2,
           3,
           4,
           5,
           6,
           7,
           8,
           9,
           10
          ]
         ],
         "y": [
          [
           0.1,
           0.1,
           0.1,
           0.1,
           0.1,
           0.1,
           0.1,
           0.1,
           0.1,
           0.1
          ],
          [
           0.15848931924611134,
           0.15848931924611134,
           0.15848931924611134,
           0.15848931924611134,
           0.15848931924611134,
           0.15848931924611134,
           0.15848931924611134,
           0.15848931924611134,
           0.15848931924611134,
           0.15848931924611134
          ],
          [
           0.25118864315095796,
           0.25118864315095796,
           0.25118864315095796,
           0.25118864315095796,
           0.25118864315095796,
           0.25118864315095796,
           0.25118864315095796,
           0.25118864315095796,
           0.25118864315095796,
           0.25118864315095796
          ],
          [
           0.39810717055349715,
           0.39810717055349715,
           0.39810717055349715,
           0.39810717055349715,
           0.39810717055349715,
           0.39810717055349715,
           0.39810717055349715,
           0.39810717055349715,
           0.39810717055349715,
           0.39810717055349715
          ],
          [
           0.630957344480193,
           0.630957344480193,
           0.630957344480193,
           0.630957344480193,
           0.630957344480193,
           0.630957344480193,
           0.630957344480193,
           0.630957344480193,
           0.630957344480193,
           0.630957344480193
          ],
          [
           0.9999999999999994,
           0.9999999999999994,
           0.9999999999999994,
           0.9999999999999994,
           0.9999999999999994,
           0.9999999999999994,
           0.9999999999999994,
           0.9999999999999994,
           0.9999999999999994,
           0.9999999999999994
          ],
          [
           1.5848931924611125,
           1.5848931924611125,
           1.5848931924611125,
           1.5848931924611125,
           1.5848931924611125,
           1.5848931924611125,
           1.5848931924611125,
           1.5848931924611125,
           1.5848931924611125,
           1.5848931924611125
          ],
          [
           2.5118864315095784,
           2.5118864315095784,
           2.5118864315095784,
           2.5118864315095784,
           2.5118864315095784,
           2.5118864315095784,
           2.5118864315095784,
           2.5118864315095784,
           2.5118864315095784,
           2.5118864315095784
          ],
          [
           3.981071705534969,
           3.981071705534969,
           3.981071705534969,
           3.981071705534969,
           3.981071705534969,
           3.981071705534969,
           3.981071705534969,
           3.981071705534969,
           3.981071705534969,
           3.981071705534969
          ],
          [
           6.309573444801926,
           6.309573444801926,
           6.309573444801926,
           6.309573444801926,
           6.309573444801926,
           6.309573444801926,
           6.309573444801926,
           6.309573444801926,
           6.309573444801926,
           6.309573444801926
          ],
          [
           9.99999999999999,
           9.99999999999999,
           9.99999999999999,
           9.99999999999999,
           9.99999999999999,
           9.99999999999999,
           9.99999999999999,
           9.99999999999999,
           9.99999999999999,
           9.99999999999999
          ],
          [
           15.84893192461111,
           15.84893192461111,
           15.84893192461111,
           15.84893192461111,
           15.84893192461111,
           15.84893192461111,
           15.84893192461111,
           15.84893192461111,
           15.84893192461111,
           15.84893192461111
          ],
          [
           25.11886431509577,
           25.11886431509577,
           25.11886431509577,
           25.11886431509577,
           25.11886431509577,
           25.11886431509577,
           25.11886431509577,
           25.11886431509577,
           25.11886431509577,
           25.11886431509577
          ],
          [
           39.81071705534969,
           39.81071705534969,
           39.81071705534969,
           39.81071705534969,
           39.81071705534969,
           39.81071705534969,
           39.81071705534969,
           39.81071705534969,
           39.81071705534969,
           39.81071705534969
          ],
          [
           63.095734448019236,
           63.095734448019236,
           63.095734448019236,
           63.095734448019236,
           63.095734448019236,
           63.095734448019236,
           63.095734448019236,
           63.095734448019236,
           63.095734448019236,
           63.095734448019236
          ],
          [
           99.9999999999998,
           99.9999999999998,
           99.9999999999998,
           99.9999999999998,
           99.9999999999998,
           99.9999999999998,
           99.9999999999998,
           99.9999999999998,
           99.9999999999998,
           99.9999999999998
          ],
          [
           158.48931924611108,
           158.48931924611108,
           158.48931924611108,
           158.48931924611108,
           158.48931924611108,
           158.48931924611108,
           158.48931924611108,
           158.48931924611108,
           158.48931924611108,
           158.48931924611108
          ],
          [
           251.18864315095772,
           251.18864315095772,
           251.18864315095772,
           251.18864315095772,
           251.18864315095772,
           251.18864315095772,
           251.18864315095772,
           251.18864315095772,
           251.18864315095772,
           251.18864315095772
          ],
          [
           398.10717055349653,
           398.10717055349653,
           398.10717055349653,
           398.10717055349653,
           398.10717055349653,
           398.10717055349653,
           398.10717055349653,
           398.10717055349653,
           398.10717055349653,
           398.10717055349653
          ],
          [
           630.9573444801918,
           630.9573444801918,
           630.9573444801918,
           630.9573444801918,
           630.9573444801918,
           630.9573444801918,
           630.9573444801918,
           630.9573444801918,
           630.9573444801918,
           630.9573444801918
          ],
          [
           999.999999999998,
           999.999999999998,
           999.999999999998,
           999.999999999998,
           999.999999999998,
           999.999999999998,
           999.999999999998,
           999.999999999998,
           999.999999999998,
           999.999999999998
          ]
         ],
         "z": [
          [
           0,
           0,
           0,
           0,
           0,
           0,
           0,
           0,
           0,
           0
          ],
          [
           0,
           0,
           0,
           0,
           0,
           0,
           0,
           0,
           0,
           0
          ],
          [
           0,
           0,
           0,
           0,
           0,
           0,
           0,
           0,
           0,
           0
          ],
          [
           0,
           0,
           0,
           0,
           0,
           0,
           0,
           0,
           0,
           0
          ],
          [
           0,
           0,
           0,
           0,
           0,
           0,
           0,
           0,
           0,
           0
          ],
          [
           9.97441811429716,
           10.061048648621547,
           0,
           0,
           0,
           0,
           0,
           0,
           0,
           0
          ],
          [
           9.757374414254967,
           9.94792244084757,
           9.981142087288136,
           9.990494019802723,
           9.995489754728943,
           9.998922349501989,
           10.000602564812395,
           10.001127624776709,
           10.001576597412967,
           10.001748356995746
          ],
          [
           9.516698055912924,
           9.720282222799899,
           9.773767984889636,
           9.792863777602673,
           9.802555032245145,
           9.808272323848579,
           9.81155439092065,
           9.813405090395365,
           9.81480697330906,
           9.815706182845794
          ],
          [
           9.373251067909633,
           9.488909377523072,
           9.53134972802461,
           9.548421794255459,
           9.557150948239675,
           9.562196137067684,
           9.565267599116067,
           9.567215718773777,
           9.56856498527151,
           9.569515115195761
          ],
          [
           9.329869780281248,
           9.362863461085528,
           9.379813666684395,
           9.387415254714705,
           9.39139055597818,
           9.393694438874272,
           9.395080746766954,
           9.396069015025875,
           9.39670612865201,
           9.39717331037125
          ],
          [
           9.32364166976348,
           9.328025205878197,
           9.331197958228067,
           9.332793782647153,
           9.333597899375466,
           9.334070056819547,
           9.334454062826058,
           9.33464739231911,
           9.334785038974028,
           9.334896569164306
          ],
          [
           9.323258007563958,
           9.323491643465296,
           9.323725762511746,
           9.323879275970306,
           9.323922346504343,
           9.32399920425133,
           9.3240669393487,
           9.324019075455569,
           9.324068185400181,
           9.324054412676986
          ],
          [
           9.323236105416857,
           9.323227446288756,
           9.323264654418834,
           9.32324964844468,
           9.323286492345135,
           9.323251156254315,
           9.32326647001254,
           9.323303140988143,
           9.323244782516825,
           9.323248152471809
          ],
          [
           9.323258472284516,
           9.32324218308558,
           9.323253253583252,
           9.323235555444178,
           9.323263165885125,
           9.323218898004615,
           9.323266180752656,
           9.323252320974838,
           9.323227854324776,
           9.323255525151138
          ],
          [
           9.32323357732762,
           9.323252590830624,
           9.323219908690195,
           9.323245572163799,
           9.323247375319339,
           9.323271688784297,
           9.323223869902861,
           9.323198150234544,
           9.323279847526013,
           9.323284969679653
          ],
          [
           9.32323357732762,
           9.32323357732762,
           9.32323357732762,
           9.32323357732762,
           9.32323357732762,
           9.323248986515852,
           9.323248986515852,
           9.323272857053398,
           9.323286767104658,
           9.323286767104658
          ],
          [
           9.32323357732762,
           9.32323357732762,
           9.32323357732762,
           9.32323357732762,
           9.32323357732762,
           9.32323357732762,
           9.32323357732762,
           9.32323357732762,
           9.32323357732762,
           9.32323357732762
          ],
          [
           9.32323357732762,
           9.32323357732762,
           9.32323357732762,
           9.32323357732762,
           9.32323357732762,
           9.32323357732762,
           9.32323357732762,
           9.32323357732762,
           9.32323357732762,
           9.32323357732762
          ],
          [
           9.32323357732762,
           9.32323357732762,
           9.32323357732762,
           9.32323357732762,
           9.32323357732762,
           9.32323357732762,
           9.32323357732762,
           9.32323357732762,
           9.32323357732762,
           9.32323357732762
          ],
          [
           9.32323357732762,
           9.32323357732762,
           9.32323357732762,
           9.32323357732762,
           9.32323357732762,
           9.32323357732762,
           9.32323357732762,
           9.32323357732762,
           9.32323357732762,
           9.32323357732762
          ],
          [
           9.32323357732762,
           9.32323357732762,
           9.32323357732762,
           9.32323357732762,
           9.32323357732762,
           9.32323357732762,
           9.32323357732762,
           9.32323357732762,
           9.32323357732762,
           9.32323357732762
          ]
         ]
        }
       ],
       "layout": {
        "height": 1000,
        "scene": {
         "xaxis": {
          "title": {
           "text": "Tau"
          }
         },
         "yaxis": {
          "title": {
           "text": "K"
          },
          "type": "log"
         },
         "zaxis": {
          "title": {
           "text": "Z-value"
          }
         }
        },
        "template": {
         "data": {
          "bar": [
           {
            "error_x": {
             "color": "#2a3f5f"
            },
            "error_y": {
             "color": "#2a3f5f"
            },
            "marker": {
             "line": {
              "color": "#E5ECF6",
              "width": 0.5
             },
             "pattern": {
              "fillmode": "overlay",
              "size": 10,
              "solidity": 0.2
             }
            },
            "type": "bar"
           }
          ],
          "barpolar": [
           {
            "marker": {
             "line": {
              "color": "#E5ECF6",
              "width": 0.5
             },
             "pattern": {
              "fillmode": "overlay",
              "size": 10,
              "solidity": 0.2
             }
            },
            "type": "barpolar"
           }
          ],
          "carpet": [
           {
            "aaxis": {
             "endlinecolor": "#2a3f5f",
             "gridcolor": "white",
             "linecolor": "white",
             "minorgridcolor": "white",
             "startlinecolor": "#2a3f5f"
            },
            "baxis": {
             "endlinecolor": "#2a3f5f",
             "gridcolor": "white",
             "linecolor": "white",
             "minorgridcolor": "white",
             "startlinecolor": "#2a3f5f"
            },
            "type": "carpet"
           }
          ],
          "choropleth": [
           {
            "colorbar": {
             "outlinewidth": 0,
             "ticks": ""
            },
            "type": "choropleth"
           }
          ],
          "contour": [
           {
            "colorbar": {
             "outlinewidth": 0,
             "ticks": ""
            },
            "colorscale": [
             [
              0,
              "#0d0887"
             ],
             [
              0.1111111111111111,
              "#46039f"
             ],
             [
              0.2222222222222222,
              "#7201a8"
             ],
             [
              0.3333333333333333,
              "#9c179e"
             ],
             [
              0.4444444444444444,
              "#bd3786"
             ],
             [
              0.5555555555555556,
              "#d8576b"
             ],
             [
              0.6666666666666666,
              "#ed7953"
             ],
             [
              0.7777777777777778,
              "#fb9f3a"
             ],
             [
              0.8888888888888888,
              "#fdca26"
             ],
             [
              1,
              "#f0f921"
             ]
            ],
            "type": "contour"
           }
          ],
          "contourcarpet": [
           {
            "colorbar": {
             "outlinewidth": 0,
             "ticks": ""
            },
            "type": "contourcarpet"
           }
          ],
          "heatmap": [
           {
            "colorbar": {
             "outlinewidth": 0,
             "ticks": ""
            },
            "colorscale": [
             [
              0,
              "#0d0887"
             ],
             [
              0.1111111111111111,
              "#46039f"
             ],
             [
              0.2222222222222222,
              "#7201a8"
             ],
             [
              0.3333333333333333,
              "#9c179e"
             ],
             [
              0.4444444444444444,
              "#bd3786"
             ],
             [
              0.5555555555555556,
              "#d8576b"
             ],
             [
              0.6666666666666666,
              "#ed7953"
             ],
             [
              0.7777777777777778,
              "#fb9f3a"
             ],
             [
              0.8888888888888888,
              "#fdca26"
             ],
             [
              1,
              "#f0f921"
             ]
            ],
            "type": "heatmap"
           }
          ],
          "heatmapgl": [
           {
            "colorbar": {
             "outlinewidth": 0,
             "ticks": ""
            },
            "colorscale": [
             [
              0,
              "#0d0887"
             ],
             [
              0.1111111111111111,
              "#46039f"
             ],
             [
              0.2222222222222222,
              "#7201a8"
             ],
             [
              0.3333333333333333,
              "#9c179e"
             ],
             [
              0.4444444444444444,
              "#bd3786"
             ],
             [
              0.5555555555555556,
              "#d8576b"
             ],
             [
              0.6666666666666666,
              "#ed7953"
             ],
             [
              0.7777777777777778,
              "#fb9f3a"
             ],
             [
              0.8888888888888888,
              "#fdca26"
             ],
             [
              1,
              "#f0f921"
             ]
            ],
            "type": "heatmapgl"
           }
          ],
          "histogram": [
           {
            "marker": {
             "pattern": {
              "fillmode": "overlay",
              "size": 10,
              "solidity": 0.2
             }
            },
            "type": "histogram"
           }
          ],
          "histogram2d": [
           {
            "colorbar": {
             "outlinewidth": 0,
             "ticks": ""
            },
            "colorscale": [
             [
              0,
              "#0d0887"
             ],
             [
              0.1111111111111111,
              "#46039f"
             ],
             [
              0.2222222222222222,
              "#7201a8"
             ],
             [
              0.3333333333333333,
              "#9c179e"
             ],
             [
              0.4444444444444444,
              "#bd3786"
             ],
             [
              0.5555555555555556,
              "#d8576b"
             ],
             [
              0.6666666666666666,
              "#ed7953"
             ],
             [
              0.7777777777777778,
              "#fb9f3a"
             ],
             [
              0.8888888888888888,
              "#fdca26"
             ],
             [
              1,
              "#f0f921"
             ]
            ],
            "type": "histogram2d"
           }
          ],
          "histogram2dcontour": [
           {
            "colorbar": {
             "outlinewidth": 0,
             "ticks": ""
            },
            "colorscale": [
             [
              0,
              "#0d0887"
             ],
             [
              0.1111111111111111,
              "#46039f"
             ],
             [
              0.2222222222222222,
              "#7201a8"
             ],
             [
              0.3333333333333333,
              "#9c179e"
             ],
             [
              0.4444444444444444,
              "#bd3786"
             ],
             [
              0.5555555555555556,
              "#d8576b"
             ],
             [
              0.6666666666666666,
              "#ed7953"
             ],
             [
              0.7777777777777778,
              "#fb9f3a"
             ],
             [
              0.8888888888888888,
              "#fdca26"
             ],
             [
              1,
              "#f0f921"
             ]
            ],
            "type": "histogram2dcontour"
           }
          ],
          "mesh3d": [
           {
            "colorbar": {
             "outlinewidth": 0,
             "ticks": ""
            },
            "type": "mesh3d"
           }
          ],
          "parcoords": [
           {
            "line": {
             "colorbar": {
              "outlinewidth": 0,
              "ticks": ""
             }
            },
            "type": "parcoords"
           }
          ],
          "pie": [
           {
            "automargin": true,
            "type": "pie"
           }
          ],
          "scatter": [
           {
            "fillpattern": {
             "fillmode": "overlay",
             "size": 10,
             "solidity": 0.2
            },
            "type": "scatter"
           }
          ],
          "scatter3d": [
           {
            "line": {
             "colorbar": {
              "outlinewidth": 0,
              "ticks": ""
             }
            },
            "marker": {
             "colorbar": {
              "outlinewidth": 0,
              "ticks": ""
             }
            },
            "type": "scatter3d"
           }
          ],
          "scattercarpet": [
           {
            "marker": {
             "colorbar": {
              "outlinewidth": 0,
              "ticks": ""
             }
            },
            "type": "scattercarpet"
           }
          ],
          "scattergeo": [
           {
            "marker": {
             "colorbar": {
              "outlinewidth": 0,
              "ticks": ""
             }
            },
            "type": "scattergeo"
           }
          ],
          "scattergl": [
           {
            "marker": {
             "colorbar": {
              "outlinewidth": 0,
              "ticks": ""
             }
            },
            "type": "scattergl"
           }
          ],
          "scattermapbox": [
           {
            "marker": {
             "colorbar": {
              "outlinewidth": 0,
              "ticks": ""
             }
            },
            "type": "scattermapbox"
           }
          ],
          "scatterpolar": [
           {
            "marker": {
             "colorbar": {
              "outlinewidth": 0,
              "ticks": ""
             }
            },
            "type": "scatterpolar"
           }
          ],
          "scatterpolargl": [
           {
            "marker": {
             "colorbar": {
              "outlinewidth": 0,
              "ticks": ""
             }
            },
            "type": "scatterpolargl"
           }
          ],
          "scatterternary": [
           {
            "marker": {
             "colorbar": {
              "outlinewidth": 0,
              "ticks": ""
             }
            },
            "type": "scatterternary"
           }
          ],
          "surface": [
           {
            "colorbar": {
             "outlinewidth": 0,
             "ticks": ""
            },
            "colorscale": [
             [
              0,
              "#0d0887"
             ],
             [
              0.1111111111111111,
              "#46039f"
             ],
             [
              0.2222222222222222,
              "#7201a8"
             ],
             [
              0.3333333333333333,
              "#9c179e"
             ],
             [
              0.4444444444444444,
              "#bd3786"
             ],
             [
              0.5555555555555556,
              "#d8576b"
             ],
             [
              0.6666666666666666,
              "#ed7953"
             ],
             [
              0.7777777777777778,
              "#fb9f3a"
             ],
             [
              0.8888888888888888,
              "#fdca26"
             ],
             [
              1,
              "#f0f921"
             ]
            ],
            "type": "surface"
           }
          ],
          "table": [
           {
            "cells": {
             "fill": {
              "color": "#EBF0F8"
             },
             "line": {
              "color": "white"
             }
            },
            "header": {
             "fill": {
              "color": "#C8D4E3"
             },
             "line": {
              "color": "white"
             }
            },
            "type": "table"
           }
          ]
         },
         "layout": {
          "annotationdefaults": {
           "arrowcolor": "#2a3f5f",
           "arrowhead": 0,
           "arrowwidth": 1
          },
          "autotypenumbers": "strict",
          "coloraxis": {
           "colorbar": {
            "outlinewidth": 0,
            "ticks": ""
           }
          },
          "colorscale": {
           "diverging": [
            [
             0,
             "#8e0152"
            ],
            [
             0.1,
             "#c51b7d"
            ],
            [
             0.2,
             "#de77ae"
            ],
            [
             0.3,
             "#f1b6da"
            ],
            [
             0.4,
             "#fde0ef"
            ],
            [
             0.5,
             "#f7f7f7"
            ],
            [
             0.6,
             "#e6f5d0"
            ],
            [
             0.7,
             "#b8e186"
            ],
            [
             0.8,
             "#7fbc41"
            ],
            [
             0.9,
             "#4d9221"
            ],
            [
             1,
             "#276419"
            ]
           ],
           "sequential": [
            [
             0,
             "#0d0887"
            ],
            [
             0.1111111111111111,
             "#46039f"
            ],
            [
             0.2222222222222222,
             "#7201a8"
            ],
            [
             0.3333333333333333,
             "#9c179e"
            ],
            [
             0.4444444444444444,
             "#bd3786"
            ],
            [
             0.5555555555555556,
             "#d8576b"
            ],
            [
             0.6666666666666666,
             "#ed7953"
            ],
            [
             0.7777777777777778,
             "#fb9f3a"
            ],
            [
             0.8888888888888888,
             "#fdca26"
            ],
            [
             1,
             "#f0f921"
            ]
           ],
           "sequentialminus": [
            [
             0,
             "#0d0887"
            ],
            [
             0.1111111111111111,
             "#46039f"
            ],
            [
             0.2222222222222222,
             "#7201a8"
            ],
            [
             0.3333333333333333,
             "#9c179e"
            ],
            [
             0.4444444444444444,
             "#bd3786"
            ],
            [
             0.5555555555555556,
             "#d8576b"
            ],
            [
             0.6666666666666666,
             "#ed7953"
            ],
            [
             0.7777777777777778,
             "#fb9f3a"
            ],
            [
             0.8888888888888888,
             "#fdca26"
            ],
            [
             1,
             "#f0f921"
            ]
           ]
          },
          "colorway": [
           "#636efa",
           "#EF553B",
           "#00cc96",
           "#ab63fa",
           "#FFA15A",
           "#19d3f3",
           "#FF6692",
           "#B6E880",
           "#FF97FF",
           "#FECB52"
          ],
          "font": {
           "color": "#2a3f5f"
          },
          "geo": {
           "bgcolor": "white",
           "lakecolor": "white",
           "landcolor": "#E5ECF6",
           "showlakes": true,
           "showland": true,
           "subunitcolor": "white"
          },
          "hoverlabel": {
           "align": "left"
          },
          "hovermode": "closest",
          "mapbox": {
           "style": "light"
          },
          "paper_bgcolor": "white",
          "plot_bgcolor": "#E5ECF6",
          "polar": {
           "angularaxis": {
            "gridcolor": "white",
            "linecolor": "white",
            "ticks": ""
           },
           "bgcolor": "#E5ECF6",
           "radialaxis": {
            "gridcolor": "white",
            "linecolor": "white",
            "ticks": ""
           }
          },
          "scene": {
           "xaxis": {
            "backgroundcolor": "#E5ECF6",
            "gridcolor": "white",
            "gridwidth": 2,
            "linecolor": "white",
            "showbackground": true,
            "ticks": "",
            "zerolinecolor": "white"
           },
           "yaxis": {
            "backgroundcolor": "#E5ECF6",
            "gridcolor": "white",
            "gridwidth": 2,
            "linecolor": "white",
            "showbackground": true,
            "ticks": "",
            "zerolinecolor": "white"
           },
           "zaxis": {
            "backgroundcolor": "#E5ECF6",
            "gridcolor": "white",
            "gridwidth": 2,
            "linecolor": "white",
            "showbackground": true,
            "ticks": "",
            "zerolinecolor": "white"
           }
          },
          "shapedefaults": {
           "line": {
            "color": "#2a3f5f"
           }
          },
          "ternary": {
           "aaxis": {
            "gridcolor": "white",
            "linecolor": "white",
            "ticks": ""
           },
           "baxis": {
            "gridcolor": "white",
            "linecolor": "white",
            "ticks": ""
           },
           "bgcolor": "#E5ECF6",
           "caxis": {
            "gridcolor": "white",
            "linecolor": "white",
            "ticks": ""
           }
          },
          "title": {
           "x": 0.05
          },
          "xaxis": {
           "automargin": true,
           "gridcolor": "white",
           "linecolor": "white",
           "ticks": "",
           "title": {
            "standoff": 15
           },
           "zerolinecolor": "white",
           "zerolinewidth": 2
          },
          "yaxis": {
           "automargin": true,
           "gridcolor": "white",
           "linecolor": "white",
           "ticks": "",
           "title": {
            "standoff": 15
           },
           "zerolinecolor": "white",
           "zerolinewidth": 2
          }
         }
        },
        "title": {
         "text": "3D Surface Plot of output from 7th-CNN-layer"
        },
        "width": 1000
       }
      }
     },
     "metadata": {},
     "output_type": "display_data"
    }
   ],
   "source": [
    "df = pd.json_normalize(results3)\n",
    "\n",
    "\n",
    "df['tau'] = df['tau'].apply(lambda x: x[0] if isinstance(x, list) else x)\n",
    "df['k'] = df['k'].apply(lambda x: x[0] if isinstance(x, list) else x)\n",
    "df['z-value'] = df['z-value'].apply(lambda x: x[0] if isinstance(x, list) else x)\n",
    "\n",
    "tau_vals = tau_values\n",
    "k_vals = k_values\n",
    "tau_grid, k_grid = np.meshgrid(tau_vals, k_vals)\n",
    "\n",
    "\n",
    "from scipy.interpolate import griddata\n",
    "#z_grid = griddata((df['tau'], df['k']), df['z-value'], (tau_grid, k_grid), method='linear')\n",
    "\n",
    "z_grid = griddata((df['tau'], df['k']), df['z-value'], (tau_grid, k_grid), method='nearest')\n",
    "\n",
    "fig = go.Figure(data=[go.Surface(z=z_grid, x=tau_grid, y=k_grid, colorscale='Viridis')])\n",
    "\n",
    "fig.update_layout(\n",
    "    width=1000,\n",
    "    height=1000,\n",
    "    title='3D Surface Plot of output from 7th-CNN-layer',\n",
    "    scene=dict(\n",
    "        xaxis_title='Tau',\n",
    "        yaxis_title='K',\n",
    "        zaxis_title='Z-value',\n",
    "        yaxis=dict(type='log')\n",
    "    )\n",
    ")\n",
    "\n",
    "fig.show()"
   ]
  },
  {
   "cell_type": "code",
   "execution_count": 5,
   "metadata": {},
   "outputs": [
    {
     "name": "stdout",
     "output_type": "stream",
     "text": [
      "C:\\Program Files\\R\\R-4.4.1\n"
     ]
    }
   ],
   "source": [
    "import os\n",
    "\n",
    "os.environ['R_HOME'] = 'C:\\\\Program Files\\\\R\\\\R-4.4.1'\n",
    "os.environ[\"PATH\"] += os.pathsep + r\"C:\\Program Files\\R\\R-4.4.1\\bin\\x64\"\n",
    "\n",
    "print(os.environ.get(\"R_HOME\"))"
   ]
  },
  {
   "cell_type": "code",
   "execution_count": 7,
   "metadata": {},
   "outputs": [
    {
     "name": "stdout",
     "output_type": "stream",
     "text": [
      "3.5.16\n"
     ]
    }
   ],
   "source": [
    "import rpy2.robjects as ro\n",
    "import rpy2\n",
    "print(rpy2.__version__)"
   ]
  },
  {
   "cell_type": "code",
   "execution_count": null,
   "metadata": {},
   "outputs": [],
   "source": [
    "\n",
    "\n"
   ]
  },
  {
   "cell_type": "code",
   "execution_count": null,
   "metadata": {},
   "outputs": [
    {
     "name": "stdout",
     "output_type": "stream",
     "text": [
      "Total wall time: 10.02 seconds\n"
     ]
    }
   ],
   "source": [
    "from joblib import Parallel, delayed\n",
    "import time\n",
    "import math\n",
    "import multiprocessing\n",
    "\n",
    "def cpu_stress(duration_sec=10):\n",
    "    start = time.time()\n",
    "    count = 0\n",
    "    while time.time() - start < duration_sec:\n",
    "        count += math.sqrt(count + 1)\n",
    "    return duration_sec\n",
    "\n",
    "\n",
    "n_jobs = min(30, multiprocessing.cpu_count())\n",
    "\n",
    "start_time = time.time()\n",
    "results = Parallel(n_jobs=n_jobs)(delayed(cpu_stress)(10) for _ in range(n_jobs))\n",
    "end_time = time.time()\n",
    "\n",
    "#print(\"\\n\".join(results))\n",
    "print(f\"Total wall time: {end_time - start_time:.2f} seconds\")\n"
   ]
  },
  {
   "cell_type": "code",
   "execution_count": 65,
   "metadata": {},
   "outputs": [
    {
     "data": {
      "text/plain": [
       "[10,\n",
       " 10,\n",
       " 10,\n",
       " 10,\n",
       " 10,\n",
       " 10,\n",
       " 10,\n",
       " 10,\n",
       " 10,\n",
       " 10,\n",
       " 10,\n",
       " 10,\n",
       " 10,\n",
       " 10,\n",
       " 10,\n",
       " 10,\n",
       " 10,\n",
       " 10,\n",
       " 10,\n",
       " 10,\n",
       " 10,\n",
       " 10,\n",
       " 10,\n",
       " 10,\n",
       " 10,\n",
       " 10,\n",
       " 10,\n",
       " 10,\n",
       " 10,\n",
       " 10]"
      ]
     },
     "execution_count": 65,
     "metadata": {},
     "output_type": "execute_result"
    }
   ],
   "source": [
    "results"
   ]
  },
  {
   "cell_type": "code",
   "execution_count": null,
   "metadata": {},
   "outputs": [],
   "source": []
  },
  {
   "cell_type": "code",
   "execution_count": null,
   "metadata": {},
   "outputs": [],
   "source": []
  },
  {
   "cell_type": "code",
   "execution_count": null,
   "metadata": {},
   "outputs": [],
   "source": []
  },
  {
   "cell_type": "code",
   "execution_count": null,
   "metadata": {},
   "outputs": [],
   "source": []
  }
 ],
 "metadata": {
  "kernelspec": {
   "display_name": "BayesPCN",
   "language": "python",
   "name": "python3"
  },
  "language_info": {
   "codemirror_mode": {
    "name": "ipython",
    "version": 3
   },
   "file_extension": ".py",
   "mimetype": "text/x-python",
   "name": "python",
   "nbconvert_exporter": "python",
   "pygments_lexer": "ipython3",
   "version": "3.9.18"
  }
 },
 "nbformat": 4,
 "nbformat_minor": 2
}
