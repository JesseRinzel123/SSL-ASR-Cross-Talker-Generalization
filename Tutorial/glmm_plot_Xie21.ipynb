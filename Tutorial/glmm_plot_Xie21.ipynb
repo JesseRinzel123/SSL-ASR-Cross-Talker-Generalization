{
 "cells": [
  {
   "cell_type": "code",
   "execution_count": 2,
   "metadata": {},
   "outputs": [
    {
     "name": "stderr",
     "output_type": "stream",
     "text": [
      "[nltk_data] Downloading package cmudict to\n",
      "[nltk_data]     C:\\Users\\Alex\\AppData\\Roaming\\nltk_data...\n",
      "[nltk_data]   Package cmudict is already up-to-date!\n"
     ]
    },
    {
     "name": "stdout",
     "output_type": "stream",
     "text": [
      "WARNING:tensorflow:From c:\\Users\\Alex\\anaconda3\\envs\\BayesPCN\\lib\\site-packages\\keras\\src\\losses.py:2976: The name tf.losses.sparse_softmax_cross_entropy is deprecated. Please use tf.compat.v1.losses.sparse_softmax_cross_entropy instead.\n",
      "\n"
     ]
    },
    {
     "name": "stderr",
     "output_type": "stream",
     "text": [
      "c:\\Users\\Alex\\anaconda3\\envs\\BayesPCN\\lib\\site-packages\\huggingface_hub\\file_download.py:1132: FutureWarning: `resume_download` is deprecated and will be removed in version 1.0.0. Downloads always resume when possible. If you want to force a new download, use `force_download=True`.\n",
      "  warnings.warn(\n",
      "Some weights of the model checkpoint at facebook/hubert-large-ls960-ft were not used when initializing HubertForCTC: ['hubert.encoder.pos_conv_embed.conv.weight_g', 'hubert.encoder.pos_conv_embed.conv.weight_v']\n",
      "- This IS expected if you are initializing HubertForCTC from the checkpoint of a model trained on another task or with another architecture (e.g. initializing a BertForSequenceClassification model from a BertForPreTraining model).\n",
      "- This IS NOT expected if you are initializing HubertForCTC from the checkpoint of a model that you expect to be exactly identical (initializing a BertForSequenceClassification model from a BertForSequenceClassification model).\n",
      "Some weights of HubertForCTC were not initialized from the model checkpoint at facebook/hubert-large-ls960-ft and are newly initialized: ['hubert.encoder.pos_conv_embed.conv.parametrizations.weight.original0', 'hubert.encoder.pos_conv_embed.conv.parametrizations.weight.original1']\n",
      "You should probably TRAIN this model on a down-stream task to be able to use it for predictions and inference.\n"
     ]
    }
   ],
   "source": [
    "from typing import Iterable, List\n",
    "from torch.nn.utils.rnn import pad_sequence\n",
    "from torch.utils.data import DataLoader, Dataset\n",
    "from timeit import default_timer as timer\n",
    "from torch.nn import Transformer\n",
    "from torch import Tensor\n",
    "from sklearn.model_selection import train_test_split\n",
    "import copy\n",
    "import tqdm\n",
    "import librosa\n",
    "import seaborn as sns\n",
    "import torch.nn as nn\n",
    "import torch\n",
    "import torch.nn.functional as F\n",
    "import numpy as np\n",
    "import math\n",
    "import os\n",
    "#!pip install textgrid\n",
    "import textgrid\n",
    "import pandas as pd\n",
    "import matplotlib.pyplot as plt\n",
    "from scipy.spatial.distance import euclidean\n",
    "import plotly.graph_objects as go\n",
    "import pandas as pd\n",
    "device = torch.device(\"cuda\" if torch.cuda.is_available() else \"cpu\")\n",
    "import nltk\n",
    "nltk.download('cmudict')\n",
    "from nltk.corpus import cmudict\n",
    "from transformers import AutoProcessor, AutoModelForCTC\n",
    "import soundfile as sf\n",
    "\n",
    "#_ESPEAK_LIBRARY = r\"C:\\Program Files\\eSpeak NG\\libespeak-ng.dll\"\n",
    "#EspeakWrapper.set_library(_ESPEAK_LIBRARY)\n",
    "'''processor_P = AutoProcessor.from_pretrained(\"facebook/wav2vec2-lv-60-espeak-cv-ft\")\n",
    "model_P = AutoModelForCTC.from_pretrained(\"facebook/wav2vec2-lv-60-espeak-cv-ft\")'''\n",
    "\n",
    "\n",
    "from transformers import Wav2Vec2ForCTC, Wav2Vec2Processor\n",
    "processor_H = AutoProcessor.from_pretrained(\"facebook/hubert-large-ls960-ft\")\n",
    "\n",
    "# 加载HuBERT模型\n",
    "model_H = AutoModelForCTC.from_pretrained(\"facebook/hubert-large-ls960-ft\")"
   ]
  },
  {
   "cell_type": "code",
   "execution_count": 3,
   "metadata": {},
   "outputs": [],
   "source": [
    "os.environ['R_HOME'] = 'C:\\\\Program Files\\\\R\\\\R-4.4.1'\n",
    "os.environ[\"PATH\"] += os.pathsep + r\"C:\\Program Files\\R\\R-4.4.1\\bin\\x64\"\n",
    "\n",
    "from rpy2.robjects.packages import importr\n",
    "from rpy2.robjects import Formula, pandas2ri\n",
    "\n",
    "import pandas as pd\n",
    "import rpy2.robjects as ro\n",
    "from rpy2.robjects import pandas2ri\n",
    "\n",
    "# Activate the pandas conversion\n",
    "pandas2ri.activate()\n",
    "#utils = importr('utils')\n",
    "#utils.install_packages('lme4')\n"
   ]
  },
  {
   "cell_type": "code",
   "execution_count": 6,
   "metadata": {},
   "outputs": [],
   "source": [
    "human_result_path=r\"..\\data\\test.xlsx\"\n",
    "human_result = pd.read_excel(human_result_path)\n",
    "human_result_1a=human_result[human_result[\"Experiment\"]==\"1a\"]"
   ]
  },
  {
   "cell_type": "code",
   "execution_count": 7,
   "metadata": {},
   "outputs": [],
   "source": [
    "def get_pathset(paths):\n",
    "    return [os.path.join(dir, each_file) for dir, mid, files in os.walk(paths) for each_file in files if each_file.endswith(\".wav\")]\n",
    "audio_dir =r\"..\\Nov10\\speech_files\"\n",
    "set1_list=[0,1,2,3,4,5,6,7,8,9,10,12,13,14,15,16]\n",
    "set2_list=[17,18,19,20,21,22,24,25,26,27,28,29,30,31,37,40]"
   ]
  },
  {
   "cell_type": "code",
   "execution_count": 8,
   "metadata": {},
   "outputs": [],
   "source": [
    "import pickle\n",
    "with open(\"..\\O_Jan31\\hubert_words_Transformer.pkl\", \"rb\") as file:\n",
    "    sentence_matrix1 = pickle.load(file)"
   ]
  },
  {
   "cell_type": "code",
   "execution_count": 9,
   "metadata": {},
   "outputs": [],
   "source": [
    "def get_keywords_dict(human_result_1a):\n",
    "    '''\n",
    "    Return a dict, key: sentenceID, values: keywords\n",
    "    '''\n",
    "    keywords_dict={}\n",
    "    for each_ in human_result_1a.values:\n",
    "        sentenceID=each_[human_result_1a.columns.get_loc(\"SentenceID\")]\n",
    "        if sentenceID not in keywords_dict:\n",
    "            keywords_dict[sentenceID]=[]\n",
    "        keyword=each_[human_result_1a.columns.get_loc(\"Keyword\")]\n",
    "        if keyword not in keywords_dict[sentenceID]:\n",
    "            keywords_dict[sentenceID].append(keyword)\n",
    "    return dict(sorted(keywords_dict.items()))\n",
    "\n",
    "def create_set(audio_dir, df, reduced_data):\n",
    "    set1_list=[0,1,2,3,4,5,6,7,8,9,10,12,13,14,15,16]\n",
    "    set2_list=[17,18,19,20,21,22,24,25,26,27,28,29,30,31,37,40]\n",
    "    keywords_dict=get_keywords_dict(df)\n",
    "    keywords=[j for i in list(keywords_dict.values()) for j in i]\n",
    "    audio_path=get_pathset(audio_dir)[::-1]\n",
    "    out_dict={}\n",
    "    word_features=[[] for i in range(len(keywords))]\n",
    "    for __, each_path in enumerate(audio_path):\n",
    "        current_talker=os.path.basename(each_path)[:13]\n",
    "        if current_talker not in out_dict.keys():\n",
    "            out_dict[current_talker]=[[] for i in range(32)]\n",
    "        tg = textgrid.TextGrid.fromFile(each_path[:-3]+\"TextGrid\")\n",
    "        tg_sentence = tg[0]\n",
    "        for _,i in enumerate(tg[0]):\n",
    "            if i.mark!=\"\":\n",
    "                tg_sentence[_-1].maxTime=tg_sentence[_].minTime\n",
    "        tg_sentence = [i for i in tg_sentence if i.mark!=\"\"]\n",
    "        tg_sentence=[tg_sentence[i] for i in set1_list+set2_list]\n",
    "        tg_word = [i for i in tg[1] if i.mark!=\"\" and i.mark!=\"sp\"]\n",
    "        count=0\n",
    "        for _,each_sentence in enumerate(tg_sentence):\n",
    "            sentence_total_length=each_sentence.maxTime-each_sentence.minTime\n",
    "            for key_word in list(keywords_dict.values())[_]:\n",
    "\n",
    "                for each_word_tg in tg_word:\n",
    "                    if each_word_tg.mark.lower()==key_word:\n",
    "                        if each_word_tg.minTime >= each_sentence.minTime and each_word_tg.maxTime <= each_sentence.maxTime:\n",
    "                            start=each_word_tg.minTime\n",
    "                            end=each_word_tg.maxTime\n",
    "                            break\n",
    "\n",
    "                word_cut_start=start-each_sentence.minTime\n",
    "                word_cut_end=end-each_sentence.minTime\n",
    "                word_start=round(reduced_data[_][__].shape[0]*word_cut_start/sentence_total_length)\n",
    "                word_end=round(reduced_data[_][__].shape[0]*word_cut_end/sentence_total_length)\n",
    "\n",
    "                features=copy.deepcopy(reduced_data[_][__][word_start:word_end,:])\n",
    "                word_features[count].append(features)\n",
    "                out_dict[current_talker][_].append(features)\n",
    "                count+=1\n",
    "    return word_features,out_dict\n",
    "word_features,out_dict=create_set(audio_dir, human_result_1a, sentence_matrix1)"
   ]
  },
  {
   "cell_type": "code",
   "execution_count": null,
   "metadata": {},
   "outputs": [],
   "source": [
    "def get_keywords_dict(human_result_1a):\n",
    "    '''\n",
    "    Return a dict, key: sentenceID, values: keywords\n",
    "    '''\n",
    "    keywords_dict={}\n",
    "    for each_ in human_result_1a.values:\n",
    "        sentenceID=each_[human_result_1a.columns.get_loc(\"SentenceID\")]\n",
    "        if sentenceID not in keywords_dict:\n",
    "            keywords_dict[sentenceID]=[]\n",
    "        keyword=each_[human_result_1a.columns.get_loc(\"Keyword\")]\n",
    "        if keyword not in keywords_dict[sentenceID]:\n",
    "            keywords_dict[sentenceID].append(keyword)\n",
    "    return dict(sorted(keywords_dict.items()))\n",
    "\n",
    "def create_set(audio_dir, df, reduced_data):\n",
    "    set1_list=[0,1,2,3,4,5,6,7,8,9,10,12,13,14,15,16]\n",
    "    set2_list=[17,18,19,20,21,22,24,25,26,27,28,29,30,31,37,40]\n",
    "    keywords_dict=get_keywords_dict(df)\n",
    "    keywords=[j for i in list(keywords_dict.values()) for j in i]\n",
    "\n",
    "    audio_path=get_pathset(audio_dir)[::-1]\n",
    "    out_dict={}\n",
    "\n",
    "    word_features=[[] for i in range(len(keywords))]\n",
    "\n",
    "    for __, each_path in enumerate(audio_path):\n",
    "        #audio, sr = librosa.load(each_path)\n",
    "        #wave_res = librosa.resample(audio, orig_sr=sr, target_sr=16000)\n",
    "\n",
    "        current_talker=os.path.basename(each_path)[:13]\n",
    "        if current_talker not in out_dict.keys():\n",
    "            out_dict[current_talker]=[[] for i in range(32)]\n",
    "        tg = textgrid.TextGrid.fromFile(each_path[:-3]+\"TextGrid\")\n",
    "        tg_sentence = tg[0]\n",
    "        for _,i in enumerate(tg[0]):\n",
    "            if i.mark!=\"\":\n",
    "                tg_sentence[_-1].maxTime=tg_sentence[_].minTime\n",
    "        tg_sentence = [i for i in tg_sentence if i.mark!=\"\"]\n",
    "        tg_sentence=[tg_sentence[i] for i in set1_list+set2_list]\n",
    "        tg_word = [i for i in tg[1] if i.mark!=\"\" and i.mark!=\"sp\"]\n",
    "        count=0\n",
    "        for _,each_sentence in enumerate(tg_sentence):\n",
    "            sentence_total_length=each_sentence.maxTime-each_sentence.minTime\n",
    "            for key_word in list(keywords_dict.values())[_]:\n",
    "\n",
    "                for each_word_tg in tg_word:\n",
    "                    if each_word_tg.mark.lower()==key_word:\n",
    "                        if each_word_tg.minTime >= each_sentence.minTime and each_word_tg.maxTime <= each_sentence.maxTime:\n",
    "                            start=each_word_tg.minTime\n",
    "                            end=each_word_tg.maxTime\n",
    "                            break\n",
    "\n",
    "                word_cut_start=start-each_sentence.minTime\n",
    "                word_cut_end=end-each_sentence.minTime\n",
    "                word_start=round(reduced_data[_][__].shape[0]*word_cut_start/sentence_total_length)\n",
    "                word_end=round(reduced_data[_][__].shape[0]*word_cut_end/sentence_total_length)\n",
    "\n",
    "                features=copy.deepcopy(reduced_data[_][__][word_start:word_end,:])\n",
    "                word_features[count].append(features)\n",
    "                out_dict[current_talker][_].append(features)\n",
    "                count+=1\n",
    "\n",
    "\n",
    "    return word_features,out_dict\n",
    "word_features,out_dict=create_set(audio_dir, human_result_1a, sentence_matrix1)\n",
    "\n",
    "def get_training_paths(TrainingTalkerID):\n",
    "    path_list=[]\n",
    "    TalkerID=[]\n",
    "    for each_ID in TrainingTalkerID.split(\", \"):\n",
    "        if each_ID[:3]==\"CMN\":\n",
    "            TalkerID.append(f\"ALL_{each_ID[-3:]}_M_CMN\")\n",
    "        else:\n",
    "            TalkerID.append(f\"ALL_{each_ID[-3:]}_M_ENG\")\n",
    "    return TalkerID\n",
    "\n",
    "def get_keywords_list(df):\n",
    "    out_dict={}\n",
    "    for each_ in human_result_1a.values:\n",
    "        keyword_loc=df.columns.get_loc(\"Keyword\")\n",
    "        key_word = each_[keyword_loc]\n",
    "        sentenceID = each_[df.columns.get_loc(\"SentenceID\")]\n",
    "        if sentenceID not in out_dict.keys():\n",
    "            out_dict[sentenceID]=[]\n",
    "        if key_word not in out_dict[sentenceID]:\n",
    "            out_dict[sentenceID].append(key_word)\n",
    "    return out_dict\n",
    "\n",
    "def get_exposure_set(feature_dict,trainingTalkerID,sentenceID,key_word):\n",
    "    keywors_list = get_keywords_list(human_result_1a)\n",
    "    set1_list=[0,1,2,3,4,5,6,7,8,9,10,12,13,14,15,16]\n",
    "    set2_list=[17,18,19,20,21,22,24,25,26,27,28,29,30,31,37,40]\n",
    "    features=[]\n",
    "    for i in trainingTalkerID:\n",
    "        sentence_ind=(set1_list+set2_list).index(int(sentenceID[-3:])-1)\n",
    "        key_word_ind=keywors_list[sentenceID].index(key_word)\n",
    "        features.append(copy.deepcopy(feature_dict[i][sentence_ind][key_word_ind]))\n",
    "    return features\n",
    "\n",
    "def get_test_feature(feature_dict, test_talker, sentenceID, key_word):\n",
    "    keywors_list = get_keywords_list(human_result_1a)\n",
    "    set1_list=[0,1,2,3,4,5,6,7,8,9,10,12,13,14,15,16]\n",
    "    set2_list=[17,18,19,20,21,22,24,25,26,27,28,29,30,31,37,40]\n",
    "    #print(sentenceID)\n",
    "    sentence_ind=(set1_list+set2_list).index(int(sentenceID[-3:])-1)\n",
    "    key_word_ind=keywors_list[sentenceID].index(key_word)\n",
    "\n",
    "    return copy.deepcopy(feature_dict[test_talker][sentence_ind][key_word_ind])\n",
    "\n",
    "\n",
    "from numba import njit\n",
    "@njit\n",
    "def weighted_minkowski(vec1, vec2,  tau, w=1):\n",
    "\n",
    "    total = 0.0\n",
    "    for m in range(len(vec1)):\n",
    "        diff = w*abs(vec1[m] - vec2[m])\n",
    "        total += (diff ** tau)\n",
    "    return total**(1/tau)#np.sqrt(total)\n",
    "\n",
    "@njit\n",
    "def dtw_sim(seq1, seq2,  tau, k):\n",
    "    n, m = len(seq1), len(seq2)\n",
    "    dtw_matrix = np.full((n+1, m+1), np.inf)\n",
    "    dtw_matrix[0, 0] = 0.0\n",
    "\n",
    "    for i in range(1, n+1):\n",
    "        for j in range(1, m+1):\n",
    "            cost = weighted_minkowski(seq1[i-1], seq2[j-1], tau)\n",
    "            dtw_matrix[i, j] = cost + min(dtw_matrix[i-1, j],    # insertion\n",
    "                                         dtw_matrix[i, j-1],    # deletion\n",
    "                                         dtw_matrix[i-1, j-1])  # match\n",
    "    return np.exp(-(dtw_matrix[n, m]/((n+m)/2))*k)# change to *k,\n",
    "\n",
    "def sim_measure1(df, feature_dict,tau, k):\n",
    "    sim_min_list=[]\n",
    "    sim_std_list=[]\n",
    "    sim_median_list=[]\n",
    "    sim_mean_list=[]\n",
    "\n",
    "    train_set_dict={}\n",
    "    test_word_dict={}\n",
    "    count=0\n",
    "    error=0\n",
    "\n",
    "\n",
    "    train_talker_list=[]\n",
    "    test_talker_list=[]\n",
    "    out_df=pd.DataFrame(columns=['Condition2', 'TrainingTalkerID', 'TestTalkerID','SentenceID', 'Keyword',  'distance_min', 'IsCorrect'])#'trial',\n",
    "    for each_ in tqdm.tqdm(df.values):\n",
    "        filename_loc=df.columns.get_loc(\"Filename\")\n",
    "        keyword_loc=df.columns.get_loc(\"Keyword\")\n",
    "        sentence_loc= df.columns.get_loc(\"SentenceID\")\n",
    "        training_talker_loc=df.columns.get_loc(\"TrainingTalkerID\")\n",
    "\n",
    "        set1_list=[0,1,2,3,4,5,6,7,8,9,10,12,13,14,15,16]\n",
    "        set2_list=[17,18,19,20,21,22,24,25,26,27,28,29,30,31,37,40]\n",
    "        if each_[df.columns.get_loc(\"TrainingTestSet\")] == \"set2,set1\":\n",
    "            train_set=set2_list\n",
    "            test_set=set1_list\n",
    "        else:\n",
    "            train_set=set1_list\n",
    "            test_set=set2_list\n",
    "\n",
    "        test_file = [os.path.basename(each_[df.columns.get_loc(\"Filename\")])[:13]]\n",
    "        key_word = each_[keyword_loc] #string\n",
    "        TrainingTalkerID = each_[training_talker_loc] #list of string\n",
    "        sentenceID = each_[df.columns.get_loc(\"SentenceID\")]\n",
    "        trainingTalkerID=get_training_paths(TrainingTalkerID)\n",
    "\n",
    "        train_talker_key=\",\".join(sorted(trainingTalkerID))\n",
    "        if train_talker_key not in train_set_dict:\n",
    "            train_set_dict[train_talker_key]={}\n",
    "        if sentenceID not in train_set_dict[train_talker_key]:\n",
    "            train_set_dict[train_talker_key][sentenceID]={}\n",
    "        if key_word not in train_set_dict[train_talker_key][sentenceID]:\n",
    "\n",
    "            training_features=get_exposure_set(feature_dict,trainingTalkerID,sentenceID,key_word)\n",
    "            train_set_dict[train_talker_key][sentenceID][key_word]=copy.deepcopy(training_features)\n",
    "        else:\n",
    "            training_features=train_set_dict[train_talker_key][sentenceID][key_word]\n",
    "\n",
    "        if test_file[0] not in test_word_dict:\n",
    "            test_word_dict[test_file[0]]={}\n",
    "        if sentenceID not in test_word_dict[test_file[0]]:\n",
    "            test_word_dict[test_file[0]][sentenceID]={}\n",
    "        if key_word not in test_word_dict[test_file[0]][sentenceID]:\n",
    "            test_feature = get_test_feature(feature_dict, test_file[0], sentenceID, key_word)\n",
    "            test_word_dict[test_file[0]][sentenceID][key_word]=copy.deepcopy(test_feature)\n",
    "        else:\n",
    "            test_feature = test_word_dict[test_file[0]][sentenceID][key_word]\n",
    "\n",
    "        train_talker_list.append(\",\".join(trainingTalkerID))\n",
    "        test_talker_list.append(test_file[0])\n",
    "        sims=[]\n",
    "\n",
    "        for _, each_train_feature in enumerate(training_features):\n",
    "            #print(each_train_feature)\n",
    "            #print(test_feature)\n",
    "            X=each_train_feature#.transpose()\n",
    "            Y=test_feature#.transpose()\n",
    "            #D, wp = librosa.sequence.dtw(X, Y, metric='euclidean')\n",
    "            #combined_length = X.shape[1] + Y.shape[1]\n",
    "            #normalized_distance = D[-1, -1] / combined_length\n",
    "            normalized_distance = dtw_sim(X, Y, tau, k)\n",
    "            sims.append(normalized_distance)\n",
    "\n",
    "            #out_df=pd.DataFrame(columns=['Condition2', 'TrainingTalkerID', 'TestTalkerID', 'Keyword','distance_min', 'IsCorrect'])\n",
    "        out_df.loc[len(out_df)]=[each_[df.columns.get_loc(\"Condition2\")], each_[df.columns.get_loc(\"TrainingTalkerID\")],#trainingTalkerID[_],\n",
    "                                    each_[df.columns.get_loc(\"TestTalkerID\")], each_[sentence_loc],\n",
    "                                    each_[df.columns.get_loc(\"Keyword\")],\n",
    "                                    #each_[df.columns.get_loc('trial')],\n",
    "                                    np.max(sims),\n",
    "                                    each_[df.columns.get_loc(\"IsCorrect\")]]\n",
    "    return out_df\n",
    "\n",
    "def objective_function(params, out_dict, human_result_1a):\n",
    "\n",
    "    tau, k = params\n",
    "    print(tau, k)\n",
    "    out_df=sim_measure1(human_result_1a, out_dict,tau, k)\n",
    "    new_df=copy.deepcopy(out_df)\n",
    "    new_df['similarity'] = new_df['distance_min'].apply(lambda x:np.max(x))\n",
    "    \n",
    "    TTID=new_df.columns.get_loc(\"TrainingTalkerID\")\n",
    "    new_TrainingTalkerID=[]\n",
    "    for i in new_df.values:\n",
    "        new_TrainingTalkerID.append( \",\".join(sorted(i[TTID].split(\", \"))) )\n",
    "    new_df[\"TrainingTalkerID1\"]=new_TrainingTalkerID\n",
    "    new_df['trial'] = (new_df.groupby(['Keyword', 'Condition2', 'TrainingTalkerID1', 'TestTalkerID', 'SentenceID'], as_index=False).ngroup() + 1)\n",
    "\n",
    "\n",
    "    new_df=new_df.groupby(['Keyword', 'Condition2', 'TrainingTalkerID1', 'TestTalkerID', 'SentenceID','trial'], as_index=False).agg( #'sentenceID'\n",
    "        IsCorrect=('IsCorrect', 'mean'),\n",
    "        #distance=('distance_min', 'min'),\n",
    "        similarity=('similarity', 'mean'),\n",
    "        numCorrect=('IsCorrect', lambda x: (x==1).sum()),\n",
    "        numIncorrect=('IsCorrect', lambda x: (x==0).sum())\n",
    "        )\n",
    "    new_df['similarity_scaled'] = (new_df['similarity'] - np.mean(new_df['similarity'])) / (2 * np.std(new_df['similarity']))\n",
    "    if np.std(new_df['similarity']) < 0.01:\n",
    "        return {\n",
    "                    \"tau\": [tau], \n",
    "                    \"k\": [k], \n",
    "                    \"z-value\": [0],  \n",
    "                    \"mean_sim\": [float(np.mean(new_df[\"similarity\"]))], \n",
    "                    \"sd_sim\": [float(np.std(new_df[\"similarity\"]))],  \n",
    "                    \"error\": [\"std_sim<0.01\"]  # \n",
    "                }\n",
    "    else:\n",
    "        try:\n",
    "            import rpy2.robjects as ro\n",
    "            import rpy2\n",
    "            from rpy2.robjects import pandas2ri\n",
    "            \n",
    "            pandas2ri.activate()\n",
    "            base = importr('base')\n",
    "            stats = importr('stats')\n",
    "            lme4 = importr('lme4')\n",
    "            ro.r('options(warn=2)')\n",
    "            #r_data = ro.conversion.py2rpy(new_df)\n",
    "            r_data = pandas2ri.py2rpy(new_df)\n",
    "            formula = Formula('cbind(numCorrect, numIncorrect) ~ 1 + similarity_scaled + (1 | SentenceID / Keyword) + (1| TestTalkerID)')\n",
    "            glmerControl = lme4.glmerControl(optimizer=\"bobyqa\", optCtrl=ro.vectors.ListVector({'maxfun': 1e6}))\n",
    "        except Exception as e:\n",
    "            return {\n",
    "                    \"tau\": [tau], \n",
    "                    \"k\": [k], \n",
    "                    \"z-value\": [0],  \n",
    "                    \"mean_sim\": [float(np.mean(new_df[\"similarity\"]))], \n",
    "                    \"sd_sim\": [float(np.std(new_df[\"similarity\"]))],  \n",
    "                    \"error\": [e]  # \n",
    "                }\n",
    "        try:\n",
    "            model = lme4.glmer(formula, data=r_data, control=glmerControl, family=stats.binomial(link=\"logit\"))\n",
    "            #log_likelihood = ro.r['logLik'](model)\n",
    "            summary = base.summary(model)\n",
    "            coefficients = summary.rx2('coefficients')\n",
    "            #z_value = coefficients.rx('similarity_scaled', 'z value')[0]\n",
    "            z_value=coefficients[1][2]\n",
    "            return {\n",
    "                    \"tau\": [tau], \n",
    "                    \"k\": [k], \n",
    "                    \"z-value\": [z_value],  \n",
    "                    \"mean_sim\": [float(np.mean(new_df[\"similarity\"]))], \n",
    "                    \"sd_sim\": [float(np.std(new_df[\"similarity\"]))],  \n",
    "                    \"error\": [\"NA\"]  # \n",
    "                }\n",
    "        except Exception as e:\n",
    "            return {\n",
    "                    \"tau\": [tau], \n",
    "                    \"k\": [k], \n",
    "                    \"z-value\": [0],  \n",
    "                    \"mean_sim\": [float(np.mean(new_df[\"similarity\"]))], \n",
    "                    \"sd_sim\": [float(np.std(new_df[\"similarity\"]))],  \n",
    "                    \"error\": [str(e)]  # \n",
    "                }\n",
    "    "
   ]
  },
  {
   "cell_type": "code",
   "execution_count": null,
   "metadata": {},
   "outputs": [],
   "source": []
  },
  {
   "cell_type": "code",
   "execution_count": 19,
   "metadata": {},
   "outputs": [],
   "source": [
    "#tau_values = np.arange(1,11,1)\n",
    "tau_values = np.array([-1.  , -0.75, -0.5 , -0.25,  0.25,  0.5 ,  0.75 , 1])\n",
    "k_values = 10**np.arange(-4,2.2,0.2)\n",
    "import itertools\n",
    "import multiprocessing\n",
    "import time\n",
    "from joblib import Parallel, delayed\n",
    "pandas2ri.activate()\n",
    "params_grid=list(itertools.product(tau_values, k_values))\n",
    "\n",
    "start_time = time.time()\n",
    "n_jobs = min(31, multiprocessing.cpu_count())\n",
    "results = Parallel(n_jobs=n_jobs)(delayed(objective_function)(_,out_dict, human_result_1a) for _ in params_grid)\n",
    "end_time = time.time()\n"
   ]
  },
  {
   "cell_type": "code",
   "execution_count": null,
   "metadata": {},
   "outputs": [
    {
     "data": {
      "text/html": [
       "<div>\n",
       "<style scoped>\n",
       "    .dataframe tbody tr th:only-of-type {\n",
       "        vertical-align: middle;\n",
       "    }\n",
       "\n",
       "    .dataframe tbody tr th {\n",
       "        vertical-align: top;\n",
       "    }\n",
       "\n",
       "    .dataframe thead th {\n",
       "        text-align: right;\n",
       "    }\n",
       "</style>\n",
       "<table border=\"1\" class=\"dataframe\">\n",
       "  <thead>\n",
       "    <tr style=\"text-align: right;\">\n",
       "      <th></th>\n",
       "      <th>tau</th>\n",
       "      <th>k</th>\n",
       "      <th>z-value</th>\n",
       "      <th>mean_sim</th>\n",
       "      <th>sd_sim</th>\n",
       "      <th>error</th>\n",
       "    </tr>\n",
       "  </thead>\n",
       "  <tbody>\n",
       "    <tr>\n",
       "      <th>0</th>\n",
       "      <td>1</td>\n",
       "      <td>0.000100</td>\n",
       "      <td>0.000000</td>\n",
       "      <td>0.999407</td>\n",
       "      <td>0.000617</td>\n",
       "      <td>std_sim&lt;0.3</td>\n",
       "    </tr>\n",
       "    <tr>\n",
       "      <th>1</th>\n",
       "      <td>1</td>\n",
       "      <td>0.000126</td>\n",
       "      <td>0.000000</td>\n",
       "      <td>0.999253</td>\n",
       "      <td>0.000776</td>\n",
       "      <td>std_sim&lt;0.3</td>\n",
       "    </tr>\n",
       "    <tr>\n",
       "      <th>2</th>\n",
       "      <td>1</td>\n",
       "      <td>0.000158</td>\n",
       "      <td>0.000000</td>\n",
       "      <td>0.999060</td>\n",
       "      <td>0.000977</td>\n",
       "      <td>std_sim&lt;0.3</td>\n",
       "    </tr>\n",
       "    <tr>\n",
       "      <th>3</th>\n",
       "      <td>1</td>\n",
       "      <td>0.000200</td>\n",
       "      <td>0.000000</td>\n",
       "      <td>0.998817</td>\n",
       "      <td>0.001229</td>\n",
       "      <td>std_sim&lt;0.3</td>\n",
       "    </tr>\n",
       "    <tr>\n",
       "      <th>4</th>\n",
       "      <td>1</td>\n",
       "      <td>0.000251</td>\n",
       "      <td>0.000000</td>\n",
       "      <td>0.998511</td>\n",
       "      <td>0.001546</td>\n",
       "      <td>std_sim&lt;0.3</td>\n",
       "    </tr>\n",
       "    <tr>\n",
       "      <th>...</th>\n",
       "      <td>...</td>\n",
       "      <td>...</td>\n",
       "      <td>...</td>\n",
       "      <td>...</td>\n",
       "      <td>...</td>\n",
       "      <td>...</td>\n",
       "    </tr>\n",
       "    <tr>\n",
       "      <th>505</th>\n",
       "      <td>10</td>\n",
       "      <td>3.981072</td>\n",
       "      <td>9.740809</td>\n",
       "      <td>0.136836</td>\n",
       "      <td>0.328466</td>\n",
       "      <td>NA</td>\n",
       "    </tr>\n",
       "    <tr>\n",
       "      <th>506</th>\n",
       "      <td>10</td>\n",
       "      <td>5.011872</td>\n",
       "      <td>9.581618</td>\n",
       "      <td>0.131534</td>\n",
       "      <td>0.329290</td>\n",
       "      <td>NA</td>\n",
       "    </tr>\n",
       "    <tr>\n",
       "      <th>507</th>\n",
       "      <td>10</td>\n",
       "      <td>6.309573</td>\n",
       "      <td>9.472723</td>\n",
       "      <td>0.128370</td>\n",
       "      <td>0.329903</td>\n",
       "      <td>NA</td>\n",
       "    </tr>\n",
       "    <tr>\n",
       "      <th>508</th>\n",
       "      <td>10</td>\n",
       "      <td>7.943282</td>\n",
       "      <td>9.403990</td>\n",
       "      <td>0.126627</td>\n",
       "      <td>0.330292</td>\n",
       "      <td>NA</td>\n",
       "    </tr>\n",
       "    <tr>\n",
       "      <th>509</th>\n",
       "      <td>10</td>\n",
       "      <td>10.000000</td>\n",
       "      <td>9.363889</td>\n",
       "      <td>0.125739</td>\n",
       "      <td>0.330510</td>\n",
       "      <td>NA</td>\n",
       "    </tr>\n",
       "  </tbody>\n",
       "</table>\n",
       "<p>510 rows × 6 columns</p>\n",
       "</div>"
      ],
      "text/plain": [
       "     tau          k   z-value  mean_sim    sd_sim        error\n",
       "0      1   0.000100  0.000000  0.999407  0.000617  std_sim<0.3\n",
       "1      1   0.000126  0.000000  0.999253  0.000776  std_sim<0.3\n",
       "2      1   0.000158  0.000000  0.999060  0.000977  std_sim<0.3\n",
       "3      1   0.000200  0.000000  0.998817  0.001229  std_sim<0.3\n",
       "4      1   0.000251  0.000000  0.998511  0.001546  std_sim<0.3\n",
       "..   ...        ...       ...       ...       ...          ...\n",
       "505   10   3.981072  9.740809  0.136836  0.328466           NA\n",
       "506   10   5.011872  9.581618  0.131534  0.329290           NA\n",
       "507   10   6.309573  9.472723  0.128370  0.329903           NA\n",
       "508   10   7.943282  9.403990  0.126627  0.330292           NA\n",
       "509   10  10.000000  9.363889  0.125739  0.330510           NA\n",
       "\n",
       "[510 rows x 6 columns]"
      ]
     },
     "execution_count": 103,
     "metadata": {},
     "output_type": "execute_result"
    }
   ],
   "source": [
    "results_df=pd.json_normalize(results)\n",
    "results_df\n",
    "\n",
    "results_df['tau'] = results_df['tau'].apply(lambda x: x[0] if isinstance(x, list) else x)\n",
    "results_df['k'] = results_df['k'].apply(lambda x: x[0] if isinstance(x, list) else x)\n",
    "\n",
    "results_df['z-value'] = results_df['z-value'].apply(lambda x: x[0] if isinstance(x, list) else x)\n",
    "results_df['mean_sim'] = results_df['mean_sim'].apply(lambda x: x[0] if isinstance(x, list) else x)\n",
    "results_df['sd_sim'] = results_df['sd_sim'].apply(lambda x: x[0] if isinstance(x, list) else x)\n",
    "results_df['error'] = results_df['error'].apply(lambda x: x[0] if isinstance(x, list) else x)\n"
   ]
  },
  {
   "cell_type": "code",
   "execution_count": null,
   "metadata": {},
   "outputs": [],
   "source": [
    "#results_df.to_csv('Xie_Transformers.csv', index=False)"
   ]
  },
  {
   "cell_type": "code",
   "execution_count": 20,
   "metadata": {},
   "outputs": [
    {
     "data": {
      "application/vnd.plotly.v1+json": {
       "config": {
        "plotlyServerURL": "https://plot.ly"
       },
       "data": [
        {
         "colorscale": [
          [
           0,
           "rgb(165,0,38)"
          ],
          [
           0.1,
           "rgb(215,48,39)"
          ],
          [
           0.2,
           "rgb(244,109,67)"
          ],
          [
           0.3,
           "rgb(253,174,97)"
          ],
          [
           0.4,
           "rgb(254,224,139)"
          ],
          [
           0.5,
           "rgb(255,255,191)"
          ],
          [
           0.6,
           "rgb(217,239,139)"
          ],
          [
           0.7,
           "rgb(166,217,106)"
          ],
          [
           0.8,
           "rgb(102,189,99)"
          ],
          [
           0.9,
           "rgb(26,152,80)"
          ],
          [
           1,
           "rgb(0,104,55)"
          ]
         ],
         "scene": "scene",
         "showscale": false,
         "type": "surface",
         "x": [
          [
           -1,
           -0.75,
           -0.5,
           -0.25,
           0.25,
           0.5,
           0.75,
           1
          ],
          [
           -1,
           -0.75,
           -0.5,
           -0.25,
           0.25,
           0.5,
           0.75,
           1
          ],
          [
           -1,
           -0.75,
           -0.5,
           -0.25,
           0.25,
           0.5,
           0.75,
           1
          ],
          [
           -1,
           -0.75,
           -0.5,
           -0.25,
           0.25,
           0.5,
           0.75,
           1
          ],
          [
           -1,
           -0.75,
           -0.5,
           -0.25,
           0.25,
           0.5,
           0.75,
           1
          ],
          [
           -1,
           -0.75,
           -0.5,
           -0.25,
           0.25,
           0.5,
           0.75,
           1
          ],
          [
           -1,
           -0.75,
           -0.5,
           -0.25,
           0.25,
           0.5,
           0.75,
           1
          ],
          [
           -1,
           -0.75,
           -0.5,
           -0.25,
           0.25,
           0.5,
           0.75,
           1
          ],
          [
           -1,
           -0.75,
           -0.5,
           -0.25,
           0.25,
           0.5,
           0.75,
           1
          ],
          [
           -1,
           -0.75,
           -0.5,
           -0.25,
           0.25,
           0.5,
           0.75,
           1
          ],
          [
           -1,
           -0.75,
           -0.5,
           -0.25,
           0.25,
           0.5,
           0.75,
           1
          ],
          [
           -1,
           -0.75,
           -0.5,
           -0.25,
           0.25,
           0.5,
           0.75,
           1
          ],
          [
           -1,
           -0.75,
           -0.5,
           -0.25,
           0.25,
           0.5,
           0.75,
           1
          ],
          [
           -1,
           -0.75,
           -0.5,
           -0.25,
           0.25,
           0.5,
           0.75,
           1
          ],
          [
           -1,
           -0.75,
           -0.5,
           -0.25,
           0.25,
           0.5,
           0.75,
           1
          ],
          [
           -1,
           -0.75,
           -0.5,
           -0.25,
           0.25,
           0.5,
           0.75,
           1
          ],
          [
           -1,
           -0.75,
           -0.5,
           -0.25,
           0.25,
           0.5,
           0.75,
           1
          ],
          [
           -1,
           -0.75,
           -0.5,
           -0.25,
           0.25,
           0.5,
           0.75,
           1
          ],
          [
           -1,
           -0.75,
           -0.5,
           -0.25,
           0.25,
           0.5,
           0.75,
           1
          ],
          [
           -1,
           -0.75,
           -0.5,
           -0.25,
           0.25,
           0.5,
           0.75,
           1
          ],
          [
           -1,
           -0.75,
           -0.5,
           -0.25,
           0.25,
           0.5,
           0.75,
           1
          ],
          [
           -1,
           -0.75,
           -0.5,
           -0.25,
           0.25,
           0.5,
           0.75,
           1
          ],
          [
           -1,
           -0.75,
           -0.5,
           -0.25,
           0.25,
           0.5,
           0.75,
           1
          ],
          [
           -1,
           -0.75,
           -0.5,
           -0.25,
           0.25,
           0.5,
           0.75,
           1
          ],
          [
           -1,
           -0.75,
           -0.5,
           -0.25,
           0.25,
           0.5,
           0.75,
           1
          ],
          [
           -1,
           -0.75,
           -0.5,
           -0.25,
           0.25,
           0.5,
           0.75,
           1
          ],
          [
           -1,
           -0.75,
           -0.5,
           -0.25,
           0.25,
           0.5,
           0.75,
           1
          ],
          [
           -1,
           -0.75,
           -0.5,
           -0.25,
           0.25,
           0.5,
           0.75,
           1
          ],
          [
           -1,
           -0.75,
           -0.5,
           -0.25,
           0.25,
           0.5,
           0.75,
           1
          ],
          [
           -1,
           -0.75,
           -0.5,
           -0.25,
           0.25,
           0.5,
           0.75,
           1
          ],
          [
           -1,
           -0.75,
           -0.5,
           -0.25,
           0.25,
           0.5,
           0.75,
           1
          ]
         ],
         "y": [
          [
           0.0001,
           0.0001,
           0.0001,
           0.0001,
           0.0001,
           0.0001,
           0.0001,
           0.0001
          ],
          [
           0.00015848931924611142,
           0.00015848931924611142,
           0.00015848931924611142,
           0.00015848931924611142,
           0.00015848931924611142,
           0.00015848931924611142,
           0.00015848931924611142,
           0.00015848931924611142
          ],
          [
           0.0002511886431509582,
           0.0002511886431509582,
           0.0002511886431509582,
           0.0002511886431509582,
           0.0002511886431509582,
           0.0002511886431509582,
           0.0002511886431509582,
           0.0002511886431509582
          ],
          [
           0.00039810717055349773,
           0.00039810717055349773,
           0.00039810717055349773,
           0.00039810717055349773,
           0.00039810717055349773,
           0.00039810717055349773,
           0.00039810717055349773,
           0.00039810717055349773
          ],
          [
           0.0006309573444801943,
           0.0006309573444801943,
           0.0006309573444801943,
           0.0006309573444801943,
           0.0006309573444801943,
           0.0006309573444801943,
           0.0006309573444801943,
           0.0006309573444801943
          ],
          [
           0.001000000000000002,
           0.001000000000000002,
           0.001000000000000002,
           0.001000000000000002,
           0.001000000000000002,
           0.001000000000000002,
           0.001000000000000002,
           0.001000000000000002
          ],
          [
           0.0015848931924611173,
           0.0015848931924611173,
           0.0015848931924611173,
           0.0015848931924611173,
           0.0015848931924611173,
           0.0015848931924611173,
           0.0015848931924611173,
           0.0015848931924611173
          ],
          [
           0.0025118864315095872,
           0.0025118864315095872,
           0.0025118864315095872,
           0.0025118864315095872,
           0.0025118864315095872,
           0.0025118864315095872,
           0.0025118864315095872,
           0.0025118864315095872
          ],
          [
           0.0039810717055349856,
           0.0039810717055349856,
           0.0039810717055349856,
           0.0039810717055349856,
           0.0039810717055349856,
           0.0039810717055349856,
           0.0039810717055349856,
           0.0039810717055349856
          ],
          [
           0.006309573444801955,
           0.006309573444801955,
           0.006309573444801955,
           0.006309573444801955,
           0.006309573444801955,
           0.006309573444801955,
           0.006309573444801955,
           0.006309573444801955
          ],
          [
           0.01000000000000004,
           0.01000000000000004,
           0.01000000000000004,
           0.01000000000000004,
           0.01000000000000004,
           0.01000000000000004,
           0.01000000000000004,
           0.01000000000000004
          ],
          [
           0.015848931924611207,
           0.015848931924611207,
           0.015848931924611207,
           0.015848931924611207,
           0.015848931924611207,
           0.015848931924611207,
           0.015848931924611207,
           0.015848931924611207
          ],
          [
           0.025118864315095923,
           0.025118864315095923,
           0.025118864315095923,
           0.025118864315095923,
           0.025118864315095923,
           0.025118864315095923,
           0.025118864315095923,
           0.025118864315095923
          ],
          [
           0.039810717055349935,
           0.039810717055349935,
           0.039810717055349935,
           0.039810717055349935,
           0.039810717055349935,
           0.039810717055349935,
           0.039810717055349935,
           0.039810717055349935
          ],
          [
           0.06309573444801969,
           0.06309573444801969,
           0.06309573444801969,
           0.06309573444801969,
           0.06309573444801969,
           0.06309573444801969,
           0.06309573444801969,
           0.06309573444801969
          ],
          [
           0.10000000000000062,
           0.10000000000000062,
           0.10000000000000062,
           0.10000000000000062,
           0.10000000000000062,
           0.10000000000000062,
           0.10000000000000062,
           0.10000000000000062
          ],
          [
           0.1584893192461124,
           0.1584893192461124,
           0.1584893192461124,
           0.1584893192461124,
           0.1584893192461124,
           0.1584893192461124,
           0.1584893192461124,
           0.1584893192461124
          ],
          [
           0.25118864315095973,
           0.25118864315095973,
           0.25118864315095973,
           0.25118864315095973,
           0.25118864315095973,
           0.25118864315095973,
           0.25118864315095973,
           0.25118864315095973
          ],
          [
           0.3981071705535002,
           0.3981071705535002,
           0.3981071705535002,
           0.3981071705535002,
           0.3981071705535002,
           0.3981071705535002,
           0.3981071705535002,
           0.3981071705535002
          ],
          [
           0.6309573444801981,
           0.6309573444801981,
           0.6309573444801981,
           0.6309573444801981,
           0.6309573444801981,
           0.6309573444801981,
           0.6309573444801981,
           0.6309573444801981
          ],
          [
           1.0000000000000082,
           1.0000000000000082,
           1.0000000000000082,
           1.0000000000000082,
           1.0000000000000082,
           1.0000000000000082,
           1.0000000000000082,
           1.0000000000000082
          ],
          [
           1.5848931924611271,
           1.5848931924611271,
           1.5848931924611271,
           1.5848931924611271,
           1.5848931924611271,
           1.5848931924611271,
           1.5848931924611271,
           1.5848931924611271
          ],
          [
           2.511886431509603,
           2.511886431509603,
           2.511886431509603,
           2.511886431509603,
           2.511886431509603,
           2.511886431509603,
           2.511886431509603,
           2.511886431509603
          ],
          [
           3.98107170553501,
           3.98107170553501,
           3.98107170553501,
           3.98107170553501,
           3.98107170553501,
           3.98107170553501,
           3.98107170553501,
           3.98107170553501
          ],
          [
           6.309573444801995,
           6.309573444801995,
           6.309573444801995,
           6.309573444801995,
           6.309573444801995,
           6.309573444801995,
           6.309573444801995,
           6.309573444801995
          ],
          [
           10.000000000000103,
           10.000000000000103,
           10.000000000000103,
           10.000000000000103,
           10.000000000000103,
           10.000000000000103,
           10.000000000000103,
           10.000000000000103
          ],
          [
           15.848931924611303,
           15.848931924611303,
           15.848931924611303,
           15.848931924611303,
           15.848931924611303,
           15.848931924611303,
           15.848931924611303,
           15.848931924611303
          ],
          [
           25.11886431509608,
           25.11886431509608,
           25.11886431509608,
           25.11886431509608,
           25.11886431509608,
           25.11886431509608,
           25.11886431509608,
           25.11886431509608
          ],
          [
           39.81071705535018,
           39.81071705535018,
           39.81071705535018,
           39.81071705535018,
           39.81071705535018,
           39.81071705535018,
           39.81071705535018,
           39.81071705535018
          ],
          [
           63.095734448020075,
           63.095734448020075,
           63.095734448020075,
           63.095734448020075,
           63.095734448020075,
           63.095734448020075,
           63.095734448020075,
           63.095734448020075
          ],
          [
           100.00000000000122,
           100.00000000000122,
           100.00000000000122,
           100.00000000000122,
           100.00000000000122,
           100.00000000000122,
           100.00000000000122,
           100.00000000000122
          ]
         ],
         "z": [
          [
           0,
           0,
           0,
           0,
           11.803665587148473,
           0,
           0,
           0
          ],
          [
           0,
           0,
           0,
           0,
           11.843462168640896,
           0,
           0,
           0
          ],
          [
           0,
           0,
           0,
           0,
           11.904417761980538,
           0,
           0,
           0
          ],
          [
           0,
           0,
           0,
           0,
           11.995877814345251,
           0,
           0,
           0
          ],
          [
           0,
           0,
           0,
           0,
           12.12896803526821,
           11.924112573673835,
           0,
           0
          ],
          [
           0,
           0,
           0,
           0,
           12.312702266332753,
           11.95368999932147,
           0,
           0
          ],
          [
           0,
           0,
           0,
           0,
           12.54506981768211,
           11.999478382489707,
           12.018600074216723,
           0
          ],
          [
           0,
           0,
           0,
           0,
           12.795689137769218,
           12.069364438563474,
           12.056000210590122,
           12.068558253022207
          ],
          [
           0,
           0,
           0,
           0,
           12.988187086582318,
           12.173273719765842,
           12.113464067848815,
           12.111973898263944
          ],
          [
           0,
           0,
           0,
           0,
           13.009156623470258,
           12.322298609963275,
           12.20009289464859,
           12.178360244455027
          ],
          [
           0,
           0,
           0,
           0,
           12.770712135402956,
           12.5226428076136,
           12.326848033953585,
           12.277700470482783
          ],
          [
           0,
           0,
           0,
           0,
           12.268588199176328,
           12.764025074992478,
           12.503327885355498,
           12.421259902021388
          ],
          [
           10.994756885268368,
           0,
           0,
           0,
           11.571961498331543,
           12.998987004954133,
           12.72914490647709,
           12.617017421464059
          ],
          [
           11.033871986831894,
           11.116289338673363,
           0,
           0,
           10.807359656932086,
           13.129932912125888,
           12.976110394906655,
           12.858146164074883
          ],
          [
           11.09407481347663,
           11.159201434895655,
           0,
           0,
           10.136800623954032,
           13.038932977981808,
           13.167803759085189,
           13.102533464026399
          ],
          [
           11.185047575977485,
           11.224985030352071,
           11.26920779512993,
           0,
           9.676974967595713,
           12.664657418395986,
           13.184250956168968,
           13.254953357947382
          ],
          [
           11.319016030770797,
           11.323812585446845,
           11.320583530649946,
           0,
           9.438504515365672,
           12.041780280890146,
           12.924956153805782,
           13.188402038761103
          ],
          [
           11.508402359826649,
           11.468095556177275,
           11.398662839205382,
           0,
           9.349046722025292,
           11.277979628852274,
           12.382506981766376,
           12.823223631259584
          ],
          [
           11.760364417948452,
           11.66915324815862,
           11.514587059138023,
           0,
           9.326632156156675,
           10.526898111280135,
           11.645523464193507,
           12.18891794084894
          ],
          [
           12.065325258067185,
           11.930306782185848,
           11.68040711537716,
           11.416048352229865,
           9.323481945448641,
           9.933565464539626,
           10.860711905210481,
           11.406190110346518
          ],
          [
           12.381324921843499,
           12.233442608000166,
           11.904329856607799,
           11.4530869491233,
           9.323237907184259,
           9.565425714428695,
           10.182715423090036,
           10.635100520712443
          ],
          [
           12.623624785387598,
           12.5228819977242,
           12.180244632590975,
           11.51002689414063,
           9.323249500703657,
           9.394228778769854,
           9.710502060495697,
           10.01447264824257
          ],
          [
           12.68507710138598,
           12.701832279227176,
           12.471410557164178,
           11.596051263820682,
           9.323249161210704,
           9.337158614332118,
           9.456365727978252,
           9.61264294390257
          ],
          [
           12.494524301491651,
           12.669252651295507,
           12.697511080343428,
           11.722521990993926,
           9.323223327765245,
           9.324750372657636,
           9.3560103185097,
           9.414615806669994
          ],
          [
           12.047548757885531,
           12.379349460616268,
           12.751721532290619,
           11.900540521957897,
           9.323231530236765,
           9.32330790460595,
           9.32822759312576,
           9.34341764712635
          ],
          [
           11.388096844858728,
           11.84765955651849,
           12.559475786393602,
           12.134376112723576,
           9.323231530236765,
           9.323240670647632,
           9.323617183778719,
           9.325840059037832
          ],
          [
           10.637053951406838,
           11.138784298641143,
           12.115762275549555,
           12.408232984609455,
           9.323231530236765,
           9.323233665216673,
           9.323253318707682,
           9.323389624594043
          ],
          [
           9.987676169961853,
           10.402543380577285,
           11.465128688581869,
           12.66882861191484,
           9.323231530236765,
           9.323250664541755,
           9.323236121767636,
           9.323240897038035
          ],
          [
           9.575425187774314,
           9.82578032990362,
           10.718101620436157,
           12.819195355765393,
           9.323231530236765,
           9.32323339241141,
           9.323191285687967,
           9.323236179445832
          ],
          [
           9.389441330848253,
           9.496016933664778,
           10.055429912596404,
           12.75631056534832,
           9.323231530236765,
           9.323231530236765,
           9.323260691541083,
           9.323264444257749
          ],
          [
           9.333500237079363,
           9.363119637447442,
           9.617216825032258,
           12.43511040811124,
           9.323231530236765,
           9.323231530236765,
           9.323231530236765,
           9.323225168919238
          ]
         ]
        },
        {
         "colorscale": [
          [
           0,
           "rgb(165,0,38)"
          ],
          [
           0.1,
           "rgb(215,48,39)"
          ],
          [
           0.2,
           "rgb(244,109,67)"
          ],
          [
           0.3,
           "rgb(253,174,97)"
          ],
          [
           0.4,
           "rgb(254,224,139)"
          ],
          [
           0.5,
           "rgb(255,255,191)"
          ],
          [
           0.6,
           "rgb(217,239,139)"
          ],
          [
           0.7,
           "rgb(166,217,106)"
          ],
          [
           0.8,
           "rgb(102,189,99)"
          ],
          [
           0.9,
           "rgb(26,152,80)"
          ],
          [
           1,
           "rgb(0,104,55)"
          ]
         ],
         "scene": "scene2",
         "showscale": false,
         "type": "surface",
         "x": [
          [
           -1,
           -0.75,
           -0.5,
           -0.25,
           0.25,
           0.5,
           0.75,
           1
          ],
          [
           -1,
           -0.75,
           -0.5,
           -0.25,
           0.25,
           0.5,
           0.75,
           1
          ],
          [
           -1,
           -0.75,
           -0.5,
           -0.25,
           0.25,
           0.5,
           0.75,
           1
          ],
          [
           -1,
           -0.75,
           -0.5,
           -0.25,
           0.25,
           0.5,
           0.75,
           1
          ],
          [
           -1,
           -0.75,
           -0.5,
           -0.25,
           0.25,
           0.5,
           0.75,
           1
          ],
          [
           -1,
           -0.75,
           -0.5,
           -0.25,
           0.25,
           0.5,
           0.75,
           1
          ],
          [
           -1,
           -0.75,
           -0.5,
           -0.25,
           0.25,
           0.5,
           0.75,
           1
          ],
          [
           -1,
           -0.75,
           -0.5,
           -0.25,
           0.25,
           0.5,
           0.75,
           1
          ],
          [
           -1,
           -0.75,
           -0.5,
           -0.25,
           0.25,
           0.5,
           0.75,
           1
          ],
          [
           -1,
           -0.75,
           -0.5,
           -0.25,
           0.25,
           0.5,
           0.75,
           1
          ],
          [
           -1,
           -0.75,
           -0.5,
           -0.25,
           0.25,
           0.5,
           0.75,
           1
          ],
          [
           -1,
           -0.75,
           -0.5,
           -0.25,
           0.25,
           0.5,
           0.75,
           1
          ],
          [
           -1,
           -0.75,
           -0.5,
           -0.25,
           0.25,
           0.5,
           0.75,
           1
          ],
          [
           -1,
           -0.75,
           -0.5,
           -0.25,
           0.25,
           0.5,
           0.75,
           1
          ],
          [
           -1,
           -0.75,
           -0.5,
           -0.25,
           0.25,
           0.5,
           0.75,
           1
          ],
          [
           -1,
           -0.75,
           -0.5,
           -0.25,
           0.25,
           0.5,
           0.75,
           1
          ],
          [
           -1,
           -0.75,
           -0.5,
           -0.25,
           0.25,
           0.5,
           0.75,
           1
          ],
          [
           -1,
           -0.75,
           -0.5,
           -0.25,
           0.25,
           0.5,
           0.75,
           1
          ],
          [
           -1,
           -0.75,
           -0.5,
           -0.25,
           0.25,
           0.5,
           0.75,
           1
          ],
          [
           -1,
           -0.75,
           -0.5,
           -0.25,
           0.25,
           0.5,
           0.75,
           1
          ],
          [
           -1,
           -0.75,
           -0.5,
           -0.25,
           0.25,
           0.5,
           0.75,
           1
          ],
          [
           -1,
           -0.75,
           -0.5,
           -0.25,
           0.25,
           0.5,
           0.75,
           1
          ],
          [
           -1,
           -0.75,
           -0.5,
           -0.25,
           0.25,
           0.5,
           0.75,
           1
          ],
          [
           -1,
           -0.75,
           -0.5,
           -0.25,
           0.25,
           0.5,
           0.75,
           1
          ],
          [
           -1,
           -0.75,
           -0.5,
           -0.25,
           0.25,
           0.5,
           0.75,
           1
          ],
          [
           -1,
           -0.75,
           -0.5,
           -0.25,
           0.25,
           0.5,
           0.75,
           1
          ],
          [
           -1,
           -0.75,
           -0.5,
           -0.25,
           0.25,
           0.5,
           0.75,
           1
          ],
          [
           -1,
           -0.75,
           -0.5,
           -0.25,
           0.25,
           0.5,
           0.75,
           1
          ],
          [
           -1,
           -0.75,
           -0.5,
           -0.25,
           0.25,
           0.5,
           0.75,
           1
          ],
          [
           -1,
           -0.75,
           -0.5,
           -0.25,
           0.25,
           0.5,
           0.75,
           1
          ],
          [
           -1,
           -0.75,
           -0.5,
           -0.25,
           0.25,
           0.5,
           0.75,
           1
          ]
         ],
         "y": [
          [
           0.0001,
           0.0001,
           0.0001,
           0.0001,
           0.0001,
           0.0001,
           0.0001,
           0.0001
          ],
          [
           0.00015848931924611142,
           0.00015848931924611142,
           0.00015848931924611142,
           0.00015848931924611142,
           0.00015848931924611142,
           0.00015848931924611142,
           0.00015848931924611142,
           0.00015848931924611142
          ],
          [
           0.0002511886431509582,
           0.0002511886431509582,
           0.0002511886431509582,
           0.0002511886431509582,
           0.0002511886431509582,
           0.0002511886431509582,
           0.0002511886431509582,
           0.0002511886431509582
          ],
          [
           0.00039810717055349773,
           0.00039810717055349773,
           0.00039810717055349773,
           0.00039810717055349773,
           0.00039810717055349773,
           0.00039810717055349773,
           0.00039810717055349773,
           0.00039810717055349773
          ],
          [
           0.0006309573444801943,
           0.0006309573444801943,
           0.0006309573444801943,
           0.0006309573444801943,
           0.0006309573444801943,
           0.0006309573444801943,
           0.0006309573444801943,
           0.0006309573444801943
          ],
          [
           0.001000000000000002,
           0.001000000000000002,
           0.001000000000000002,
           0.001000000000000002,
           0.001000000000000002,
           0.001000000000000002,
           0.001000000000000002,
           0.001000000000000002
          ],
          [
           0.0015848931924611173,
           0.0015848931924611173,
           0.0015848931924611173,
           0.0015848931924611173,
           0.0015848931924611173,
           0.0015848931924611173,
           0.0015848931924611173,
           0.0015848931924611173
          ],
          [
           0.0025118864315095872,
           0.0025118864315095872,
           0.0025118864315095872,
           0.0025118864315095872,
           0.0025118864315095872,
           0.0025118864315095872,
           0.0025118864315095872,
           0.0025118864315095872
          ],
          [
           0.0039810717055349856,
           0.0039810717055349856,
           0.0039810717055349856,
           0.0039810717055349856,
           0.0039810717055349856,
           0.0039810717055349856,
           0.0039810717055349856,
           0.0039810717055349856
          ],
          [
           0.006309573444801955,
           0.006309573444801955,
           0.006309573444801955,
           0.006309573444801955,
           0.006309573444801955,
           0.006309573444801955,
           0.006309573444801955,
           0.006309573444801955
          ],
          [
           0.01000000000000004,
           0.01000000000000004,
           0.01000000000000004,
           0.01000000000000004,
           0.01000000000000004,
           0.01000000000000004,
           0.01000000000000004,
           0.01000000000000004
          ],
          [
           0.015848931924611207,
           0.015848931924611207,
           0.015848931924611207,
           0.015848931924611207,
           0.015848931924611207,
           0.015848931924611207,
           0.015848931924611207,
           0.015848931924611207
          ],
          [
           0.025118864315095923,
           0.025118864315095923,
           0.025118864315095923,
           0.025118864315095923,
           0.025118864315095923,
           0.025118864315095923,
           0.025118864315095923,
           0.025118864315095923
          ],
          [
           0.039810717055349935,
           0.039810717055349935,
           0.039810717055349935,
           0.039810717055349935,
           0.039810717055349935,
           0.039810717055349935,
           0.039810717055349935,
           0.039810717055349935
          ],
          [
           0.06309573444801969,
           0.06309573444801969,
           0.06309573444801969,
           0.06309573444801969,
           0.06309573444801969,
           0.06309573444801969,
           0.06309573444801969,
           0.06309573444801969
          ],
          [
           0.10000000000000062,
           0.10000000000000062,
           0.10000000000000062,
           0.10000000000000062,
           0.10000000000000062,
           0.10000000000000062,
           0.10000000000000062,
           0.10000000000000062
          ],
          [
           0.1584893192461124,
           0.1584893192461124,
           0.1584893192461124,
           0.1584893192461124,
           0.1584893192461124,
           0.1584893192461124,
           0.1584893192461124,
           0.1584893192461124
          ],
          [
           0.25118864315095973,
           0.25118864315095973,
           0.25118864315095973,
           0.25118864315095973,
           0.25118864315095973,
           0.25118864315095973,
           0.25118864315095973,
           0.25118864315095973
          ],
          [
           0.3981071705535002,
           0.3981071705535002,
           0.3981071705535002,
           0.3981071705535002,
           0.3981071705535002,
           0.3981071705535002,
           0.3981071705535002,
           0.3981071705535002
          ],
          [
           0.6309573444801981,
           0.6309573444801981,
           0.6309573444801981,
           0.6309573444801981,
           0.6309573444801981,
           0.6309573444801981,
           0.6309573444801981,
           0.6309573444801981
          ],
          [
           1.0000000000000082,
           1.0000000000000082,
           1.0000000000000082,
           1.0000000000000082,
           1.0000000000000082,
           1.0000000000000082,
           1.0000000000000082,
           1.0000000000000082
          ],
          [
           1.5848931924611271,
           1.5848931924611271,
           1.5848931924611271,
           1.5848931924611271,
           1.5848931924611271,
           1.5848931924611271,
           1.5848931924611271,
           1.5848931924611271
          ],
          [
           2.511886431509603,
           2.511886431509603,
           2.511886431509603,
           2.511886431509603,
           2.511886431509603,
           2.511886431509603,
           2.511886431509603,
           2.511886431509603
          ],
          [
           3.98107170553501,
           3.98107170553501,
           3.98107170553501,
           3.98107170553501,
           3.98107170553501,
           3.98107170553501,
           3.98107170553501,
           3.98107170553501
          ],
          [
           6.309573444801995,
           6.309573444801995,
           6.309573444801995,
           6.309573444801995,
           6.309573444801995,
           6.309573444801995,
           6.309573444801995,
           6.309573444801995
          ],
          [
           10.000000000000103,
           10.000000000000103,
           10.000000000000103,
           10.000000000000103,
           10.000000000000103,
           10.000000000000103,
           10.000000000000103,
           10.000000000000103
          ],
          [
           15.848931924611303,
           15.848931924611303,
           15.848931924611303,
           15.848931924611303,
           15.848931924611303,
           15.848931924611303,
           15.848931924611303,
           15.848931924611303
          ],
          [
           25.11886431509608,
           25.11886431509608,
           25.11886431509608,
           25.11886431509608,
           25.11886431509608,
           25.11886431509608,
           25.11886431509608,
           25.11886431509608
          ],
          [
           39.81071705535018,
           39.81071705535018,
           39.81071705535018,
           39.81071705535018,
           39.81071705535018,
           39.81071705535018,
           39.81071705535018,
           39.81071705535018
          ],
          [
           63.095734448020075,
           63.095734448020075,
           63.095734448020075,
           63.095734448020075,
           63.095734448020075,
           63.095734448020075,
           63.095734448020075,
           63.095734448020075
          ],
          [
           100.00000000000122,
           100.00000000000122,
           100.00000000000122,
           100.00000000000122,
           100.00000000000122,
           100.00000000000122,
           100.00000000000122,
           100.00000000000122
          ]
         ],
         "z": [
          [
           0.999961785533562,
           0.9999720774389432,
           0.9999857243673328,
           0.9999982964706855,
           0.9870265536728153,
           0.9984265319688073,
           0.9991914016537145,
           0.9994067542625754
          ],
          [
           0.9999394356251516,
           0.9999557465032085,
           0.999977374849045,
           0.9999973000908354,
           0.9796001151126088,
           0.9975086086716732,
           0.9987190884225726,
           0.9990601083643601
          ],
          [
           0.9999040156340168,
           0.9999298648937319,
           0.9999641420598573,
           0.9999957209395023,
           0.96806626949166,
           0.9960573931622573,
           0.9979714735600235,
           0.9985112241333292
          ],
          [
           0.9998478843233223,
           0.9998888482692951,
           0.9999431702697179,
           0.9999932181641252,
           0.9503568477477894,
           0.9937663580467451,
           0.9967889671605946,
           0.9976425862430472
          ],
          [
           0.9997589362350299,
           0.9998238487401399,
           0.9999099341496749,
           0.999989251559648,
           0.9236368042125918,
           0.9901577135081207,
           0.9949207840067693,
           0.9962691064526622
          ],
          [
           0.9996179982806194,
           0.9997208501121572,
           0.9998572632900736,
           0.9999829649834889,
           0.8843666100568334,
           0.9844939930371003,
           0.991974799532652,
           0.9941003354663024
          ],
          [
           0.9993947152125425,
           0.9995576552007287,
           0.9997737977605273,
           0.9999730016032219,
           0.8288204019722978,
           0.9756546221522543,
           0.9873427568415586,
           0.9906831352596107
          ],
          [
           0.9990410576093791,
           0.9992991264671799,
           0.9996415443396488,
           0.9999572111404149,
           0.7543480289388621,
           0.9619792136585562,
           0.9800930466844163,
           0.9853170818749031
          ],
          [
           0.9984811055279322,
           0.9988896815883674,
           0.9994320134420733,
           0.999932186025349,
           0.661307942205921,
           0.9411059195725263,
           0.9688275410712321,
           0.9769354370963798
          ],
          [
           0.9975950386537836,
           0.9982414964834623,
           0.9991001217397697,
           0.9998925266083212,
           0.554730570632972,
           0.9098944895855489,
           0.9515157240212828,
           0.9639517350753847
          ],
          [
           0.9961942159277299,
           0.9972160500296464,
           0.9985745915382486,
           0.9998296774933267,
           0.44420248331762713,
           0.8646300611862642,
           0.9253629427705828,
           0.9440956886448877
          ],
          [
           0.993982804577978,
           0.9955954760462044,
           0.9977428925339059,
           0.9997300854988983,
           0.34141195101685695,
           0.8018088363023639,
           0.8868564785628009,
           0.9143184419699351
          ],
          [
           0.9904997374205796,
           0.9930386493076493,
           0.9964277694942113,
           0.9995722858640297,
           0.25647439938350425,
           0.7197166608451402,
           0.8322520805563915,
           0.8709489755009985
          ],
          [
           0.985033468083915,
           0.9890152464782999,
           0.9943510182659606,
           0.9993222983474372,
           0.19485113831735373,
           0.6204266952373602,
           0.7587967085661557,
           0.810395529710249
          ],
          [
           0.9765029927111879,
           0.9827101115179125,
           0.9910784857828422,
           0.9989263660104353,
           0.15633904396944526,
           0.5109264457092378,
           0.666646182729046,
           0.7306343599924983
          ],
          [
           0.9633067056489326,
           0.9728927429777688,
           0.9859387888490629,
           0.998299535777444,
           0.13630762693953843,
           0.4020425204411853,
           0.5605775130159203,
           0.6332066975321906
          ],
          [
           0.9431656801246932,
           0.957758771027427,
           0.9779086322735081,
           0.9973077817766095,
           0.1281076849084179,
           0.3053105548586154,
           0.4499847623560785,
           0.5245196510661346
          ],
          [
           0.9130449329576339,
           0.9347837312326995,
           0.9654641154794347,
           0.9957402256298419,
           0.12563262055109992,
           0.22929939032486382,
           0.3465414258079547,
           0.41504718787795375
          ],
          [
           0.8693333887399018,
           0.9006998743582691,
           0.9464191366792533,
           0.9932664792942284,
           0.12509816138186322,
           0.1771783338453373,
           0.26055819834914395,
           0.3164024516389055
          ],
          [
           0.8085580023945379,
           0.851813851113964,
           0.91782394078933,
           0.9893724102507873,
           0.1250108748920641,
           0.1466910263209483,
           0.19776937276189585,
           0.23766752364671012
          ],
          [
           0.7288340944125331,
           0.7849524169449144,
           0.8760911580168995,
           0.9832665315478579,
           0.125000535284896,
           0.13210763167292588,
           0.15815289098342664,
           0.18269166730686054
          ],
          [
           0.6317634205672609,
           0.6991398435149462,
           0.8176235618214868,
           0.9737511711472683,
           0.12500000530742314,
           0.12675271067655575,
           0.13721988181101405,
           0.149750737960103
          ],
          [
           0.5236705459812722,
           0.5974561518063229,
           0.7401873721709156,
           0.9590633978086622,
           0.12500000000373096,
           0.1253245133303415,
           0.12845850292035635,
           0.13344943671501477
          ],
          [
           0.41482704292842065,
           0.4877423727168957,
           0.6448359671878522,
           0.9367219230976279,
           0.12500000000000003,
           0.12504596617073285,
           0.1257341344052561,
           0.127191383772663
          ],
          [
           0.3165327380808197,
           0.38104120656439683,
           0.5373381434917738,
           0.903484284971839,
           0.125,
           0.12500407096720742,
           0.12511897898129393,
           0.12542852102799418
          ],
          [
           0.23761197568788647,
           0.28825323380675055,
           0.42768667970314034,
           0.8556276535670695,
           0.125,
           0.1250001224862932,
           0.12501373459858986,
           0.12506365661667007
          ],
          [
           0.18214038773955768,
           0.21682708722890384,
           0.32736966325973305,
           0.7898513036191029,
           0.125,
           0.1250000005274074,
           0.12500074118150048,
           0.12500610220159186
          ],
          [
           0.14901495772839315,
           0.1690592756827117,
           0.24576452729688597,
           0.7049446622589305,
           0.125,
           0.1250000000000977,
           0.12500000882132623,
           0.12500022088445892
          ],
          [
           0.13297392882327172,
           0.14225633614691485,
           0.18753333912462242,
           0.6037146939104172,
           0.125,
           0.125,
           0.12500000000838682,
           0.12500000132804176
          ],
          [
           0.12700052449067034,
           0.13025481670262212,
           0.152015917453214,
           0.4938208738307536,
           0.125,
           0.125,
           0.12500000000000014,
           0.12500000000042277
          ],
          [
           0.12536942984460056,
           0.12619228017799022,
           0.1342809956654884,
           0.3863328256490337,
           0.125,
           0.125,
           0.125,
           0.125
          ]
         ]
        },
        {
         "colorscale": [
          [
           0,
           "rgb(165,0,38)"
          ],
          [
           0.1,
           "rgb(215,48,39)"
          ],
          [
           0.2,
           "rgb(244,109,67)"
          ],
          [
           0.3,
           "rgb(253,174,97)"
          ],
          [
           0.4,
           "rgb(254,224,139)"
          ],
          [
           0.5,
           "rgb(255,255,191)"
          ],
          [
           0.6,
           "rgb(217,239,139)"
          ],
          [
           0.7,
           "rgb(166,217,106)"
          ],
          [
           0.8,
           "rgb(102,189,99)"
          ],
          [
           0.9,
           "rgb(26,152,80)"
          ],
          [
           1,
           "rgb(0,104,55)"
          ]
         ],
         "scene": "scene3",
         "showscale": false,
         "type": "surface",
         "x": [
          [
           -1,
           -0.75,
           -0.5,
           -0.25,
           0.25,
           0.5,
           0.75,
           1
          ],
          [
           -1,
           -0.75,
           -0.5,
           -0.25,
           0.25,
           0.5,
           0.75,
           1
          ],
          [
           -1,
           -0.75,
           -0.5,
           -0.25,
           0.25,
           0.5,
           0.75,
           1
          ],
          [
           -1,
           -0.75,
           -0.5,
           -0.25,
           0.25,
           0.5,
           0.75,
           1
          ],
          [
           -1,
           -0.75,
           -0.5,
           -0.25,
           0.25,
           0.5,
           0.75,
           1
          ],
          [
           -1,
           -0.75,
           -0.5,
           -0.25,
           0.25,
           0.5,
           0.75,
           1
          ],
          [
           -1,
           -0.75,
           -0.5,
           -0.25,
           0.25,
           0.5,
           0.75,
           1
          ],
          [
           -1,
           -0.75,
           -0.5,
           -0.25,
           0.25,
           0.5,
           0.75,
           1
          ],
          [
           -1,
           -0.75,
           -0.5,
           -0.25,
           0.25,
           0.5,
           0.75,
           1
          ],
          [
           -1,
           -0.75,
           -0.5,
           -0.25,
           0.25,
           0.5,
           0.75,
           1
          ],
          [
           -1,
           -0.75,
           -0.5,
           -0.25,
           0.25,
           0.5,
           0.75,
           1
          ],
          [
           -1,
           -0.75,
           -0.5,
           -0.25,
           0.25,
           0.5,
           0.75,
           1
          ],
          [
           -1,
           -0.75,
           -0.5,
           -0.25,
           0.25,
           0.5,
           0.75,
           1
          ],
          [
           -1,
           -0.75,
           -0.5,
           -0.25,
           0.25,
           0.5,
           0.75,
           1
          ],
          [
           -1,
           -0.75,
           -0.5,
           -0.25,
           0.25,
           0.5,
           0.75,
           1
          ],
          [
           -1,
           -0.75,
           -0.5,
           -0.25,
           0.25,
           0.5,
           0.75,
           1
          ],
          [
           -1,
           -0.75,
           -0.5,
           -0.25,
           0.25,
           0.5,
           0.75,
           1
          ],
          [
           -1,
           -0.75,
           -0.5,
           -0.25,
           0.25,
           0.5,
           0.75,
           1
          ],
          [
           -1,
           -0.75,
           -0.5,
           -0.25,
           0.25,
           0.5,
           0.75,
           1
          ],
          [
           -1,
           -0.75,
           -0.5,
           -0.25,
           0.25,
           0.5,
           0.75,
           1
          ],
          [
           -1,
           -0.75,
           -0.5,
           -0.25,
           0.25,
           0.5,
           0.75,
           1
          ],
          [
           -1,
           -0.75,
           -0.5,
           -0.25,
           0.25,
           0.5,
           0.75,
           1
          ],
          [
           -1,
           -0.75,
           -0.5,
           -0.25,
           0.25,
           0.5,
           0.75,
           1
          ],
          [
           -1,
           -0.75,
           -0.5,
           -0.25,
           0.25,
           0.5,
           0.75,
           1
          ],
          [
           -1,
           -0.75,
           -0.5,
           -0.25,
           0.25,
           0.5,
           0.75,
           1
          ],
          [
           -1,
           -0.75,
           -0.5,
           -0.25,
           0.25,
           0.5,
           0.75,
           1
          ],
          [
           -1,
           -0.75,
           -0.5,
           -0.25,
           0.25,
           0.5,
           0.75,
           1
          ],
          [
           -1,
           -0.75,
           -0.5,
           -0.25,
           0.25,
           0.5,
           0.75,
           1
          ],
          [
           -1,
           -0.75,
           -0.5,
           -0.25,
           0.25,
           0.5,
           0.75,
           1
          ],
          [
           -1,
           -0.75,
           -0.5,
           -0.25,
           0.25,
           0.5,
           0.75,
           1
          ],
          [
           -1,
           -0.75,
           -0.5,
           -0.25,
           0.25,
           0.5,
           0.75,
           1
          ]
         ],
         "y": [
          [
           0.0001,
           0.0001,
           0.0001,
           0.0001,
           0.0001,
           0.0001,
           0.0001,
           0.0001
          ],
          [
           0.00015848931924611142,
           0.00015848931924611142,
           0.00015848931924611142,
           0.00015848931924611142,
           0.00015848931924611142,
           0.00015848931924611142,
           0.00015848931924611142,
           0.00015848931924611142
          ],
          [
           0.0002511886431509582,
           0.0002511886431509582,
           0.0002511886431509582,
           0.0002511886431509582,
           0.0002511886431509582,
           0.0002511886431509582,
           0.0002511886431509582,
           0.0002511886431509582
          ],
          [
           0.00039810717055349773,
           0.00039810717055349773,
           0.00039810717055349773,
           0.00039810717055349773,
           0.00039810717055349773,
           0.00039810717055349773,
           0.00039810717055349773,
           0.00039810717055349773
          ],
          [
           0.0006309573444801943,
           0.0006309573444801943,
           0.0006309573444801943,
           0.0006309573444801943,
           0.0006309573444801943,
           0.0006309573444801943,
           0.0006309573444801943,
           0.0006309573444801943
          ],
          [
           0.001000000000000002,
           0.001000000000000002,
           0.001000000000000002,
           0.001000000000000002,
           0.001000000000000002,
           0.001000000000000002,
           0.001000000000000002,
           0.001000000000000002
          ],
          [
           0.0015848931924611173,
           0.0015848931924611173,
           0.0015848931924611173,
           0.0015848931924611173,
           0.0015848931924611173,
           0.0015848931924611173,
           0.0015848931924611173,
           0.0015848931924611173
          ],
          [
           0.0025118864315095872,
           0.0025118864315095872,
           0.0025118864315095872,
           0.0025118864315095872,
           0.0025118864315095872,
           0.0025118864315095872,
           0.0025118864315095872,
           0.0025118864315095872
          ],
          [
           0.0039810717055349856,
           0.0039810717055349856,
           0.0039810717055349856,
           0.0039810717055349856,
           0.0039810717055349856,
           0.0039810717055349856,
           0.0039810717055349856,
           0.0039810717055349856
          ],
          [
           0.006309573444801955,
           0.006309573444801955,
           0.006309573444801955,
           0.006309573444801955,
           0.006309573444801955,
           0.006309573444801955,
           0.006309573444801955,
           0.006309573444801955
          ],
          [
           0.01000000000000004,
           0.01000000000000004,
           0.01000000000000004,
           0.01000000000000004,
           0.01000000000000004,
           0.01000000000000004,
           0.01000000000000004,
           0.01000000000000004
          ],
          [
           0.015848931924611207,
           0.015848931924611207,
           0.015848931924611207,
           0.015848931924611207,
           0.015848931924611207,
           0.015848931924611207,
           0.015848931924611207,
           0.015848931924611207
          ],
          [
           0.025118864315095923,
           0.025118864315095923,
           0.025118864315095923,
           0.025118864315095923,
           0.025118864315095923,
           0.025118864315095923,
           0.025118864315095923,
           0.025118864315095923
          ],
          [
           0.039810717055349935,
           0.039810717055349935,
           0.039810717055349935,
           0.039810717055349935,
           0.039810717055349935,
           0.039810717055349935,
           0.039810717055349935,
           0.039810717055349935
          ],
          [
           0.06309573444801969,
           0.06309573444801969,
           0.06309573444801969,
           0.06309573444801969,
           0.06309573444801969,
           0.06309573444801969,
           0.06309573444801969,
           0.06309573444801969
          ],
          [
           0.10000000000000062,
           0.10000000000000062,
           0.10000000000000062,
           0.10000000000000062,
           0.10000000000000062,
           0.10000000000000062,
           0.10000000000000062,
           0.10000000000000062
          ],
          [
           0.1584893192461124,
           0.1584893192461124,
           0.1584893192461124,
           0.1584893192461124,
           0.1584893192461124,
           0.1584893192461124,
           0.1584893192461124,
           0.1584893192461124
          ],
          [
           0.25118864315095973,
           0.25118864315095973,
           0.25118864315095973,
           0.25118864315095973,
           0.25118864315095973,
           0.25118864315095973,
           0.25118864315095973,
           0.25118864315095973
          ],
          [
           0.3981071705535002,
           0.3981071705535002,
           0.3981071705535002,
           0.3981071705535002,
           0.3981071705535002,
           0.3981071705535002,
           0.3981071705535002,
           0.3981071705535002
          ],
          [
           0.6309573444801981,
           0.6309573444801981,
           0.6309573444801981,
           0.6309573444801981,
           0.6309573444801981,
           0.6309573444801981,
           0.6309573444801981,
           0.6309573444801981
          ],
          [
           1.0000000000000082,
           1.0000000000000082,
           1.0000000000000082,
           1.0000000000000082,
           1.0000000000000082,
           1.0000000000000082,
           1.0000000000000082,
           1.0000000000000082
          ],
          [
           1.5848931924611271,
           1.5848931924611271,
           1.5848931924611271,
           1.5848931924611271,
           1.5848931924611271,
           1.5848931924611271,
           1.5848931924611271,
           1.5848931924611271
          ],
          [
           2.511886431509603,
           2.511886431509603,
           2.511886431509603,
           2.511886431509603,
           2.511886431509603,
           2.511886431509603,
           2.511886431509603,
           2.511886431509603
          ],
          [
           3.98107170553501,
           3.98107170553501,
           3.98107170553501,
           3.98107170553501,
           3.98107170553501,
           3.98107170553501,
           3.98107170553501,
           3.98107170553501
          ],
          [
           6.309573444801995,
           6.309573444801995,
           6.309573444801995,
           6.309573444801995,
           6.309573444801995,
           6.309573444801995,
           6.309573444801995,
           6.309573444801995
          ],
          [
           10.000000000000103,
           10.000000000000103,
           10.000000000000103,
           10.000000000000103,
           10.000000000000103,
           10.000000000000103,
           10.000000000000103,
           10.000000000000103
          ],
          [
           15.848931924611303,
           15.848931924611303,
           15.848931924611303,
           15.848931924611303,
           15.848931924611303,
           15.848931924611303,
           15.848931924611303,
           15.848931924611303
          ],
          [
           25.11886431509608,
           25.11886431509608,
           25.11886431509608,
           25.11886431509608,
           25.11886431509608,
           25.11886431509608,
           25.11886431509608,
           25.11886431509608
          ],
          [
           39.81071705535018,
           39.81071705535018,
           39.81071705535018,
           39.81071705535018,
           39.81071705535018,
           39.81071705535018,
           39.81071705535018,
           39.81071705535018
          ],
          [
           63.095734448020075,
           63.095734448020075,
           63.095734448020075,
           63.095734448020075,
           63.095734448020075,
           63.095734448020075,
           63.095734448020075,
           63.095734448020075
          ],
          [
           100.00000000000122,
           100.00000000000122,
           100.00000000000122,
           100.00000000000122,
           100.00000000000122,
           100.00000000000122,
           100.00000000000122,
           100.00000000000122
          ]
         ],
         "z": [
          [
           0.000041440524373513174,
           0.000030057922171863398,
           0.000015237737571345572,
           0.0000018015300149529348,
           0.013360653029729516,
           0.001634526172671259,
           0.0008401643043067675,
           0.0006167166278340077
          ],
          [
           0.00006567551863839547,
           0.00004763688670379812,
           0.000024149752718508436,
           0.0000028552266717912944,
           0.020854889349781306,
           0.002585763986924359,
           0.001330309826953429,
           0.0009767516495192826
          ],
          [
           0.00010408042847034864,
           0.0000754950836678476,
           0.00003827368900407333,
           0.000004525214281685996,
           0.03227427430445387,
           0.004086187123894383,
           0.0021052382881683526,
           0.0015463456746501918
          ],
          [
           0.00016493563345389018,
           0.00011964086010081441,
           0.00006065697218034704,
           0.0000071719435476388166,
           0.049293788946930664,
           0.006446285286459843,
           0.0033286640385321734,
           0.002446529168089211
          ],
          [
           0.00026135330879963097,
           0.0001895909019968121,
           0.0000961279480265599,
           0.000011366669653049374,
           0.07381583563063428,
           0.010142350247070275,
           0.005255799474725049,
           0.0038668177619555263
          ],
          [
           0.0004140863873763149,
           0.00030041332365620034,
           0.00015233526589246703,
           0.000018014719100284673,
           0.1073987030461383,
           0.01589075980733581,
           0.008280600643554372,
           0.006101850079212862
          ],
          [
           0.0006559546534203673,
           0.00047595229683253514,
           0.000241391770519057,
           0.000028550807217438135,
           0.15010327419227604,
           0.024734784019854034,
           0.01300164607098768,
           0.009604478390110796
          ],
          [
           0.0010387950194962144,
           0.0007539050439349042,
           0.0003824713146169796,
           0.00004524847683373674,
           0.1990184680668512,
           0.03811364117836592,
           0.020305304306957622,
           0.015057964656320163
          ],
          [
           0.0016443155781166226,
           0.0011937840116418412,
           0.0006059029181752857,
           0.00007171022740614504,
           0.24766447940480996,
           0.05783191108349002,
           0.03144927639406072,
           0.023462494007632197
          ],
          [
           0.0026008962493211285,
           0.0018893255801601622,
           0.0009596057053263242,
           0.00011364356874702316,
           0.28787150440652387,
           0.0857635293353165,
           0.04809204404372418,
           0.03620993723747296
          ],
          [
           0.004109220532073475,
           0.0029876330157230908,
           0.0015191529374570863,
           0.00018008910397410396,
           0.31381963599275503,
           0.12306032981422396,
           0.07214275251681618,
           0.05507311065310104
          ],
          [
           0.0064804532654884695,
           0.004718221399107515,
           0.002403386793997905,
           0.00028536219335519155,
           0.325199530315836,
           0.16878769469727326,
           0.10521858186753553,
           0.08195431605116459
          ],
          [
           0.01019081712114683,
           0.007435878760248316,
           0.0037983333132387306,
           0.00045211845350707044,
           0.32701908743792263,
           0.2185820608859547,
           0.1475144019286931,
           0.118162822623405
          ],
          [
           0.015954005277323286,
           0.011680938256615876,
           0.00599305337555295,
           0.0007161825950706812,
           0.3261041997646635,
           0.2648880809182948,
           0.1963025841088513,
           0.16309892562165837
          ],
          [
           0.024803609278439078,
           0.018256745892057422,
           0.009431466208976561,
           0.001134127396541177,
           0.3266013114649398,
           0.29994676675826953,
           0.24523629068099942,
           0.2128287657662933
          ],
          [
           0.03815350028871828,
           0.028311459172807026,
           0.01478253763032873,
           0.0017951001803994601,
           0.32842533426652076,
           0.31991751363902593,
           0.2861238994251051,
           0.2600420705090731
          ],
          [
           0.05775440456889413,
           0.04338036264321232,
           0.023023790776683282,
           0.002839104954562531,
           0.32991384636709614,
           0.32680435415208,
           0.3129612534154574,
           0.2967712531020524
          ],
          [
           0.08539166621506385,
           0.06528574721215147,
           0.03551232967010035,
           0.004484834483180809,
           0.3305310510724106,
           0.3268074793824954,
           0.32514881247922994,
           0.3185830352503611
          ],
          [
           0.12213112519218393,
           0.09571561617340832,
           0.053972264615886625,
           0.007070973193159121,
           0.3306859551983083,
           0.3261444261749705,
           0.3273755902616683,
           0.32681629508154303
          ],
          [
           0.1670871541906026,
           0.13529849440988187,
           0.08025324146519949,
           0.011114851509625328,
           0.3307149051488858,
           0.32728946570843126,
           0.3263751273667934,
           0.3272523093811701
          ],
          [
           0.21624278114173834,
           0.18226706732904513,
           0.11565340481268312,
           0.017389255276241754,
           0.33071871187359675,
           0.3291213025724974,
           0.3266202879765292,
           0.3263020065273591
          ],
          [
           0.26254337604993877,
           0.23149426264904746,
           0.1597079896910654,
           0.02700712819733752,
           0.3307189118770894,
           0.3302410619104605,
           0.32834185376342007,
           0.32711549994220074
          ],
          [
           0.2982903322293561,
           0.27528348290226806,
           0.2088625860391151,
           0.04147556911665337,
           0.33071891388166363,
           0.3306184085457679,
           0.32984993712326555,
           0.32891554843455306
          ],
          [
           0.31903391476567483,
           0.3065285519744749,
           0.2562716706375792,
           0.062623392790252,
           0.33071891388307384,
           0.33070279728339663,
           0.3305046387855412,
           0.3301394695964102
          ],
          [
           0.3262216253208015,
           0.32255135843916233,
           0.29399931396476037,
           0.09222497008261123,
           0.33071891388307384,
           0.3307173912365221,
           0.33067936923373825,
           0.3305885251430404
          ],
          [
           0.3262020812007089,
           0.32667126002825075,
           0.3169734428628238,
           0.1311120554847724,
           0.33071891388307384,
           0.3307188676045304,
           0.33071387498011934,
           0.330696888068941
          ],
          [
           0.3256354464848111,
           0.32591028177577347,
           0.3258520924396118,
           0.1777981324104316,
           0.33071891388307384,
           0.3307189136837329,
           0.33071863433093684,
           0.3307166409671723
          ],
          [
           0.32697260769845676,
           0.32590676870226515,
           0.3264695963051964,
           0.22735462926713695,
           0.33071891388307384,
           0.33071891388303687,
           0.3307189105490176,
           0.33071883045088685
          ],
          [
           0.3289436078283219,
           0.32763552625296805,
           0.32571195542268633,
           0.272045216708784,
           0.33071891388307384,
           0.33071891388307384,
           0.3307189138799039,
           0.3307189133811233
          ],
          [
           0.3301672690302146,
           0.3294455793316728,
           0.32675867702744266,
           0.3045204150115158,
           0.33071891388307384,
           0.33071891388307384,
           0.33071891388307373,
           0.330718913882914
          ],
          [
           0.33060149695251334,
           0.3303730689296243,
           0.32871794369789575,
           0.3217633492737409,
           0.33071891388307384,
           0.33071891388307384,
           0.33071891388307384,
           0.33071891388307384
          ]
         ]
        }
       ],
       "layout": {
        "annotations": [
         {
          "font": {
           "size": 16
          },
          "showarrow": false,
          "text": "z-value",
          "x": 0.14444444444444446,
          "xanchor": "center",
          "xref": "paper",
          "y": 1,
          "yanchor": "bottom",
          "yref": "paper"
         },
         {
          "font": {
           "size": 16
          },
          "showarrow": false,
          "text": "mean_sim",
          "x": 0.5,
          "xanchor": "center",
          "xref": "paper",
          "y": 1,
          "yanchor": "bottom",
          "yref": "paper"
         },
         {
          "font": {
           "size": 16
          },
          "showarrow": false,
          "text": "sd_sim",
          "x": 0.8555555555555556,
          "xanchor": "center",
          "xref": "paper",
          "y": 1,
          "yanchor": "bottom",
          "yref": "paper"
         }
        ],
        "coloraxis": {
         "showscale": false
        },
        "height": 600,
        "scene": {
         "domain": {
          "x": [
           0,
           0.2888888888888889
          ],
          "y": [
           0,
           1
          ]
         },
         "xaxis": {
          "title": {
           "text": "Tau"
          }
         },
         "yaxis": {
          "ticktext": [
           "1e-4",
           "1e-3",
           "1e-2",
           "1e-1",
           "1",
           "10"
          ],
          "tickvals": [
           0.0001,
           0.001,
           0.01,
           0.1,
           1,
           10
          ],
          "title": {
           "text": "K"
          },
          "type": "log"
         },
         "zaxis": {
          "title": {
           "text": "Z-Value"
          }
         }
        },
        "scene2": {
         "domain": {
          "x": [
           0.35555555555555557,
           0.6444444444444445
          ],
          "y": [
           0,
           1
          ]
         },
         "xaxis": {
          "title": {
           "text": "Tau"
          }
         },
         "yaxis": {
          "ticktext": [
           "1e-4",
           "1e-3",
           "1e-2",
           "1e-1",
           "1",
           "10"
          ],
          "tickvals": [
           0.0001,
           0.001,
           0.01,
           0.1,
           1,
           10
          ],
          "title": {
           "text": "K"
          },
          "type": "log"
         },
         "zaxis": {
          "title": {
           "text": "Mean-Sim"
          }
         }
        },
        "scene3": {
         "domain": {
          "x": [
           0.7111111111111111,
           1
          ],
          "y": [
           0,
           1
          ]
         },
         "xaxis": {
          "title": {
           "text": "Tau"
          }
         },
         "yaxis": {
          "ticktext": [
           "1e-4",
           "1e-3",
           "1e-2",
           "1e-1",
           "1",
           "10"
          ],
          "tickvals": [
           0.0001,
           0.001,
           0.01,
           0.1,
           1,
           10
          ],
          "title": {
           "text": "K"
          },
          "type": "log"
         },
         "zaxis": {
          "range": [
           0,
           0.5
          ],
          "title": {
           "text": "SD-Sim"
          }
         }
        },
        "showlegend": false,
        "template": {
         "data": {
          "bar": [
           {
            "error_x": {
             "color": "#2a3f5f"
            },
            "error_y": {
             "color": "#2a3f5f"
            },
            "marker": {
             "line": {
              "color": "#E5ECF6",
              "width": 0.5
             },
             "pattern": {
              "fillmode": "overlay",
              "size": 10,
              "solidity": 0.2
             }
            },
            "type": "bar"
           }
          ],
          "barpolar": [
           {
            "marker": {
             "line": {
              "color": "#E5ECF6",
              "width": 0.5
             },
             "pattern": {
              "fillmode": "overlay",
              "size": 10,
              "solidity": 0.2
             }
            },
            "type": "barpolar"
           }
          ],
          "carpet": [
           {
            "aaxis": {
             "endlinecolor": "#2a3f5f",
             "gridcolor": "white",
             "linecolor": "white",
             "minorgridcolor": "white",
             "startlinecolor": "#2a3f5f"
            },
            "baxis": {
             "endlinecolor": "#2a3f5f",
             "gridcolor": "white",
             "linecolor": "white",
             "minorgridcolor": "white",
             "startlinecolor": "#2a3f5f"
            },
            "type": "carpet"
           }
          ],
          "choropleth": [
           {
            "colorbar": {
             "outlinewidth": 0,
             "ticks": ""
            },
            "type": "choropleth"
           }
          ],
          "contour": [
           {
            "colorbar": {
             "outlinewidth": 0,
             "ticks": ""
            },
            "colorscale": [
             [
              0,
              "#0d0887"
             ],
             [
              0.1111111111111111,
              "#46039f"
             ],
             [
              0.2222222222222222,
              "#7201a8"
             ],
             [
              0.3333333333333333,
              "#9c179e"
             ],
             [
              0.4444444444444444,
              "#bd3786"
             ],
             [
              0.5555555555555556,
              "#d8576b"
             ],
             [
              0.6666666666666666,
              "#ed7953"
             ],
             [
              0.7777777777777778,
              "#fb9f3a"
             ],
             [
              0.8888888888888888,
              "#fdca26"
             ],
             [
              1,
              "#f0f921"
             ]
            ],
            "type": "contour"
           }
          ],
          "contourcarpet": [
           {
            "colorbar": {
             "outlinewidth": 0,
             "ticks": ""
            },
            "type": "contourcarpet"
           }
          ],
          "heatmap": [
           {
            "colorbar": {
             "outlinewidth": 0,
             "ticks": ""
            },
            "colorscale": [
             [
              0,
              "#0d0887"
             ],
             [
              0.1111111111111111,
              "#46039f"
             ],
             [
              0.2222222222222222,
              "#7201a8"
             ],
             [
              0.3333333333333333,
              "#9c179e"
             ],
             [
              0.4444444444444444,
              "#bd3786"
             ],
             [
              0.5555555555555556,
              "#d8576b"
             ],
             [
              0.6666666666666666,
              "#ed7953"
             ],
             [
              0.7777777777777778,
              "#fb9f3a"
             ],
             [
              0.8888888888888888,
              "#fdca26"
             ],
             [
              1,
              "#f0f921"
             ]
            ],
            "type": "heatmap"
           }
          ],
          "heatmapgl": [
           {
            "colorbar": {
             "outlinewidth": 0,
             "ticks": ""
            },
            "colorscale": [
             [
              0,
              "#0d0887"
             ],
             [
              0.1111111111111111,
              "#46039f"
             ],
             [
              0.2222222222222222,
              "#7201a8"
             ],
             [
              0.3333333333333333,
              "#9c179e"
             ],
             [
              0.4444444444444444,
              "#bd3786"
             ],
             [
              0.5555555555555556,
              "#d8576b"
             ],
             [
              0.6666666666666666,
              "#ed7953"
             ],
             [
              0.7777777777777778,
              "#fb9f3a"
             ],
             [
              0.8888888888888888,
              "#fdca26"
             ],
             [
              1,
              "#f0f921"
             ]
            ],
            "type": "heatmapgl"
           }
          ],
          "histogram": [
           {
            "marker": {
             "pattern": {
              "fillmode": "overlay",
              "size": 10,
              "solidity": 0.2
             }
            },
            "type": "histogram"
           }
          ],
          "histogram2d": [
           {
            "colorbar": {
             "outlinewidth": 0,
             "ticks": ""
            },
            "colorscale": [
             [
              0,
              "#0d0887"
             ],
             [
              0.1111111111111111,
              "#46039f"
             ],
             [
              0.2222222222222222,
              "#7201a8"
             ],
             [
              0.3333333333333333,
              "#9c179e"
             ],
             [
              0.4444444444444444,
              "#bd3786"
             ],
             [
              0.5555555555555556,
              "#d8576b"
             ],
             [
              0.6666666666666666,
              "#ed7953"
             ],
             [
              0.7777777777777778,
              "#fb9f3a"
             ],
             [
              0.8888888888888888,
              "#fdca26"
             ],
             [
              1,
              "#f0f921"
             ]
            ],
            "type": "histogram2d"
           }
          ],
          "histogram2dcontour": [
           {
            "colorbar": {
             "outlinewidth": 0,
             "ticks": ""
            },
            "colorscale": [
             [
              0,
              "#0d0887"
             ],
             [
              0.1111111111111111,
              "#46039f"
             ],
             [
              0.2222222222222222,
              "#7201a8"
             ],
             [
              0.3333333333333333,
              "#9c179e"
             ],
             [
              0.4444444444444444,
              "#bd3786"
             ],
             [
              0.5555555555555556,
              "#d8576b"
             ],
             [
              0.6666666666666666,
              "#ed7953"
             ],
             [
              0.7777777777777778,
              "#fb9f3a"
             ],
             [
              0.8888888888888888,
              "#fdca26"
             ],
             [
              1,
              "#f0f921"
             ]
            ],
            "type": "histogram2dcontour"
           }
          ],
          "mesh3d": [
           {
            "colorbar": {
             "outlinewidth": 0,
             "ticks": ""
            },
            "type": "mesh3d"
           }
          ],
          "parcoords": [
           {
            "line": {
             "colorbar": {
              "outlinewidth": 0,
              "ticks": ""
             }
            },
            "type": "parcoords"
           }
          ],
          "pie": [
           {
            "automargin": true,
            "type": "pie"
           }
          ],
          "scatter": [
           {
            "fillpattern": {
             "fillmode": "overlay",
             "size": 10,
             "solidity": 0.2
            },
            "type": "scatter"
           }
          ],
          "scatter3d": [
           {
            "line": {
             "colorbar": {
              "outlinewidth": 0,
              "ticks": ""
             }
            },
            "marker": {
             "colorbar": {
              "outlinewidth": 0,
              "ticks": ""
             }
            },
            "type": "scatter3d"
           }
          ],
          "scattercarpet": [
           {
            "marker": {
             "colorbar": {
              "outlinewidth": 0,
              "ticks": ""
             }
            },
            "type": "scattercarpet"
           }
          ],
          "scattergeo": [
           {
            "marker": {
             "colorbar": {
              "outlinewidth": 0,
              "ticks": ""
             }
            },
            "type": "scattergeo"
           }
          ],
          "scattergl": [
           {
            "marker": {
             "colorbar": {
              "outlinewidth": 0,
              "ticks": ""
             }
            },
            "type": "scattergl"
           }
          ],
          "scattermapbox": [
           {
            "marker": {
             "colorbar": {
              "outlinewidth": 0,
              "ticks": ""
             }
            },
            "type": "scattermapbox"
           }
          ],
          "scatterpolar": [
           {
            "marker": {
             "colorbar": {
              "outlinewidth": 0,
              "ticks": ""
             }
            },
            "type": "scatterpolar"
           }
          ],
          "scatterpolargl": [
           {
            "marker": {
             "colorbar": {
              "outlinewidth": 0,
              "ticks": ""
             }
            },
            "type": "scatterpolargl"
           }
          ],
          "scatterternary": [
           {
            "marker": {
             "colorbar": {
              "outlinewidth": 0,
              "ticks": ""
             }
            },
            "type": "scatterternary"
           }
          ],
          "surface": [
           {
            "colorbar": {
             "outlinewidth": 0,
             "ticks": ""
            },
            "colorscale": [
             [
              0,
              "#0d0887"
             ],
             [
              0.1111111111111111,
              "#46039f"
             ],
             [
              0.2222222222222222,
              "#7201a8"
             ],
             [
              0.3333333333333333,
              "#9c179e"
             ],
             [
              0.4444444444444444,
              "#bd3786"
             ],
             [
              0.5555555555555556,
              "#d8576b"
             ],
             [
              0.6666666666666666,
              "#ed7953"
             ],
             [
              0.7777777777777778,
              "#fb9f3a"
             ],
             [
              0.8888888888888888,
              "#fdca26"
             ],
             [
              1,
              "#f0f921"
             ]
            ],
            "type": "surface"
           }
          ],
          "table": [
           {
            "cells": {
             "fill": {
              "color": "#EBF0F8"
             },
             "line": {
              "color": "white"
             }
            },
            "header": {
             "fill": {
              "color": "#C8D4E3"
             },
             "line": {
              "color": "white"
             }
            },
            "type": "table"
           }
          ]
         },
         "layout": {
          "annotationdefaults": {
           "arrowcolor": "#2a3f5f",
           "arrowhead": 0,
           "arrowwidth": 1
          },
          "autotypenumbers": "strict",
          "coloraxis": {
           "colorbar": {
            "outlinewidth": 0,
            "ticks": ""
           }
          },
          "colorscale": {
           "diverging": [
            [
             0,
             "#8e0152"
            ],
            [
             0.1,
             "#c51b7d"
            ],
            [
             0.2,
             "#de77ae"
            ],
            [
             0.3,
             "#f1b6da"
            ],
            [
             0.4,
             "#fde0ef"
            ],
            [
             0.5,
             "#f7f7f7"
            ],
            [
             0.6,
             "#e6f5d0"
            ],
            [
             0.7,
             "#b8e186"
            ],
            [
             0.8,
             "#7fbc41"
            ],
            [
             0.9,
             "#4d9221"
            ],
            [
             1,
             "#276419"
            ]
           ],
           "sequential": [
            [
             0,
             "#0d0887"
            ],
            [
             0.1111111111111111,
             "#46039f"
            ],
            [
             0.2222222222222222,
             "#7201a8"
            ],
            [
             0.3333333333333333,
             "#9c179e"
            ],
            [
             0.4444444444444444,
             "#bd3786"
            ],
            [
             0.5555555555555556,
             "#d8576b"
            ],
            [
             0.6666666666666666,
             "#ed7953"
            ],
            [
             0.7777777777777778,
             "#fb9f3a"
            ],
            [
             0.8888888888888888,
             "#fdca26"
            ],
            [
             1,
             "#f0f921"
            ]
           ],
           "sequentialminus": [
            [
             0,
             "#0d0887"
            ],
            [
             0.1111111111111111,
             "#46039f"
            ],
            [
             0.2222222222222222,
             "#7201a8"
            ],
            [
             0.3333333333333333,
             "#9c179e"
            ],
            [
             0.4444444444444444,
             "#bd3786"
            ],
            [
             0.5555555555555556,
             "#d8576b"
            ],
            [
             0.6666666666666666,
             "#ed7953"
            ],
            [
             0.7777777777777778,
             "#fb9f3a"
            ],
            [
             0.8888888888888888,
             "#fdca26"
            ],
            [
             1,
             "#f0f921"
            ]
           ]
          },
          "colorway": [
           "#636efa",
           "#EF553B",
           "#00cc96",
           "#ab63fa",
           "#FFA15A",
           "#19d3f3",
           "#FF6692",
           "#B6E880",
           "#FF97FF",
           "#FECB52"
          ],
          "font": {
           "color": "#2a3f5f"
          },
          "geo": {
           "bgcolor": "white",
           "lakecolor": "white",
           "landcolor": "#E5ECF6",
           "showlakes": true,
           "showland": true,
           "subunitcolor": "white"
          },
          "hoverlabel": {
           "align": "left"
          },
          "hovermode": "closest",
          "mapbox": {
           "style": "light"
          },
          "paper_bgcolor": "white",
          "plot_bgcolor": "#E5ECF6",
          "polar": {
           "angularaxis": {
            "gridcolor": "white",
            "linecolor": "white",
            "ticks": ""
           },
           "bgcolor": "#E5ECF6",
           "radialaxis": {
            "gridcolor": "white",
            "linecolor": "white",
            "ticks": ""
           }
          },
          "scene": {
           "xaxis": {
            "backgroundcolor": "#E5ECF6",
            "gridcolor": "white",
            "gridwidth": 2,
            "linecolor": "white",
            "showbackground": true,
            "ticks": "",
            "zerolinecolor": "white"
           },
           "yaxis": {
            "backgroundcolor": "#E5ECF6",
            "gridcolor": "white",
            "gridwidth": 2,
            "linecolor": "white",
            "showbackground": true,
            "ticks": "",
            "zerolinecolor": "white"
           },
           "zaxis": {
            "backgroundcolor": "#E5ECF6",
            "gridcolor": "white",
            "gridwidth": 2,
            "linecolor": "white",
            "showbackground": true,
            "ticks": "",
            "zerolinecolor": "white"
           }
          },
          "shapedefaults": {
           "line": {
            "color": "#2a3f5f"
           }
          },
          "ternary": {
           "aaxis": {
            "gridcolor": "white",
            "linecolor": "white",
            "ticks": ""
           },
           "baxis": {
            "gridcolor": "white",
            "linecolor": "white",
            "ticks": ""
           },
           "bgcolor": "#E5ECF6",
           "caxis": {
            "gridcolor": "white",
            "linecolor": "white",
            "ticks": ""
           }
          },
          "title": {
           "x": 0.05
          },
          "xaxis": {
           "automargin": true,
           "gridcolor": "white",
           "linecolor": "white",
           "ticks": "",
           "title": {
            "standoff": 15
           },
           "zerolinecolor": "white",
           "zerolinewidth": 2
          },
          "yaxis": {
           "automargin": true,
           "gridcolor": "white",
           "linecolor": "white",
           "ticks": "",
           "title": {
            "standoff": 15
           },
           "zerolinecolor": "white",
           "zerolinewidth": 2
          }
         }
        },
        "title": {
         "text": "3D Surface Plots for z-value, mean_sim, and sd_sim from LSR of 24th-Transformer-layer (Xie 2021)"
        },
        "width": 1700
       }
      }
     },
     "metadata": {},
     "output_type": "display_data"
    }
   ],
   "source": [
    "import plotly.graph_objects as go\n",
    "from plotly.subplots import make_subplots\n",
    "from scipy.interpolate import griddata\n",
    "\n",
    "def plot_gridsearch_result(results):\n",
    "    df = pd.json_normalize(results)\n",
    "    df['tau'] = df['tau'].apply(lambda x: x[0] if isinstance(x, list) else x)\n",
    "    df['k'] = df['k'].apply(lambda x: x[0] if isinstance(x, list) else x)\n",
    "    df['z-value'] = df['z-value'].apply(lambda x: x[0] if isinstance(x, list) else x)\n",
    "    df['mean_sim'] = df['mean_sim'].apply(lambda x: x[0] if isinstance(x, list) else x)\n",
    "    df['sd_sim'] = df['sd_sim'].apply(lambda x: x[0] if isinstance(x, list) else x)\n",
    "    tau_vals = tau_values  \n",
    "    k_vals = k_values\n",
    "    tau_grid, k_grid = np.meshgrid(tau_vals, k_vals)  \n",
    "\n",
    "\n",
    "\n",
    "    fig = make_subplots(\n",
    "        rows=1, cols=3, \n",
    "        subplot_titles=['z-value', 'mean_sim', 'sd_sim'], \n",
    "        specs=[[{'type': 'surface'}, {'type': 'surface'}, {'type': 'surface'}]]\n",
    "    )\n",
    "\n",
    "\n",
    "    z_grid = griddata((df['tau'], df['k']), df['z-value'], (tau_grid, k_grid), method='nearest')\n",
    "    mean_sim_grid = griddata((df['tau'], df['k']), df['mean_sim'], (tau_grid, k_grid), method='nearest')\n",
    "    sd_sim_grid = griddata((df['tau'], df['k']), df['sd_sim'], (tau_grid, k_grid), method='nearest')\n",
    "\n",
    "\n",
    "    fig.add_trace(go.Surface(z=z_grid, x=tau_grid, y=k_grid, colorscale='RdYlGn', showscale=False), row=1, col=1)\n",
    "    fig.add_trace(go.Surface(z=mean_sim_grid, x=tau_grid, y=k_grid, colorscale='RdYlGn', showscale=False), row=1, col=2)\n",
    "    fig.add_trace(go.Surface(z=sd_sim_grid, x=tau_grid, y=k_grid, colorscale='RdYlGn', showscale=False), row=1, col=3)\n",
    "\n",
    "\n",
    "    fig.update_layout(\n",
    "        width=1700, \n",
    "        height=600,  \n",
    "        title='3D Surface Plots for z-value, mean_sim, and sd_sim from LSR of 24th-Transformer-layer (Xie 2021)',\n",
    "        scene=dict(\n",
    "            xaxis_title='Tau',\n",
    "            yaxis_title='K',\n",
    "            zaxis_title='Z-Value',\n",
    "            yaxis=dict(\n",
    "                type='log',\n",
    "                tickvals=[1e-4, 1e-3, 1e-2, 1e-1, 1, 10], \n",
    "                ticktext=['1e-4', '1e-3', '1e-2', '1e-1', '1', '10'],\n",
    "            )\n",
    "        ),\n",
    "        scene2=dict(\n",
    "            xaxis_title='Tau',\n",
    "            yaxis_title='K',\n",
    "            zaxis_title='Mean-Sim',\n",
    "            yaxis=dict(\n",
    "                type='log',\n",
    "                tickvals=[1e-4, 1e-3, 1e-2, 1e-1, 1, 10], \n",
    "                ticktext=['1e-4', '1e-3', '1e-2', '1e-1', '1', '10'],\n",
    "            )\n",
    "        ),\n",
    "        scene3=dict(\n",
    "            xaxis_title='Tau',\n",
    "            yaxis_title='K',\n",
    "            zaxis_title='SD-Sim',\n",
    "            yaxis=dict(\n",
    "                type='log',\n",
    "                tickvals=[1e-4, 1e-3, 1e-2, 1e-1, 1, 10], \n",
    "                ticktext=['1e-4', '1e-3', '1e-2', '1e-1', '1', '10'],\n",
    "            ),\n",
    "            zaxis=dict(\n",
    "                range=[0,0.5]\n",
    "            )\n",
    "        ),\n",
    "        showlegend=False,\n",
    "        coloraxis_showscale=False\n",
    "        \n",
    "    )\n",
    "    fig.show()\n",
    "plot_gridsearch_result(results)"
   ]
  },
  {
   "cell_type": "code",
   "execution_count": null,
   "metadata": {},
   "outputs": [],
   "source": []
  },
  {
   "cell_type": "code",
   "execution_count": 98,
   "metadata": {},
   "outputs": [
    {
     "name": "stdout",
     "output_type": "stream",
     "text": [
      "Total wall time: 2084.34 seconds\n"
     ]
    }
   ],
   "source": [
    "\n",
    "import pickle\n",
    "with open(\"..\\O_Jan31\\hubert_words_CNN.pkl\", \"rb\") as file:\n",
    "    sentence_matrix2 = pickle.load(file)\n",
    "\n",
    "word_features2,out_dict2=create_set(audio_dir, human_result_1a, sentence_matrix2)\n",
    "tau_values = np.arange(1,11,1)\n",
    "k_values = 10**np.arange(-4,1.1,0.1)\n",
    "import itertools\n",
    "import multiprocessing\n",
    "import time\n",
    "from joblib import Parallel, delayed\n",
    "pandas2ri.activate()\n",
    "params_grid=list(itertools.product(tau_values, k_values))\n",
    "\n",
    "start_time = time.time()\n",
    "n_jobs = min(32, multiprocessing.cpu_count())\n",
    "results2 = Parallel(n_jobs=n_jobs)(delayed(objective_function)(_,out_dict2, human_result_1a) for _ in params_grid)\n",
    "end_time = time.time()\n",
    "print(f\"Total wall time: {end_time - start_time:.2f} seconds\")"
   ]
  },
  {
   "cell_type": "code",
   "execution_count": null,
   "metadata": {},
   "outputs": [],
   "source": [
    "\n",
    "\n"
   ]
  },
  {
   "cell_type": "code",
   "execution_count": null,
   "metadata": {},
   "outputs": [],
   "source": []
  },
  {
   "cell_type": "code",
   "execution_count": null,
   "metadata": {},
   "outputs": [],
   "source": []
  },
  {
   "cell_type": "code",
   "execution_count": null,
   "metadata": {},
   "outputs": [],
   "source": []
  },
  {
   "cell_type": "code",
   "execution_count": null,
   "metadata": {},
   "outputs": [],
   "source": []
  }
 ],
 "metadata": {
  "kernelspec": {
   "display_name": "BayesPCN",
   "language": "python",
   "name": "python3"
  },
  "language_info": {
   "codemirror_mode": {
    "name": "ipython",
    "version": 3
   },
   "file_extension": ".py",
   "mimetype": "text/x-python",
   "name": "python",
   "nbconvert_exporter": "python",
   "pygments_lexer": "ipython3",
   "version": "3.9.18"
  }
 },
 "nbformat": 4,
 "nbformat_minor": 2
}
